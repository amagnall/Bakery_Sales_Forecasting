{
 "cells": [
  {
   "cell_type": "markdown",
   "id": "e8404324",
   "metadata": {},
   "source": [
    "<div id=\"container\" style=\"position:relative;\">\n",
    "<div style=\"float:left\"><h1> Forecasting Bakery Revenue and Product Sales </h1></div>\n",
    "<div style=\"position:relative; float:right\"><img style=\"height:65px\" src =\"https://twomagpiesbakery.co.uk/wp-content/uploads/2020/11/logo-no-site.jpg\" />\n",
    "</div>\n",
    "</div>\n"
   ]
  },
  {
   "cell_type": "markdown",
   "id": "768d17e6",
   "metadata": {},
   "source": [
    "---"
   ]
  },
  {
   "cell_type": "markdown",
   "id": "cdcebc34",
   "metadata": {},
   "source": [
    "Hello!\n",
    "\n",
    "My name is Abi Magnall and this is my capstone project submission for BrainStation's Data Science certificate program titled, “Forecasting Bakery Revenue and Product Sales\".\n",
    "\n",
    "\n",
    "**Purpose of this project**: \n",
    "\n",
    "In this project, I use Regression, Moving Averages, ARIMA and Facebook Prophet techniques to **UPDATE**. I also perform various methods of data visualization and communication to convey findings and actionable insights.\n",
    "\n",
    "The datasets can be downloaded here: **\n",
    "\n",
    "The notebooks in order are as follows:\n",
    "\n",
    "1. Loading and Cleaning\n",
    "2. EDA\n",
    "3. Pre-Processing\n",
    "4. Modeling\n",
    "5. Findings\n",
    "\n",
    "Notebook descriptions are found in the below table: \n",
    "\n",
    "**UPDATE**\n",
    "\n",
    "The folders in this file are required:\n",
    "\n",
    "1. ‘data’ - this contains all .pkl files that are necessary to run the notebooks\n",
    "2. requirement.txt\n",
    "3. .ipynb files"
   ]
  },
  {
   "cell_type": "code",
   "execution_count": null,
   "id": "530d38ef",
   "metadata": {},
   "outputs": [],
   "source": [
    "ss"
   ]
  }
 ],
 "metadata": {
  "kernelspec": {
   "display_name": "Python 3 (ipykernel)",
   "language": "python",
   "name": "python3"
  },
  "language_info": {
   "codemirror_mode": {
    "name": "ipython",
    "version": 3
   },
   "file_extension": ".py",
   "mimetype": "text/x-python",
   "name": "python",
   "nbconvert_exporter": "python",
   "pygments_lexer": "ipython3",
   "version": "3.9.12"
  }
 },
 "nbformat": 4,
 "nbformat_minor": 5
}
