{
 "cells": [
  {
   "cell_type": "markdown",
   "id": "3fd1ec30",
   "metadata": {},
   "source": [
    "<div id=\"container\" style=\"position:relative;\">\n",
    "<div style=\"float:left\"><h1> Forecasting Bakery Sales - Abi Magnall </h1></div>\n",
    "<div style=\"position:relative; float:right\"><img style=\"height:65px\" src =\"https://twomagpiesbakery.co.uk/wp-content/uploads/2020/11/logo-no-site.jpg\" />\n",
    "</div>\n",
    "</div>"
   ]
  },
  {
   "cell_type": "markdown",
   "id": "b9587535",
   "metadata": {},
   "source": [
    "# Notebook 2 : Weather Cleaning and EDA "
   ]
  },
  {
   "cell_type": "markdown",
   "id": "ce03fb26",
   "metadata": {},
   "source": [
    "Source of this dataset: National Centres For Environmental Information: *https://www.noaa.gov/*\n",
    "\n",
    "Data dictionary: \n",
    "\n",
    "- TMAX - Maximum temperature in Farenheight\n",
    "- TAVG - Average Temperature in Farenheight\n",
    "- TMIN - Minimum temperature in Farenheight\n",
    "- PRCP - Precipitation, in inches\n",
    "- SNWD - Snow depth, in inches\n",
    "\n",
    "This dataset shows the daily weather from the Wattisham weather station from 01/09/2020 to 30/09/2022. This weather station was selected as it was the closest to all four bakeries that have been sampled, all within 30-40 minutes from the weather station. \n",
    "\n",
    "**N.B** Normal base python kernal is required for this notebook, not the `bakery` notebook. \n",
    "\n",
    "---"
   ]
  },
  {
   "cell_type": "markdown",
   "id": "a01eafdd",
   "metadata": {},
   "source": [
    "## Imports"
   ]
  },
  {
   "cell_type": "code",
   "execution_count": 1,
   "id": "abf53a86",
   "metadata": {},
   "outputs": [],
   "source": [
    "import pandas as pd\n",
    "import numpy as np\n",
    "import matplotlib as plt\n",
    "import seaborn as sns\n",
    "import datetime as dt\n",
    "import time\n",
    "import os"
   ]
  },
  {
   "cell_type": "markdown",
   "id": "ba588b0e",
   "metadata": {},
   "source": [
    "## Getting the Working Directory"
   ]
  },
  {
   "cell_type": "code",
   "execution_count": 2,
   "id": "3c560836",
   "metadata": {},
   "outputs": [
    {
     "name": "stdout",
     "output_type": "stream",
     "text": [
      "/Users/abimagnall/Documents/BrainStation/Capstone/Data/Abi_Magnall_Captsone_Project\n"
     ]
    }
   ],
   "source": [
    "working_directory = os.getcwd()\n",
    "print(working_directory)"
   ]
  },
  {
   "cell_type": "markdown",
   "id": "37a5924c",
   "metadata": {},
   "source": [
    "## Importing Raw Dataset"
   ]
  },
  {
   "cell_type": "code",
   "execution_count": 3,
   "id": "cce6a282",
   "metadata": {},
   "outputs": [],
   "source": [
    "raw_weather = pd.read_csv(working_directory+'/1_raw_data/raw_weather_data.csv')"
   ]
  },
  {
   "cell_type": "code",
   "execution_count": 4,
   "id": "4f738312",
   "metadata": {},
   "outputs": [
    {
     "data": {
      "text/html": [
       "<div>\n",
       "<style scoped>\n",
       "    .dataframe tbody tr th:only-of-type {\n",
       "        vertical-align: middle;\n",
       "    }\n",
       "\n",
       "    .dataframe tbody tr th {\n",
       "        vertical-align: top;\n",
       "    }\n",
       "\n",
       "    .dataframe thead th {\n",
       "        text-align: right;\n",
       "    }\n",
       "</style>\n",
       "<table border=\"1\" class=\"dataframe\">\n",
       "  <thead>\n",
       "    <tr style=\"text-align: right;\">\n",
       "      <th></th>\n",
       "      <th>STATION</th>\n",
       "      <th>NAME</th>\n",
       "      <th>LATITUDE</th>\n",
       "      <th>LONGITUDE</th>\n",
       "      <th>ELEVATION</th>\n",
       "      <th>DATE</th>\n",
       "      <th>PRCP</th>\n",
       "      <th>PRCP_ATTRIBUTES</th>\n",
       "      <th>SNWD</th>\n",
       "      <th>SNWD_ATTRIBUTES</th>\n",
       "      <th>TAVG</th>\n",
       "      <th>TAVG_ATTRIBUTES</th>\n",
       "      <th>TMAX</th>\n",
       "      <th>TMAX_ATTRIBUTES</th>\n",
       "      <th>TMIN</th>\n",
       "      <th>TMIN_ATTRIBUTES</th>\n",
       "    </tr>\n",
       "  </thead>\n",
       "  <tbody>\n",
       "    <tr>\n",
       "      <th>0</th>\n",
       "      <td>UKM00003590</td>\n",
       "      <td>WATTISHAM, UK</td>\n",
       "      <td>52.127</td>\n",
       "      <td>0.956</td>\n",
       "      <td>86.6</td>\n",
       "      <td>01/09/2020</td>\n",
       "      <td>0.00</td>\n",
       "      <td>,,S</td>\n",
       "      <td>NaN</td>\n",
       "      <td>NaN</td>\n",
       "      <td>56</td>\n",
       "      <td>H,,S</td>\n",
       "      <td>NaN</td>\n",
       "      <td>NaN</td>\n",
       "      <td>47.0</td>\n",
       "      <td>,,S</td>\n",
       "    </tr>\n",
       "    <tr>\n",
       "      <th>1</th>\n",
       "      <td>UKM00003590</td>\n",
       "      <td>WATTISHAM, UK</td>\n",
       "      <td>52.127</td>\n",
       "      <td>0.956</td>\n",
       "      <td>86.6</td>\n",
       "      <td>02/09/2020</td>\n",
       "      <td>0.00</td>\n",
       "      <td>,,S</td>\n",
       "      <td>NaN</td>\n",
       "      <td>NaN</td>\n",
       "      <td>59</td>\n",
       "      <td>H,,S</td>\n",
       "      <td>NaN</td>\n",
       "      <td>NaN</td>\n",
       "      <td>48.0</td>\n",
       "      <td>,,S</td>\n",
       "    </tr>\n",
       "    <tr>\n",
       "      <th>2</th>\n",
       "      <td>UKM00003590</td>\n",
       "      <td>WATTISHAM, UK</td>\n",
       "      <td>52.127</td>\n",
       "      <td>0.956</td>\n",
       "      <td>86.6</td>\n",
       "      <td>03/09/2020</td>\n",
       "      <td>0.07</td>\n",
       "      <td>,,S</td>\n",
       "      <td>NaN</td>\n",
       "      <td>NaN</td>\n",
       "      <td>63</td>\n",
       "      <td>H,,S</td>\n",
       "      <td>NaN</td>\n",
       "      <td>NaN</td>\n",
       "      <td>56.0</td>\n",
       "      <td>,,S</td>\n",
       "    </tr>\n",
       "    <tr>\n",
       "      <th>3</th>\n",
       "      <td>UKM00003590</td>\n",
       "      <td>WATTISHAM, UK</td>\n",
       "      <td>52.127</td>\n",
       "      <td>0.956</td>\n",
       "      <td>86.6</td>\n",
       "      <td>04/09/2020</td>\n",
       "      <td>0.08</td>\n",
       "      <td>,,S</td>\n",
       "      <td>NaN</td>\n",
       "      <td>NaN</td>\n",
       "      <td>59</td>\n",
       "      <td>H,,S</td>\n",
       "      <td>NaN</td>\n",
       "      <td>NaN</td>\n",
       "      <td>52.0</td>\n",
       "      <td>,,S</td>\n",
       "    </tr>\n",
       "    <tr>\n",
       "      <th>4</th>\n",
       "      <td>UKM00003590</td>\n",
       "      <td>WATTISHAM, UK</td>\n",
       "      <td>52.127</td>\n",
       "      <td>0.956</td>\n",
       "      <td>86.6</td>\n",
       "      <td>05/09/2020</td>\n",
       "      <td>0.01</td>\n",
       "      <td>,,S</td>\n",
       "      <td>NaN</td>\n",
       "      <td>NaN</td>\n",
       "      <td>55</td>\n",
       "      <td>H,,S</td>\n",
       "      <td>NaN</td>\n",
       "      <td>NaN</td>\n",
       "      <td>46.0</td>\n",
       "      <td>,,S</td>\n",
       "    </tr>\n",
       "  </tbody>\n",
       "</table>\n",
       "</div>"
      ],
      "text/plain": [
       "       STATION           NAME  LATITUDE  LONGITUDE  ELEVATION        DATE  \\\n",
       "0  UKM00003590  WATTISHAM, UK    52.127      0.956       86.6  01/09/2020   \n",
       "1  UKM00003590  WATTISHAM, UK    52.127      0.956       86.6  02/09/2020   \n",
       "2  UKM00003590  WATTISHAM, UK    52.127      0.956       86.6  03/09/2020   \n",
       "3  UKM00003590  WATTISHAM, UK    52.127      0.956       86.6  04/09/2020   \n",
       "4  UKM00003590  WATTISHAM, UK    52.127      0.956       86.6  05/09/2020   \n",
       "\n",
       "   PRCP PRCP_ATTRIBUTES  SNWD SNWD_ATTRIBUTES  TAVG TAVG_ATTRIBUTES  TMAX  \\\n",
       "0  0.00             ,,S   NaN             NaN    56            H,,S   NaN   \n",
       "1  0.00             ,,S   NaN             NaN    59            H,,S   NaN   \n",
       "2  0.07             ,,S   NaN             NaN    63            H,,S   NaN   \n",
       "3  0.08             ,,S   NaN             NaN    59            H,,S   NaN   \n",
       "4  0.01             ,,S   NaN             NaN    55            H,,S   NaN   \n",
       "\n",
       "  TMAX_ATTRIBUTES  TMIN TMIN_ATTRIBUTES  \n",
       "0             NaN  47.0             ,,S  \n",
       "1             NaN  48.0             ,,S  \n",
       "2             NaN  56.0             ,,S  \n",
       "3             NaN  52.0             ,,S  \n",
       "4             NaN  46.0             ,,S  "
      ]
     },
     "execution_count": 4,
     "metadata": {},
     "output_type": "execute_result"
    }
   ],
   "source": [
    "# To validate it worked\n",
    "raw_weather.head()"
   ]
  },
  {
   "cell_type": "markdown",
   "id": "52f92879",
   "metadata": {},
   "source": [
    "# Data Exploration\n",
    "First the data will be assessed to determine what data is present in the raw datafile, if there are any duplicated rows if data or missing values. "
   ]
  },
  {
   "cell_type": "code",
   "execution_count": 5,
   "id": "655040a6",
   "metadata": {},
   "outputs": [],
   "source": [
    "# A copy of the raw dataset is taken for audit trail purposes\n",
    "clean_weather = raw_weather[['DATE', 'TAVG', 'TMAX', 'TMIN', 'PRCP', 'SNWD']].copy()"
   ]
  },
  {
   "cell_type": "code",
   "execution_count": 6,
   "id": "7b801e6e",
   "metadata": {
    "scrolled": true
   },
   "outputs": [
    {
     "name": "stdout",
     "output_type": "stream",
     "text": [
      "<class 'pandas.core.frame.DataFrame'>\n",
      "RangeIndex: 760 entries, 0 to 759\n",
      "Data columns (total 6 columns):\n",
      " #   Column  Non-Null Count  Dtype  \n",
      "---  ------  --------------  -----  \n",
      " 0   DATE    760 non-null    object \n",
      " 1   TAVG    760 non-null    int64  \n",
      " 2   TMAX    284 non-null    float64\n",
      " 3   TMIN    433 non-null    float64\n",
      " 4   PRCP    600 non-null    float64\n",
      " 5   SNWD    11 non-null     float64\n",
      "dtypes: float64(4), int64(1), object(1)\n",
      "memory usage: 35.8+ KB\n"
     ]
    }
   ],
   "source": [
    "# info is called to get an overview of the shape of the dataframe\n",
    "clean_weather.info()"
   ]
  },
  {
   "cell_type": "markdown",
   "id": "90015692",
   "metadata": {},
   "source": [
    "It can be seen that there are 760 rows of data and 6 columns. Only the `DATE` and `TAVG` columns aren't missing any values. It can also be seen that the `DATE` column is the incorrect datatype, which will need to be converted. "
   ]
  },
  {
   "cell_type": "code",
   "execution_count": 7,
   "id": "0b318647",
   "metadata": {},
   "outputs": [
    {
     "data": {
      "text/plain": [
       "0"
      ]
     },
     "execution_count": 7,
     "metadata": {},
     "output_type": "execute_result"
    }
   ],
   "source": [
    "# To determine the number of duplicated rows of data\n",
    "clean_weather.duplicated().sum()"
   ]
  },
  {
   "cell_type": "code",
   "execution_count": 8,
   "id": "f50c2ac6",
   "metadata": {},
   "outputs": [
    {
     "data": {
      "text/plain": [
       "DATE      0\n",
       "TAVG      0\n",
       "TMAX    476\n",
       "TMIN    327\n",
       "PRCP    160\n",
       "SNWD    749\n",
       "dtype: int64"
      ]
     },
     "execution_count": 8,
     "metadata": {},
     "output_type": "execute_result"
    }
   ],
   "source": [
    "# To count the number of missing rows of data for each column\n",
    "clean_weather.isna().sum()"
   ]
  },
  {
   "cell_type": "markdown",
   "id": "0aeb9191",
   "metadata": {},
   "source": [
    "## Observations\n",
    "\n",
    "- It can be seen that `TMAX`, `TMIN`, `PRCP` and `SNWD` all have missing values. For the modelling phase, only the average temperature is required as this will be more useful that the minimum or maximum temperatures. Therefore, `TMA` and `TMIN` can be dropped \n",
    "- An assumption is made that for the missing rows of data in the columns `PRCP` and `SNWD`, that they are empty where there has been 0 rain or snowfall. Therefore, these will be populated with 0\n",
    "- There are no duplicated rows\n",
    "- `SNWD` only contains 11 rows of data, which would provide little insight into predicted revenue for over 760 days of data, therefore it should either be dropped or combined with another column \n",
    "\n",
    "---"
   ]
  },
  {
   "cell_type": "markdown",
   "id": "9cbd8586",
   "metadata": {},
   "source": [
    "## Data Cleaning\n",
    "The steps taken here are:\n",
    "- `TMIN` and `TMAX` columns are dropped\n",
    "- `DATE` column converted to datetime\n",
    "- `SNWD` column combined with `PRCP` column "
   ]
  },
  {
   "cell_type": "code",
   "execution_count": 9,
   "id": "ec9d9bb9",
   "metadata": {
    "scrolled": true
   },
   "outputs": [
    {
     "data": {
      "text/html": [
       "<div>\n",
       "<style scoped>\n",
       "    .dataframe tbody tr th:only-of-type {\n",
       "        vertical-align: middle;\n",
       "    }\n",
       "\n",
       "    .dataframe tbody tr th {\n",
       "        vertical-align: top;\n",
       "    }\n",
       "\n",
       "    .dataframe thead th {\n",
       "        text-align: right;\n",
       "    }\n",
       "</style>\n",
       "<table border=\"1\" class=\"dataframe\">\n",
       "  <thead>\n",
       "    <tr style=\"text-align: right;\">\n",
       "      <th></th>\n",
       "      <th>DATE</th>\n",
       "      <th>TAVG</th>\n",
       "      <th>PRCP</th>\n",
       "      <th>SNWD</th>\n",
       "    </tr>\n",
       "  </thead>\n",
       "  <tbody>\n",
       "    <tr>\n",
       "      <th>0</th>\n",
       "      <td>01/09/2020</td>\n",
       "      <td>56</td>\n",
       "      <td>0.00</td>\n",
       "      <td>NaN</td>\n",
       "    </tr>\n",
       "    <tr>\n",
       "      <th>1</th>\n",
       "      <td>02/09/2020</td>\n",
       "      <td>59</td>\n",
       "      <td>0.00</td>\n",
       "      <td>NaN</td>\n",
       "    </tr>\n",
       "    <tr>\n",
       "      <th>2</th>\n",
       "      <td>03/09/2020</td>\n",
       "      <td>63</td>\n",
       "      <td>0.07</td>\n",
       "      <td>NaN</td>\n",
       "    </tr>\n",
       "    <tr>\n",
       "      <th>3</th>\n",
       "      <td>04/09/2020</td>\n",
       "      <td>59</td>\n",
       "      <td>0.08</td>\n",
       "      <td>NaN</td>\n",
       "    </tr>\n",
       "    <tr>\n",
       "      <th>4</th>\n",
       "      <td>05/09/2020</td>\n",
       "      <td>55</td>\n",
       "      <td>0.01</td>\n",
       "      <td>NaN</td>\n",
       "    </tr>\n",
       "  </tbody>\n",
       "</table>\n",
       "</div>"
      ],
      "text/plain": [
       "         DATE  TAVG  PRCP  SNWD\n",
       "0  01/09/2020    56  0.00   NaN\n",
       "1  02/09/2020    59  0.00   NaN\n",
       "2  03/09/2020    63  0.07   NaN\n",
       "3  04/09/2020    59  0.08   NaN\n",
       "4  05/09/2020    55  0.01   NaN"
      ]
     },
     "execution_count": 9,
     "metadata": {},
     "output_type": "execute_result"
    }
   ],
   "source": [
    "# To drop the tmax and tmin columns\n",
    "clean_weather = clean_weather.drop(columns=['TMAX', 'TMIN'])\n",
    "# To validate it worked\n",
    "clean_weather.head()"
   ]
  },
  {
   "cell_type": "code",
   "execution_count": 10,
   "id": "fe6357da",
   "metadata": {},
   "outputs": [],
   "source": [
    "# Converting the date column to datetime with the same format as the bakery data \n",
    "clean_weather['DATE'] =  pd.to_datetime(clean_weather['DATE'], format='%d/%m/%Y')"
   ]
  },
  {
   "cell_type": "code",
   "execution_count": 11,
   "id": "52a8ac34",
   "metadata": {},
   "outputs": [],
   "source": [
    "# clean_weather['DATE'] = clean_weather['DATE'].astype('datetime64')"
   ]
  },
  {
   "cell_type": "code",
   "execution_count": 12,
   "id": "822af283",
   "metadata": {},
   "outputs": [
    {
     "name": "stdout",
     "output_type": "stream",
     "text": [
      "<class 'pandas.core.frame.DataFrame'>\n",
      "RangeIndex: 760 entries, 0 to 759\n",
      "Data columns (total 4 columns):\n",
      " #   Column  Non-Null Count  Dtype         \n",
      "---  ------  --------------  -----         \n",
      " 0   DATE    760 non-null    datetime64[ns]\n",
      " 1   TAVG    760 non-null    int64         \n",
      " 2   PRCP    600 non-null    float64       \n",
      " 3   SNWD    11 non-null     float64       \n",
      "dtypes: datetime64[ns](1), float64(2), int64(1)\n",
      "memory usage: 23.9 KB\n"
     ]
    }
   ],
   "source": [
    "# Validate it worked \n",
    "clean_weather.info()"
   ]
  },
  {
   "cell_type": "code",
   "execution_count": 13,
   "id": "4f01e933",
   "metadata": {},
   "outputs": [],
   "source": [
    "# A copy of the dataset is taken for audit trail purposes \n",
    "processed_weather = clean_weather.copy()"
   ]
  },
  {
   "cell_type": "markdown",
   "id": "2ef52c69",
   "metadata": {},
   "source": [
    "As the `SNWD` column only contains 11 rows of data, they will be added into the `PRCP` column as alone they will not provide insight as there is insufficient data to build a model of and for sales to be dependent on. "
   ]
  },
  {
   "cell_type": "code",
   "execution_count": 14,
   "id": "d58f0d1c",
   "metadata": {},
   "outputs": [],
   "source": [
    "# Missing values in PRCP and SNWD are filled with 0\n",
    "processed_weather['PRCP'].fillna(0,inplace=True)\n",
    "processed_weather['SNWD'].fillna(0,inplace=True)"
   ]
  },
  {
   "cell_type": "code",
   "execution_count": 15,
   "id": "22db6029",
   "metadata": {},
   "outputs": [],
   "source": [
    "# The SNWD values are added onto the PRCP values \n",
    "processed_weather['PRCP'] = processed_weather['PRCP'] + processed_weather['SNWD']"
   ]
  },
  {
   "cell_type": "code",
   "execution_count": 16,
   "id": "e9886411",
   "metadata": {},
   "outputs": [],
   "source": [
    "# The now redundant column SNWD is dropped\n",
    "processed_weather.drop(columns=['SNWD'],inplace=True)"
   ]
  },
  {
   "cell_type": "code",
   "execution_count": 17,
   "id": "a9a57287",
   "metadata": {},
   "outputs": [
    {
     "name": "stdout",
     "output_type": "stream",
     "text": [
      "<class 'pandas.core.frame.DataFrame'>\n",
      "RangeIndex: 760 entries, 0 to 759\n",
      "Data columns (total 3 columns):\n",
      " #   Column  Non-Null Count  Dtype         \n",
      "---  ------  --------------  -----         \n",
      " 0   DATE    760 non-null    datetime64[ns]\n",
      " 1   TAVG    760 non-null    int64         \n",
      " 2   PRCP    760 non-null    float64       \n",
      "dtypes: datetime64[ns](1), float64(1), int64(1)\n",
      "memory usage: 17.9 KB\n"
     ]
    }
   ],
   "source": [
    "# To validate the columns were correctly filled and dropped\n",
    "processed_weather.info()"
   ]
  },
  {
   "cell_type": "markdown",
   "id": "6c64b424",
   "metadata": {},
   "source": [
    "# Weather EDA\n",
    "The values in the dataset will now be explored to identify any outliers or anomalies in the dataset.\n",
    "\n",
    "First the `.describe` method is called to get a statistical summary of the numerical values. "
   ]
  },
  {
   "cell_type": "code",
   "execution_count": 18,
   "id": "7567dd22",
   "metadata": {},
   "outputs": [
    {
     "data": {
      "text/html": [
       "<div>\n",
       "<style scoped>\n",
       "    .dataframe tbody tr th:only-of-type {\n",
       "        vertical-align: middle;\n",
       "    }\n",
       "\n",
       "    .dataframe tbody tr th {\n",
       "        vertical-align: top;\n",
       "    }\n",
       "\n",
       "    .dataframe thead th {\n",
       "        text-align: right;\n",
       "    }\n",
       "</style>\n",
       "<table border=\"1\" class=\"dataframe\">\n",
       "  <thead>\n",
       "    <tr style=\"text-align: right;\">\n",
       "      <th></th>\n",
       "      <th>TAVG</th>\n",
       "      <th>PRCP</th>\n",
       "    </tr>\n",
       "  </thead>\n",
       "  <tbody>\n",
       "    <tr>\n",
       "      <th>count</th>\n",
       "      <td>760.000000</td>\n",
       "      <td>760.000000</td>\n",
       "    </tr>\n",
       "    <tr>\n",
       "      <th>mean</th>\n",
       "      <td>51.373684</td>\n",
       "      <td>0.130303</td>\n",
       "    </tr>\n",
       "    <tr>\n",
       "      <th>std</th>\n",
       "      <td>10.111361</td>\n",
       "      <td>0.717634</td>\n",
       "    </tr>\n",
       "    <tr>\n",
       "      <th>min</th>\n",
       "      <td>27.000000</td>\n",
       "      <td>0.000000</td>\n",
       "    </tr>\n",
       "    <tr>\n",
       "      <th>25%</th>\n",
       "      <td>43.000000</td>\n",
       "      <td>0.000000</td>\n",
       "    </tr>\n",
       "    <tr>\n",
       "      <th>50%</th>\n",
       "      <td>51.000000</td>\n",
       "      <td>0.000000</td>\n",
       "    </tr>\n",
       "    <tr>\n",
       "      <th>75%</th>\n",
       "      <td>60.000000</td>\n",
       "      <td>0.050000</td>\n",
       "    </tr>\n",
       "    <tr>\n",
       "      <th>max</th>\n",
       "      <td>84.000000</td>\n",
       "      <td>11.010000</td>\n",
       "    </tr>\n",
       "  </tbody>\n",
       "</table>\n",
       "</div>"
      ],
      "text/plain": [
       "             TAVG        PRCP\n",
       "count  760.000000  760.000000\n",
       "mean    51.373684    0.130303\n",
       "std     10.111361    0.717634\n",
       "min     27.000000    0.000000\n",
       "25%     43.000000    0.000000\n",
       "50%     51.000000    0.000000\n",
       "75%     60.000000    0.050000\n",
       "max     84.000000   11.010000"
      ]
     },
     "execution_count": 18,
     "metadata": {},
     "output_type": "execute_result"
    }
   ],
   "source": [
    "# To get a statistical summary of the numerical values \n",
    "processed_weather.describe()"
   ]
  },
  {
   "cell_type": "markdown",
   "id": "4202bb6a",
   "metadata": {},
   "source": [
    "It can be seen from the data dictionary and the max values from the describe method that the `TAVG` is in Fahrenheit so this will be converted to Celsius. "
   ]
  },
  {
   "cell_type": "code",
   "execution_count": 19,
   "id": "241e4e2a",
   "metadata": {},
   "outputs": [],
   "source": [
    "# To convert Fahrenheit to Celsius\n",
    "processed_weather['TAVG'] = processed_weather['TAVG']-32"
   ]
  },
  {
   "cell_type": "code",
   "execution_count": 20,
   "id": "8c4319b7",
   "metadata": {},
   "outputs": [
    {
     "data": {
      "text/html": [
       "<div>\n",
       "<style scoped>\n",
       "    .dataframe tbody tr th:only-of-type {\n",
       "        vertical-align: middle;\n",
       "    }\n",
       "\n",
       "    .dataframe tbody tr th {\n",
       "        vertical-align: top;\n",
       "    }\n",
       "\n",
       "    .dataframe thead th {\n",
       "        text-align: right;\n",
       "    }\n",
       "</style>\n",
       "<table border=\"1\" class=\"dataframe\">\n",
       "  <thead>\n",
       "    <tr style=\"text-align: right;\">\n",
       "      <th></th>\n",
       "      <th>TAVG</th>\n",
       "      <th>PRCP</th>\n",
       "    </tr>\n",
       "  </thead>\n",
       "  <tbody>\n",
       "    <tr>\n",
       "      <th>count</th>\n",
       "      <td>760.000000</td>\n",
       "      <td>760.000000</td>\n",
       "    </tr>\n",
       "    <tr>\n",
       "      <th>mean</th>\n",
       "      <td>19.373684</td>\n",
       "      <td>0.130303</td>\n",
       "    </tr>\n",
       "    <tr>\n",
       "      <th>std</th>\n",
       "      <td>10.111361</td>\n",
       "      <td>0.717634</td>\n",
       "    </tr>\n",
       "    <tr>\n",
       "      <th>min</th>\n",
       "      <td>-5.000000</td>\n",
       "      <td>0.000000</td>\n",
       "    </tr>\n",
       "    <tr>\n",
       "      <th>25%</th>\n",
       "      <td>11.000000</td>\n",
       "      <td>0.000000</td>\n",
       "    </tr>\n",
       "    <tr>\n",
       "      <th>50%</th>\n",
       "      <td>19.000000</td>\n",
       "      <td>0.000000</td>\n",
       "    </tr>\n",
       "    <tr>\n",
       "      <th>75%</th>\n",
       "      <td>28.000000</td>\n",
       "      <td>0.050000</td>\n",
       "    </tr>\n",
       "    <tr>\n",
       "      <th>max</th>\n",
       "      <td>52.000000</td>\n",
       "      <td>11.010000</td>\n",
       "    </tr>\n",
       "  </tbody>\n",
       "</table>\n",
       "</div>"
      ],
      "text/plain": [
       "             TAVG        PRCP\n",
       "count  760.000000  760.000000\n",
       "mean    19.373684    0.130303\n",
       "std     10.111361    0.717634\n",
       "min     -5.000000    0.000000\n",
       "25%     11.000000    0.000000\n",
       "50%     19.000000    0.000000\n",
       "75%     28.000000    0.050000\n",
       "max     52.000000   11.010000"
      ]
     },
     "execution_count": 20,
     "metadata": {},
     "output_type": "execute_result"
    }
   ],
   "source": [
    "# Re-calling describe to assess the numerical values \n",
    "processed_weather.describe()"
   ]
  },
  {
   "cell_type": "markdown",
   "id": "95666e06",
   "metadata": {},
   "source": [
    "There appears to be an outlier TAVG of 52 degrees Celcius. To explore this further the distriubtion will be plotted as a histogram. "
   ]
  },
  {
   "cell_type": "code",
   "execution_count": 21,
   "id": "dc77fa46",
   "metadata": {},
   "outputs": [
    {
     "data": {
      "text/plain": [
       "<AxesSubplot:xlabel='TAVG', ylabel='Count'>"
      ]
     },
     "execution_count": 21,
     "metadata": {},
     "output_type": "execute_result"
    },
    {
     "data": {
      "image/png": "[encoded data removed]",
      "text/plain": [
       "<Figure size 432x288 with 1 Axes>"
      ]
     },
     "metadata": {
      "needs_background": "light"
     },
     "output_type": "display_data"
    }
   ],
   "source": [
    "sns.histplot(data=processed_weather['TAVG'])"
   ]
  },
  {
   "cell_type": "markdown",
   "id": "839ae740",
   "metadata": {},
   "source": [
    "From the histogram it can be seen that there are values over 40 degrees Celcius, which seems particularly high for England. \n",
    "\n",
    "Through additional research that the max temperature reached in Suffolk was c.38 Degrees Celcius (in 2022) and c.35 for 2021. Therefore, any `TAVG` above these values will be reduced to 35 degrees for 2021 and 28 for 2022. "
   ]
  },
  {
   "cell_type": "code",
   "execution_count": 22,
   "id": "f987a73e",
   "metadata": {},
   "outputs": [],
   "source": [
    "# A new slice is taken to identify the rows of data with temperatures above 35 degrees celcius \n",
    "hot_dates = processed_weather[processed_weather['TAVG']>35]"
   ]
  },
  {
   "cell_type": "code",
   "execution_count": 23,
   "id": "571a979e",
   "metadata": {
    "scrolled": true
   },
   "outputs": [
    {
     "data": {
      "text/html": [
       "<div>\n",
       "<style scoped>\n",
       "    .dataframe tbody tr th:only-of-type {\n",
       "        vertical-align: middle;\n",
       "    }\n",
       "\n",
       "    .dataframe tbody tr th {\n",
       "        vertical-align: top;\n",
       "    }\n",
       "\n",
       "    .dataframe thead th {\n",
       "        text-align: right;\n",
       "    }\n",
       "</style>\n",
       "<table border=\"1\" class=\"dataframe\">\n",
       "  <thead>\n",
       "    <tr style=\"text-align: right;\">\n",
       "      <th></th>\n",
       "      <th>DATE</th>\n",
       "      <th>TAVG</th>\n",
       "      <th>PRCP</th>\n",
       "    </tr>\n",
       "  </thead>\n",
       "  <tbody>\n",
       "    <tr>\n",
       "      <th>14</th>\n",
       "      <td>2020-09-15</td>\n",
       "      <td>37</td>\n",
       "      <td>0.0</td>\n",
       "    </tr>\n",
       "    <tr>\n",
       "      <th>286</th>\n",
       "      <td>2021-06-14</td>\n",
       "      <td>36</td>\n",
       "      <td>0.0</td>\n",
       "    </tr>\n",
       "    <tr>\n",
       "      <th>288</th>\n",
       "      <td>2021-06-16</td>\n",
       "      <td>36</td>\n",
       "      <td>0.0</td>\n",
       "    </tr>\n",
       "    <tr>\n",
       "      <th>320</th>\n",
       "      <td>2021-07-18</td>\n",
       "      <td>38</td>\n",
       "      <td>0.0</td>\n",
       "    </tr>\n",
       "    <tr>\n",
       "      <th>321</th>\n",
       "      <td>2021-07-19</td>\n",
       "      <td>36</td>\n",
       "      <td>0.0</td>\n",
       "    </tr>\n",
       "  </tbody>\n",
       "</table>\n",
       "</div>"
      ],
      "text/plain": [
       "          DATE  TAVG  PRCP\n",
       "14  2020-09-15    37   0.0\n",
       "286 2021-06-14    36   0.0\n",
       "288 2021-06-16    36   0.0\n",
       "320 2021-07-18    38   0.0\n",
       "321 2021-07-19    36   0.0"
      ]
     },
     "execution_count": 23,
     "metadata": {},
     "output_type": "execute_result"
    }
   ],
   "source": [
    "# To view the hot_dates\n",
    "hot_dates.head()"
   ]
  },
  {
   "cell_type": "code",
   "execution_count": 24,
   "id": "bccad704",
   "metadata": {},
   "outputs": [],
   "source": [
    "# For loop to convert rows for the year 2021 to 35 degrees and 2022 to 38\n",
    "for row in hot_dates.index:\n",
    "    if row in [17,18,20,68,69]:\n",
    "        processed_weather.loc[row,'TAVG'] = 35\n",
    "    else:\n",
    "        if hot_dates.loc[row,'TAVG'] > 38:\n",
    "            processed_weather.loc[row,'TAVG'] = 38"
   ]
  },
  {
   "cell_type": "code",
   "execution_count": 25,
   "id": "b5858e86",
   "metadata": {},
   "outputs": [
    {
     "data": {
      "text/html": [
       "<div>\n",
       "<style scoped>\n",
       "    .dataframe tbody tr th:only-of-type {\n",
       "        vertical-align: middle;\n",
       "    }\n",
       "\n",
       "    .dataframe tbody tr th {\n",
       "        vertical-align: top;\n",
       "    }\n",
       "\n",
       "    .dataframe thead th {\n",
       "        text-align: right;\n",
       "    }\n",
       "</style>\n",
       "<table border=\"1\" class=\"dataframe\">\n",
       "  <thead>\n",
       "    <tr style=\"text-align: right;\">\n",
       "      <th></th>\n",
       "      <th>TAVG</th>\n",
       "      <th>PRCP</th>\n",
       "    </tr>\n",
       "  </thead>\n",
       "  <tbody>\n",
       "    <tr>\n",
       "      <th>count</th>\n",
       "      <td>760.000000</td>\n",
       "      <td>760.000000</td>\n",
       "    </tr>\n",
       "    <tr>\n",
       "      <th>mean</th>\n",
       "      <td>19.296053</td>\n",
       "      <td>0.130303</td>\n",
       "    </tr>\n",
       "    <tr>\n",
       "      <th>std</th>\n",
       "      <td>9.939633</td>\n",
       "      <td>0.717634</td>\n",
       "    </tr>\n",
       "    <tr>\n",
       "      <th>min</th>\n",
       "      <td>-5.000000</td>\n",
       "      <td>0.000000</td>\n",
       "    </tr>\n",
       "    <tr>\n",
       "      <th>25%</th>\n",
       "      <td>11.000000</td>\n",
       "      <td>0.000000</td>\n",
       "    </tr>\n",
       "    <tr>\n",
       "      <th>50%</th>\n",
       "      <td>19.000000</td>\n",
       "      <td>0.000000</td>\n",
       "    </tr>\n",
       "    <tr>\n",
       "      <th>75%</th>\n",
       "      <td>28.000000</td>\n",
       "      <td>0.050000</td>\n",
       "    </tr>\n",
       "    <tr>\n",
       "      <th>max</th>\n",
       "      <td>38.000000</td>\n",
       "      <td>11.010000</td>\n",
       "    </tr>\n",
       "  </tbody>\n",
       "</table>\n",
       "</div>"
      ],
      "text/plain": [
       "             TAVG        PRCP\n",
       "count  760.000000  760.000000\n",
       "mean    19.296053    0.130303\n",
       "std      9.939633    0.717634\n",
       "min     -5.000000    0.000000\n",
       "25%     11.000000    0.000000\n",
       "50%     19.000000    0.000000\n",
       "75%     28.000000    0.050000\n",
       "max     38.000000   11.010000"
      ]
     },
     "execution_count": 25,
     "metadata": {},
     "output_type": "execute_result"
    }
   ],
   "source": [
    "# To validate it worked \n",
    "processed_weather.describe()"
   ]
  },
  {
   "cell_type": "markdown",
   "id": "5866fad5",
   "metadata": {},
   "source": [
    "Confirmed now the temp, rain and snow are all valid. "
   ]
  },
  {
   "cell_type": "code",
   "execution_count": 26,
   "id": "470151f3",
   "metadata": {},
   "outputs": [
    {
     "data": {
      "text/html": [
       "<div>\n",
       "<style scoped>\n",
       "    .dataframe tbody tr th:only-of-type {\n",
       "        vertical-align: middle;\n",
       "    }\n",
       "\n",
       "    .dataframe tbody tr th {\n",
       "        vertical-align: top;\n",
       "    }\n",
       "\n",
       "    .dataframe thead th {\n",
       "        text-align: right;\n",
       "    }\n",
       "</style>\n",
       "<table border=\"1\" class=\"dataframe\">\n",
       "  <thead>\n",
       "    <tr style=\"text-align: right;\">\n",
       "      <th></th>\n",
       "      <th>Date</th>\n",
       "      <th>TAVG</th>\n",
       "      <th>PRCP</th>\n",
       "    </tr>\n",
       "  </thead>\n",
       "  <tbody>\n",
       "    <tr>\n",
       "      <th>0</th>\n",
       "      <td>2020-09-01</td>\n",
       "      <td>24</td>\n",
       "      <td>0.00</td>\n",
       "    </tr>\n",
       "    <tr>\n",
       "      <th>1</th>\n",
       "      <td>2020-09-02</td>\n",
       "      <td>27</td>\n",
       "      <td>0.00</td>\n",
       "    </tr>\n",
       "    <tr>\n",
       "      <th>2</th>\n",
       "      <td>2020-09-03</td>\n",
       "      <td>31</td>\n",
       "      <td>0.07</td>\n",
       "    </tr>\n",
       "    <tr>\n",
       "      <th>3</th>\n",
       "      <td>2020-09-04</td>\n",
       "      <td>27</td>\n",
       "      <td>0.08</td>\n",
       "    </tr>\n",
       "    <tr>\n",
       "      <th>4</th>\n",
       "      <td>2020-09-05</td>\n",
       "      <td>23</td>\n",
       "      <td>0.01</td>\n",
       "    </tr>\n",
       "    <tr>\n",
       "      <th>...</th>\n",
       "      <td>...</td>\n",
       "      <td>...</td>\n",
       "      <td>...</td>\n",
       "    </tr>\n",
       "    <tr>\n",
       "      <th>755</th>\n",
       "      <td>2022-09-26</td>\n",
       "      <td>20</td>\n",
       "      <td>0.09</td>\n",
       "    </tr>\n",
       "    <tr>\n",
       "      <th>756</th>\n",
       "      <td>2022-09-27</td>\n",
       "      <td>16</td>\n",
       "      <td>0.04</td>\n",
       "    </tr>\n",
       "    <tr>\n",
       "      <th>757</th>\n",
       "      <td>2022-09-28</td>\n",
       "      <td>16</td>\n",
       "      <td>0.15</td>\n",
       "    </tr>\n",
       "    <tr>\n",
       "      <th>758</th>\n",
       "      <td>2022-09-29</td>\n",
       "      <td>18</td>\n",
       "      <td>0.01</td>\n",
       "    </tr>\n",
       "    <tr>\n",
       "      <th>759</th>\n",
       "      <td>2022-09-30</td>\n",
       "      <td>18</td>\n",
       "      <td>0.01</td>\n",
       "    </tr>\n",
       "  </tbody>\n",
       "</table>\n",
       "<p>760 rows × 3 columns</p>\n",
       "</div>"
      ],
      "text/plain": [
       "          Date  TAVG  PRCP\n",
       "0   2020-09-01    24  0.00\n",
       "1   2020-09-02    27  0.00\n",
       "2   2020-09-03    31  0.07\n",
       "3   2020-09-04    27  0.08\n",
       "4   2020-09-05    23  0.01\n",
       "..         ...   ...   ...\n",
       "755 2022-09-26    20  0.09\n",
       "756 2022-09-27    16  0.04\n",
       "757 2022-09-28    16  0.15\n",
       "758 2022-09-29    18  0.01\n",
       "759 2022-09-30    18  0.01\n",
       "\n",
       "[760 rows x 3 columns]"
      ]
     },
     "execution_count": 26,
     "metadata": {},
     "output_type": "execute_result"
    }
   ],
   "source": [
    "# The date column is renamed to match the other datasets to ease merging in data preprocessing stage \n",
    "processed_weather.rename(columns={'DATE':'Date'},inplace=True)\n",
    "processed_weather"
   ]
  },
  {
   "cell_type": "markdown",
   "id": "b140fe8c",
   "metadata": {},
   "source": [
    "## To Validate All Dates are Present in the Dataset\n",
    "For timeseries analaysis there need to be rows of data for every date. Therefore to validate all dates are present the first and last day in the dataset will be indentified, and any missing values determined using `.difference()`."
   ]
  },
  {
   "cell_type": "code",
   "execution_count": 27,
   "id": "effb1fd4",
   "metadata": {},
   "outputs": [
    {
     "data": {
      "text/plain": [
       "DatetimeIndex([], dtype='datetime64[ns]', freq='D')"
      ]
     },
     "execution_count": 27,
     "metadata": {},
     "output_type": "execute_result"
    }
   ],
   "source": [
    "first_day = processed_weather['Date'].min()\n",
    "last_day=processed_weather['Date'].max()\n",
    "full_range = pd.date_range(start=first_day, end=last_day, freq='D')\n",
    "\n",
    "# to identify the missing dates in the dataframe \n",
    "full_range.difference(processed_weather['Date'])"
   ]
  },
  {
   "cell_type": "code",
   "execution_count": 28,
   "id": "9dec5e48",
   "metadata": {},
   "outputs": [
    {
     "name": "stdout",
     "output_type": "stream",
     "text": [
      "<class 'pandas.core.frame.DataFrame'>\n",
      "RangeIndex: 760 entries, 0 to 759\n",
      "Data columns (total 3 columns):\n",
      " #   Column  Non-Null Count  Dtype         \n",
      "---  ------  --------------  -----         \n",
      " 0   Date    760 non-null    datetime64[ns]\n",
      " 1   TAVG    760 non-null    int64         \n",
      " 2   PRCP    760 non-null    float64       \n",
      "dtypes: datetime64[ns](1), float64(1), int64(1)\n",
      "memory usage: 17.9 KB\n"
     ]
    }
   ],
   "source": [
    "processed_weather.info()"
   ]
  },
  {
   "cell_type": "markdown",
   "id": "9af58a4f",
   "metadata": {},
   "source": [
    "### Observations\n",
    "It can be seen that no dates were returned in the first step, suggesting that all dates are present in the `Date` column. In addition to this, the length of the dataframe is 760 days which is the correct length of days between 01/09/2020 and 30/09/2022. Therefore, all the dates are present in the dataset, there are no null values, redundant columns of duplicated rows, so the processed dataset can be saved. "
   ]
  },
  {
   "cell_type": "code",
   "execution_count": 29,
   "id": "775e7ada",
   "metadata": {},
   "outputs": [],
   "source": [
    "# To save the dataset\n",
    "processed_weather.to_csv(working_directory+'/3_preprocessed_data/processed_weather.csv',index=False)"
   ]
  },
  {
   "cell_type": "code",
   "execution_count": 30,
   "id": "4b1d4a47",
   "metadata": {},
   "outputs": [],
   "source": [
    "# To validate the dataset saved correctly \n",
    "new_weather = pd.read_csv(working_directory+'/3_preprocessed_data/processed_weather.csv')"
   ]
  },
  {
   "cell_type": "code",
   "execution_count": 31,
   "id": "a4ac032f",
   "metadata": {
    "scrolled": false
   },
   "outputs": [
    {
     "data": {
      "text/html": [
       "<div>\n",
       "<style scoped>\n",
       "    .dataframe tbody tr th:only-of-type {\n",
       "        vertical-align: middle;\n",
       "    }\n",
       "\n",
       "    .dataframe tbody tr th {\n",
       "        vertical-align: top;\n",
       "    }\n",
       "\n",
       "    .dataframe thead th {\n",
       "        text-align: right;\n",
       "    }\n",
       "</style>\n",
       "<table border=\"1\" class=\"dataframe\">\n",
       "  <thead>\n",
       "    <tr style=\"text-align: right;\">\n",
       "      <th></th>\n",
       "      <th>Date</th>\n",
       "      <th>TAVG</th>\n",
       "      <th>PRCP</th>\n",
       "    </tr>\n",
       "  </thead>\n",
       "  <tbody>\n",
       "    <tr>\n",
       "      <th>0</th>\n",
       "      <td>2020-09-01</td>\n",
       "      <td>24</td>\n",
       "      <td>0.00</td>\n",
       "    </tr>\n",
       "    <tr>\n",
       "      <th>1</th>\n",
       "      <td>2020-09-02</td>\n",
       "      <td>27</td>\n",
       "      <td>0.00</td>\n",
       "    </tr>\n",
       "    <tr>\n",
       "      <th>2</th>\n",
       "      <td>2020-09-03</td>\n",
       "      <td>31</td>\n",
       "      <td>0.07</td>\n",
       "    </tr>\n",
       "    <tr>\n",
       "      <th>3</th>\n",
       "      <td>2020-09-04</td>\n",
       "      <td>27</td>\n",
       "      <td>0.08</td>\n",
       "    </tr>\n",
       "    <tr>\n",
       "      <th>4</th>\n",
       "      <td>2020-09-05</td>\n",
       "      <td>23</td>\n",
       "      <td>0.01</td>\n",
       "    </tr>\n",
       "  </tbody>\n",
       "</table>\n",
       "</div>"
      ],
      "text/plain": [
       "         Date  TAVG  PRCP\n",
       "0  2020-09-01    24  0.00\n",
       "1  2020-09-02    27  0.00\n",
       "2  2020-09-03    31  0.07\n",
       "3  2020-09-04    27  0.08\n",
       "4  2020-09-05    23  0.01"
      ]
     },
     "execution_count": 31,
     "metadata": {},
     "output_type": "execute_result"
    }
   ],
   "source": [
    "new_weather.head()"
   ]
  },
  {
   "cell_type": "markdown",
   "id": "e1800c51",
   "metadata": {},
   "source": [
    "# Next Steps\n",
    "The bakery datasets will now be cleaned, which can found here: [Bakery Data Cleaning](./3_Bakery_Data_Cleaning.ipynb)"
   ]
  },
  {
   "cell_type": "markdown",
   "id": "511caeb6",
   "metadata": {},
   "source": [
    ">[Return to Contents](#Contents)"
   ]
  }
 ],
 "metadata": {
  "kernelspec": {
   "display_name": "Python 3 (ipykernel)",
   "language": "python",
   "name": "python3"
  },
  "language_info": {
   "codemirror_mode": {
    "name": "ipython",
    "version": 3
   },
   "file_extension": ".py",
   "mimetype": "text/x-python",
   "name": "python",
   "nbconvert_exporter": "python",
   "pygments_lexer": "ipython3",
   "version": "3.9.12"
  }
 },
 "nbformat": 4,
 "nbformat_minor": 5
}
