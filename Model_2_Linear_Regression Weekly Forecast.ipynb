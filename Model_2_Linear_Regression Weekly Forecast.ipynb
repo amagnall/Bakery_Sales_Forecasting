{
 "cells": [
  {
   "cell_type": "markdown",
   "id": "92b764f0",
   "metadata": {},
   "source": [
    "<div id=\"container\" style=\"position:relative;\">\n",
    "<div style=\"float:left\"><h1> Model 2 : Linear Regression Weekly Forecast</h1></div>\n",
    "<div style=\"position:relative; float:right\"><img style=\"height:65px\" src =\"https://twomagpiesbakery.co.uk/wp-content/uploads/2020/11/logo-no-site.jpg\" />\n",
    "</div>\n",
    "</div>"
   ]
  },
  {
   "cell_type": "markdown",
   "id": "44fce000",
   "metadata": {},
   "source": [
    "**Steps to calculate the linear regression model for a weekly revenue forecast.**\n",
    " \n",
    "In order for a successful linear regression model there are a few assumptions about the data that must be made, these are:\n",
    "\n",
    "- There is a linear relationship between the dependent and independent variables\n",
    "- The independent variables are independent of each other (no multicollinearity)\n",
    "- Residuals are normally distributed\n",
    "- Homoscedasticity: Variance of error terms are similar across the values of the independent variables\n",
    "\n",
    "If these are not met, revenue forecasts will be less accurate. \n",
    "\n",
    "**Accuracy Evaluation** \n",
    "The models will then be evaluated by calculating the:\n",
    "- R<sup>2</sup> - a statistical measure of fit that indicates how much variation of a daily revenue is explained by the independent variables in the regression model.\n",
    "- Root Mean Squared Error (RMSE) - RMSE is a measure of how to spread out these residuals are. In other words, it tells you how concentrated the data is around the line of best fit. This is similar to the MAE score but larger errors are penalised more heavily. \n",
    "- Akaike Information Criterion (AIC) - evaluates how well a model fits the data, depending on the number of independent variables used. The best-fit model is the one that explains the greatest amount of variation using the fewest possible independent variables. \n",
    "- Mean Absolute Percentage Error (MAPE) value, which is the percentage of the average absolute values of error between the true revenue values and the predicted ones. \n",
    "\n",
    "The model with the best evaluation scores will be selected as the optimal linear regression model for the weekly forecast. Full discussion can be found here: [Evalution of the Models](#Evaluation-of-the-Models). \n",
    "\n",
    "---"
   ]
  },
  {
   "cell_type": "markdown",
   "id": "c11fdfb9",
   "metadata": {},
   "source": [
    "# Contents \n",
    "\n",
    "**[EDA and Data Processing](#EDA-and-Data-Processing)**\n",
    "\n",
    "**[1. Model 1 - All Independent Variables](#Model-1---All-Independent-Variables)**\n",
    "    \n",
    "- [Visualising the Daily Moving Averages](#Visualising-the-Daily-Moving-Averages)\n",
    "\n",
    "\n",
    "      \n",
    "**[2. Weekly Revenue Moving Average Forecast](#Weekly-Revenue-Moving-Average-Forecast)**\n",
    "    \n",
    "- [Visualising the Weekly Moving Averages](#Visualising-the-Weekly-Moving-Averages)\n",
    "\n",
    "\n",
    "\n",
    "**[3. Monthly Revenue Moving Average Forecast](#Monthly-Revenue-Moving-Average-Forecast)**\n",
    "    \n",
    "- [Visualising the Monthly Moving Averages](#Visualising-the-Monthly-Moving-Averages)\n",
    "\n",
    "\n",
    "\n",
    "**[Evaluation of the Models](#Evaluation-of-the-Models)**\n",
    "    \n",
    "**[Summary](#Summary)**\n",
    "\n",
    "**[Next Steps](#Next-Steps)**\n",
    "___"
   ]
  },
  {
   "cell_type": "markdown",
   "id": "22574f3e",
   "metadata": {},
   "source": [
    "## Importing Libraries"
   ]
  },
  {
   "cell_type": "code",
   "execution_count": 152,
   "id": "63c478f5",
   "metadata": {},
   "outputs": [],
   "source": [
    "import pandas as pd\n",
    "import numpy as np\n",
    "import matplotlib.pyplot as plt\n",
    "import seaborn as sns\n",
    "import os\n",
    "import plotly.graph_objs as go\n",
    "import statsmodels.api as sm\n",
    "import datetime\n",
    "import warnings\n",
    "warnings.simplefilter(action='ignore', category=FutureWarning)\n",
    "\n",
    "from statsmodels.stats.outliers_influence import variance_inflation_factor\n",
    "from pandas.tseries.offsets import DateOffset"
   ]
  },
  {
   "cell_type": "markdown",
   "id": "fd04f8c2",
   "metadata": {},
   "source": [
    "## Importing Custom Functions"
   ]
  },
  {
   "cell_type": "code",
   "execution_count": 2,
   "id": "8ecd15d3",
   "metadata": {},
   "outputs": [],
   "source": [
    "import BakeryFunctions as bakery"
   ]
  },
  {
   "cell_type": "markdown",
   "id": "9c7b5ff3",
   "metadata": {},
   "source": [
    "## To Get Current Directory"
   ]
  },
  {
   "cell_type": "code",
   "execution_count": 3,
   "id": "a4e1a66f",
   "metadata": {},
   "outputs": [
    {
     "data": {
      "text/plain": [
       "'/Users/abimagnall/Documents/BrainStation/Capstone/Data'"
      ]
     },
     "execution_count": 3,
     "metadata": {},
     "output_type": "execute_result"
    }
   ],
   "source": [
    "working_directory = os.getcwd()\n",
    "working_directory"
   ]
  },
  {
   "cell_type": "markdown",
   "id": "30f4a6e3",
   "metadata": {},
   "source": [
    "## Importing Processed Datasets"
   ]
  },
  {
   "cell_type": "code",
   "execution_count": 4,
   "id": "26245c80",
   "metadata": {},
   "outputs": [
    {
     "data": {
      "text/html": [
       "<div>\n",
       "<style scoped>\n",
       "    .dataframe tbody tr th:only-of-type {\n",
       "        vertical-align: middle;\n",
       "    }\n",
       "\n",
       "    .dataframe tbody tr th {\n",
       "        vertical-align: top;\n",
       "    }\n",
       "\n",
       "    .dataframe thead th {\n",
       "        text-align: right;\n",
       "    }\n",
       "</style>\n",
       "<table border=\"1\" class=\"dataframe\">\n",
       "  <thead>\n",
       "    <tr style=\"text-align: right;\">\n",
       "      <th></th>\n",
       "      <th>Total_Revenue</th>\n",
       "      <th>TAVG</th>\n",
       "      <th>PRCP</th>\n",
       "      <th>CPI_Electricity</th>\n",
       "      <th>CPI_Food</th>\n",
       "      <th>Bank_Holiday</th>\n",
       "      <th>Closed_Xmas</th>\n",
       "      <th>School_Holiday</th>\n",
       "      <th>Weekday</th>\n",
       "      <th>Weekend</th>\n",
       "    </tr>\n",
       "  </thead>\n",
       "  <tbody>\n",
       "    <tr>\n",
       "      <th>2020-09-01</th>\n",
       "      <td>9780.76</td>\n",
       "      <td>24.0</td>\n",
       "      <td>0.00</td>\n",
       "      <td>107.6</td>\n",
       "      <td>102.8</td>\n",
       "      <td>0</td>\n",
       "      <td>0</td>\n",
       "      <td>0</td>\n",
       "      <td>1</td>\n",
       "      <td>0</td>\n",
       "    </tr>\n",
       "    <tr>\n",
       "      <th>2020-09-02</th>\n",
       "      <td>10037.55</td>\n",
       "      <td>27.0</td>\n",
       "      <td>0.00</td>\n",
       "      <td>107.6</td>\n",
       "      <td>102.8</td>\n",
       "      <td>0</td>\n",
       "      <td>0</td>\n",
       "      <td>0</td>\n",
       "      <td>1</td>\n",
       "      <td>0</td>\n",
       "    </tr>\n",
       "    <tr>\n",
       "      <th>2020-09-03</th>\n",
       "      <td>9419.30</td>\n",
       "      <td>31.0</td>\n",
       "      <td>0.07</td>\n",
       "      <td>107.6</td>\n",
       "      <td>102.8</td>\n",
       "      <td>0</td>\n",
       "      <td>0</td>\n",
       "      <td>0</td>\n",
       "      <td>1</td>\n",
       "      <td>0</td>\n",
       "    </tr>\n",
       "    <tr>\n",
       "      <th>2020-09-04</th>\n",
       "      <td>10606.15</td>\n",
       "      <td>27.0</td>\n",
       "      <td>0.08</td>\n",
       "      <td>107.6</td>\n",
       "      <td>102.8</td>\n",
       "      <td>0</td>\n",
       "      <td>0</td>\n",
       "      <td>0</td>\n",
       "      <td>1</td>\n",
       "      <td>0</td>\n",
       "    </tr>\n",
       "    <tr>\n",
       "      <th>2020-09-05</th>\n",
       "      <td>12922.00</td>\n",
       "      <td>23.0</td>\n",
       "      <td>0.01</td>\n",
       "      <td>107.6</td>\n",
       "      <td>102.8</td>\n",
       "      <td>0</td>\n",
       "      <td>0</td>\n",
       "      <td>0</td>\n",
       "      <td>0</td>\n",
       "      <td>1</td>\n",
       "    </tr>\n",
       "  </tbody>\n",
       "</table>\n",
       "</div>"
      ],
      "text/plain": [
       "            Total_Revenue  TAVG  PRCP  CPI_Electricity  CPI_Food  \\\n",
       "2020-09-01        9780.76  24.0  0.00            107.6     102.8   \n",
       "2020-09-02       10037.55  27.0  0.00            107.6     102.8   \n",
       "2020-09-03        9419.30  31.0  0.07            107.6     102.8   \n",
       "2020-09-04       10606.15  27.0  0.08            107.6     102.8   \n",
       "2020-09-05       12922.00  23.0  0.01            107.6     102.8   \n",
       "\n",
       "            Bank_Holiday  Closed_Xmas  School_Holiday  Weekday  Weekend  \n",
       "2020-09-01             0            0               0        1        0  \n",
       "2020-09-02             0            0               0        1        0  \n",
       "2020-09-03             0            0               0        1        0  \n",
       "2020-09-04             0            0               0        1        0  \n",
       "2020-09-05             0            0               0        0        1  "
      ]
     },
     "metadata": {},
     "output_type": "display_data"
    }
   ],
   "source": [
    "# Importing the dataset\n",
    "total_rev = pd.read_csv(working_directory+'/5_timeseries_data/total_revenue_encoded.csv', index_col=0)\n",
    "\n",
    "# Converting the index to a datetime index \n",
    "total_rev.index = pd.to_datetime(total_rev.index)\n",
    "\n",
    "# To validate it imported correctly \n",
    "display(total_rev.head())"
   ]
  },
  {
   "cell_type": "markdown",
   "id": "3623f937",
   "metadata": {},
   "source": [
    "# EDA and Data Processing\n",
    "For the weekly forecast the following steps have to be taken: \n",
    "- Weather and CPI data is dropped as it is not suitable for forecasting 6 weeks ahead \n",
    "- Data is resampled to weekly and `Total_Revenue`, `Special Days` are summed \n",
    "- The last row of data needs to be dropped as it is not a complete week of data (only 5 days), which could cause inaccurate predictions to be made"
   ]
  },
  {
   "cell_type": "code",
   "execution_count": 5,
   "id": "37e94142",
   "metadata": {},
   "outputs": [],
   "source": [
    "total_rev_weekly = total_rev.drop(columns=['TAVG', 'PRCP', 'CPI_Electricity','CPI_Food']).copy()"
   ]
  },
  {
   "cell_type": "code",
   "execution_count": 6,
   "id": "a7694312",
   "metadata": {},
   "outputs": [
    {
     "data": {
      "text/html": [
       "<div>\n",
       "<style scoped>\n",
       "    .dataframe tbody tr th:only-of-type {\n",
       "        vertical-align: middle;\n",
       "    }\n",
       "\n",
       "    .dataframe tbody tr th {\n",
       "        vertical-align: top;\n",
       "    }\n",
       "\n",
       "    .dataframe thead th {\n",
       "        text-align: right;\n",
       "    }\n",
       "</style>\n",
       "<table border=\"1\" class=\"dataframe\">\n",
       "  <thead>\n",
       "    <tr style=\"text-align: right;\">\n",
       "      <th></th>\n",
       "      <th>Total_Revenue</th>\n",
       "      <th>Bank_Holiday</th>\n",
       "      <th>Closed_Xmas</th>\n",
       "      <th>School_Holiday</th>\n",
       "      <th>Weekday</th>\n",
       "      <th>Weekend</th>\n",
       "    </tr>\n",
       "  </thead>\n",
       "  <tbody>\n",
       "    <tr>\n",
       "      <th>2022-07-31</th>\n",
       "      <td>112021.47</td>\n",
       "      <td>0</td>\n",
       "      <td>0</td>\n",
       "      <td>7</td>\n",
       "      <td>0</td>\n",
       "      <td>0</td>\n",
       "    </tr>\n",
       "    <tr>\n",
       "      <th>2022-08-07</th>\n",
       "      <td>109098.80</td>\n",
       "      <td>1</td>\n",
       "      <td>0</td>\n",
       "      <td>6</td>\n",
       "      <td>0</td>\n",
       "      <td>0</td>\n",
       "    </tr>\n",
       "    <tr>\n",
       "      <th>2022-08-14</th>\n",
       "      <td>106518.19</td>\n",
       "      <td>0</td>\n",
       "      <td>0</td>\n",
       "      <td>7</td>\n",
       "      <td>0</td>\n",
       "      <td>0</td>\n",
       "    </tr>\n",
       "    <tr>\n",
       "      <th>2022-08-21</th>\n",
       "      <td>113387.44</td>\n",
       "      <td>0</td>\n",
       "      <td>0</td>\n",
       "      <td>7</td>\n",
       "      <td>0</td>\n",
       "      <td>0</td>\n",
       "    </tr>\n",
       "    <tr>\n",
       "      <th>2022-08-28</th>\n",
       "      <td>118277.59</td>\n",
       "      <td>0</td>\n",
       "      <td>0</td>\n",
       "      <td>7</td>\n",
       "      <td>0</td>\n",
       "      <td>0</td>\n",
       "    </tr>\n",
       "    <tr>\n",
       "      <th>2022-09-04</th>\n",
       "      <td>103478.40</td>\n",
       "      <td>1</td>\n",
       "      <td>0</td>\n",
       "      <td>6</td>\n",
       "      <td>0</td>\n",
       "      <td>0</td>\n",
       "    </tr>\n",
       "    <tr>\n",
       "      <th>2022-09-11</th>\n",
       "      <td>78442.65</td>\n",
       "      <td>0</td>\n",
       "      <td>0</td>\n",
       "      <td>0</td>\n",
       "      <td>5</td>\n",
       "      <td>2</td>\n",
       "    </tr>\n",
       "    <tr>\n",
       "      <th>2022-09-18</th>\n",
       "      <td>86436.14</td>\n",
       "      <td>0</td>\n",
       "      <td>0</td>\n",
       "      <td>0</td>\n",
       "      <td>5</td>\n",
       "      <td>2</td>\n",
       "    </tr>\n",
       "    <tr>\n",
       "      <th>2022-09-25</th>\n",
       "      <td>84465.60</td>\n",
       "      <td>0</td>\n",
       "      <td>0</td>\n",
       "      <td>0</td>\n",
       "      <td>5</td>\n",
       "      <td>2</td>\n",
       "    </tr>\n",
       "    <tr>\n",
       "      <th>2022-10-02</th>\n",
       "      <td>46781.18</td>\n",
       "      <td>0</td>\n",
       "      <td>0</td>\n",
       "      <td>0</td>\n",
       "      <td>5</td>\n",
       "      <td>0</td>\n",
       "    </tr>\n",
       "  </tbody>\n",
       "</table>\n",
       "</div>"
      ],
      "text/plain": [
       "            Total_Revenue  Bank_Holiday  Closed_Xmas  School_Holiday  Weekday  \\\n",
       "2022-07-31      112021.47             0            0               7        0   \n",
       "2022-08-07      109098.80             1            0               6        0   \n",
       "2022-08-14      106518.19             0            0               7        0   \n",
       "2022-08-21      113387.44             0            0               7        0   \n",
       "2022-08-28      118277.59             0            0               7        0   \n",
       "2022-09-04      103478.40             1            0               6        0   \n",
       "2022-09-11       78442.65             0            0               0        5   \n",
       "2022-09-18       86436.14             0            0               0        5   \n",
       "2022-09-25       84465.60             0            0               0        5   \n",
       "2022-10-02       46781.18             0            0               0        5   \n",
       "\n",
       "            Weekend  \n",
       "2022-07-31        0  \n",
       "2022-08-07        0  \n",
       "2022-08-14        0  \n",
       "2022-08-21        0  \n",
       "2022-08-28        0  \n",
       "2022-09-04        0  \n",
       "2022-09-11        2  \n",
       "2022-09-18        2  \n",
       "2022-09-25        2  \n",
       "2022-10-02        0  "
      ]
     },
     "metadata": {},
     "output_type": "display_data"
    }
   ],
   "source": [
    "# the 'W' option specifies Weekly frequency\n",
    "total_rev_weekly = total_rev_weekly.resample('W').sum().round(2)\n",
    "display(total_rev_weekly.tail(10))"
   ]
  },
  {
   "cell_type": "markdown",
   "id": "f6a31431",
   "metadata": {},
   "source": [
    "To remove the incomplete week the last row of data will be dropped. "
   ]
  },
  {
   "cell_type": "code",
   "execution_count": 7,
   "id": "c9684f18",
   "metadata": {},
   "outputs": [],
   "source": [
    "total_rev_weekly = total_rev_weekly[:-1]"
   ]
  },
  {
   "cell_type": "code",
   "execution_count": 8,
   "id": "15ae2650",
   "metadata": {},
   "outputs": [
    {
     "data": {
      "text/html": [
       "<div>\n",
       "<style scoped>\n",
       "    .dataframe tbody tr th:only-of-type {\n",
       "        vertical-align: middle;\n",
       "    }\n",
       "\n",
       "    .dataframe tbody tr th {\n",
       "        vertical-align: top;\n",
       "    }\n",
       "\n",
       "    .dataframe thead th {\n",
       "        text-align: right;\n",
       "    }\n",
       "</style>\n",
       "<table border=\"1\" class=\"dataframe\">\n",
       "  <thead>\n",
       "    <tr style=\"text-align: right;\">\n",
       "      <th></th>\n",
       "      <th>Total_Revenue</th>\n",
       "      <th>Bank_Holiday</th>\n",
       "      <th>Closed_Xmas</th>\n",
       "      <th>School_Holiday</th>\n",
       "      <th>Weekday</th>\n",
       "      <th>Weekend</th>\n",
       "    </tr>\n",
       "  </thead>\n",
       "  <tbody>\n",
       "    <tr>\n",
       "      <th>2022-08-28</th>\n",
       "      <td>118277.59</td>\n",
       "      <td>0</td>\n",
       "      <td>0</td>\n",
       "      <td>7</td>\n",
       "      <td>0</td>\n",
       "      <td>0</td>\n",
       "    </tr>\n",
       "    <tr>\n",
       "      <th>2022-09-04</th>\n",
       "      <td>103478.40</td>\n",
       "      <td>1</td>\n",
       "      <td>0</td>\n",
       "      <td>6</td>\n",
       "      <td>0</td>\n",
       "      <td>0</td>\n",
       "    </tr>\n",
       "    <tr>\n",
       "      <th>2022-09-11</th>\n",
       "      <td>78442.65</td>\n",
       "      <td>0</td>\n",
       "      <td>0</td>\n",
       "      <td>0</td>\n",
       "      <td>5</td>\n",
       "      <td>2</td>\n",
       "    </tr>\n",
       "    <tr>\n",
       "      <th>2022-09-18</th>\n",
       "      <td>86436.14</td>\n",
       "      <td>0</td>\n",
       "      <td>0</td>\n",
       "      <td>0</td>\n",
       "      <td>5</td>\n",
       "      <td>2</td>\n",
       "    </tr>\n",
       "    <tr>\n",
       "      <th>2022-09-25</th>\n",
       "      <td>84465.60</td>\n",
       "      <td>0</td>\n",
       "      <td>0</td>\n",
       "      <td>0</td>\n",
       "      <td>5</td>\n",
       "      <td>2</td>\n",
       "    </tr>\n",
       "  </tbody>\n",
       "</table>\n",
       "</div>"
      ],
      "text/plain": [
       "            Total_Revenue  Bank_Holiday  Closed_Xmas  School_Holiday  Weekday  \\\n",
       "2022-08-28      118277.59             0            0               7        0   \n",
       "2022-09-04      103478.40             1            0               6        0   \n",
       "2022-09-11       78442.65             0            0               0        5   \n",
       "2022-09-18       86436.14             0            0               0        5   \n",
       "2022-09-25       84465.60             0            0               0        5   \n",
       "\n",
       "            Weekend  \n",
       "2022-08-28        0  \n",
       "2022-09-04        0  \n",
       "2022-09-11        2  \n",
       "2022-09-18        2  \n",
       "2022-09-25        2  "
      ]
     },
     "execution_count": 8,
     "metadata": {},
     "output_type": "execute_result"
    }
   ],
   "source": [
    "# To validate it worked \n",
    "total_rev_weekly.tail()"
   ]
  },
  {
   "cell_type": "markdown",
   "id": "d0618ad9",
   "metadata": {},
   "source": [
    "## Exploration into Multicolinearity\n",
    "Similar with the daily revenue forecast, multicolinearity needs to be determined and accounted for if present. To do this a heatmap of the correlation values is plotted. "
   ]
  },
  {
   "cell_type": "code",
   "execution_count": 151,
   "id": "e5b45b59",
   "metadata": {},
   "outputs": [
    {
     "data": {
      "image/png": "[encoded data removed]",
      "text/plain": [
       "<Figure size 1080x720 with 2 Axes>"
      ]
     },
     "metadata": {
      "needs_background": "light"
     },
     "output_type": "display_data"
    }
   ],
   "source": [
    "plt.figure(figsize=(15,10))\n",
    "sns.heatmap(total_rev_weekly.corr(), annot=True, vmin=-1, vmax=1,cmap='Blues')\n",
    "plt.show()"
   ]
  },
  {
   "cell_type": "markdown",
   "id": "143e80e7",
   "metadata": {},
   "source": [
    "## Observations\n",
    "It can be seen that `Weekday` and `Weekend`, `Weekday` and `School_Holiday` and `School_Holiday` and `Weekend` have extremely high correlations with each other. To reduce this `School_Holiday` will be dropped as it has the greatest correlation with the other two variables. "
   ]
  },
  {
   "cell_type": "code",
   "execution_count": 59,
   "id": "5e5bd8f6",
   "metadata": {},
   "outputs": [],
   "source": [
    "linear_rev = total_rev_weekly.drop(columns=['School_Holiday']).copy()"
   ]
  },
  {
   "cell_type": "markdown",
   "id": "e23cbdd3",
   "metadata": {},
   "source": [
    "## Setting Up The Model\n",
    "The 3, 7 and 20 week moving averages will be added to the dataset and lagged by 6 weeks so that actual test total revenue does not leak into the test dataset. "
   ]
  },
  {
   "cell_type": "code",
   "execution_count": 61,
   "id": "1cebaaf7",
   "metadata": {},
   "outputs": [],
   "source": [
    "# The moving average is calculated using the rev_moving_average function \n",
    "bakery.rev_moving_average(linear_rev, 3, '3W_MA')\n",
    "bakery.rev_moving_average(linear_rev, 7, '7W_MA')\n",
    "bakery.rev_moving_average(linear_rev, 20, '20W_MA')"
   ]
  },
  {
   "cell_type": "code",
   "execution_count": 62,
   "id": "991770e4",
   "metadata": {},
   "outputs": [
    {
     "data": {
      "text/html": [
       "<div>\n",
       "<style scoped>\n",
       "    .dataframe tbody tr th:only-of-type {\n",
       "        vertical-align: middle;\n",
       "    }\n",
       "\n",
       "    .dataframe tbody tr th {\n",
       "        vertical-align: top;\n",
       "    }\n",
       "\n",
       "    .dataframe thead th {\n",
       "        text-align: right;\n",
       "    }\n",
       "</style>\n",
       "<table border=\"1\" class=\"dataframe\">\n",
       "  <thead>\n",
       "    <tr style=\"text-align: right;\">\n",
       "      <th></th>\n",
       "      <th>Total_Revenue</th>\n",
       "      <th>Bank_Holiday</th>\n",
       "      <th>Closed_Xmas</th>\n",
       "      <th>Weekday</th>\n",
       "      <th>Weekend</th>\n",
       "      <th>3W_MA</th>\n",
       "      <th>7W_MA</th>\n",
       "      <th>20W_MA</th>\n",
       "    </tr>\n",
       "  </thead>\n",
       "  <tbody>\n",
       "    <tr>\n",
       "      <th>2020-09-06</th>\n",
       "      <td>62891.56</td>\n",
       "      <td>0</td>\n",
       "      <td>0</td>\n",
       "      <td>4</td>\n",
       "      <td>2</td>\n",
       "      <td>NaN</td>\n",
       "      <td>NaN</td>\n",
       "      <td>NaN</td>\n",
       "    </tr>\n",
       "    <tr>\n",
       "      <th>2020-09-13</th>\n",
       "      <td>64159.55</td>\n",
       "      <td>0</td>\n",
       "      <td>0</td>\n",
       "      <td>5</td>\n",
       "      <td>2</td>\n",
       "      <td>NaN</td>\n",
       "      <td>NaN</td>\n",
       "      <td>NaN</td>\n",
       "    </tr>\n",
       "    <tr>\n",
       "      <th>2020-09-20</th>\n",
       "      <td>65532.19</td>\n",
       "      <td>0</td>\n",
       "      <td>0</td>\n",
       "      <td>5</td>\n",
       "      <td>2</td>\n",
       "      <td>NaN</td>\n",
       "      <td>NaN</td>\n",
       "      <td>NaN</td>\n",
       "    </tr>\n",
       "    <tr>\n",
       "      <th>2020-09-27</th>\n",
       "      <td>58612.25</td>\n",
       "      <td>0</td>\n",
       "      <td>0</td>\n",
       "      <td>5</td>\n",
       "      <td>2</td>\n",
       "      <td>64194.43</td>\n",
       "      <td>NaN</td>\n",
       "      <td>NaN</td>\n",
       "    </tr>\n",
       "    <tr>\n",
       "      <th>2020-10-04</th>\n",
       "      <td>52732.89</td>\n",
       "      <td>0</td>\n",
       "      <td>0</td>\n",
       "      <td>5</td>\n",
       "      <td>2</td>\n",
       "      <td>62768.00</td>\n",
       "      <td>NaN</td>\n",
       "      <td>NaN</td>\n",
       "    </tr>\n",
       "  </tbody>\n",
       "</table>\n",
       "</div>"
      ],
      "text/plain": [
       "            Total_Revenue  Bank_Holiday  Closed_Xmas  Weekday  Weekend  \\\n",
       "2020-09-06       62891.56             0            0        4        2   \n",
       "2020-09-13       64159.55             0            0        5        2   \n",
       "2020-09-20       65532.19             0            0        5        2   \n",
       "2020-09-27       58612.25             0            0        5        2   \n",
       "2020-10-04       52732.89             0            0        5        2   \n",
       "\n",
       "               3W_MA  7W_MA  20W_MA  \n",
       "2020-09-06       NaN    NaN     NaN  \n",
       "2020-09-13       NaN    NaN     NaN  \n",
       "2020-09-20       NaN    NaN     NaN  \n",
       "2020-09-27  64194.43    NaN     NaN  \n",
       "2020-10-04  62768.00    NaN     NaN  "
      ]
     },
     "execution_count": 62,
     "metadata": {},
     "output_type": "execute_result"
    }
   ],
   "source": [
    "linear_rev.head()"
   ]
  },
  {
   "cell_type": "code",
   "execution_count": 63,
   "id": "e33528a0",
   "metadata": {},
   "outputs": [],
   "source": [
    "# To move the MA data over\n",
    "for row in linear_rev.index:\n",
    "    try:\n",
    "        linear_rev.loc[row,'3W_MA_lag'] = linear_rev.loc[row-DateOffset(weeks=6),'3W_MA']\n",
    "        linear_rev.loc[row,'7W_MA_lag'] = linear_rev.loc[row-DateOffset(weeks=6),'7W_MA']\n",
    "        linear_rev.loc[row,'20W_MA_lag'] = linear_rev.loc[row-DateOffset(weeks=6),'20W_MA']\n",
    "    except:\n",
    "        continue"
   ]
  },
  {
   "cell_type": "code",
   "execution_count": 64,
   "id": "1876dc31",
   "metadata": {},
   "outputs": [],
   "source": [
    "linear_rev.dropna(inplace=True)"
   ]
  },
  {
   "cell_type": "code",
   "execution_count": 65,
   "id": "2e4d0cca",
   "metadata": {},
   "outputs": [
    {
     "data": {
      "text/html": [
       "<div>\n",
       "<style scoped>\n",
       "    .dataframe tbody tr th:only-of-type {\n",
       "        vertical-align: middle;\n",
       "    }\n",
       "\n",
       "    .dataframe tbody tr th {\n",
       "        vertical-align: top;\n",
       "    }\n",
       "\n",
       "    .dataframe thead th {\n",
       "        text-align: right;\n",
       "    }\n",
       "</style>\n",
       "<table border=\"1\" class=\"dataframe\">\n",
       "  <thead>\n",
       "    <tr style=\"text-align: right;\">\n",
       "      <th></th>\n",
       "      <th>Total_Revenue</th>\n",
       "      <th>Bank_Holiday</th>\n",
       "      <th>Closed_Xmas</th>\n",
       "      <th>Weekday</th>\n",
       "      <th>Weekend</th>\n",
       "      <th>3W_MA</th>\n",
       "      <th>7W_MA</th>\n",
       "      <th>20W_MA</th>\n",
       "      <th>3W_MA_lag</th>\n",
       "      <th>7W_MA_lag</th>\n",
       "      <th>20W_MA_lag</th>\n",
       "    </tr>\n",
       "  </thead>\n",
       "  <tbody>\n",
       "    <tr>\n",
       "      <th>2022-07-10</th>\n",
       "      <td>80994.74</td>\n",
       "      <td>0</td>\n",
       "      <td>0</td>\n",
       "      <td>5</td>\n",
       "      <td>2</td>\n",
       "      <td>79035.35</td>\n",
       "      <td>80248.39</td>\n",
       "      <td>75426.06</td>\n",
       "      <td>71386.73</td>\n",
       "      <td>79610.29</td>\n",
       "      <td>67430.11</td>\n",
       "    </tr>\n",
       "    <tr>\n",
       "      <th>2022-07-17</th>\n",
       "      <td>90259.78</td>\n",
       "      <td>0</td>\n",
       "      <td>0</td>\n",
       "      <td>5</td>\n",
       "      <td>2</td>\n",
       "      <td>80181.43</td>\n",
       "      <td>82346.45</td>\n",
       "      <td>75816.86</td>\n",
       "      <td>70804.20</td>\n",
       "      <td>78273.70</td>\n",
       "      <td>67817.36</td>\n",
       "    </tr>\n",
       "    <tr>\n",
       "      <th>2022-07-24</th>\n",
       "      <td>98332.00</td>\n",
       "      <td>0</td>\n",
       "      <td>0</td>\n",
       "      <td>5</td>\n",
       "      <td>0</td>\n",
       "      <td>83228.01</td>\n",
       "      <td>84598.11</td>\n",
       "      <td>76805.92</td>\n",
       "      <td>85454.07</td>\n",
       "      <td>80001.80</td>\n",
       "      <td>70809.88</td>\n",
       "    </tr>\n",
       "    <tr>\n",
       "      <th>2022-07-31</th>\n",
       "      <td>112021.47</td>\n",
       "      <td>0</td>\n",
       "      <td>0</td>\n",
       "      <td>0</td>\n",
       "      <td>0</td>\n",
       "      <td>89862.17</td>\n",
       "      <td>82137.58</td>\n",
       "      <td>78664.57</td>\n",
       "      <td>86108.11</td>\n",
       "      <td>77957.81</td>\n",
       "      <td>71534.62</td>\n",
       "    </tr>\n",
       "    <tr>\n",
       "      <th>2022-08-07</th>\n",
       "      <td>109098.80</td>\n",
       "      <td>1</td>\n",
       "      <td>0</td>\n",
       "      <td>0</td>\n",
       "      <td>0</td>\n",
       "      <td>100204.42</td>\n",
       "      <td>88387.72</td>\n",
       "      <td>81289.56</td>\n",
       "      <td>87127.56</td>\n",
       "      <td>78577.29</td>\n",
       "      <td>72649.09</td>\n",
       "    </tr>\n",
       "    <tr>\n",
       "      <th>2022-08-14</th>\n",
       "      <td>106518.19</td>\n",
       "      <td>0</td>\n",
       "      <td>0</td>\n",
       "      <td>0</td>\n",
       "      <td>0</td>\n",
       "      <td>106484.09</td>\n",
       "      <td>92893.76</td>\n",
       "      <td>83852.94</td>\n",
       "      <td>75649.01</td>\n",
       "      <td>79273.62</td>\n",
       "      <td>74274.80</td>\n",
       "    </tr>\n",
       "    <tr>\n",
       "      <th>2022-08-21</th>\n",
       "      <td>113387.44</td>\n",
       "      <td>0</td>\n",
       "      <td>0</td>\n",
       "      <td>0</td>\n",
       "      <td>0</td>\n",
       "      <td>109212.82</td>\n",
       "      <td>96522.07</td>\n",
       "      <td>85836.36</td>\n",
       "      <td>79035.35</td>\n",
       "      <td>80248.39</td>\n",
       "      <td>75426.06</td>\n",
       "    </tr>\n",
       "    <tr>\n",
       "      <th>2022-08-28</th>\n",
       "      <td>118277.59</td>\n",
       "      <td>0</td>\n",
       "      <td>0</td>\n",
       "      <td>0</td>\n",
       "      <td>0</td>\n",
       "      <td>109668.14</td>\n",
       "      <td>101516.06</td>\n",
       "      <td>88165.74</td>\n",
       "      <td>80181.43</td>\n",
       "      <td>82346.45</td>\n",
       "      <td>75816.86</td>\n",
       "    </tr>\n",
       "    <tr>\n",
       "      <th>2022-09-04</th>\n",
       "      <td>103478.40</td>\n",
       "      <td>1</td>\n",
       "      <td>0</td>\n",
       "      <td>0</td>\n",
       "      <td>0</td>\n",
       "      <td>112727.74</td>\n",
       "      <td>106842.18</td>\n",
       "      <td>89886.91</td>\n",
       "      <td>83228.01</td>\n",
       "      <td>84598.11</td>\n",
       "      <td>76805.92</td>\n",
       "    </tr>\n",
       "    <tr>\n",
       "      <th>2022-09-11</th>\n",
       "      <td>78442.65</td>\n",
       "      <td>0</td>\n",
       "      <td>0</td>\n",
       "      <td>5</td>\n",
       "      <td>2</td>\n",
       "      <td>111714.48</td>\n",
       "      <td>108730.56</td>\n",
       "      <td>89887.88</td>\n",
       "      <td>89862.17</td>\n",
       "      <td>82137.58</td>\n",
       "      <td>78664.57</td>\n",
       "    </tr>\n",
       "    <tr>\n",
       "      <th>2022-09-18</th>\n",
       "      <td>86436.14</td>\n",
       "      <td>0</td>\n",
       "      <td>0</td>\n",
       "      <td>5</td>\n",
       "      <td>2</td>\n",
       "      <td>100066.21</td>\n",
       "      <td>105889.22</td>\n",
       "      <td>89681.09</td>\n",
       "      <td>100204.42</td>\n",
       "      <td>88387.72</td>\n",
       "      <td>81289.56</td>\n",
       "    </tr>\n",
       "    <tr>\n",
       "      <th>2022-09-25</th>\n",
       "      <td>84465.60</td>\n",
       "      <td>0</td>\n",
       "      <td>0</td>\n",
       "      <td>5</td>\n",
       "      <td>2</td>\n",
       "      <td>89452.40</td>\n",
       "      <td>102234.17</td>\n",
       "      <td>90341.89</td>\n",
       "      <td>106484.09</td>\n",
       "      <td>92893.76</td>\n",
       "      <td>83852.94</td>\n",
       "    </tr>\n",
       "  </tbody>\n",
       "</table>\n",
       "</div>"
      ],
      "text/plain": [
       "            Total_Revenue  Bank_Holiday  Closed_Xmas  Weekday  Weekend  \\\n",
       "2022-07-10       80994.74             0            0        5        2   \n",
       "2022-07-17       90259.78             0            0        5        2   \n",
       "2022-07-24       98332.00             0            0        5        0   \n",
       "2022-07-31      112021.47             0            0        0        0   \n",
       "2022-08-07      109098.80             1            0        0        0   \n",
       "2022-08-14      106518.19             0            0        0        0   \n",
       "2022-08-21      113387.44             0            0        0        0   \n",
       "2022-08-28      118277.59             0            0        0        0   \n",
       "2022-09-04      103478.40             1            0        0        0   \n",
       "2022-09-11       78442.65             0            0        5        2   \n",
       "2022-09-18       86436.14             0            0        5        2   \n",
       "2022-09-25       84465.60             0            0        5        2   \n",
       "\n",
       "                3W_MA      7W_MA    20W_MA  3W_MA_lag  7W_MA_lag  20W_MA_lag  \n",
       "2022-07-10   79035.35   80248.39  75426.06   71386.73   79610.29    67430.11  \n",
       "2022-07-17   80181.43   82346.45  75816.86   70804.20   78273.70    67817.36  \n",
       "2022-07-24   83228.01   84598.11  76805.92   85454.07   80001.80    70809.88  \n",
       "2022-07-31   89862.17   82137.58  78664.57   86108.11   77957.81    71534.62  \n",
       "2022-08-07  100204.42   88387.72  81289.56   87127.56   78577.29    72649.09  \n",
       "2022-08-14  106484.09   92893.76  83852.94   75649.01   79273.62    74274.80  \n",
       "2022-08-21  109212.82   96522.07  85836.36   79035.35   80248.39    75426.06  \n",
       "2022-08-28  109668.14  101516.06  88165.74   80181.43   82346.45    75816.86  \n",
       "2022-09-04  112727.74  106842.18  89886.91   83228.01   84598.11    76805.92  \n",
       "2022-09-11  111714.48  108730.56  89887.88   89862.17   82137.58    78664.57  \n",
       "2022-09-18  100066.21  105889.22  89681.09  100204.42   88387.72    81289.56  \n",
       "2022-09-25   89452.40  102234.17  90341.89  106484.09   92893.76    83852.94  "
      ]
     },
     "execution_count": 65,
     "metadata": {},
     "output_type": "execute_result"
    }
   ],
   "source": [
    "linear_rev.tail(12)"
   ]
  },
  {
   "cell_type": "code",
   "execution_count": 66,
   "id": "cbb0374f",
   "metadata": {},
   "outputs": [],
   "source": [
    "linear_processed = linear_rev.copy()"
   ]
  },
  {
   "cell_type": "code",
   "execution_count": 67,
   "id": "f84365b3",
   "metadata": {},
   "outputs": [],
   "source": [
    "# Splitting the train and test data\n",
    "train = linear_processed.loc[linear_processed.index <= '2022-08-14'].dropna().copy()\n",
    "test = linear_processed.loc[linear_processed.index > '2022-08-14'].copy()"
   ]
  },
  {
   "cell_type": "code",
   "execution_count": 68,
   "id": "871d8dbd",
   "metadata": {},
   "outputs": [],
   "source": [
    "# The total revenue and moving average columns are dropped from the independent variables list \n",
    "independent_variables = train.drop(columns=['3W_MA', '7W_MA', '20W_MA', 'Total_Revenue']).copy()"
   ]
  },
  {
   "cell_type": "markdown",
   "id": "11764c22",
   "metadata": {},
   "source": [
    "# Model 1 - All Independent Variables"
   ]
  },
  {
   "cell_type": "code",
   "execution_count": 75,
   "id": "cf33819d",
   "metadata": {},
   "outputs": [],
   "source": [
    "# First an empty results dataframe is created to track the accuracy of the models run\n",
    "model_scores = pd.DataFrame()"
   ]
  },
  {
   "cell_type": "code",
   "execution_count": 69,
   "id": "06ca86f4",
   "metadata": {},
   "outputs": [
    {
     "data": {
      "text/html": [
       "<table class=\"simpletable\">\n",
       "<caption>OLS Regression Results</caption>\n",
       "<tr>\n",
       "  <th>Dep. Variable:</th>      <td>Total_Revenue</td>  <th>  R-squared:         </th> <td>   0.791</td>\n",
       "</tr>\n",
       "<tr>\n",
       "  <th>Model:</th>                   <td>OLS</td>       <th>  Adj. R-squared:    </th> <td>   0.769</td>\n",
       "</tr>\n",
       "<tr>\n",
       "  <th>Method:</th>             <td>Least Squares</td>  <th>  F-statistic:       </th> <td>   36.69</td>\n",
       "</tr>\n",
       "<tr>\n",
       "  <th>Date:</th>             <td>Tue, 25 Oct 2022</td> <th>  Prob (F-statistic):</th> <td>1.05e-20</td>\n",
       "</tr>\n",
       "<tr>\n",
       "  <th>Time:</th>                 <td>22:20:36</td>     <th>  Log-Likelihood:    </th> <td> -798.82</td>\n",
       "</tr>\n",
       "<tr>\n",
       "  <th>No. Observations:</th>      <td>    76</td>      <th>  AIC:               </th> <td>   1614.</td>\n",
       "</tr>\n",
       "<tr>\n",
       "  <th>Df Residuals:</th>          <td>    68</td>      <th>  BIC:               </th> <td>   1632.</td>\n",
       "</tr>\n",
       "<tr>\n",
       "  <th>Df Model:</th>              <td>     7</td>      <th>                     </th>     <td> </td>   \n",
       "</tr>\n",
       "<tr>\n",
       "  <th>Covariance Type:</th>      <td>nonrobust</td>    <th>                     </th>     <td> </td>   \n",
       "</tr>\n",
       "</table>\n",
       "<table class=\"simpletable\">\n",
       "<tr>\n",
       "        <td></td>          <th>coef</th>     <th>std err</th>      <th>t</th>      <th>P>|t|</th>  <th>[0.025</th>    <th>0.975]</th>  \n",
       "</tr>\n",
       "<tr>\n",
       "  <th>const</th>        <td> 7.188e+04</td> <td> 4994.054</td> <td>   14.394</td> <td> 0.000</td> <td> 6.19e+04</td> <td> 8.18e+04</td>\n",
       "</tr>\n",
       "<tr>\n",
       "  <th>Bank_Holiday</th> <td> 5939.5460</td> <td> 2918.648</td> <td>    2.035</td> <td> 0.046</td> <td>  115.474</td> <td> 1.18e+04</td>\n",
       "</tr>\n",
       "<tr>\n",
       "  <th>Closed_Xmas</th>  <td>-1.763e+04</td> <td> 1.01e+04</td> <td>   -1.749</td> <td> 0.085</td> <td>-3.77e+04</td> <td> 2480.998</td>\n",
       "</tr>\n",
       "<tr>\n",
       "  <th>Weekday</th>      <td>-2334.3920</td> <td>  910.614</td> <td>   -2.564</td> <td> 0.013</td> <td>-4151.493</td> <td> -517.291</td>\n",
       "</tr>\n",
       "<tr>\n",
       "  <th>Weekend</th>      <td>-5659.6076</td> <td> 1875.092</td> <td>   -3.018</td> <td> 0.004</td> <td>-9401.295</td> <td>-1917.920</td>\n",
       "</tr>\n",
       "<tr>\n",
       "  <th>3W_MA_lag</th>    <td>    0.1960</td> <td>    0.181</td> <td>    1.086</td> <td> 0.281</td> <td>   -0.164</td> <td>    0.556</td>\n",
       "</tr>\n",
       "<tr>\n",
       "  <th>7W_MA_lag</th>    <td>    0.8107</td> <td>    0.239</td> <td>    3.386</td> <td> 0.001</td> <td>    0.333</td> <td>    1.288</td>\n",
       "</tr>\n",
       "<tr>\n",
       "  <th>20W_MA_lag</th>   <td>   -0.7905</td> <td>    0.119</td> <td>   -6.639</td> <td> 0.000</td> <td>   -1.028</td> <td>   -0.553</td>\n",
       "</tr>\n",
       "</table>\n",
       "<table class=\"simpletable\">\n",
       "<tr>\n",
       "  <th>Omnibus:</th>       <td> 0.595</td> <th>  Durbin-Watson:     </th> <td>   0.714</td>\n",
       "</tr>\n",
       "<tr>\n",
       "  <th>Prob(Omnibus):</th> <td> 0.743</td> <th>  Jarque-Bera (JB):  </th> <td>   0.641</td>\n",
       "</tr>\n",
       "<tr>\n",
       "  <th>Skew:</th>          <td>-0.201</td> <th>  Prob(JB):          </th> <td>   0.726</td>\n",
       "</tr>\n",
       "<tr>\n",
       "  <th>Kurtosis:</th>      <td> 2.798</td> <th>  Cond. No.          </th> <td>1.09e+06</td>\n",
       "</tr>\n",
       "</table><br/><br/>Notes:<br/>[1] Standard Errors assume that the covariance matrix of the errors is correctly specified.<br/>[2] The condition number is large, 1.09e+06. This might indicate that there are<br/>strong multicollinearity or other numerical problems."
      ],
      "text/plain": [
       "<class 'statsmodels.iolib.summary.Summary'>\n",
       "\"\"\"\n",
       "                            OLS Regression Results                            \n",
       "==============================================================================\n",
       "Dep. Variable:          Total_Revenue   R-squared:                       0.791\n",
       "Model:                            OLS   Adj. R-squared:                  0.769\n",
       "Method:                 Least Squares   F-statistic:                     36.69\n",
       "Date:                Tue, 25 Oct 2022   Prob (F-statistic):           1.05e-20\n",
       "Time:                        22:20:36   Log-Likelihood:                -798.82\n",
       "No. Observations:                  76   AIC:                             1614.\n",
       "Df Residuals:                      68   BIC:                             1632.\n",
       "Df Model:                           7                                         \n",
       "Covariance Type:            nonrobust                                         \n",
       "================================================================================\n",
       "                   coef    std err          t      P>|t|      [0.025      0.975]\n",
       "--------------------------------------------------------------------------------\n",
       "const         7.188e+04   4994.054     14.394      0.000    6.19e+04    8.18e+04\n",
       "Bank_Holiday  5939.5460   2918.648      2.035      0.046     115.474    1.18e+04\n",
       "Closed_Xmas  -1.763e+04   1.01e+04     -1.749      0.085   -3.77e+04    2480.998\n",
       "Weekday      -2334.3920    910.614     -2.564      0.013   -4151.493    -517.291\n",
       "Weekend      -5659.6076   1875.092     -3.018      0.004   -9401.295   -1917.920\n",
       "3W_MA_lag        0.1960      0.181      1.086      0.281      -0.164       0.556\n",
       "7W_MA_lag        0.8107      0.239      3.386      0.001       0.333       1.288\n",
       "20W_MA_lag      -0.7905      0.119     -6.639      0.000      -1.028      -0.553\n",
       "==============================================================================\n",
       "Omnibus:                        0.595   Durbin-Watson:                   0.714\n",
       "Prob(Omnibus):                  0.743   Jarque-Bera (JB):                0.641\n",
       "Skew:                          -0.201   Prob(JB):                        0.726\n",
       "Kurtosis:                       2.798   Cond. No.                     1.09e+06\n",
       "==============================================================================\n",
       "\n",
       "Notes:\n",
       "[1] Standard Errors assume that the covariance matrix of the errors is correctly specified.\n",
       "[2] The condition number is large, 1.09e+06. This might indicate that there are\n",
       "strong multicollinearity or other numerical problems.\n",
       "\"\"\""
      ]
     },
     "execution_count": 69,
     "metadata": {},
     "output_type": "execute_result"
    }
   ],
   "source": [
    "y = train['Total_Revenue']\n",
    "\n",
    "# First the X and y values need to splitted: \n",
    "X = independent_variables\n",
    "\n",
    "# Then the X_ constant needs to be added to give the intercept value\n",
    "X_withconstant = sm.add_constant(X)\n",
    "\n",
    "# The model is then instantiated using the sm.OLS method\n",
    "lm_revenue = sm.OLS(y,X_withconstant)\n",
    "\n",
    "# The model is fitted using the .fit() method\n",
    "lm_revenue_results = lm_revenue.fit()\n",
    "\n",
    "# The results are displayed using the .summary() method\n",
    "lm_revenue_results.summary()"
   ]
  },
  {
   "cell_type": "code",
   "execution_count": 70,
   "id": "d9c6f3b5",
   "metadata": {},
   "outputs": [],
   "source": [
    "X_test = test.drop(columns=['Total_Revenue', '3W_MA', '7W_MA', '20W_MA']).copy()"
   ]
  },
  {
   "cell_type": "code",
   "execution_count": 71,
   "id": "2483116d",
   "metadata": {},
   "outputs": [],
   "source": [
    "X_test_withconstant = sm.add_constant(X_test)"
   ]
  },
  {
   "cell_type": "code",
   "execution_count": 72,
   "id": "83013416",
   "metadata": {},
   "outputs": [
    {
     "data": {
      "text/plain": [
       "2022-08-21     92802.033721\n",
       "2022-08-28     94418.555687\n",
       "2022-09-04    101998.707330\n",
       "2022-09-11     70904.335070\n",
       "2022-09-18     75923.113707\n",
       "2022-09-25     78780.415466\n",
       "Freq: W-SUN, dtype: float64"
      ]
     },
     "execution_count": 72,
     "metadata": {},
     "output_type": "execute_result"
    }
   ],
   "source": [
    "# Predictions\n",
    "prediction_1 = lm_revenue_results.predict(X_test_withconstant)\n",
    "prediction_1"
   ]
  },
  {
   "cell_type": "code",
   "execution_count": 85,
   "id": "28a5af70",
   "metadata": {},
   "outputs": [
    {
     "data": {
      "application/vnd.plotly.v1+json": {
       "config": {
        "plotlyServerURL": "https://plot.ly"
       },
       "data": [
        {
         "mode": "lines",
         "name": "Train",
         "type": "scatter",
         "x": [
          "2021-03-07T00:00:00",
          "2021-03-14T00:00:00",
          "2021-03-21T00:00:00",
          "2021-03-28T00:00:00",
          "2021-04-04T00:00:00",
          "2021-04-11T00:00:00",
          "2021-04-18T00:00:00",
          "2021-04-25T00:00:00",
          "2021-05-02T00:00:00",
          "2021-05-09T00:00:00",
          "2021-05-16T00:00:00",
          "2021-05-23T00:00:00",
          "2021-05-30T00:00:00",
          "2021-06-06T00:00:00",
          "2021-06-13T00:00:00",
          "2021-06-20T00:00:00",
          "2021-06-27T00:00:00",
          "2021-07-04T00:00:00",
          "2021-07-11T00:00:00",
          "2021-07-18T00:00:00",
          "2021-07-25T00:00:00",
          "2021-08-01T00:00:00",
          "2021-08-08T00:00:00",
          "2021-08-15T00:00:00",
          "2021-08-22T00:00:00",
          "2021-08-29T00:00:00",
          "2021-09-05T00:00:00",
          "2021-09-12T00:00:00",
          "2021-09-19T00:00:00",
          "2021-09-26T00:00:00",
          "2021-10-03T00:00:00",
          "2021-10-10T00:00:00",
          "2021-10-17T00:00:00",
          "2021-10-24T00:00:00",
          "2021-10-31T00:00:00",
          "2021-11-07T00:00:00",
          "2021-11-14T00:00:00",
          "2021-11-21T00:00:00",
          "2021-11-28T00:00:00",
          "2021-12-05T00:00:00",
          "2021-12-12T00:00:00",
          "2021-12-19T00:00:00",
          "2021-12-26T00:00:00",
          "2022-01-02T00:00:00",
          "2022-01-09T00:00:00",
          "2022-01-16T00:00:00",
          "2022-01-23T00:00:00",
          "2022-01-30T00:00:00",
          "2022-02-06T00:00:00",
          "2022-02-13T00:00:00",
          "2022-02-20T00:00:00",
          "2022-02-27T00:00:00",
          "2022-03-06T00:00:00",
          "2022-03-13T00:00:00",
          "2022-03-20T00:00:00",
          "2022-03-27T00:00:00",
          "2022-04-03T00:00:00",
          "2022-04-10T00:00:00",
          "2022-04-17T00:00:00",
          "2022-04-24T00:00:00",
          "2022-05-01T00:00:00",
          "2022-05-08T00:00:00",
          "2022-05-15T00:00:00",
          "2022-05-22T00:00:00",
          "2022-05-29T00:00:00",
          "2022-06-05T00:00:00",
          "2022-06-12T00:00:00",
          "2022-06-19T00:00:00",
          "2022-06-26T00:00:00",
          "2022-07-03T00:00:00",
          "2022-07-10T00:00:00",
          "2022-07-17T00:00:00",
          "2022-07-24T00:00:00",
          "2022-07-31T00:00:00",
          "2022-08-07T00:00:00",
          "2022-08-14T00:00:00"
         ],
         "y": [
          27155.95,
          28698.05,
          29639.92,
          33834.22,
          49890.95,
          46976.75,
          72553.91,
          59804.86,
          62821.04,
          60201.77,
          58890.41,
          65883.27,
          72868.88,
          91050.3,
          70049.93,
          71821.2,
          74764.78,
          74499.56,
          82700.02,
          87403.88,
          93902.69,
          102590.59,
          104418.96,
          106765.67,
          105296.07,
          107555.55,
          92307.18,
          81485.62,
          80503.23,
          76278.72,
          74564.75,
          71568.15,
          70676.15,
          75993.28,
          90174.68,
          69867.09,
          65234.33,
          66232.44,
          63486.83,
          56164.75,
          54413.93,
          60703.51,
          62838.18,
          92832.18,
          66753.16,
          55705.39,
          53775.72,
          55267,
          48605.95,
          55404.22,
          73178.69,
          70478.72,
          61158.84,
          59521.83,
          57831.15,
          66849.78,
          66799.78,
          83854.31,
          103458.98,
          82578.42,
          73220.14,
          76245.74,
          71606.08,
          66308.36,
          74498.17,
          115555.67,
          68270.5,
          77556.5,
          81120.04,
          78429.52,
          80994.74,
          90259.78,
          98332,
          112021.47,
          109098.8,
          106518.19
         ]
        },
        {
         "mode": "lines",
         "name": "Test",
         "type": "scatter",
         "x": [
          "2022-08-21T00:00:00",
          "2022-08-28T00:00:00",
          "2022-09-04T00:00:00",
          "2022-09-11T00:00:00",
          "2022-09-18T00:00:00",
          "2022-09-25T00:00:00"
         ],
         "y": [
          113387.44,
          118277.59,
          103478.4,
          78442.65,
          86436.14,
          84465.6
         ]
        },
        {
         "mode": "lines",
         "name": "Prediction 1",
         "type": "scatter",
         "x": [
          "2022-08-21T00:00:00",
          "2022-08-28T00:00:00",
          "2022-09-04T00:00:00",
          "2022-09-11T00:00:00",
          "2022-09-18T00:00:00",
          "2022-09-25T00:00:00"
         ],
         "y": [
          92802.03372102515,
          94418.55568749431,
          101998.70732950681,
          70904.33507003679,
          75923.11370714912,
          78780.41546633645
         ]
        }
       ],
       "layout": {
        "template": {
         "data": {
          "bar": [
           {
            "error_x": {
             "color": "#2a3f5f"
            },
            "error_y": {
             "color": "#2a3f5f"
            },
            "marker": {
             "line": {
              "color": "#E5ECF6",
              "width": 0.5
             },
             "pattern": {
              "fillmode": "overlay",
              "size": 10,
              "solidity": 0.2
             }
            },
            "type": "bar"
           }
          ],
          "barpolar": [
           {
            "marker": {
             "line": {
              "color": "#E5ECF6",
              "width": 0.5
             },
             "pattern": {
              "fillmode": "overlay",
              "size": 10,
              "solidity": 0.2
             }
            },
            "type": "barpolar"
           }
          ],
          "carpet": [
           {
            "aaxis": {
             "endlinecolor": "#2a3f5f",
             "gridcolor": "white",
             "linecolor": "white",
             "minorgridcolor": "white",
             "startlinecolor": "#2a3f5f"
            },
            "baxis": {
             "endlinecolor": "#2a3f5f",
             "gridcolor": "white",
             "linecolor": "white",
             "minorgridcolor": "white",
             "startlinecolor": "#2a3f5f"
            },
            "type": "carpet"
           }
          ],
          "choropleth": [
           {
            "colorbar": {
             "outlinewidth": 0,
             "ticks": ""
            },
            "type": "choropleth"
           }
          ],
          "contour": [
           {
            "colorbar": {
             "outlinewidth": 0,
             "ticks": ""
            },
            "colorscale": [
             [
              0,
              "#0d0887"
             ],
             [
              0.1111111111111111,
              "#46039f"
             ],
             [
              0.2222222222222222,
              "#7201a8"
             ],
             [
              0.3333333333333333,
              "#9c179e"
             ],
             [
              0.4444444444444444,
              "#bd3786"
             ],
             [
              0.5555555555555556,
              "#d8576b"
             ],
             [
              0.6666666666666666,
              "#ed7953"
             ],
             [
              0.7777777777777778,
              "#fb9f3a"
             ],
             [
              0.8888888888888888,
              "#fdca26"
             ],
             [
              1,
              "#f0f921"
             ]
            ],
            "type": "contour"
           }
          ],
          "contourcarpet": [
           {
            "colorbar": {
             "outlinewidth": 0,
             "ticks": ""
            },
            "type": "contourcarpet"
           }
          ],
          "heatmap": [
           {
            "colorbar": {
             "outlinewidth": 0,
             "ticks": ""
            },
            "colorscale": [
             [
              0,
              "#0d0887"
             ],
             [
              0.1111111111111111,
              "#46039f"
             ],
             [
              0.2222222222222222,
              "#7201a8"
             ],
             [
              0.3333333333333333,
              "#9c179e"
             ],
             [
              0.4444444444444444,
              "#bd3786"
             ],
             [
              0.5555555555555556,
              "#d8576b"
             ],
             [
              0.6666666666666666,
              "#ed7953"
             ],
             [
              0.7777777777777778,
              "#fb9f3a"
             ],
             [
              0.8888888888888888,
              "#fdca26"
             ],
             [
              1,
              "#f0f921"
             ]
            ],
            "type": "heatmap"
           }
          ],
          "heatmapgl": [
           {
            "colorbar": {
             "outlinewidth": 0,
             "ticks": ""
            },
            "colorscale": [
             [
              0,
              "#0d0887"
             ],
             [
              0.1111111111111111,
              "#46039f"
             ],
             [
              0.2222222222222222,
              "#7201a8"
             ],
             [
              0.3333333333333333,
              "#9c179e"
             ],
             [
              0.4444444444444444,
              "#bd3786"
             ],
             [
              0.5555555555555556,
              "#d8576b"
             ],
             [
              0.6666666666666666,
              "#ed7953"
             ],
             [
              0.7777777777777778,
              "#fb9f3a"
             ],
             [
              0.8888888888888888,
              "#fdca26"
             ],
             [
              1,
              "#f0f921"
             ]
            ],
            "type": "heatmapgl"
           }
          ],
          "histogram": [
           {
            "marker": {
             "pattern": {
              "fillmode": "overlay",
              "size": 10,
              "solidity": 0.2
             }
            },
            "type": "histogram"
           }
          ],
          "histogram2d": [
           {
            "colorbar": {
             "outlinewidth": 0,
             "ticks": ""
            },
            "colorscale": [
             [
              0,
              "#0d0887"
             ],
             [
              0.1111111111111111,
              "#46039f"
             ],
             [
              0.2222222222222222,
              "#7201a8"
             ],
             [
              0.3333333333333333,
              "#9c179e"
             ],
             [
              0.4444444444444444,
              "#bd3786"
             ],
             [
              0.5555555555555556,
              "#d8576b"
             ],
             [
              0.6666666666666666,
              "#ed7953"
             ],
             [
              0.7777777777777778,
              "#fb9f3a"
             ],
             [
              0.8888888888888888,
              "#fdca26"
             ],
             [
              1,
              "#f0f921"
             ]
            ],
            "type": "histogram2d"
           }
          ],
          "histogram2dcontour": [
           {
            "colorbar": {
             "outlinewidth": 0,
             "ticks": ""
            },
            "colorscale": [
             [
              0,
              "#0d0887"
             ],
             [
              0.1111111111111111,
              "#46039f"
             ],
             [
              0.2222222222222222,
              "#7201a8"
             ],
             [
              0.3333333333333333,
              "#9c179e"
             ],
             [
              0.4444444444444444,
              "#bd3786"
             ],
             [
              0.5555555555555556,
              "#d8576b"
             ],
             [
              0.6666666666666666,
              "#ed7953"
             ],
             [
              0.7777777777777778,
              "#fb9f3a"
             ],
             [
              0.8888888888888888,
              "#fdca26"
             ],
             [
              1,
              "#f0f921"
             ]
            ],
            "type": "histogram2dcontour"
           }
          ],
          "mesh3d": [
           {
            "colorbar": {
             "outlinewidth": 0,
             "ticks": ""
            },
            "type": "mesh3d"
           }
          ],
          "parcoords": [
           {
            "line": {
             "colorbar": {
              "outlinewidth": 0,
              "ticks": ""
             }
            },
            "type": "parcoords"
           }
          ],
          "pie": [
           {
            "automargin": true,
            "type": "pie"
           }
          ],
          "scatter": [
           {
            "marker": {
             "colorbar": {
              "outlinewidth": 0,
              "ticks": ""
             }
            },
            "type": "scatter"
           }
          ],
          "scatter3d": [
           {
            "line": {
             "colorbar": {
              "outlinewidth": 0,
              "ticks": ""
             }
            },
            "marker": {
             "colorbar": {
              "outlinewidth": 0,
              "ticks": ""
             }
            },
            "type": "scatter3d"
           }
          ],
          "scattercarpet": [
           {
            "marker": {
             "colorbar": {
              "outlinewidth": 0,
              "ticks": ""
             }
            },
            "type": "scattercarpet"
           }
          ],
          "scattergeo": [
           {
            "marker": {
             "colorbar": {
              "outlinewidth": 0,
              "ticks": ""
             }
            },
            "type": "scattergeo"
           }
          ],
          "scattergl": [
           {
            "marker": {
             "colorbar": {
              "outlinewidth": 0,
              "ticks": ""
             }
            },
            "type": "scattergl"
           }
          ],
          "scattermapbox": [
           {
            "marker": {
             "colorbar": {
              "outlinewidth": 0,
              "ticks": ""
             }
            },
            "type": "scattermapbox"
           }
          ],
          "scatterpolar": [
           {
            "marker": {
             "colorbar": {
              "outlinewidth": 0,
              "ticks": ""
             }
            },
            "type": "scatterpolar"
           }
          ],
          "scatterpolargl": [
           {
            "marker": {
             "colorbar": {
              "outlinewidth": 0,
              "ticks": ""
             }
            },
            "type": "scatterpolargl"
           }
          ],
          "scatterternary": [
           {
            "marker": {
             "colorbar": {
              "outlinewidth": 0,
              "ticks": ""
             }
            },
            "type": "scatterternary"
           }
          ],
          "surface": [
           {
            "colorbar": {
             "outlinewidth": 0,
             "ticks": ""
            },
            "colorscale": [
             [
              0,
              "#0d0887"
             ],
             [
              0.1111111111111111,
              "#46039f"
             ],
             [
              0.2222222222222222,
              "#7201a8"
             ],
             [
              0.3333333333333333,
              "#9c179e"
             ],
             [
              0.4444444444444444,
              "#bd3786"
             ],
             [
              0.5555555555555556,
              "#d8576b"
             ],
             [
              0.6666666666666666,
              "#ed7953"
             ],
             [
              0.7777777777777778,
              "#fb9f3a"
             ],
             [
              0.8888888888888888,
              "#fdca26"
             ],
             [
              1,
              "#f0f921"
             ]
            ],
            "type": "surface"
           }
          ],
          "table": [
           {
            "cells": {
             "fill": {
              "color": "#EBF0F8"
             },
             "line": {
              "color": "white"
             }
            },
            "header": {
             "fill": {
              "color": "#C8D4E3"
             },
             "line": {
              "color": "white"
             }
            },
            "type": "table"
           }
          ]
         },
         "layout": {
          "annotationdefaults": {
           "arrowcolor": "#2a3f5f",
           "arrowhead": 0,
           "arrowwidth": 1
          },
          "autotypenumbers": "strict",
          "coloraxis": {
           "colorbar": {
            "outlinewidth": 0,
            "ticks": ""
           }
          },
          "colorscale": {
           "diverging": [
            [
             0,
             "#8e0152"
            ],
            [
             0.1,
             "#c51b7d"
            ],
            [
             0.2,
             "#de77ae"
            ],
            [
             0.3,
             "#f1b6da"
            ],
            [
             0.4,
             "#fde0ef"
            ],
            [
             0.5,
             "#f7f7f7"
            ],
            [
             0.6,
             "#e6f5d0"
            ],
            [
             0.7,
             "#b8e186"
            ],
            [
             0.8,
             "#7fbc41"
            ],
            [
             0.9,
             "#4d9221"
            ],
            [
             1,
             "#276419"
            ]
           ],
           "sequential": [
            [
             0,
             "#0d0887"
            ],
            [
             0.1111111111111111,
             "#46039f"
            ],
            [
             0.2222222222222222,
             "#7201a8"
            ],
            [
             0.3333333333333333,
             "#9c179e"
            ],
            [
             0.4444444444444444,
             "#bd3786"
            ],
            [
             0.5555555555555556,
             "#d8576b"
            ],
            [
             0.6666666666666666,
             "#ed7953"
            ],
            [
             0.7777777777777778,
             "#fb9f3a"
            ],
            [
             0.8888888888888888,
             "#fdca26"
            ],
            [
             1,
             "#f0f921"
            ]
           ],
           "sequentialminus": [
            [
             0,
             "#0d0887"
            ],
            [
             0.1111111111111111,
             "#46039f"
            ],
            [
             0.2222222222222222,
             "#7201a8"
            ],
            [
             0.3333333333333333,
             "#9c179e"
            ],
            [
             0.4444444444444444,
             "#bd3786"
            ],
            [
             0.5555555555555556,
             "#d8576b"
            ],
            [
             0.6666666666666666,
             "#ed7953"
            ],
            [
             0.7777777777777778,
             "#fb9f3a"
            ],
            [
             0.8888888888888888,
             "#fdca26"
            ],
            [
             1,
             "#f0f921"
            ]
           ]
          },
          "colorway": [
           "#636efa",
           "#EF553B",
           "#00cc96",
           "#ab63fa",
           "#FFA15A",
           "#19d3f3",
           "#FF6692",
           "#B6E880",
           "#FF97FF",
           "#FECB52"
          ],
          "font": {
           "color": "#2a3f5f"
          },
          "geo": {
           "bgcolor": "white",
           "lakecolor": "white",
           "landcolor": "#E5ECF6",
           "showlakes": true,
           "showland": true,
           "subunitcolor": "white"
          },
          "hoverlabel": {
           "align": "left"
          },
          "hovermode": "closest",
          "mapbox": {
           "style": "light"
          },
          "paper_bgcolor": "white",
          "plot_bgcolor": "#E5ECF6",
          "polar": {
           "angularaxis": {
            "gridcolor": "white",
            "linecolor": "white",
            "ticks": ""
           },
           "bgcolor": "#E5ECF6",
           "radialaxis": {
            "gridcolor": "white",
            "linecolor": "white",
            "ticks": ""
           }
          },
          "scene": {
           "xaxis": {
            "backgroundcolor": "#E5ECF6",
            "gridcolor": "white",
            "gridwidth": 2,
            "linecolor": "white",
            "showbackground": true,
            "ticks": "",
            "zerolinecolor": "white"
           },
           "yaxis": {
            "backgroundcolor": "#E5ECF6",
            "gridcolor": "white",
            "gridwidth": 2,
            "linecolor": "white",
            "showbackground": true,
            "ticks": "",
            "zerolinecolor": "white"
           },
           "zaxis": {
            "backgroundcolor": "#E5ECF6",
            "gridcolor": "white",
            "gridwidth": 2,
            "linecolor": "white",
            "showbackground": true,
            "ticks": "",
            "zerolinecolor": "white"
           }
          },
          "shapedefaults": {
           "line": {
            "color": "#2a3f5f"
           }
          },
          "ternary": {
           "aaxis": {
            "gridcolor": "white",
            "linecolor": "white",
            "ticks": ""
           },
           "baxis": {
            "gridcolor": "white",
            "linecolor": "white",
            "ticks": ""
           },
           "bgcolor": "#E5ECF6",
           "caxis": {
            "gridcolor": "white",
            "linecolor": "white",
            "ticks": ""
           }
          },
          "title": {
           "x": 0.05
          },
          "xaxis": {
           "automargin": true,
           "gridcolor": "white",
           "linecolor": "white",
           "ticks": "",
           "title": {
            "standoff": 15
           },
           "zerolinecolor": "white",
           "zerolinewidth": 2
          },
          "yaxis": {
           "automargin": true,
           "gridcolor": "white",
           "linecolor": "white",
           "ticks": "",
           "title": {
            "standoff": 15
           },
           "zerolinecolor": "white",
           "zerolinewidth": 2
          }
         }
        },
        "title": {
         "text": "Model 1 - Linear Regression Predicted Weekly Revenue"
        },
        "xaxis": {
         "rangeslider": {
          "visible": true
         },
         "title": {
          "text": "Date"
         }
        },
        "yaxis": {
         "title": {
          "text": "Total Revenue (£)"
         }
        }
       }
      },
      "text/html": [
       "<div>                            <div id=\"48416cc6-9f38-42d0-9650-38de3700558d\" class=\"plotly-graph-div\" style=\"height:525px; width:100%;\"></div>            <script type=\"text/javascript\">                require([\"plotly\"], function(Plotly) {                    window.PLOTLYENV=window.PLOTLYENV || {};                                    if (document.getElementById(\"48416cc6-9f38-42d0-9650-38de3700558d\")) {                    Plotly.newPlot(                        \"48416cc6-9f38-42d0-9650-38de3700558d\",                        [{\"mode\":\"lines\",\"name\":\"Train\",\"x\":[\"2021-03-07T00:00:00\",\"2021-03-14T00:00:00\",\"2021-03-21T00:00:00\",\"2021-03-28T00:00:00\",\"2021-04-04T00:00:00\",\"2021-04-11T00:00:00\",\"2021-04-18T00:00:00\",\"2021-04-25T00:00:00\",\"2021-05-02T00:00:00\",\"2021-05-09T00:00:00\",\"2021-05-16T00:00:00\",\"2021-05-23T00:00:00\",\"2021-05-30T00:00:00\",\"2021-06-06T00:00:00\",\"2021-06-13T00:00:00\",\"2021-06-20T00:00:00\",\"2021-06-27T00:00:00\",\"2021-07-04T00:00:00\",\"2021-07-11T00:00:00\",\"2021-07-18T00:00:00\",\"2021-07-25T00:00:00\",\"2021-08-01T00:00:00\",\"2021-08-08T00:00:00\",\"2021-08-15T00:00:00\",\"2021-08-22T00:00:00\",\"2021-08-29T00:00:00\",\"2021-09-05T00:00:00\",\"2021-09-12T00:00:00\",\"2021-09-19T00:00:00\",\"2021-09-26T00:00:00\",\"2021-10-03T00:00:00\",\"2021-10-10T00:00:00\",\"2021-10-17T00:00:00\",\"2021-10-24T00:00:00\",\"2021-10-31T00:00:00\",\"2021-11-07T00:00:00\",\"2021-11-14T00:00:00\",\"2021-11-21T00:00:00\",\"2021-11-28T00:00:00\",\"2021-12-05T00:00:00\",\"2021-12-12T00:00:00\",\"2021-12-19T00:00:00\",\"2021-12-26T00:00:00\",\"2022-01-02T00:00:00\",\"2022-01-09T00:00:00\",\"2022-01-16T00:00:00\",\"2022-01-23T00:00:00\",\"2022-01-30T00:00:00\",\"2022-02-06T00:00:00\",\"2022-02-13T00:00:00\",\"2022-02-20T00:00:00\",\"2022-02-27T00:00:00\",\"2022-03-06T00:00:00\",\"2022-03-13T00:00:00\",\"2022-03-20T00:00:00\",\"2022-03-27T00:00:00\",\"2022-04-03T00:00:00\",\"2022-04-10T00:00:00\",\"2022-04-17T00:00:00\",\"2022-04-24T00:00:00\",\"2022-05-01T00:00:00\",\"2022-05-08T00:00:00\",\"2022-05-15T00:00:00\",\"2022-05-22T00:00:00\",\"2022-05-29T00:00:00\",\"2022-06-05T00:00:00\",\"2022-06-12T00:00:00\",\"2022-06-19T00:00:00\",\"2022-06-26T00:00:00\",\"2022-07-03T00:00:00\",\"2022-07-10T00:00:00\",\"2022-07-17T00:00:00\",\"2022-07-24T00:00:00\",\"2022-07-31T00:00:00\",\"2022-08-07T00:00:00\",\"2022-08-14T00:00:00\"],\"y\":[27155.95,28698.05,29639.92,33834.22,49890.95,46976.75,72553.91,59804.86,62821.04,60201.77,58890.41,65883.27,72868.88,91050.3,70049.93,71821.2,74764.78,74499.56,82700.02,87403.88,93902.69,102590.59,104418.96,106765.67,105296.07,107555.55,92307.18,81485.62,80503.23,76278.72,74564.75,71568.15,70676.15,75993.28,90174.68,69867.09,65234.33,66232.44,63486.83,56164.75,54413.93,60703.51,62838.18,92832.18,66753.16,55705.39,53775.72,55267.0,48605.95,55404.22,73178.69,70478.72,61158.84,59521.83,57831.15,66849.78,66799.78,83854.31,103458.98,82578.42,73220.14,76245.74,71606.08,66308.36,74498.17,115555.67,68270.5,77556.5,81120.04,78429.52,80994.74,90259.78,98332.0,112021.47,109098.8,106518.19],\"type\":\"scatter\"},{\"mode\":\"lines\",\"name\":\"Test\",\"x\":[\"2022-08-21T00:00:00\",\"2022-08-28T00:00:00\",\"2022-09-04T00:00:00\",\"2022-09-11T00:00:00\",\"2022-09-18T00:00:00\",\"2022-09-25T00:00:00\"],\"y\":[113387.44,118277.59,103478.4,78442.65,86436.14,84465.6],\"type\":\"scatter\"},{\"mode\":\"lines\",\"name\":\"Prediction 1\",\"x\":[\"2022-08-21T00:00:00\",\"2022-08-28T00:00:00\",\"2022-09-04T00:00:00\",\"2022-09-11T00:00:00\",\"2022-09-18T00:00:00\",\"2022-09-25T00:00:00\"],\"y\":[92802.03372102515,94418.55568749431,101998.70732950681,70904.33507003679,75923.11370714912,78780.41546633645],\"type\":\"scatter\"}],                        {\"template\":{\"data\":{\"bar\":[{\"error_x\":{\"color\":\"#2a3f5f\"},\"error_y\":{\"color\":\"#2a3f5f\"},\"marker\":{\"line\":{\"color\":\"#E5ECF6\",\"width\":0.5},\"pattern\":{\"fillmode\":\"overlay\",\"size\":10,\"solidity\":0.2}},\"type\":\"bar\"}],\"barpolar\":[{\"marker\":{\"line\":{\"color\":\"#E5ECF6\",\"width\":0.5},\"pattern\":{\"fillmode\":\"overlay\",\"size\":10,\"solidity\":0.2}},\"type\":\"barpolar\"}],\"carpet\":[{\"aaxis\":{\"endlinecolor\":\"#2a3f5f\",\"gridcolor\":\"white\",\"linecolor\":\"white\",\"minorgridcolor\":\"white\",\"startlinecolor\":\"#2a3f5f\"},\"baxis\":{\"endlinecolor\":\"#2a3f5f\",\"gridcolor\":\"white\",\"linecolor\":\"white\",\"minorgridcolor\":\"white\",\"startlinecolor\":\"#2a3f5f\"},\"type\":\"carpet\"}],\"choropleth\":[{\"colorbar\":{\"outlinewidth\":0,\"ticks\":\"\"},\"type\":\"choropleth\"}],\"contour\":[{\"colorbar\":{\"outlinewidth\":0,\"ticks\":\"\"},\"colorscale\":[[0.0,\"#0d0887\"],[0.1111111111111111,\"#46039f\"],[0.2222222222222222,\"#7201a8\"],[0.3333333333333333,\"#9c179e\"],[0.4444444444444444,\"#bd3786\"],[0.5555555555555556,\"#d8576b\"],[0.6666666666666666,\"#ed7953\"],[0.7777777777777778,\"#fb9f3a\"],[0.8888888888888888,\"#fdca26\"],[1.0,\"#f0f921\"]],\"type\":\"contour\"}],\"contourcarpet\":[{\"colorbar\":{\"outlinewidth\":0,\"ticks\":\"\"},\"type\":\"contourcarpet\"}],\"heatmap\":[{\"colorbar\":{\"outlinewidth\":0,\"ticks\":\"\"},\"colorscale\":[[0.0,\"#0d0887\"],[0.1111111111111111,\"#46039f\"],[0.2222222222222222,\"#7201a8\"],[0.3333333333333333,\"#9c179e\"],[0.4444444444444444,\"#bd3786\"],[0.5555555555555556,\"#d8576b\"],[0.6666666666666666,\"#ed7953\"],[0.7777777777777778,\"#fb9f3a\"],[0.8888888888888888,\"#fdca26\"],[1.0,\"#f0f921\"]],\"type\":\"heatmap\"}],\"heatmapgl\":[{\"colorbar\":{\"outlinewidth\":0,\"ticks\":\"\"},\"colorscale\":[[0.0,\"#0d0887\"],[0.1111111111111111,\"#46039f\"],[0.2222222222222222,\"#7201a8\"],[0.3333333333333333,\"#9c179e\"],[0.4444444444444444,\"#bd3786\"],[0.5555555555555556,\"#d8576b\"],[0.6666666666666666,\"#ed7953\"],[0.7777777777777778,\"#fb9f3a\"],[0.8888888888888888,\"#fdca26\"],[1.0,\"#f0f921\"]],\"type\":\"heatmapgl\"}],\"histogram\":[{\"marker\":{\"pattern\":{\"fillmode\":\"overlay\",\"size\":10,\"solidity\":0.2}},\"type\":\"histogram\"}],\"histogram2d\":[{\"colorbar\":{\"outlinewidth\":0,\"ticks\":\"\"},\"colorscale\":[[0.0,\"#0d0887\"],[0.1111111111111111,\"#46039f\"],[0.2222222222222222,\"#7201a8\"],[0.3333333333333333,\"#9c179e\"],[0.4444444444444444,\"#bd3786\"],[0.5555555555555556,\"#d8576b\"],[0.6666666666666666,\"#ed7953\"],[0.7777777777777778,\"#fb9f3a\"],[0.8888888888888888,\"#fdca26\"],[1.0,\"#f0f921\"]],\"type\":\"histogram2d\"}],\"histogram2dcontour\":[{\"colorbar\":{\"outlinewidth\":0,\"ticks\":\"\"},\"colorscale\":[[0.0,\"#0d0887\"],[0.1111111111111111,\"#46039f\"],[0.2222222222222222,\"#7201a8\"],[0.3333333333333333,\"#9c179e\"],[0.4444444444444444,\"#bd3786\"],[0.5555555555555556,\"#d8576b\"],[0.6666666666666666,\"#ed7953\"],[0.7777777777777778,\"#fb9f3a\"],[0.8888888888888888,\"#fdca26\"],[1.0,\"#f0f921\"]],\"type\":\"histogram2dcontour\"}],\"mesh3d\":[{\"colorbar\":{\"outlinewidth\":0,\"ticks\":\"\"},\"type\":\"mesh3d\"}],\"parcoords\":[{\"line\":{\"colorbar\":{\"outlinewidth\":0,\"ticks\":\"\"}},\"type\":\"parcoords\"}],\"pie\":[{\"automargin\":true,\"type\":\"pie\"}],\"scatter\":[{\"marker\":{\"colorbar\":{\"outlinewidth\":0,\"ticks\":\"\"}},\"type\":\"scatter\"}],\"scatter3d\":[{\"line\":{\"colorbar\":{\"outlinewidth\":0,\"ticks\":\"\"}},\"marker\":{\"colorbar\":{\"outlinewidth\":0,\"ticks\":\"\"}},\"type\":\"scatter3d\"}],\"scattercarpet\":[{\"marker\":{\"colorbar\":{\"outlinewidth\":0,\"ticks\":\"\"}},\"type\":\"scattercarpet\"}],\"scattergeo\":[{\"marker\":{\"colorbar\":{\"outlinewidth\":0,\"ticks\":\"\"}},\"type\":\"scattergeo\"}],\"scattergl\":[{\"marker\":{\"colorbar\":{\"outlinewidth\":0,\"ticks\":\"\"}},\"type\":\"scattergl\"}],\"scattermapbox\":[{\"marker\":{\"colorbar\":{\"outlinewidth\":0,\"ticks\":\"\"}},\"type\":\"scattermapbox\"}],\"scatterpolar\":[{\"marker\":{\"colorbar\":{\"outlinewidth\":0,\"ticks\":\"\"}},\"type\":\"scatterpolar\"}],\"scatterpolargl\":[{\"marker\":{\"colorbar\":{\"outlinewidth\":0,\"ticks\":\"\"}},\"type\":\"scatterpolargl\"}],\"scatterternary\":[{\"marker\":{\"colorbar\":{\"outlinewidth\":0,\"ticks\":\"\"}},\"type\":\"scatterternary\"}],\"surface\":[{\"colorbar\":{\"outlinewidth\":0,\"ticks\":\"\"},\"colorscale\":[[0.0,\"#0d0887\"],[0.1111111111111111,\"#46039f\"],[0.2222222222222222,\"#7201a8\"],[0.3333333333333333,\"#9c179e\"],[0.4444444444444444,\"#bd3786\"],[0.5555555555555556,\"#d8576b\"],[0.6666666666666666,\"#ed7953\"],[0.7777777777777778,\"#fb9f3a\"],[0.8888888888888888,\"#fdca26\"],[1.0,\"#f0f921\"]],\"type\":\"surface\"}],\"table\":[{\"cells\":{\"fill\":{\"color\":\"#EBF0F8\"},\"line\":{\"color\":\"white\"}},\"header\":{\"fill\":{\"color\":\"#C8D4E3\"},\"line\":{\"color\":\"white\"}},\"type\":\"table\"}]},\"layout\":{\"annotationdefaults\":{\"arrowcolor\":\"#2a3f5f\",\"arrowhead\":0,\"arrowwidth\":1},\"autotypenumbers\":\"strict\",\"coloraxis\":{\"colorbar\":{\"outlinewidth\":0,\"ticks\":\"\"}},\"colorscale\":{\"diverging\":[[0,\"#8e0152\"],[0.1,\"#c51b7d\"],[0.2,\"#de77ae\"],[0.3,\"#f1b6da\"],[0.4,\"#fde0ef\"],[0.5,\"#f7f7f7\"],[0.6,\"#e6f5d0\"],[0.7,\"#b8e186\"],[0.8,\"#7fbc41\"],[0.9,\"#4d9221\"],[1,\"#276419\"]],\"sequential\":[[0.0,\"#0d0887\"],[0.1111111111111111,\"#46039f\"],[0.2222222222222222,\"#7201a8\"],[0.3333333333333333,\"#9c179e\"],[0.4444444444444444,\"#bd3786\"],[0.5555555555555556,\"#d8576b\"],[0.6666666666666666,\"#ed7953\"],[0.7777777777777778,\"#fb9f3a\"],[0.8888888888888888,\"#fdca26\"],[1.0,\"#f0f921\"]],\"sequentialminus\":[[0.0,\"#0d0887\"],[0.1111111111111111,\"#46039f\"],[0.2222222222222222,\"#7201a8\"],[0.3333333333333333,\"#9c179e\"],[0.4444444444444444,\"#bd3786\"],[0.5555555555555556,\"#d8576b\"],[0.6666666666666666,\"#ed7953\"],[0.7777777777777778,\"#fb9f3a\"],[0.8888888888888888,\"#fdca26\"],[1.0,\"#f0f921\"]]},\"colorway\":[\"#636efa\",\"#EF553B\",\"#00cc96\",\"#ab63fa\",\"#FFA15A\",\"#19d3f3\",\"#FF6692\",\"#B6E880\",\"#FF97FF\",\"#FECB52\"],\"font\":{\"color\":\"#2a3f5f\"},\"geo\":{\"bgcolor\":\"white\",\"lakecolor\":\"white\",\"landcolor\":\"#E5ECF6\",\"showlakes\":true,\"showland\":true,\"subunitcolor\":\"white\"},\"hoverlabel\":{\"align\":\"left\"},\"hovermode\":\"closest\",\"mapbox\":{\"style\":\"light\"},\"paper_bgcolor\":\"white\",\"plot_bgcolor\":\"#E5ECF6\",\"polar\":{\"angularaxis\":{\"gridcolor\":\"white\",\"linecolor\":\"white\",\"ticks\":\"\"},\"bgcolor\":\"#E5ECF6\",\"radialaxis\":{\"gridcolor\":\"white\",\"linecolor\":\"white\",\"ticks\":\"\"}},\"scene\":{\"xaxis\":{\"backgroundcolor\":\"#E5ECF6\",\"gridcolor\":\"white\",\"gridwidth\":2,\"linecolor\":\"white\",\"showbackground\":true,\"ticks\":\"\",\"zerolinecolor\":\"white\"},\"yaxis\":{\"backgroundcolor\":\"#E5ECF6\",\"gridcolor\":\"white\",\"gridwidth\":2,\"linecolor\":\"white\",\"showbackground\":true,\"ticks\":\"\",\"zerolinecolor\":\"white\"},\"zaxis\":{\"backgroundcolor\":\"#E5ECF6\",\"gridcolor\":\"white\",\"gridwidth\":2,\"linecolor\":\"white\",\"showbackground\":true,\"ticks\":\"\",\"zerolinecolor\":\"white\"}},\"shapedefaults\":{\"line\":{\"color\":\"#2a3f5f\"}},\"ternary\":{\"aaxis\":{\"gridcolor\":\"white\",\"linecolor\":\"white\",\"ticks\":\"\"},\"baxis\":{\"gridcolor\":\"white\",\"linecolor\":\"white\",\"ticks\":\"\"},\"bgcolor\":\"#E5ECF6\",\"caxis\":{\"gridcolor\":\"white\",\"linecolor\":\"white\",\"ticks\":\"\"}},\"title\":{\"x\":0.05},\"xaxis\":{\"automargin\":true,\"gridcolor\":\"white\",\"linecolor\":\"white\",\"ticks\":\"\",\"title\":{\"standoff\":15},\"zerolinecolor\":\"white\",\"zerolinewidth\":2},\"yaxis\":{\"automargin\":true,\"gridcolor\":\"white\",\"linecolor\":\"white\",\"ticks\":\"\",\"title\":{\"standoff\":15},\"zerolinecolor\":\"white\",\"zerolinewidth\":2}}},\"xaxis\":{\"rangeslider\":{\"visible\":true},\"title\":{\"text\":\"Date\"}},\"yaxis\":{\"title\":{\"text\":\"Total Revenue (\\u00a3)\"}},\"title\":{\"text\":\"Model 1 - Linear Regression Predicted Weekly Revenue\"}},                        {\"responsive\": true}                    ).then(function(){\n",
       "                            \n",
       "var gd = document.getElementById('48416cc6-9f38-42d0-9650-38de3700558d');\n",
       "var x = new MutationObserver(function (mutations, observer) {{\n",
       "        var display = window.getComputedStyle(gd).display;\n",
       "        if (!display || display === 'none') {{\n",
       "            console.log([gd, 'removed!']);\n",
       "            Plotly.purge(gd);\n",
       "            observer.disconnect();\n",
       "        }}\n",
       "}});\n",
       "\n",
       "// Listen for the removal of the full notebook cells\n",
       "var notebookContainer = gd.closest('#notebook-container');\n",
       "if (notebookContainer) {{\n",
       "    x.observe(notebookContainer, {childList: true});\n",
       "}}\n",
       "\n",
       "// Listen for the clearing of the current output cell\n",
       "var outputEl = gd.closest('.output');\n",
       "if (outputEl) {{\n",
       "    x.observe(outputEl, {childList: true});\n",
       "}}\n",
       "\n",
       "                        })                };                });            </script>        </div>"
      ]
     },
     "metadata": {},
     "output_type": "display_data"
    }
   ],
   "source": [
    "fig = go.Figure()\n",
    "fig.add_trace(go.Scatter(x=train.index, \n",
    "                         y=train['Total_Revenue'], mode='lines', name='Train'))\n",
    "fig.add_trace(go.Scatter(x=test.index, \n",
    "                         y=test['Total_Revenue'], mode='lines', name='Test'))\n",
    "fig.add_trace(go.Scatter(x=test.index, \n",
    "                         y=prediction_1, mode='lines', name='Prediction 1'))\n",
    "\n",
    "fig.update_xaxes(rangeslider_visible=True)\n",
    "fig.update_layout(\n",
    "    yaxis_title='Total Revenue (£)', \n",
    "    xaxis_title='Date',\n",
    "    title='Model 1 - Linear Regression Predicted Weekly Revenue'\n",
    ")\n",
    "fig.show()"
   ]
  },
  {
   "cell_type": "code",
   "execution_count": 74,
   "id": "d6aa6039",
   "metadata": {},
   "outputs": [
    {
     "name": "stdout",
     "output_type": "stream",
     "text": [
      "The RMSE for the weekly forecast is: 14111.89\n",
      "\n",
      "The MAE between the actual and weekly forecast revenue is 11610.11\n",
      "\n",
      "The MAPE between the actual and weekly forecast revenue is 11.4%\n"
     ]
    }
   ],
   "source": [
    "bakery.full_accuracy_report(test['Total_Revenue'],\n",
    "                            prediction_1, 'weekly forecast')"
   ]
  },
  {
   "cell_type": "markdown",
   "id": "0f244f6b",
   "metadata": {},
   "source": [
    "## Model 1 Evaluation\n",
    "The initial models achieved accuracies of: \n",
    "- R<sup>2</sup> value of 0.791 - which means **UPADTE**\n",
    "- RMSE of 14111.89\n",
    "- MAE score of 11610.11 - which means on average the predicted values were £11,610.11 away from the true daily revenue\n",
    "- AIC score of 1614 - This sets the baseline AIC value for other models to be compared with, better models will have a lower AIC score \n",
    "- A MAPE score of 11.4% - which means.. \n",
    "\n",
    "Looking at the p-values from the model, `3W_MA_lag` and `Closed_Xmas` had a p-values greater than the threshold of 0.05 meaning that it is not statistically significant. Therefore, for model 2 this feature will be dropped. "
   ]
  },
  {
   "cell_type": "code",
   "execution_count": 79,
   "id": "2d05b9c4",
   "metadata": {},
   "outputs": [
    {
     "data": {
      "text/html": [
       "<div>\n",
       "<style scoped>\n",
       "    .dataframe tbody tr th:only-of-type {\n",
       "        vertical-align: middle;\n",
       "    }\n",
       "\n",
       "    .dataframe tbody tr th {\n",
       "        vertical-align: top;\n",
       "    }\n",
       "\n",
       "    .dataframe thead th {\n",
       "        text-align: right;\n",
       "    }\n",
       "</style>\n",
       "<table border=\"1\" class=\"dataframe\">\n",
       "  <thead>\n",
       "    <tr style=\"text-align: right;\">\n",
       "      <th></th>\n",
       "      <th>Model</th>\n",
       "      <th>R2</th>\n",
       "      <th>RMSE</th>\n",
       "      <th>AIC</th>\n",
       "      <th>MAPE (%)</th>\n",
       "      <th>Comments</th>\n",
       "    </tr>\n",
       "  </thead>\n",
       "  <tbody>\n",
       "    <tr>\n",
       "      <th>0</th>\n",
       "      <td>1</td>\n",
       "      <td>0.791</td>\n",
       "      <td>14111.89</td>\n",
       "      <td>1614</td>\n",
       "      <td>11.4%</td>\n",
       "      <td>All initial variables</td>\n",
       "    </tr>\n",
       "  </tbody>\n",
       "</table>\n",
       "</div>"
      ],
      "text/plain": [
       "   Model     R2      RMSE   AIC MAPE (%)               Comments\n",
       "0      1  0.791  14111.89  1614    11.4%  All initial variables"
      ]
     },
     "metadata": {},
     "output_type": "display_data"
    }
   ],
   "source": [
    "# To add the scores to the results table \n",
    "model_scores = bakery.add_results(model_scores, 1, 0.791, 14111.89, 1614, '11.4%', 'All initial variables')"
   ]
  },
  {
   "cell_type": "markdown",
   "id": "93f61b77",
   "metadata": {},
   "source": [
    "# Model 2 - Dropping Variables with P-Values Greater than 0.05\n",
    "Dropping all with p-value greater than 0.05: `Closed_Xmas`, `3W_MA_lag`. "
   ]
  },
  {
   "cell_type": "code",
   "execution_count": 76,
   "id": "02a6fded",
   "metadata": {},
   "outputs": [],
   "source": [
    "independent_variables_2 = independent_variables.drop(columns=['Closed_Xmas', '3W_MA_lag']).copy()"
   ]
  },
  {
   "cell_type": "code",
   "execution_count": 77,
   "id": "0fe9fc4f",
   "metadata": {},
   "outputs": [
    {
     "data": {
      "text/html": [
       "<table class=\"simpletable\">\n",
       "<caption>OLS Regression Results</caption>\n",
       "<tr>\n",
       "  <th>Dep. Variable:</th>      <td>Total_Revenue</td>  <th>  R-squared:         </th> <td>   0.779</td>\n",
       "</tr>\n",
       "<tr>\n",
       "  <th>Model:</th>                   <td>OLS</td>       <th>  Adj. R-squared:    </th> <td>   0.763</td>\n",
       "</tr>\n",
       "<tr>\n",
       "  <th>Method:</th>             <td>Least Squares</td>  <th>  F-statistic:       </th> <td>   49.29</td>\n",
       "</tr>\n",
       "<tr>\n",
       "  <th>Date:</th>             <td>Tue, 25 Oct 2022</td> <th>  Prob (F-statistic):</th> <td>1.33e-21</td>\n",
       "</tr>\n",
       "<tr>\n",
       "  <th>Time:</th>                 <td>22:24:05</td>     <th>  Log-Likelihood:    </th> <td> -800.92</td>\n",
       "</tr>\n",
       "<tr>\n",
       "  <th>No. Observations:</th>      <td>    76</td>      <th>  AIC:               </th> <td>   1614.</td>\n",
       "</tr>\n",
       "<tr>\n",
       "  <th>Df Residuals:</th>          <td>    70</td>      <th>  BIC:               </th> <td>   1628.</td>\n",
       "</tr>\n",
       "<tr>\n",
       "  <th>Df Model:</th>              <td>     5</td>      <th>                     </th>     <td> </td>   \n",
       "</tr>\n",
       "<tr>\n",
       "  <th>Covariance Type:</th>      <td>nonrobust</td>    <th>                     </th>     <td> </td>   \n",
       "</tr>\n",
       "</table>\n",
       "<table class=\"simpletable\">\n",
       "<tr>\n",
       "        <td></td>          <th>coef</th>     <th>std err</th>      <th>t</th>      <th>P>|t|</th>  <th>[0.025</th>    <th>0.975]</th>  \n",
       "</tr>\n",
       "<tr>\n",
       "  <th>const</th>        <td> 7.284e+04</td> <td> 4810.860</td> <td>   15.140</td> <td> 0.000</td> <td> 6.32e+04</td> <td> 8.24e+04</td>\n",
       "</tr>\n",
       "<tr>\n",
       "  <th>Bank_Holiday</th> <td> 7514.4611</td> <td> 2835.776</td> <td>    2.650</td> <td> 0.010</td> <td> 1858.684</td> <td> 1.32e+04</td>\n",
       "</tr>\n",
       "<tr>\n",
       "  <th>Weekday</th>      <td>-1958.7135</td> <td>  901.366</td> <td>   -2.173</td> <td> 0.033</td> <td>-3756.432</td> <td> -160.995</td>\n",
       "</tr>\n",
       "<tr>\n",
       "  <th>Weekend</th>      <td>-6244.8925</td> <td> 1835.291</td> <td>   -3.403</td> <td> 0.001</td> <td>-9905.265</td> <td>-2584.520</td>\n",
       "</tr>\n",
       "<tr>\n",
       "  <th>7W_MA_lag</th>    <td>    1.0735</td> <td>    0.090</td> <td>   11.881</td> <td> 0.000</td> <td>    0.893</td> <td>    1.254</td>\n",
       "</tr>\n",
       "<tr>\n",
       "  <th>20W_MA_lag</th>   <td>   -0.8906</td> <td>    0.102</td> <td>   -8.753</td> <td> 0.000</td> <td>   -1.094</td> <td>   -0.688</td>\n",
       "</tr>\n",
       "</table>\n",
       "<table class=\"simpletable\">\n",
       "<tr>\n",
       "  <th>Omnibus:</th>       <td> 0.558</td> <th>  Durbin-Watson:     </th> <td>   0.717</td>\n",
       "</tr>\n",
       "<tr>\n",
       "  <th>Prob(Omnibus):</th> <td> 0.757</td> <th>  Jarque-Bera (JB):  </th> <td>   0.559</td>\n",
       "</tr>\n",
       "<tr>\n",
       "  <th>Skew:</th>          <td>-0.195</td> <th>  Prob(JB):          </th> <td>   0.756</td>\n",
       "</tr>\n",
       "<tr>\n",
       "  <th>Kurtosis:</th>      <td> 2.845</td> <th>  Cond. No.          </th> <td>4.31e+05</td>\n",
       "</tr>\n",
       "</table><br/><br/>Notes:<br/>[1] Standard Errors assume that the covariance matrix of the errors is correctly specified.<br/>[2] The condition number is large, 4.31e+05. This might indicate that there are<br/>strong multicollinearity or other numerical problems."
      ],
      "text/plain": [
       "<class 'statsmodels.iolib.summary.Summary'>\n",
       "\"\"\"\n",
       "                            OLS Regression Results                            \n",
       "==============================================================================\n",
       "Dep. Variable:          Total_Revenue   R-squared:                       0.779\n",
       "Model:                            OLS   Adj. R-squared:                  0.763\n",
       "Method:                 Least Squares   F-statistic:                     49.29\n",
       "Date:                Tue, 25 Oct 2022   Prob (F-statistic):           1.33e-21\n",
       "Time:                        22:24:05   Log-Likelihood:                -800.92\n",
       "No. Observations:                  76   AIC:                             1614.\n",
       "Df Residuals:                      70   BIC:                             1628.\n",
       "Df Model:                           5                                         \n",
       "Covariance Type:            nonrobust                                         \n",
       "================================================================================\n",
       "                   coef    std err          t      P>|t|      [0.025      0.975]\n",
       "--------------------------------------------------------------------------------\n",
       "const         7.284e+04   4810.860     15.140      0.000    6.32e+04    8.24e+04\n",
       "Bank_Holiday  7514.4611   2835.776      2.650      0.010    1858.684    1.32e+04\n",
       "Weekday      -1958.7135    901.366     -2.173      0.033   -3756.432    -160.995\n",
       "Weekend      -6244.8925   1835.291     -3.403      0.001   -9905.265   -2584.520\n",
       "7W_MA_lag        1.0735      0.090     11.881      0.000       0.893       1.254\n",
       "20W_MA_lag      -0.8906      0.102     -8.753      0.000      -1.094      -0.688\n",
       "==============================================================================\n",
       "Omnibus:                        0.558   Durbin-Watson:                   0.717\n",
       "Prob(Omnibus):                  0.757   Jarque-Bera (JB):                0.559\n",
       "Skew:                          -0.195   Prob(JB):                        0.756\n",
       "Kurtosis:                       2.845   Cond. No.                     4.31e+05\n",
       "==============================================================================\n",
       "\n",
       "Notes:\n",
       "[1] Standard Errors assume that the covariance matrix of the errors is correctly specified.\n",
       "[2] The condition number is large, 4.31e+05. This might indicate that there are\n",
       "strong multicollinearity or other numerical problems.\n",
       "\"\"\""
      ]
     },
     "execution_count": 77,
     "metadata": {},
     "output_type": "execute_result"
    }
   ],
   "source": [
    "y = train['Total_Revenue']\n",
    "\n",
    "# First the X and y values need to splitted: \n",
    "X = independent_variables_2\n",
    "\n",
    "# Then the X_ constant needs to be added to give the intercept value\n",
    "X_withconstant = sm.add_constant(X)\n",
    "\n",
    "# The model is then instantiated using the sm.OLS method\n",
    "lm_revenue = sm.OLS(y,X_withconstant)\n",
    "\n",
    "# The model is fitted using the .fit() method\n",
    "lm_revenue_results = lm_revenue.fit()\n",
    "\n",
    "# The results are displayed using the .summary() method\n",
    "lm_revenue_results.summary()"
   ]
  },
  {
   "cell_type": "code",
   "execution_count": 80,
   "id": "b424ed9e",
   "metadata": {},
   "outputs": [],
   "source": [
    "X_test = test.drop(columns=['Total_Revenue', '3W_MA', '7W_MA', '20W_MA', 'Closed_Xmas', '3W_MA_lag']).copy()"
   ]
  },
  {
   "cell_type": "code",
   "execution_count": 81,
   "id": "299d3035",
   "metadata": {},
   "outputs": [],
   "source": [
    "X_test_withconstant = sm.add_constant(X_test)"
   ]
  },
  {
   "cell_type": "code",
   "execution_count": 82,
   "id": "52b5aef7",
   "metadata": {},
   "outputs": [
    {
     "data": {
      "text/plain": [
       "2022-08-21     91814.855642\n",
       "2022-08-28     93719.150069\n",
       "2022-09-04    102770.002427\n",
       "2022-09-11     68675.459630\n",
       "2022-09-18     73047.419112\n",
       "2022-09-25     75601.901660\n",
       "Freq: W-SUN, dtype: float64"
      ]
     },
     "execution_count": 82,
     "metadata": {},
     "output_type": "execute_result"
    }
   ],
   "source": [
    "# Predictions\n",
    "prediction_2 = lm_revenue_results.predict(X_test_withconstant)\n",
    "prediction_2"
   ]
  },
  {
   "cell_type": "code",
   "execution_count": 84,
   "id": "75a37cea",
   "metadata": {},
   "outputs": [
    {
     "data": {
      "application/vnd.plotly.v1+json": {
       "config": {
        "plotlyServerURL": "https://plot.ly"
       },
       "data": [
        {
         "mode": "lines",
         "name": "Train",
         "type": "scatter",
         "x": [
          "2021-03-07T00:00:00",
          "2021-03-14T00:00:00",
          "2021-03-21T00:00:00",
          "2021-03-28T00:00:00",
          "2021-04-04T00:00:00",
          "2021-04-11T00:00:00",
          "2021-04-18T00:00:00",
          "2021-04-25T00:00:00",
          "2021-05-02T00:00:00",
          "2021-05-09T00:00:00",
          "2021-05-16T00:00:00",
          "2021-05-23T00:00:00",
          "2021-05-30T00:00:00",
          "2021-06-06T00:00:00",
          "2021-06-13T00:00:00",
          "2021-06-20T00:00:00",
          "2021-06-27T00:00:00",
          "2021-07-04T00:00:00",
          "2021-07-11T00:00:00",
          "2021-07-18T00:00:00",
          "2021-07-25T00:00:00",
          "2021-08-01T00:00:00",
          "2021-08-08T00:00:00",
          "2021-08-15T00:00:00",
          "2021-08-22T00:00:00",
          "2021-08-29T00:00:00",
          "2021-09-05T00:00:00",
          "2021-09-12T00:00:00",
          "2021-09-19T00:00:00",
          "2021-09-26T00:00:00",
          "2021-10-03T00:00:00",
          "2021-10-10T00:00:00",
          "2021-10-17T00:00:00",
          "2021-10-24T00:00:00",
          "2021-10-31T00:00:00",
          "2021-11-07T00:00:00",
          "2021-11-14T00:00:00",
          "2021-11-21T00:00:00",
          "2021-11-28T00:00:00",
          "2021-12-05T00:00:00",
          "2021-12-12T00:00:00",
          "2021-12-19T00:00:00",
          "2021-12-26T00:00:00",
          "2022-01-02T00:00:00",
          "2022-01-09T00:00:00",
          "2022-01-16T00:00:00",
          "2022-01-23T00:00:00",
          "2022-01-30T00:00:00",
          "2022-02-06T00:00:00",
          "2022-02-13T00:00:00",
          "2022-02-20T00:00:00",
          "2022-02-27T00:00:00",
          "2022-03-06T00:00:00",
          "2022-03-13T00:00:00",
          "2022-03-20T00:00:00",
          "2022-03-27T00:00:00",
          "2022-04-03T00:00:00",
          "2022-04-10T00:00:00",
          "2022-04-17T00:00:00",
          "2022-04-24T00:00:00",
          "2022-05-01T00:00:00",
          "2022-05-08T00:00:00",
          "2022-05-15T00:00:00",
          "2022-05-22T00:00:00",
          "2022-05-29T00:00:00",
          "2022-06-05T00:00:00",
          "2022-06-12T00:00:00",
          "2022-06-19T00:00:00",
          "2022-06-26T00:00:00",
          "2022-07-03T00:00:00",
          "2022-07-10T00:00:00",
          "2022-07-17T00:00:00",
          "2022-07-24T00:00:00",
          "2022-07-31T00:00:00",
          "2022-08-07T00:00:00",
          "2022-08-14T00:00:00"
         ],
         "y": [
          27155.95,
          28698.05,
          29639.92,
          33834.22,
          49890.95,
          46976.75,
          72553.91,
          59804.86,
          62821.04,
          60201.77,
          58890.41,
          65883.27,
          72868.88,
          91050.3,
          70049.93,
          71821.2,
          74764.78,
          74499.56,
          82700.02,
          87403.88,
          93902.69,
          102590.59,
          104418.96,
          106765.67,
          105296.07,
          107555.55,
          92307.18,
          81485.62,
          80503.23,
          76278.72,
          74564.75,
          71568.15,
          70676.15,
          75993.28,
          90174.68,
          69867.09,
          65234.33,
          66232.44,
          63486.83,
          56164.75,
          54413.93,
          60703.51,
          62838.18,
          92832.18,
          66753.16,
          55705.39,
          53775.72,
          55267,
          48605.95,
          55404.22,
          73178.69,
          70478.72,
          61158.84,
          59521.83,
          57831.15,
          66849.78,
          66799.78,
          83854.31,
          103458.98,
          82578.42,
          73220.14,
          76245.74,
          71606.08,
          66308.36,
          74498.17,
          115555.67,
          68270.5,
          77556.5,
          81120.04,
          78429.52,
          80994.74,
          90259.78,
          98332,
          112021.47,
          109098.8,
          106518.19
         ]
        },
        {
         "mode": "lines",
         "name": "Test",
         "type": "scatter",
         "x": [
          "2022-08-21T00:00:00",
          "2022-08-28T00:00:00",
          "2022-09-04T00:00:00",
          "2022-09-11T00:00:00",
          "2022-09-18T00:00:00",
          "2022-09-25T00:00:00"
         ],
         "y": [
          113387.44,
          118277.59,
          103478.4,
          78442.65,
          86436.14,
          84465.6
         ]
        },
        {
         "mode": "lines",
         "name": "Prediction 2",
         "type": "scatter",
         "x": [
          "2022-08-21T00:00:00",
          "2022-08-28T00:00:00",
          "2022-09-04T00:00:00",
          "2022-09-11T00:00:00",
          "2022-09-18T00:00:00",
          "2022-09-25T00:00:00"
         ],
         "y": [
          91814.85564162931,
          93719.15006882079,
          102770.0024267221,
          68675.4596296182,
          73047.41911170555,
          75601.90165967293
         ]
        }
       ],
       "layout": {
        "template": {
         "data": {
          "bar": [
           {
            "error_x": {
             "color": "#2a3f5f"
            },
            "error_y": {
             "color": "#2a3f5f"
            },
            "marker": {
             "line": {
              "color": "#E5ECF6",
              "width": 0.5
             },
             "pattern": {
              "fillmode": "overlay",
              "size": 10,
              "solidity": 0.2
             }
            },
            "type": "bar"
           }
          ],
          "barpolar": [
           {
            "marker": {
             "line": {
              "color": "#E5ECF6",
              "width": 0.5
             },
             "pattern": {
              "fillmode": "overlay",
              "size": 10,
              "solidity": 0.2
             }
            },
            "type": "barpolar"
           }
          ],
          "carpet": [
           {
            "aaxis": {
             "endlinecolor": "#2a3f5f",
             "gridcolor": "white",
             "linecolor": "white",
             "minorgridcolor": "white",
             "startlinecolor": "#2a3f5f"
            },
            "baxis": {
             "endlinecolor": "#2a3f5f",
             "gridcolor": "white",
             "linecolor": "white",
             "minorgridcolor": "white",
             "startlinecolor": "#2a3f5f"
            },
            "type": "carpet"
           }
          ],
          "choropleth": [
           {
            "colorbar": {
             "outlinewidth": 0,
             "ticks": ""
            },
            "type": "choropleth"
           }
          ],
          "contour": [
           {
            "colorbar": {
             "outlinewidth": 0,
             "ticks": ""
            },
            "colorscale": [
             [
              0,
              "#0d0887"
             ],
             [
              0.1111111111111111,
              "#46039f"
             ],
             [
              0.2222222222222222,
              "#7201a8"
             ],
             [
              0.3333333333333333,
              "#9c179e"
             ],
             [
              0.4444444444444444,
              "#bd3786"
             ],
             [
              0.5555555555555556,
              "#d8576b"
             ],
             [
              0.6666666666666666,
              "#ed7953"
             ],
             [
              0.7777777777777778,
              "#fb9f3a"
             ],
             [
              0.8888888888888888,
              "#fdca26"
             ],
             [
              1,
              "#f0f921"
             ]
            ],
            "type": "contour"
           }
          ],
          "contourcarpet": [
           {
            "colorbar": {
             "outlinewidth": 0,
             "ticks": ""
            },
            "type": "contourcarpet"
           }
          ],
          "heatmap": [
           {
            "colorbar": {
             "outlinewidth": 0,
             "ticks": ""
            },
            "colorscale": [
             [
              0,
              "#0d0887"
             ],
             [
              0.1111111111111111,
              "#46039f"
             ],
             [
              0.2222222222222222,
              "#7201a8"
             ],
             [
              0.3333333333333333,
              "#9c179e"
             ],
             [
              0.4444444444444444,
              "#bd3786"
             ],
             [
              0.5555555555555556,
              "#d8576b"
             ],
             [
              0.6666666666666666,
              "#ed7953"
             ],
             [
              0.7777777777777778,
              "#fb9f3a"
             ],
             [
              0.8888888888888888,
              "#fdca26"
             ],
             [
              1,
              "#f0f921"
             ]
            ],
            "type": "heatmap"
           }
          ],
          "heatmapgl": [
           {
            "colorbar": {
             "outlinewidth": 0,
             "ticks": ""
            },
            "colorscale": [
             [
              0,
              "#0d0887"
             ],
             [
              0.1111111111111111,
              "#46039f"
             ],
             [
              0.2222222222222222,
              "#7201a8"
             ],
             [
              0.3333333333333333,
              "#9c179e"
             ],
             [
              0.4444444444444444,
              "#bd3786"
             ],
             [
              0.5555555555555556,
              "#d8576b"
             ],
             [
              0.6666666666666666,
              "#ed7953"
             ],
             [
              0.7777777777777778,
              "#fb9f3a"
             ],
             [
              0.8888888888888888,
              "#fdca26"
             ],
             [
              1,
              "#f0f921"
             ]
            ],
            "type": "heatmapgl"
           }
          ],
          "histogram": [
           {
            "marker": {
             "pattern": {
              "fillmode": "overlay",
              "size": 10,
              "solidity": 0.2
             }
            },
            "type": "histogram"
           }
          ],
          "histogram2d": [
           {
            "colorbar": {
             "outlinewidth": 0,
             "ticks": ""
            },
            "colorscale": [
             [
              0,
              "#0d0887"
             ],
             [
              0.1111111111111111,
              "#46039f"
             ],
             [
              0.2222222222222222,
              "#7201a8"
             ],
             [
              0.3333333333333333,
              "#9c179e"
             ],
             [
              0.4444444444444444,
              "#bd3786"
             ],
             [
              0.5555555555555556,
              "#d8576b"
             ],
             [
              0.6666666666666666,
              "#ed7953"
             ],
             [
              0.7777777777777778,
              "#fb9f3a"
             ],
             [
              0.8888888888888888,
              "#fdca26"
             ],
             [
              1,
              "#f0f921"
             ]
            ],
            "type": "histogram2d"
           }
          ],
          "histogram2dcontour": [
           {
            "colorbar": {
             "outlinewidth": 0,
             "ticks": ""
            },
            "colorscale": [
             [
              0,
              "#0d0887"
             ],
             [
              0.1111111111111111,
              "#46039f"
             ],
             [
              0.2222222222222222,
              "#7201a8"
             ],
             [
              0.3333333333333333,
              "#9c179e"
             ],
             [
              0.4444444444444444,
              "#bd3786"
             ],
             [
              0.5555555555555556,
              "#d8576b"
             ],
             [
              0.6666666666666666,
              "#ed7953"
             ],
             [
              0.7777777777777778,
              "#fb9f3a"
             ],
             [
              0.8888888888888888,
              "#fdca26"
             ],
             [
              1,
              "#f0f921"
             ]
            ],
            "type": "histogram2dcontour"
           }
          ],
          "mesh3d": [
           {
            "colorbar": {
             "outlinewidth": 0,
             "ticks": ""
            },
            "type": "mesh3d"
           }
          ],
          "parcoords": [
           {
            "line": {
             "colorbar": {
              "outlinewidth": 0,
              "ticks": ""
             }
            },
            "type": "parcoords"
           }
          ],
          "pie": [
           {
            "automargin": true,
            "type": "pie"
           }
          ],
          "scatter": [
           {
            "marker": {
             "colorbar": {
              "outlinewidth": 0,
              "ticks": ""
             }
            },
            "type": "scatter"
           }
          ],
          "scatter3d": [
           {
            "line": {
             "colorbar": {
              "outlinewidth": 0,
              "ticks": ""
             }
            },
            "marker": {
             "colorbar": {
              "outlinewidth": 0,
              "ticks": ""
             }
            },
            "type": "scatter3d"
           }
          ],
          "scattercarpet": [
           {
            "marker": {
             "colorbar": {
              "outlinewidth": 0,
              "ticks": ""
             }
            },
            "type": "scattercarpet"
           }
          ],
          "scattergeo": [
           {
            "marker": {
             "colorbar": {
              "outlinewidth": 0,
              "ticks": ""
             }
            },
            "type": "scattergeo"
           }
          ],
          "scattergl": [
           {
            "marker": {
             "colorbar": {
              "outlinewidth": 0,
              "ticks": ""
             }
            },
            "type": "scattergl"
           }
          ],
          "scattermapbox": [
           {
            "marker": {
             "colorbar": {
              "outlinewidth": 0,
              "ticks": ""
             }
            },
            "type": "scattermapbox"
           }
          ],
          "scatterpolar": [
           {
            "marker": {
             "colorbar": {
              "outlinewidth": 0,
              "ticks": ""
             }
            },
            "type": "scatterpolar"
           }
          ],
          "scatterpolargl": [
           {
            "marker": {
             "colorbar": {
              "outlinewidth": 0,
              "ticks": ""
             }
            },
            "type": "scatterpolargl"
           }
          ],
          "scatterternary": [
           {
            "marker": {
             "colorbar": {
              "outlinewidth": 0,
              "ticks": ""
             }
            },
            "type": "scatterternary"
           }
          ],
          "surface": [
           {
            "colorbar": {
             "outlinewidth": 0,
             "ticks": ""
            },
            "colorscale": [
             [
              0,
              "#0d0887"
             ],
             [
              0.1111111111111111,
              "#46039f"
             ],
             [
              0.2222222222222222,
              "#7201a8"
             ],
             [
              0.3333333333333333,
              "#9c179e"
             ],
             [
              0.4444444444444444,
              "#bd3786"
             ],
             [
              0.5555555555555556,
              "#d8576b"
             ],
             [
              0.6666666666666666,
              "#ed7953"
             ],
             [
              0.7777777777777778,
              "#fb9f3a"
             ],
             [
              0.8888888888888888,
              "#fdca26"
             ],
             [
              1,
              "#f0f921"
             ]
            ],
            "type": "surface"
           }
          ],
          "table": [
           {
            "cells": {
             "fill": {
              "color": "#EBF0F8"
             },
             "line": {
              "color": "white"
             }
            },
            "header": {
             "fill": {
              "color": "#C8D4E3"
             },
             "line": {
              "color": "white"
             }
            },
            "type": "table"
           }
          ]
         },
         "layout": {
          "annotationdefaults": {
           "arrowcolor": "#2a3f5f",
           "arrowhead": 0,
           "arrowwidth": 1
          },
          "autotypenumbers": "strict",
          "coloraxis": {
           "colorbar": {
            "outlinewidth": 0,
            "ticks": ""
           }
          },
          "colorscale": {
           "diverging": [
            [
             0,
             "#8e0152"
            ],
            [
             0.1,
             "#c51b7d"
            ],
            [
             0.2,
             "#de77ae"
            ],
            [
             0.3,
             "#f1b6da"
            ],
            [
             0.4,
             "#fde0ef"
            ],
            [
             0.5,
             "#f7f7f7"
            ],
            [
             0.6,
             "#e6f5d0"
            ],
            [
             0.7,
             "#b8e186"
            ],
            [
             0.8,
             "#7fbc41"
            ],
            [
             0.9,
             "#4d9221"
            ],
            [
             1,
             "#276419"
            ]
           ],
           "sequential": [
            [
             0,
             "#0d0887"
            ],
            [
             0.1111111111111111,
             "#46039f"
            ],
            [
             0.2222222222222222,
             "#7201a8"
            ],
            [
             0.3333333333333333,
             "#9c179e"
            ],
            [
             0.4444444444444444,
             "#bd3786"
            ],
            [
             0.5555555555555556,
             "#d8576b"
            ],
            [
             0.6666666666666666,
             "#ed7953"
            ],
            [
             0.7777777777777778,
             "#fb9f3a"
            ],
            [
             0.8888888888888888,
             "#fdca26"
            ],
            [
             1,
             "#f0f921"
            ]
           ],
           "sequentialminus": [
            [
             0,
             "#0d0887"
            ],
            [
             0.1111111111111111,
             "#46039f"
            ],
            [
             0.2222222222222222,
             "#7201a8"
            ],
            [
             0.3333333333333333,
             "#9c179e"
            ],
            [
             0.4444444444444444,
             "#bd3786"
            ],
            [
             0.5555555555555556,
             "#d8576b"
            ],
            [
             0.6666666666666666,
             "#ed7953"
            ],
            [
             0.7777777777777778,
             "#fb9f3a"
            ],
            [
             0.8888888888888888,
             "#fdca26"
            ],
            [
             1,
             "#f0f921"
            ]
           ]
          },
          "colorway": [
           "#636efa",
           "#EF553B",
           "#00cc96",
           "#ab63fa",
           "#FFA15A",
           "#19d3f3",
           "#FF6692",
           "#B6E880",
           "#FF97FF",
           "#FECB52"
          ],
          "font": {
           "color": "#2a3f5f"
          },
          "geo": {
           "bgcolor": "white",
           "lakecolor": "white",
           "landcolor": "#E5ECF6",
           "showlakes": true,
           "showland": true,
           "subunitcolor": "white"
          },
          "hoverlabel": {
           "align": "left"
          },
          "hovermode": "closest",
          "mapbox": {
           "style": "light"
          },
          "paper_bgcolor": "white",
          "plot_bgcolor": "#E5ECF6",
          "polar": {
           "angularaxis": {
            "gridcolor": "white",
            "linecolor": "white",
            "ticks": ""
           },
           "bgcolor": "#E5ECF6",
           "radialaxis": {
            "gridcolor": "white",
            "linecolor": "white",
            "ticks": ""
           }
          },
          "scene": {
           "xaxis": {
            "backgroundcolor": "#E5ECF6",
            "gridcolor": "white",
            "gridwidth": 2,
            "linecolor": "white",
            "showbackground": true,
            "ticks": "",
            "zerolinecolor": "white"
           },
           "yaxis": {
            "backgroundcolor": "#E5ECF6",
            "gridcolor": "white",
            "gridwidth": 2,
            "linecolor": "white",
            "showbackground": true,
            "ticks": "",
            "zerolinecolor": "white"
           },
           "zaxis": {
            "backgroundcolor": "#E5ECF6",
            "gridcolor": "white",
            "gridwidth": 2,
            "linecolor": "white",
            "showbackground": true,
            "ticks": "",
            "zerolinecolor": "white"
           }
          },
          "shapedefaults": {
           "line": {
            "color": "#2a3f5f"
           }
          },
          "ternary": {
           "aaxis": {
            "gridcolor": "white",
            "linecolor": "white",
            "ticks": ""
           },
           "baxis": {
            "gridcolor": "white",
            "linecolor": "white",
            "ticks": ""
           },
           "bgcolor": "#E5ECF6",
           "caxis": {
            "gridcolor": "white",
            "linecolor": "white",
            "ticks": ""
           }
          },
          "title": {
           "x": 0.05
          },
          "xaxis": {
           "automargin": true,
           "gridcolor": "white",
           "linecolor": "white",
           "ticks": "",
           "title": {
            "standoff": 15
           },
           "zerolinecolor": "white",
           "zerolinewidth": 2
          },
          "yaxis": {
           "automargin": true,
           "gridcolor": "white",
           "linecolor": "white",
           "ticks": "",
           "title": {
            "standoff": 15
           },
           "zerolinecolor": "white",
           "zerolinewidth": 2
          }
         }
        },
        "title": {
         "text": "Model 2 - Linear Regression Predicted Weekly Revenue"
        },
        "xaxis": {
         "rangeslider": {
          "visible": true
         },
         "title": {
          "text": "Date"
         }
        },
        "yaxis": {
         "title": {
          "text": "Total Revenue (£)"
         }
        }
       }
      },
      "text/html": [
       "<div>                            <div id=\"20ac3313-4083-4fa2-b94f-2a2318ca0d08\" class=\"plotly-graph-div\" style=\"height:525px; width:100%;\"></div>            <script type=\"text/javascript\">                require([\"plotly\"], function(Plotly) {                    window.PLOTLYENV=window.PLOTLYENV || {};                                    if (document.getElementById(\"20ac3313-4083-4fa2-b94f-2a2318ca0d08\")) {                    Plotly.newPlot(                        \"20ac3313-4083-4fa2-b94f-2a2318ca0d08\",                        [{\"mode\":\"lines\",\"name\":\"Train\",\"x\":[\"2021-03-07T00:00:00\",\"2021-03-14T00:00:00\",\"2021-03-21T00:00:00\",\"2021-03-28T00:00:00\",\"2021-04-04T00:00:00\",\"2021-04-11T00:00:00\",\"2021-04-18T00:00:00\",\"2021-04-25T00:00:00\",\"2021-05-02T00:00:00\",\"2021-05-09T00:00:00\",\"2021-05-16T00:00:00\",\"2021-05-23T00:00:00\",\"2021-05-30T00:00:00\",\"2021-06-06T00:00:00\",\"2021-06-13T00:00:00\",\"2021-06-20T00:00:00\",\"2021-06-27T00:00:00\",\"2021-07-04T00:00:00\",\"2021-07-11T00:00:00\",\"2021-07-18T00:00:00\",\"2021-07-25T00:00:00\",\"2021-08-01T00:00:00\",\"2021-08-08T00:00:00\",\"2021-08-15T00:00:00\",\"2021-08-22T00:00:00\",\"2021-08-29T00:00:00\",\"2021-09-05T00:00:00\",\"2021-09-12T00:00:00\",\"2021-09-19T00:00:00\",\"2021-09-26T00:00:00\",\"2021-10-03T00:00:00\",\"2021-10-10T00:00:00\",\"2021-10-17T00:00:00\",\"2021-10-24T00:00:00\",\"2021-10-31T00:00:00\",\"2021-11-07T00:00:00\",\"2021-11-14T00:00:00\",\"2021-11-21T00:00:00\",\"2021-11-28T00:00:00\",\"2021-12-05T00:00:00\",\"2021-12-12T00:00:00\",\"2021-12-19T00:00:00\",\"2021-12-26T00:00:00\",\"2022-01-02T00:00:00\",\"2022-01-09T00:00:00\",\"2022-01-16T00:00:00\",\"2022-01-23T00:00:00\",\"2022-01-30T00:00:00\",\"2022-02-06T00:00:00\",\"2022-02-13T00:00:00\",\"2022-02-20T00:00:00\",\"2022-02-27T00:00:00\",\"2022-03-06T00:00:00\",\"2022-03-13T00:00:00\",\"2022-03-20T00:00:00\",\"2022-03-27T00:00:00\",\"2022-04-03T00:00:00\",\"2022-04-10T00:00:00\",\"2022-04-17T00:00:00\",\"2022-04-24T00:00:00\",\"2022-05-01T00:00:00\",\"2022-05-08T00:00:00\",\"2022-05-15T00:00:00\",\"2022-05-22T00:00:00\",\"2022-05-29T00:00:00\",\"2022-06-05T00:00:00\",\"2022-06-12T00:00:00\",\"2022-06-19T00:00:00\",\"2022-06-26T00:00:00\",\"2022-07-03T00:00:00\",\"2022-07-10T00:00:00\",\"2022-07-17T00:00:00\",\"2022-07-24T00:00:00\",\"2022-07-31T00:00:00\",\"2022-08-07T00:00:00\",\"2022-08-14T00:00:00\"],\"y\":[27155.95,28698.05,29639.92,33834.22,49890.95,46976.75,72553.91,59804.86,62821.04,60201.77,58890.41,65883.27,72868.88,91050.3,70049.93,71821.2,74764.78,74499.56,82700.02,87403.88,93902.69,102590.59,104418.96,106765.67,105296.07,107555.55,92307.18,81485.62,80503.23,76278.72,74564.75,71568.15,70676.15,75993.28,90174.68,69867.09,65234.33,66232.44,63486.83,56164.75,54413.93,60703.51,62838.18,92832.18,66753.16,55705.39,53775.72,55267.0,48605.95,55404.22,73178.69,70478.72,61158.84,59521.83,57831.15,66849.78,66799.78,83854.31,103458.98,82578.42,73220.14,76245.74,71606.08,66308.36,74498.17,115555.67,68270.5,77556.5,81120.04,78429.52,80994.74,90259.78,98332.0,112021.47,109098.8,106518.19],\"type\":\"scatter\"},{\"mode\":\"lines\",\"name\":\"Test\",\"x\":[\"2022-08-21T00:00:00\",\"2022-08-28T00:00:00\",\"2022-09-04T00:00:00\",\"2022-09-11T00:00:00\",\"2022-09-18T00:00:00\",\"2022-09-25T00:00:00\"],\"y\":[113387.44,118277.59,103478.4,78442.65,86436.14,84465.6],\"type\":\"scatter\"},{\"mode\":\"lines\",\"name\":\"Prediction 2\",\"x\":[\"2022-08-21T00:00:00\",\"2022-08-28T00:00:00\",\"2022-09-04T00:00:00\",\"2022-09-11T00:00:00\",\"2022-09-18T00:00:00\",\"2022-09-25T00:00:00\"],\"y\":[91814.85564162931,93719.15006882079,102770.0024267221,68675.4596296182,73047.41911170555,75601.90165967293],\"type\":\"scatter\"}],                        {\"template\":{\"data\":{\"bar\":[{\"error_x\":{\"color\":\"#2a3f5f\"},\"error_y\":{\"color\":\"#2a3f5f\"},\"marker\":{\"line\":{\"color\":\"#E5ECF6\",\"width\":0.5},\"pattern\":{\"fillmode\":\"overlay\",\"size\":10,\"solidity\":0.2}},\"type\":\"bar\"}],\"barpolar\":[{\"marker\":{\"line\":{\"color\":\"#E5ECF6\",\"width\":0.5},\"pattern\":{\"fillmode\":\"overlay\",\"size\":10,\"solidity\":0.2}},\"type\":\"barpolar\"}],\"carpet\":[{\"aaxis\":{\"endlinecolor\":\"#2a3f5f\",\"gridcolor\":\"white\",\"linecolor\":\"white\",\"minorgridcolor\":\"white\",\"startlinecolor\":\"#2a3f5f\"},\"baxis\":{\"endlinecolor\":\"#2a3f5f\",\"gridcolor\":\"white\",\"linecolor\":\"white\",\"minorgridcolor\":\"white\",\"startlinecolor\":\"#2a3f5f\"},\"type\":\"carpet\"}],\"choropleth\":[{\"colorbar\":{\"outlinewidth\":0,\"ticks\":\"\"},\"type\":\"choropleth\"}],\"contour\":[{\"colorbar\":{\"outlinewidth\":0,\"ticks\":\"\"},\"colorscale\":[[0.0,\"#0d0887\"],[0.1111111111111111,\"#46039f\"],[0.2222222222222222,\"#7201a8\"],[0.3333333333333333,\"#9c179e\"],[0.4444444444444444,\"#bd3786\"],[0.5555555555555556,\"#d8576b\"],[0.6666666666666666,\"#ed7953\"],[0.7777777777777778,\"#fb9f3a\"],[0.8888888888888888,\"#fdca26\"],[1.0,\"#f0f921\"]],\"type\":\"contour\"}],\"contourcarpet\":[{\"colorbar\":{\"outlinewidth\":0,\"ticks\":\"\"},\"type\":\"contourcarpet\"}],\"heatmap\":[{\"colorbar\":{\"outlinewidth\":0,\"ticks\":\"\"},\"colorscale\":[[0.0,\"#0d0887\"],[0.1111111111111111,\"#46039f\"],[0.2222222222222222,\"#7201a8\"],[0.3333333333333333,\"#9c179e\"],[0.4444444444444444,\"#bd3786\"],[0.5555555555555556,\"#d8576b\"],[0.6666666666666666,\"#ed7953\"],[0.7777777777777778,\"#fb9f3a\"],[0.8888888888888888,\"#fdca26\"],[1.0,\"#f0f921\"]],\"type\":\"heatmap\"}],\"heatmapgl\":[{\"colorbar\":{\"outlinewidth\":0,\"ticks\":\"\"},\"colorscale\":[[0.0,\"#0d0887\"],[0.1111111111111111,\"#46039f\"],[0.2222222222222222,\"#7201a8\"],[0.3333333333333333,\"#9c179e\"],[0.4444444444444444,\"#bd3786\"],[0.5555555555555556,\"#d8576b\"],[0.6666666666666666,\"#ed7953\"],[0.7777777777777778,\"#fb9f3a\"],[0.8888888888888888,\"#fdca26\"],[1.0,\"#f0f921\"]],\"type\":\"heatmapgl\"}],\"histogram\":[{\"marker\":{\"pattern\":{\"fillmode\":\"overlay\",\"size\":10,\"solidity\":0.2}},\"type\":\"histogram\"}],\"histogram2d\":[{\"colorbar\":{\"outlinewidth\":0,\"ticks\":\"\"},\"colorscale\":[[0.0,\"#0d0887\"],[0.1111111111111111,\"#46039f\"],[0.2222222222222222,\"#7201a8\"],[0.3333333333333333,\"#9c179e\"],[0.4444444444444444,\"#bd3786\"],[0.5555555555555556,\"#d8576b\"],[0.6666666666666666,\"#ed7953\"],[0.7777777777777778,\"#fb9f3a\"],[0.8888888888888888,\"#fdca26\"],[1.0,\"#f0f921\"]],\"type\":\"histogram2d\"}],\"histogram2dcontour\":[{\"colorbar\":{\"outlinewidth\":0,\"ticks\":\"\"},\"colorscale\":[[0.0,\"#0d0887\"],[0.1111111111111111,\"#46039f\"],[0.2222222222222222,\"#7201a8\"],[0.3333333333333333,\"#9c179e\"],[0.4444444444444444,\"#bd3786\"],[0.5555555555555556,\"#d8576b\"],[0.6666666666666666,\"#ed7953\"],[0.7777777777777778,\"#fb9f3a\"],[0.8888888888888888,\"#fdca26\"],[1.0,\"#f0f921\"]],\"type\":\"histogram2dcontour\"}],\"mesh3d\":[{\"colorbar\":{\"outlinewidth\":0,\"ticks\":\"\"},\"type\":\"mesh3d\"}],\"parcoords\":[{\"line\":{\"colorbar\":{\"outlinewidth\":0,\"ticks\":\"\"}},\"type\":\"parcoords\"}],\"pie\":[{\"automargin\":true,\"type\":\"pie\"}],\"scatter\":[{\"marker\":{\"colorbar\":{\"outlinewidth\":0,\"ticks\":\"\"}},\"type\":\"scatter\"}],\"scatter3d\":[{\"line\":{\"colorbar\":{\"outlinewidth\":0,\"ticks\":\"\"}},\"marker\":{\"colorbar\":{\"outlinewidth\":0,\"ticks\":\"\"}},\"type\":\"scatter3d\"}],\"scattercarpet\":[{\"marker\":{\"colorbar\":{\"outlinewidth\":0,\"ticks\":\"\"}},\"type\":\"scattercarpet\"}],\"scattergeo\":[{\"marker\":{\"colorbar\":{\"outlinewidth\":0,\"ticks\":\"\"}},\"type\":\"scattergeo\"}],\"scattergl\":[{\"marker\":{\"colorbar\":{\"outlinewidth\":0,\"ticks\":\"\"}},\"type\":\"scattergl\"}],\"scattermapbox\":[{\"marker\":{\"colorbar\":{\"outlinewidth\":0,\"ticks\":\"\"}},\"type\":\"scattermapbox\"}],\"scatterpolar\":[{\"marker\":{\"colorbar\":{\"outlinewidth\":0,\"ticks\":\"\"}},\"type\":\"scatterpolar\"}],\"scatterpolargl\":[{\"marker\":{\"colorbar\":{\"outlinewidth\":0,\"ticks\":\"\"}},\"type\":\"scatterpolargl\"}],\"scatterternary\":[{\"marker\":{\"colorbar\":{\"outlinewidth\":0,\"ticks\":\"\"}},\"type\":\"scatterternary\"}],\"surface\":[{\"colorbar\":{\"outlinewidth\":0,\"ticks\":\"\"},\"colorscale\":[[0.0,\"#0d0887\"],[0.1111111111111111,\"#46039f\"],[0.2222222222222222,\"#7201a8\"],[0.3333333333333333,\"#9c179e\"],[0.4444444444444444,\"#bd3786\"],[0.5555555555555556,\"#d8576b\"],[0.6666666666666666,\"#ed7953\"],[0.7777777777777778,\"#fb9f3a\"],[0.8888888888888888,\"#fdca26\"],[1.0,\"#f0f921\"]],\"type\":\"surface\"}],\"table\":[{\"cells\":{\"fill\":{\"color\":\"#EBF0F8\"},\"line\":{\"color\":\"white\"}},\"header\":{\"fill\":{\"color\":\"#C8D4E3\"},\"line\":{\"color\":\"white\"}},\"type\":\"table\"}]},\"layout\":{\"annotationdefaults\":{\"arrowcolor\":\"#2a3f5f\",\"arrowhead\":0,\"arrowwidth\":1},\"autotypenumbers\":\"strict\",\"coloraxis\":{\"colorbar\":{\"outlinewidth\":0,\"ticks\":\"\"}},\"colorscale\":{\"diverging\":[[0,\"#8e0152\"],[0.1,\"#c51b7d\"],[0.2,\"#de77ae\"],[0.3,\"#f1b6da\"],[0.4,\"#fde0ef\"],[0.5,\"#f7f7f7\"],[0.6,\"#e6f5d0\"],[0.7,\"#b8e186\"],[0.8,\"#7fbc41\"],[0.9,\"#4d9221\"],[1,\"#276419\"]],\"sequential\":[[0.0,\"#0d0887\"],[0.1111111111111111,\"#46039f\"],[0.2222222222222222,\"#7201a8\"],[0.3333333333333333,\"#9c179e\"],[0.4444444444444444,\"#bd3786\"],[0.5555555555555556,\"#d8576b\"],[0.6666666666666666,\"#ed7953\"],[0.7777777777777778,\"#fb9f3a\"],[0.8888888888888888,\"#fdca26\"],[1.0,\"#f0f921\"]],\"sequentialminus\":[[0.0,\"#0d0887\"],[0.1111111111111111,\"#46039f\"],[0.2222222222222222,\"#7201a8\"],[0.3333333333333333,\"#9c179e\"],[0.4444444444444444,\"#bd3786\"],[0.5555555555555556,\"#d8576b\"],[0.6666666666666666,\"#ed7953\"],[0.7777777777777778,\"#fb9f3a\"],[0.8888888888888888,\"#fdca26\"],[1.0,\"#f0f921\"]]},\"colorway\":[\"#636efa\",\"#EF553B\",\"#00cc96\",\"#ab63fa\",\"#FFA15A\",\"#19d3f3\",\"#FF6692\",\"#B6E880\",\"#FF97FF\",\"#FECB52\"],\"font\":{\"color\":\"#2a3f5f\"},\"geo\":{\"bgcolor\":\"white\",\"lakecolor\":\"white\",\"landcolor\":\"#E5ECF6\",\"showlakes\":true,\"showland\":true,\"subunitcolor\":\"white\"},\"hoverlabel\":{\"align\":\"left\"},\"hovermode\":\"closest\",\"mapbox\":{\"style\":\"light\"},\"paper_bgcolor\":\"white\",\"plot_bgcolor\":\"#E5ECF6\",\"polar\":{\"angularaxis\":{\"gridcolor\":\"white\",\"linecolor\":\"white\",\"ticks\":\"\"},\"bgcolor\":\"#E5ECF6\",\"radialaxis\":{\"gridcolor\":\"white\",\"linecolor\":\"white\",\"ticks\":\"\"}},\"scene\":{\"xaxis\":{\"backgroundcolor\":\"#E5ECF6\",\"gridcolor\":\"white\",\"gridwidth\":2,\"linecolor\":\"white\",\"showbackground\":true,\"ticks\":\"\",\"zerolinecolor\":\"white\"},\"yaxis\":{\"backgroundcolor\":\"#E5ECF6\",\"gridcolor\":\"white\",\"gridwidth\":2,\"linecolor\":\"white\",\"showbackground\":true,\"ticks\":\"\",\"zerolinecolor\":\"white\"},\"zaxis\":{\"backgroundcolor\":\"#E5ECF6\",\"gridcolor\":\"white\",\"gridwidth\":2,\"linecolor\":\"white\",\"showbackground\":true,\"ticks\":\"\",\"zerolinecolor\":\"white\"}},\"shapedefaults\":{\"line\":{\"color\":\"#2a3f5f\"}},\"ternary\":{\"aaxis\":{\"gridcolor\":\"white\",\"linecolor\":\"white\",\"ticks\":\"\"},\"baxis\":{\"gridcolor\":\"white\",\"linecolor\":\"white\",\"ticks\":\"\"},\"bgcolor\":\"#E5ECF6\",\"caxis\":{\"gridcolor\":\"white\",\"linecolor\":\"white\",\"ticks\":\"\"}},\"title\":{\"x\":0.05},\"xaxis\":{\"automargin\":true,\"gridcolor\":\"white\",\"linecolor\":\"white\",\"ticks\":\"\",\"title\":{\"standoff\":15},\"zerolinecolor\":\"white\",\"zerolinewidth\":2},\"yaxis\":{\"automargin\":true,\"gridcolor\":\"white\",\"linecolor\":\"white\",\"ticks\":\"\",\"title\":{\"standoff\":15},\"zerolinecolor\":\"white\",\"zerolinewidth\":2}}},\"xaxis\":{\"rangeslider\":{\"visible\":true},\"title\":{\"text\":\"Date\"}},\"yaxis\":{\"title\":{\"text\":\"Total Revenue (\\u00a3)\"}},\"title\":{\"text\":\"Model 2 - Linear Regression Predicted Weekly Revenue\"}},                        {\"responsive\": true}                    ).then(function(){\n",
       "                            \n",
       "var gd = document.getElementById('20ac3313-4083-4fa2-b94f-2a2318ca0d08');\n",
       "var x = new MutationObserver(function (mutations, observer) {{\n",
       "        var display = window.getComputedStyle(gd).display;\n",
       "        if (!display || display === 'none') {{\n",
       "            console.log([gd, 'removed!']);\n",
       "            Plotly.purge(gd);\n",
       "            observer.disconnect();\n",
       "        }}\n",
       "}});\n",
       "\n",
       "// Listen for the removal of the full notebook cells\n",
       "var notebookContainer = gd.closest('#notebook-container');\n",
       "if (notebookContainer) {{\n",
       "    x.observe(notebookContainer, {childList: true});\n",
       "}}\n",
       "\n",
       "// Listen for the clearing of the current output cell\n",
       "var outputEl = gd.closest('.output');\n",
       "if (outputEl) {{\n",
       "    x.observe(outputEl, {childList: true});\n",
       "}}\n",
       "\n",
       "                        })                };                });            </script>        </div>"
      ]
     },
     "metadata": {},
     "output_type": "display_data"
    }
   ],
   "source": [
    "fig = go.Figure()\n",
    "fig.add_trace(go.Scatter(x=train.index, \n",
    "                         y=train['Total_Revenue'], mode='lines', name='Train'))\n",
    "fig.add_trace(go.Scatter(x=test.index, \n",
    "                         y=test['Total_Revenue'], mode='lines', name='Test'))\n",
    "fig.add_trace(go.Scatter(x=test.index, \n",
    "                         y=prediction_2, mode='lines', name='Prediction 2'))\n",
    "\n",
    "fig.update_xaxes(rangeslider_visible=True)\n",
    "fig.update_layout(\n",
    "    yaxis_title='Total Revenue (£)', \n",
    "    xaxis_title='Date',\n",
    "    title='Model 2 - Linear Regression Predicted Weekly Revenue'\n",
    ")\n",
    "fig.show()"
   ]
  },
  {
   "cell_type": "code",
   "execution_count": 86,
   "id": "9b1a528c",
   "metadata": {},
   "outputs": [
    {
     "name": "stdout",
     "output_type": "stream",
     "text": [
      "The RMSE for the Weekly forecast is: 15395.97\n",
      "\n",
      "The MAE between the actual and Weekly forecast revenue is 13143.17\n",
      "\n",
      "The MAPE between the actual and Weekly forecast revenue is 13.2%\n"
     ]
    }
   ],
   "source": [
    "bakery.full_accuracy_report(test['Total_Revenue'],\n",
    "                            prediction_2, 'Weekly forecast')"
   ]
  },
  {
   "cell_type": "markdown",
   "id": "6b2cad86",
   "metadata": {},
   "source": [
    "## Model 2 - Accuracy Evaluation\n",
    "**UPDATE**"
   ]
  },
  {
   "cell_type": "code",
   "execution_count": 87,
   "id": "bb0998de",
   "metadata": {},
   "outputs": [
    {
     "data": {
      "text/html": [
       "<div>\n",
       "<style scoped>\n",
       "    .dataframe tbody tr th:only-of-type {\n",
       "        vertical-align: middle;\n",
       "    }\n",
       "\n",
       "    .dataframe tbody tr th {\n",
       "        vertical-align: top;\n",
       "    }\n",
       "\n",
       "    .dataframe thead th {\n",
       "        text-align: right;\n",
       "    }\n",
       "</style>\n",
       "<table border=\"1\" class=\"dataframe\">\n",
       "  <thead>\n",
       "    <tr style=\"text-align: right;\">\n",
       "      <th></th>\n",
       "      <th>Model</th>\n",
       "      <th>R2</th>\n",
       "      <th>RMSE</th>\n",
       "      <th>AIC</th>\n",
       "      <th>MAPE (%)</th>\n",
       "      <th>Comments</th>\n",
       "    </tr>\n",
       "  </thead>\n",
       "  <tbody>\n",
       "    <tr>\n",
       "      <th>0</th>\n",
       "      <td>1</td>\n",
       "      <td>0.791</td>\n",
       "      <td>14111.89</td>\n",
       "      <td>1614</td>\n",
       "      <td>11.4%</td>\n",
       "      <td>All initial variables</td>\n",
       "    </tr>\n",
       "    <tr>\n",
       "      <th>1</th>\n",
       "      <td>2</td>\n",
       "      <td>0.779</td>\n",
       "      <td>15395.97</td>\n",
       "      <td>1614</td>\n",
       "      <td>13.2%</td>\n",
       "      <td>Dropped Closed Xmas, 3D_MA</td>\n",
       "    </tr>\n",
       "  </tbody>\n",
       "</table>\n",
       "</div>"
      ],
      "text/plain": [
       "   Model     R2      RMSE   AIC MAPE (%)                    Comments\n",
       "0      1  0.791  14111.89  1614    11.4%       All initial variables\n",
       "1      2  0.779  15395.97  1614    13.2%  Dropped Closed Xmas, 3D_MA"
      ]
     },
     "metadata": {},
     "output_type": "display_data"
    }
   ],
   "source": [
    "# To add the scores to the results table \n",
    "model_scores = bakery.add_results(model_scores, 2, 0.779, 15395.97, 1614, '13.2%', 'Dropped Closed Xmas, 3D_MA')"
   ]
  },
  {
   "cell_type": "markdown",
   "id": "fb7d88e4",
   "metadata": {},
   "source": [
    "# Performing VIF to Reduce Features \n",
    "For Model 2 there is a large number of independent variables included in the model, which can still lead to some multicollinearity. Therefore, a Variance Inflation Factor (VIF) test will be used to detect the remaining multicollinearity. This is done using the `vif_func` function, which utilises the `variance_inflation_factor()` method on the independent variables. Variables with large VIF scores will be removed in the next iteration. "
   ]
  },
  {
   "cell_type": "code",
   "execution_count": 88,
   "id": "d8f33e8a",
   "metadata": {},
   "outputs": [
    {
     "data": {
      "text/plain": [
       "Bank_Holiday     1.376840\n",
       "Weekday          9.851082\n",
       "Weekend          7.241313\n",
       "7W_MA_lag       30.129846\n",
       "20W_MA_lag      33.342299\n",
       "dtype: float64"
      ]
     },
     "metadata": {},
     "output_type": "display_data"
    }
   ],
   "source": [
    "X = independent_variables_2\n",
    "# vif_func is called to run the VIF test\n",
    "bakery.vif_func(X)"
   ]
  },
  {
   "cell_type": "markdown",
   "id": "64fae97c",
   "metadata": {},
   "source": [
    "**Observations**: the `20W_MA_lag ` has the greatest VIF score, therefore will be removed from the next model iteration to see if this improves the VIF scores."
   ]
  },
  {
   "cell_type": "markdown",
   "id": "0e672eea",
   "metadata": {},
   "source": [
    "# Model 3 - Dropping `20W_MA_lag` "
   ]
  },
  {
   "cell_type": "code",
   "execution_count": 89,
   "id": "6304ba21",
   "metadata": {},
   "outputs": [],
   "source": [
    "independent_variables_3 = independent_variables_2.drop(columns=['20W_MA_lag']).copy()"
   ]
  },
  {
   "cell_type": "code",
   "execution_count": 90,
   "id": "c0629d91",
   "metadata": {},
   "outputs": [
    {
     "data": {
      "text/html": [
       "<table class=\"simpletable\">\n",
       "<caption>OLS Regression Results</caption>\n",
       "<tr>\n",
       "  <th>Dep. Variable:</th>      <td>Total_Revenue</td>  <th>  R-squared:         </th> <td>   0.537</td>\n",
       "</tr>\n",
       "<tr>\n",
       "  <th>Model:</th>                   <td>OLS</td>       <th>  Adj. R-squared:    </th> <td>   0.511</td>\n",
       "</tr>\n",
       "<tr>\n",
       "  <th>Method:</th>             <td>Least Squares</td>  <th>  F-statistic:       </th> <td>   20.57</td>\n",
       "</tr>\n",
       "<tr>\n",
       "  <th>Date:</th>             <td>Tue, 25 Oct 2022</td> <th>  Prob (F-statistic):</th> <td>2.75e-11</td>\n",
       "</tr>\n",
       "<tr>\n",
       "  <th>Time:</th>                 <td>22:28:49</td>     <th>  Log-Likelihood:    </th> <td> -829.01</td>\n",
       "</tr>\n",
       "<tr>\n",
       "  <th>No. Observations:</th>      <td>    76</td>      <th>  AIC:               </th> <td>   1668.</td>\n",
       "</tr>\n",
       "<tr>\n",
       "  <th>Df Residuals:</th>          <td>    71</td>      <th>  BIC:               </th> <td>   1680.</td>\n",
       "</tr>\n",
       "<tr>\n",
       "  <th>Df Model:</th>              <td>     4</td>      <th>                     </th>     <td> </td>   \n",
       "</tr>\n",
       "<tr>\n",
       "  <th>Covariance Type:</th>      <td>nonrobust</td>    <th>                     </th>     <td> </td>   \n",
       "</tr>\n",
       "</table>\n",
       "<table class=\"simpletable\">\n",
       "<tr>\n",
       "        <td></td>          <th>coef</th>     <th>std err</th>      <th>t</th>      <th>P>|t|</th>  <th>[0.025</th>    <th>0.975]</th>  \n",
       "</tr>\n",
       "<tr>\n",
       "  <th>const</th>        <td> 6.083e+04</td> <td> 6626.085</td> <td>    9.181</td> <td> 0.000</td> <td> 4.76e+04</td> <td>  7.4e+04</td>\n",
       "</tr>\n",
       "<tr>\n",
       "  <th>Bank_Holiday</th> <td> 4724.8973</td> <td> 4049.120</td> <td>    1.167</td> <td> 0.247</td> <td>-3348.820</td> <td> 1.28e+04</td>\n",
       "</tr>\n",
       "<tr>\n",
       "  <th>Weekday</th>      <td>-2583.9820</td> <td> 1291.166</td> <td>   -2.001</td> <td> 0.049</td> <td>-5158.494</td> <td>   -9.470</td>\n",
       "</tr>\n",
       "<tr>\n",
       "  <th>Weekend</th>      <td>-5415.1312</td> <td> 2633.746</td> <td>   -2.056</td> <td> 0.043</td> <td>-1.07e+04</td> <td> -163.590</td>\n",
       "</tr>\n",
       "<tr>\n",
       "  <th>7W_MA_lag</th>    <td>    0.4338</td> <td>    0.076</td> <td>    5.682</td> <td> 0.000</td> <td>    0.282</td> <td>    0.586</td>\n",
       "</tr>\n",
       "</table>\n",
       "<table class=\"simpletable\">\n",
       "<tr>\n",
       "  <th>Omnibus:</th>       <td>12.359</td> <th>  Durbin-Watson:     </th> <td>   0.341</td>\n",
       "</tr>\n",
       "<tr>\n",
       "  <th>Prob(Omnibus):</th> <td> 0.002</td> <th>  Jarque-Bera (JB):  </th> <td>   5.125</td>\n",
       "</tr>\n",
       "<tr>\n",
       "  <th>Skew:</th>          <td>-0.382</td> <th>  Prob(JB):          </th> <td>  0.0771</td>\n",
       "</tr>\n",
       "<tr>\n",
       "  <th>Kurtosis:</th>      <td> 1.983</td> <th>  Cond. No.          </th> <td>3.06e+05</td>\n",
       "</tr>\n",
       "</table><br/><br/>Notes:<br/>[1] Standard Errors assume that the covariance matrix of the errors is correctly specified.<br/>[2] The condition number is large, 3.06e+05. This might indicate that there are<br/>strong multicollinearity or other numerical problems."
      ],
      "text/plain": [
       "<class 'statsmodels.iolib.summary.Summary'>\n",
       "\"\"\"\n",
       "                            OLS Regression Results                            \n",
       "==============================================================================\n",
       "Dep. Variable:          Total_Revenue   R-squared:                       0.537\n",
       "Model:                            OLS   Adj. R-squared:                  0.511\n",
       "Method:                 Least Squares   F-statistic:                     20.57\n",
       "Date:                Tue, 25 Oct 2022   Prob (F-statistic):           2.75e-11\n",
       "Time:                        22:28:49   Log-Likelihood:                -829.01\n",
       "No. Observations:                  76   AIC:                             1668.\n",
       "Df Residuals:                      71   BIC:                             1680.\n",
       "Df Model:                           4                                         \n",
       "Covariance Type:            nonrobust                                         \n",
       "================================================================================\n",
       "                   coef    std err          t      P>|t|      [0.025      0.975]\n",
       "--------------------------------------------------------------------------------\n",
       "const         6.083e+04   6626.085      9.181      0.000    4.76e+04     7.4e+04\n",
       "Bank_Holiday  4724.8973   4049.120      1.167      0.247   -3348.820    1.28e+04\n",
       "Weekday      -2583.9820   1291.166     -2.001      0.049   -5158.494      -9.470\n",
       "Weekend      -5415.1312   2633.746     -2.056      0.043   -1.07e+04    -163.590\n",
       "7W_MA_lag        0.4338      0.076      5.682      0.000       0.282       0.586\n",
       "==============================================================================\n",
       "Omnibus:                       12.359   Durbin-Watson:                   0.341\n",
       "Prob(Omnibus):                  0.002   Jarque-Bera (JB):                5.125\n",
       "Skew:                          -0.382   Prob(JB):                       0.0771\n",
       "Kurtosis:                       1.983   Cond. No.                     3.06e+05\n",
       "==============================================================================\n",
       "\n",
       "Notes:\n",
       "[1] Standard Errors assume that the covariance matrix of the errors is correctly specified.\n",
       "[2] The condition number is large, 3.06e+05. This might indicate that there are\n",
       "strong multicollinearity or other numerical problems.\n",
       "\"\"\""
      ]
     },
     "execution_count": 90,
     "metadata": {},
     "output_type": "execute_result"
    }
   ],
   "source": [
    "y = train['Total_Revenue']\n",
    "\n",
    "# First the X and y values need to splitted: \n",
    "X = independent_variables_3\n",
    "\n",
    "# Then the X_ constant needs to be added to give the intercept value\n",
    "X_withconstant = sm.add_constant(X)\n",
    "\n",
    "# The model is then instantiated using the sm.OLS method\n",
    "lm_revenue = sm.OLS(y,X_withconstant)\n",
    "\n",
    "# The model is fitted using the .fit() method\n",
    "lm_revenue_results = lm_revenue.fit()\n",
    "\n",
    "# The results are displayed using the .summary() method\n",
    "lm_revenue_results.summary()"
   ]
  },
  {
   "cell_type": "code",
   "execution_count": 91,
   "id": "2d15eeea",
   "metadata": {},
   "outputs": [],
   "source": [
    "X_test = test.drop(columns=['Total_Revenue', '3W_MA', '7W_MA', '20W_MA', 'Closed_Xmas',\n",
    "                            '3W_MA_lag','20W_MA_lag']).copy()"
   ]
  },
  {
   "cell_type": "code",
   "execution_count": 92,
   "id": "78a775a6",
   "metadata": {},
   "outputs": [],
   "source": [
    "X_test_withconstant = sm.add_constant(X_test)"
   ]
  },
  {
   "cell_type": "code",
   "execution_count": 93,
   "id": "bff39574",
   "metadata": {},
   "outputs": [
    {
     "data": {
      "text/plain": [
       "2022-08-21     95644.438402\n",
       "2022-08-28     96554.598524\n",
       "2022-09-04    102256.289187\n",
       "2022-09-11     72713.816042\n",
       "2022-09-18     75425.191399\n",
       "2022-09-25     77379.958143\n",
       "Freq: W-SUN, dtype: float64"
      ]
     },
     "execution_count": 93,
     "metadata": {},
     "output_type": "execute_result"
    }
   ],
   "source": [
    "# Predictions\n",
    "prediction_3 = lm_revenue_results.predict(X_test_withconstant)\n",
    "prediction_3"
   ]
  },
  {
   "cell_type": "code",
   "execution_count": 94,
   "id": "152620c9",
   "metadata": {},
   "outputs": [
    {
     "data": {
      "application/vnd.plotly.v1+json": {
       "config": {
        "plotlyServerURL": "https://plot.ly"
       },
       "data": [
        {
         "mode": "lines",
         "name": "Train",
         "type": "scatter",
         "x": [
          "2021-03-07T00:00:00",
          "2021-03-14T00:00:00",
          "2021-03-21T00:00:00",
          "2021-03-28T00:00:00",
          "2021-04-04T00:00:00",
          "2021-04-11T00:00:00",
          "2021-04-18T00:00:00",
          "2021-04-25T00:00:00",
          "2021-05-02T00:00:00",
          "2021-05-09T00:00:00",
          "2021-05-16T00:00:00",
          "2021-05-23T00:00:00",
          "2021-05-30T00:00:00",
          "2021-06-06T00:00:00",
          "2021-06-13T00:00:00",
          "2021-06-20T00:00:00",
          "2021-06-27T00:00:00",
          "2021-07-04T00:00:00",
          "2021-07-11T00:00:00",
          "2021-07-18T00:00:00",
          "2021-07-25T00:00:00",
          "2021-08-01T00:00:00",
          "2021-08-08T00:00:00",
          "2021-08-15T00:00:00",
          "2021-08-22T00:00:00",
          "2021-08-29T00:00:00",
          "2021-09-05T00:00:00",
          "2021-09-12T00:00:00",
          "2021-09-19T00:00:00",
          "2021-09-26T00:00:00",
          "2021-10-03T00:00:00",
          "2021-10-10T00:00:00",
          "2021-10-17T00:00:00",
          "2021-10-24T00:00:00",
          "2021-10-31T00:00:00",
          "2021-11-07T00:00:00",
          "2021-11-14T00:00:00",
          "2021-11-21T00:00:00",
          "2021-11-28T00:00:00",
          "2021-12-05T00:00:00",
          "2021-12-12T00:00:00",
          "2021-12-19T00:00:00",
          "2021-12-26T00:00:00",
          "2022-01-02T00:00:00",
          "2022-01-09T00:00:00",
          "2022-01-16T00:00:00",
          "2022-01-23T00:00:00",
          "2022-01-30T00:00:00",
          "2022-02-06T00:00:00",
          "2022-02-13T00:00:00",
          "2022-02-20T00:00:00",
          "2022-02-27T00:00:00",
          "2022-03-06T00:00:00",
          "2022-03-13T00:00:00",
          "2022-03-20T00:00:00",
          "2022-03-27T00:00:00",
          "2022-04-03T00:00:00",
          "2022-04-10T00:00:00",
          "2022-04-17T00:00:00",
          "2022-04-24T00:00:00",
          "2022-05-01T00:00:00",
          "2022-05-08T00:00:00",
          "2022-05-15T00:00:00",
          "2022-05-22T00:00:00",
          "2022-05-29T00:00:00",
          "2022-06-05T00:00:00",
          "2022-06-12T00:00:00",
          "2022-06-19T00:00:00",
          "2022-06-26T00:00:00",
          "2022-07-03T00:00:00",
          "2022-07-10T00:00:00",
          "2022-07-17T00:00:00",
          "2022-07-24T00:00:00",
          "2022-07-31T00:00:00",
          "2022-08-07T00:00:00",
          "2022-08-14T00:00:00"
         ],
         "y": [
          27155.95,
          28698.05,
          29639.92,
          33834.22,
          49890.95,
          46976.75,
          72553.91,
          59804.86,
          62821.04,
          60201.77,
          58890.41,
          65883.27,
          72868.88,
          91050.3,
          70049.93,
          71821.2,
          74764.78,
          74499.56,
          82700.02,
          87403.88,
          93902.69,
          102590.59,
          104418.96,
          106765.67,
          105296.07,
          107555.55,
          92307.18,
          81485.62,
          80503.23,
          76278.72,
          74564.75,
          71568.15,
          70676.15,
          75993.28,
          90174.68,
          69867.09,
          65234.33,
          66232.44,
          63486.83,
          56164.75,
          54413.93,
          60703.51,
          62838.18,
          92832.18,
          66753.16,
          55705.39,
          53775.72,
          55267,
          48605.95,
          55404.22,
          73178.69,
          70478.72,
          61158.84,
          59521.83,
          57831.15,
          66849.78,
          66799.78,
          83854.31,
          103458.98,
          82578.42,
          73220.14,
          76245.74,
          71606.08,
          66308.36,
          74498.17,
          115555.67,
          68270.5,
          77556.5,
          81120.04,
          78429.52,
          80994.74,
          90259.78,
          98332,
          112021.47,
          109098.8,
          106518.19
         ]
        },
        {
         "mode": "lines",
         "name": "Test",
         "type": "scatter",
         "x": [
          "2022-08-21T00:00:00",
          "2022-08-28T00:00:00",
          "2022-09-04T00:00:00",
          "2022-09-11T00:00:00",
          "2022-09-18T00:00:00",
          "2022-09-25T00:00:00"
         ],
         "y": [
          113387.44,
          118277.59,
          103478.4,
          78442.65,
          86436.14,
          84465.6
         ]
        },
        {
         "mode": "lines",
         "name": "Prediction 3",
         "type": "scatter",
         "x": [
          "2022-08-21T00:00:00",
          "2022-08-28T00:00:00",
          "2022-09-04T00:00:00",
          "2022-09-11T00:00:00",
          "2022-09-18T00:00:00",
          "2022-09-25T00:00:00"
         ],
         "y": [
          95644.43840215798,
          96554.598523779,
          102256.289186938,
          72713.81604178748,
          75425.19139928366,
          77379.95814305135
         ]
        }
       ],
       "layout": {
        "template": {
         "data": {
          "bar": [
           {
            "error_x": {
             "color": "#2a3f5f"
            },
            "error_y": {
             "color": "#2a3f5f"
            },
            "marker": {
             "line": {
              "color": "#E5ECF6",
              "width": 0.5
             },
             "pattern": {
              "fillmode": "overlay",
              "size": 10,
              "solidity": 0.2
             }
            },
            "type": "bar"
           }
          ],
          "barpolar": [
           {
            "marker": {
             "line": {
              "color": "#E5ECF6",
              "width": 0.5
             },
             "pattern": {
              "fillmode": "overlay",
              "size": 10,
              "solidity": 0.2
             }
            },
            "type": "barpolar"
           }
          ],
          "carpet": [
           {
            "aaxis": {
             "endlinecolor": "#2a3f5f",
             "gridcolor": "white",
             "linecolor": "white",
             "minorgridcolor": "white",
             "startlinecolor": "#2a3f5f"
            },
            "baxis": {
             "endlinecolor": "#2a3f5f",
             "gridcolor": "white",
             "linecolor": "white",
             "minorgridcolor": "white",
             "startlinecolor": "#2a3f5f"
            },
            "type": "carpet"
           }
          ],
          "choropleth": [
           {
            "colorbar": {
             "outlinewidth": 0,
             "ticks": ""
            },
            "type": "choropleth"
           }
          ],
          "contour": [
           {
            "colorbar": {
             "outlinewidth": 0,
             "ticks": ""
            },
            "colorscale": [
             [
              0,
              "#0d0887"
             ],
             [
              0.1111111111111111,
              "#46039f"
             ],
             [
              0.2222222222222222,
              "#7201a8"
             ],
             [
              0.3333333333333333,
              "#9c179e"
             ],
             [
              0.4444444444444444,
              "#bd3786"
             ],
             [
              0.5555555555555556,
              "#d8576b"
             ],
             [
              0.6666666666666666,
              "#ed7953"
             ],
             [
              0.7777777777777778,
              "#fb9f3a"
             ],
             [
              0.8888888888888888,
              "#fdca26"
             ],
             [
              1,
              "#f0f921"
             ]
            ],
            "type": "contour"
           }
          ],
          "contourcarpet": [
           {
            "colorbar": {
             "outlinewidth": 0,
             "ticks": ""
            },
            "type": "contourcarpet"
           }
          ],
          "heatmap": [
           {
            "colorbar": {
             "outlinewidth": 0,
             "ticks": ""
            },
            "colorscale": [
             [
              0,
              "#0d0887"
             ],
             [
              0.1111111111111111,
              "#46039f"
             ],
             [
              0.2222222222222222,
              "#7201a8"
             ],
             [
              0.3333333333333333,
              "#9c179e"
             ],
             [
              0.4444444444444444,
              "#bd3786"
             ],
             [
              0.5555555555555556,
              "#d8576b"
             ],
             [
              0.6666666666666666,
              "#ed7953"
             ],
             [
              0.7777777777777778,
              "#fb9f3a"
             ],
             [
              0.8888888888888888,
              "#fdca26"
             ],
             [
              1,
              "#f0f921"
             ]
            ],
            "type": "heatmap"
           }
          ],
          "heatmapgl": [
           {
            "colorbar": {
             "outlinewidth": 0,
             "ticks": ""
            },
            "colorscale": [
             [
              0,
              "#0d0887"
             ],
             [
              0.1111111111111111,
              "#46039f"
             ],
             [
              0.2222222222222222,
              "#7201a8"
             ],
             [
              0.3333333333333333,
              "#9c179e"
             ],
             [
              0.4444444444444444,
              "#bd3786"
             ],
             [
              0.5555555555555556,
              "#d8576b"
             ],
             [
              0.6666666666666666,
              "#ed7953"
             ],
             [
              0.7777777777777778,
              "#fb9f3a"
             ],
             [
              0.8888888888888888,
              "#fdca26"
             ],
             [
              1,
              "#f0f921"
             ]
            ],
            "type": "heatmapgl"
           }
          ],
          "histogram": [
           {
            "marker": {
             "pattern": {
              "fillmode": "overlay",
              "size": 10,
              "solidity": 0.2
             }
            },
            "type": "histogram"
           }
          ],
          "histogram2d": [
           {
            "colorbar": {
             "outlinewidth": 0,
             "ticks": ""
            },
            "colorscale": [
             [
              0,
              "#0d0887"
             ],
             [
              0.1111111111111111,
              "#46039f"
             ],
             [
              0.2222222222222222,
              "#7201a8"
             ],
             [
              0.3333333333333333,
              "#9c179e"
             ],
             [
              0.4444444444444444,
              "#bd3786"
             ],
             [
              0.5555555555555556,
              "#d8576b"
             ],
             [
              0.6666666666666666,
              "#ed7953"
             ],
             [
              0.7777777777777778,
              "#fb9f3a"
             ],
             [
              0.8888888888888888,
              "#fdca26"
             ],
             [
              1,
              "#f0f921"
             ]
            ],
            "type": "histogram2d"
           }
          ],
          "histogram2dcontour": [
           {
            "colorbar": {
             "outlinewidth": 0,
             "ticks": ""
            },
            "colorscale": [
             [
              0,
              "#0d0887"
             ],
             [
              0.1111111111111111,
              "#46039f"
             ],
             [
              0.2222222222222222,
              "#7201a8"
             ],
             [
              0.3333333333333333,
              "#9c179e"
             ],
             [
              0.4444444444444444,
              "#bd3786"
             ],
             [
              0.5555555555555556,
              "#d8576b"
             ],
             [
              0.6666666666666666,
              "#ed7953"
             ],
             [
              0.7777777777777778,
              "#fb9f3a"
             ],
             [
              0.8888888888888888,
              "#fdca26"
             ],
             [
              1,
              "#f0f921"
             ]
            ],
            "type": "histogram2dcontour"
           }
          ],
          "mesh3d": [
           {
            "colorbar": {
             "outlinewidth": 0,
             "ticks": ""
            },
            "type": "mesh3d"
           }
          ],
          "parcoords": [
           {
            "line": {
             "colorbar": {
              "outlinewidth": 0,
              "ticks": ""
             }
            },
            "type": "parcoords"
           }
          ],
          "pie": [
           {
            "automargin": true,
            "type": "pie"
           }
          ],
          "scatter": [
           {
            "marker": {
             "colorbar": {
              "outlinewidth": 0,
              "ticks": ""
             }
            },
            "type": "scatter"
           }
          ],
          "scatter3d": [
           {
            "line": {
             "colorbar": {
              "outlinewidth": 0,
              "ticks": ""
             }
            },
            "marker": {
             "colorbar": {
              "outlinewidth": 0,
              "ticks": ""
             }
            },
            "type": "scatter3d"
           }
          ],
          "scattercarpet": [
           {
            "marker": {
             "colorbar": {
              "outlinewidth": 0,
              "ticks": ""
             }
            },
            "type": "scattercarpet"
           }
          ],
          "scattergeo": [
           {
            "marker": {
             "colorbar": {
              "outlinewidth": 0,
              "ticks": ""
             }
            },
            "type": "scattergeo"
           }
          ],
          "scattergl": [
           {
            "marker": {
             "colorbar": {
              "outlinewidth": 0,
              "ticks": ""
             }
            },
            "type": "scattergl"
           }
          ],
          "scattermapbox": [
           {
            "marker": {
             "colorbar": {
              "outlinewidth": 0,
              "ticks": ""
             }
            },
            "type": "scattermapbox"
           }
          ],
          "scatterpolar": [
           {
            "marker": {
             "colorbar": {
              "outlinewidth": 0,
              "ticks": ""
             }
            },
            "type": "scatterpolar"
           }
          ],
          "scatterpolargl": [
           {
            "marker": {
             "colorbar": {
              "outlinewidth": 0,
              "ticks": ""
             }
            },
            "type": "scatterpolargl"
           }
          ],
          "scatterternary": [
           {
            "marker": {
             "colorbar": {
              "outlinewidth": 0,
              "ticks": ""
             }
            },
            "type": "scatterternary"
           }
          ],
          "surface": [
           {
            "colorbar": {
             "outlinewidth": 0,
             "ticks": ""
            },
            "colorscale": [
             [
              0,
              "#0d0887"
             ],
             [
              0.1111111111111111,
              "#46039f"
             ],
             [
              0.2222222222222222,
              "#7201a8"
             ],
             [
              0.3333333333333333,
              "#9c179e"
             ],
             [
              0.4444444444444444,
              "#bd3786"
             ],
             [
              0.5555555555555556,
              "#d8576b"
             ],
             [
              0.6666666666666666,
              "#ed7953"
             ],
             [
              0.7777777777777778,
              "#fb9f3a"
             ],
             [
              0.8888888888888888,
              "#fdca26"
             ],
             [
              1,
              "#f0f921"
             ]
            ],
            "type": "surface"
           }
          ],
          "table": [
           {
            "cells": {
             "fill": {
              "color": "#EBF0F8"
             },
             "line": {
              "color": "white"
             }
            },
            "header": {
             "fill": {
              "color": "#C8D4E3"
             },
             "line": {
              "color": "white"
             }
            },
            "type": "table"
           }
          ]
         },
         "layout": {
          "annotationdefaults": {
           "arrowcolor": "#2a3f5f",
           "arrowhead": 0,
           "arrowwidth": 1
          },
          "autotypenumbers": "strict",
          "coloraxis": {
           "colorbar": {
            "outlinewidth": 0,
            "ticks": ""
           }
          },
          "colorscale": {
           "diverging": [
            [
             0,
             "#8e0152"
            ],
            [
             0.1,
             "#c51b7d"
            ],
            [
             0.2,
             "#de77ae"
            ],
            [
             0.3,
             "#f1b6da"
            ],
            [
             0.4,
             "#fde0ef"
            ],
            [
             0.5,
             "#f7f7f7"
            ],
            [
             0.6,
             "#e6f5d0"
            ],
            [
             0.7,
             "#b8e186"
            ],
            [
             0.8,
             "#7fbc41"
            ],
            [
             0.9,
             "#4d9221"
            ],
            [
             1,
             "#276419"
            ]
           ],
           "sequential": [
            [
             0,
             "#0d0887"
            ],
            [
             0.1111111111111111,
             "#46039f"
            ],
            [
             0.2222222222222222,
             "#7201a8"
            ],
            [
             0.3333333333333333,
             "#9c179e"
            ],
            [
             0.4444444444444444,
             "#bd3786"
            ],
            [
             0.5555555555555556,
             "#d8576b"
            ],
            [
             0.6666666666666666,
             "#ed7953"
            ],
            [
             0.7777777777777778,
             "#fb9f3a"
            ],
            [
             0.8888888888888888,
             "#fdca26"
            ],
            [
             1,
             "#f0f921"
            ]
           ],
           "sequentialminus": [
            [
             0,
             "#0d0887"
            ],
            [
             0.1111111111111111,
             "#46039f"
            ],
            [
             0.2222222222222222,
             "#7201a8"
            ],
            [
             0.3333333333333333,
             "#9c179e"
            ],
            [
             0.4444444444444444,
             "#bd3786"
            ],
            [
             0.5555555555555556,
             "#d8576b"
            ],
            [
             0.6666666666666666,
             "#ed7953"
            ],
            [
             0.7777777777777778,
             "#fb9f3a"
            ],
            [
             0.8888888888888888,
             "#fdca26"
            ],
            [
             1,
             "#f0f921"
            ]
           ]
          },
          "colorway": [
           "#636efa",
           "#EF553B",
           "#00cc96",
           "#ab63fa",
           "#FFA15A",
           "#19d3f3",
           "#FF6692",
           "#B6E880",
           "#FF97FF",
           "#FECB52"
          ],
          "font": {
           "color": "#2a3f5f"
          },
          "geo": {
           "bgcolor": "white",
           "lakecolor": "white",
           "landcolor": "#E5ECF6",
           "showlakes": true,
           "showland": true,
           "subunitcolor": "white"
          },
          "hoverlabel": {
           "align": "left"
          },
          "hovermode": "closest",
          "mapbox": {
           "style": "light"
          },
          "paper_bgcolor": "white",
          "plot_bgcolor": "#E5ECF6",
          "polar": {
           "angularaxis": {
            "gridcolor": "white",
            "linecolor": "white",
            "ticks": ""
           },
           "bgcolor": "#E5ECF6",
           "radialaxis": {
            "gridcolor": "white",
            "linecolor": "white",
            "ticks": ""
           }
          },
          "scene": {
           "xaxis": {
            "backgroundcolor": "#E5ECF6",
            "gridcolor": "white",
            "gridwidth": 2,
            "linecolor": "white",
            "showbackground": true,
            "ticks": "",
            "zerolinecolor": "white"
           },
           "yaxis": {
            "backgroundcolor": "#E5ECF6",
            "gridcolor": "white",
            "gridwidth": 2,
            "linecolor": "white",
            "showbackground": true,
            "ticks": "",
            "zerolinecolor": "white"
           },
           "zaxis": {
            "backgroundcolor": "#E5ECF6",
            "gridcolor": "white",
            "gridwidth": 2,
            "linecolor": "white",
            "showbackground": true,
            "ticks": "",
            "zerolinecolor": "white"
           }
          },
          "shapedefaults": {
           "line": {
            "color": "#2a3f5f"
           }
          },
          "ternary": {
           "aaxis": {
            "gridcolor": "white",
            "linecolor": "white",
            "ticks": ""
           },
           "baxis": {
            "gridcolor": "white",
            "linecolor": "white",
            "ticks": ""
           },
           "bgcolor": "#E5ECF6",
           "caxis": {
            "gridcolor": "white",
            "linecolor": "white",
            "ticks": ""
           }
          },
          "title": {
           "x": 0.05
          },
          "xaxis": {
           "automargin": true,
           "gridcolor": "white",
           "linecolor": "white",
           "ticks": "",
           "title": {
            "standoff": 15
           },
           "zerolinecolor": "white",
           "zerolinewidth": 2
          },
          "yaxis": {
           "automargin": true,
           "gridcolor": "white",
           "linecolor": "white",
           "ticks": "",
           "title": {
            "standoff": 15
           },
           "zerolinecolor": "white",
           "zerolinewidth": 2
          }
         }
        },
        "title": {
         "text": "Model 3 - Linear Regression Predicted Weekly Revenue"
        },
        "xaxis": {
         "rangeslider": {
          "visible": true
         },
         "title": {
          "text": "Date"
         }
        },
        "yaxis": {
         "title": {
          "text": "Total Revenue (£)"
         }
        }
       }
      },
      "text/html": [
       "<div>                            <div id=\"9105039b-dd65-4141-b001-71583a5e77ad\" class=\"plotly-graph-div\" style=\"height:525px; width:100%;\"></div>            <script type=\"text/javascript\">                require([\"plotly\"], function(Plotly) {                    window.PLOTLYENV=window.PLOTLYENV || {};                                    if (document.getElementById(\"9105039b-dd65-4141-b001-71583a5e77ad\")) {                    Plotly.newPlot(                        \"9105039b-dd65-4141-b001-71583a5e77ad\",                        [{\"mode\":\"lines\",\"name\":\"Train\",\"x\":[\"2021-03-07T00:00:00\",\"2021-03-14T00:00:00\",\"2021-03-21T00:00:00\",\"2021-03-28T00:00:00\",\"2021-04-04T00:00:00\",\"2021-04-11T00:00:00\",\"2021-04-18T00:00:00\",\"2021-04-25T00:00:00\",\"2021-05-02T00:00:00\",\"2021-05-09T00:00:00\",\"2021-05-16T00:00:00\",\"2021-05-23T00:00:00\",\"2021-05-30T00:00:00\",\"2021-06-06T00:00:00\",\"2021-06-13T00:00:00\",\"2021-06-20T00:00:00\",\"2021-06-27T00:00:00\",\"2021-07-04T00:00:00\",\"2021-07-11T00:00:00\",\"2021-07-18T00:00:00\",\"2021-07-25T00:00:00\",\"2021-08-01T00:00:00\",\"2021-08-08T00:00:00\",\"2021-08-15T00:00:00\",\"2021-08-22T00:00:00\",\"2021-08-29T00:00:00\",\"2021-09-05T00:00:00\",\"2021-09-12T00:00:00\",\"2021-09-19T00:00:00\",\"2021-09-26T00:00:00\",\"2021-10-03T00:00:00\",\"2021-10-10T00:00:00\",\"2021-10-17T00:00:00\",\"2021-10-24T00:00:00\",\"2021-10-31T00:00:00\",\"2021-11-07T00:00:00\",\"2021-11-14T00:00:00\",\"2021-11-21T00:00:00\",\"2021-11-28T00:00:00\",\"2021-12-05T00:00:00\",\"2021-12-12T00:00:00\",\"2021-12-19T00:00:00\",\"2021-12-26T00:00:00\",\"2022-01-02T00:00:00\",\"2022-01-09T00:00:00\",\"2022-01-16T00:00:00\",\"2022-01-23T00:00:00\",\"2022-01-30T00:00:00\",\"2022-02-06T00:00:00\",\"2022-02-13T00:00:00\",\"2022-02-20T00:00:00\",\"2022-02-27T00:00:00\",\"2022-03-06T00:00:00\",\"2022-03-13T00:00:00\",\"2022-03-20T00:00:00\",\"2022-03-27T00:00:00\",\"2022-04-03T00:00:00\",\"2022-04-10T00:00:00\",\"2022-04-17T00:00:00\",\"2022-04-24T00:00:00\",\"2022-05-01T00:00:00\",\"2022-05-08T00:00:00\",\"2022-05-15T00:00:00\",\"2022-05-22T00:00:00\",\"2022-05-29T00:00:00\",\"2022-06-05T00:00:00\",\"2022-06-12T00:00:00\",\"2022-06-19T00:00:00\",\"2022-06-26T00:00:00\",\"2022-07-03T00:00:00\",\"2022-07-10T00:00:00\",\"2022-07-17T00:00:00\",\"2022-07-24T00:00:00\",\"2022-07-31T00:00:00\",\"2022-08-07T00:00:00\",\"2022-08-14T00:00:00\"],\"y\":[27155.95,28698.05,29639.92,33834.22,49890.95,46976.75,72553.91,59804.86,62821.04,60201.77,58890.41,65883.27,72868.88,91050.3,70049.93,71821.2,74764.78,74499.56,82700.02,87403.88,93902.69,102590.59,104418.96,106765.67,105296.07,107555.55,92307.18,81485.62,80503.23,76278.72,74564.75,71568.15,70676.15,75993.28,90174.68,69867.09,65234.33,66232.44,63486.83,56164.75,54413.93,60703.51,62838.18,92832.18,66753.16,55705.39,53775.72,55267.0,48605.95,55404.22,73178.69,70478.72,61158.84,59521.83,57831.15,66849.78,66799.78,83854.31,103458.98,82578.42,73220.14,76245.74,71606.08,66308.36,74498.17,115555.67,68270.5,77556.5,81120.04,78429.52,80994.74,90259.78,98332.0,112021.47,109098.8,106518.19],\"type\":\"scatter\"},{\"mode\":\"lines\",\"name\":\"Test\",\"x\":[\"2022-08-21T00:00:00\",\"2022-08-28T00:00:00\",\"2022-09-04T00:00:00\",\"2022-09-11T00:00:00\",\"2022-09-18T00:00:00\",\"2022-09-25T00:00:00\"],\"y\":[113387.44,118277.59,103478.4,78442.65,86436.14,84465.6],\"type\":\"scatter\"},{\"mode\":\"lines\",\"name\":\"Prediction 3\",\"x\":[\"2022-08-21T00:00:00\",\"2022-08-28T00:00:00\",\"2022-09-04T00:00:00\",\"2022-09-11T00:00:00\",\"2022-09-18T00:00:00\",\"2022-09-25T00:00:00\"],\"y\":[95644.43840215798,96554.598523779,102256.289186938,72713.81604178748,75425.19139928366,77379.95814305135],\"type\":\"scatter\"}],                        {\"template\":{\"data\":{\"bar\":[{\"error_x\":{\"color\":\"#2a3f5f\"},\"error_y\":{\"color\":\"#2a3f5f\"},\"marker\":{\"line\":{\"color\":\"#E5ECF6\",\"width\":0.5},\"pattern\":{\"fillmode\":\"overlay\",\"size\":10,\"solidity\":0.2}},\"type\":\"bar\"}],\"barpolar\":[{\"marker\":{\"line\":{\"color\":\"#E5ECF6\",\"width\":0.5},\"pattern\":{\"fillmode\":\"overlay\",\"size\":10,\"solidity\":0.2}},\"type\":\"barpolar\"}],\"carpet\":[{\"aaxis\":{\"endlinecolor\":\"#2a3f5f\",\"gridcolor\":\"white\",\"linecolor\":\"white\",\"minorgridcolor\":\"white\",\"startlinecolor\":\"#2a3f5f\"},\"baxis\":{\"endlinecolor\":\"#2a3f5f\",\"gridcolor\":\"white\",\"linecolor\":\"white\",\"minorgridcolor\":\"white\",\"startlinecolor\":\"#2a3f5f\"},\"type\":\"carpet\"}],\"choropleth\":[{\"colorbar\":{\"outlinewidth\":0,\"ticks\":\"\"},\"type\":\"choropleth\"}],\"contour\":[{\"colorbar\":{\"outlinewidth\":0,\"ticks\":\"\"},\"colorscale\":[[0.0,\"#0d0887\"],[0.1111111111111111,\"#46039f\"],[0.2222222222222222,\"#7201a8\"],[0.3333333333333333,\"#9c179e\"],[0.4444444444444444,\"#bd3786\"],[0.5555555555555556,\"#d8576b\"],[0.6666666666666666,\"#ed7953\"],[0.7777777777777778,\"#fb9f3a\"],[0.8888888888888888,\"#fdca26\"],[1.0,\"#f0f921\"]],\"type\":\"contour\"}],\"contourcarpet\":[{\"colorbar\":{\"outlinewidth\":0,\"ticks\":\"\"},\"type\":\"contourcarpet\"}],\"heatmap\":[{\"colorbar\":{\"outlinewidth\":0,\"ticks\":\"\"},\"colorscale\":[[0.0,\"#0d0887\"],[0.1111111111111111,\"#46039f\"],[0.2222222222222222,\"#7201a8\"],[0.3333333333333333,\"#9c179e\"],[0.4444444444444444,\"#bd3786\"],[0.5555555555555556,\"#d8576b\"],[0.6666666666666666,\"#ed7953\"],[0.7777777777777778,\"#fb9f3a\"],[0.8888888888888888,\"#fdca26\"],[1.0,\"#f0f921\"]],\"type\":\"heatmap\"}],\"heatmapgl\":[{\"colorbar\":{\"outlinewidth\":0,\"ticks\":\"\"},\"colorscale\":[[0.0,\"#0d0887\"],[0.1111111111111111,\"#46039f\"],[0.2222222222222222,\"#7201a8\"],[0.3333333333333333,\"#9c179e\"],[0.4444444444444444,\"#bd3786\"],[0.5555555555555556,\"#d8576b\"],[0.6666666666666666,\"#ed7953\"],[0.7777777777777778,\"#fb9f3a\"],[0.8888888888888888,\"#fdca26\"],[1.0,\"#f0f921\"]],\"type\":\"heatmapgl\"}],\"histogram\":[{\"marker\":{\"pattern\":{\"fillmode\":\"overlay\",\"size\":10,\"solidity\":0.2}},\"type\":\"histogram\"}],\"histogram2d\":[{\"colorbar\":{\"outlinewidth\":0,\"ticks\":\"\"},\"colorscale\":[[0.0,\"#0d0887\"],[0.1111111111111111,\"#46039f\"],[0.2222222222222222,\"#7201a8\"],[0.3333333333333333,\"#9c179e\"],[0.4444444444444444,\"#bd3786\"],[0.5555555555555556,\"#d8576b\"],[0.6666666666666666,\"#ed7953\"],[0.7777777777777778,\"#fb9f3a\"],[0.8888888888888888,\"#fdca26\"],[1.0,\"#f0f921\"]],\"type\":\"histogram2d\"}],\"histogram2dcontour\":[{\"colorbar\":{\"outlinewidth\":0,\"ticks\":\"\"},\"colorscale\":[[0.0,\"#0d0887\"],[0.1111111111111111,\"#46039f\"],[0.2222222222222222,\"#7201a8\"],[0.3333333333333333,\"#9c179e\"],[0.4444444444444444,\"#bd3786\"],[0.5555555555555556,\"#d8576b\"],[0.6666666666666666,\"#ed7953\"],[0.7777777777777778,\"#fb9f3a\"],[0.8888888888888888,\"#fdca26\"],[1.0,\"#f0f921\"]],\"type\":\"histogram2dcontour\"}],\"mesh3d\":[{\"colorbar\":{\"outlinewidth\":0,\"ticks\":\"\"},\"type\":\"mesh3d\"}],\"parcoords\":[{\"line\":{\"colorbar\":{\"outlinewidth\":0,\"ticks\":\"\"}},\"type\":\"parcoords\"}],\"pie\":[{\"automargin\":true,\"type\":\"pie\"}],\"scatter\":[{\"marker\":{\"colorbar\":{\"outlinewidth\":0,\"ticks\":\"\"}},\"type\":\"scatter\"}],\"scatter3d\":[{\"line\":{\"colorbar\":{\"outlinewidth\":0,\"ticks\":\"\"}},\"marker\":{\"colorbar\":{\"outlinewidth\":0,\"ticks\":\"\"}},\"type\":\"scatter3d\"}],\"scattercarpet\":[{\"marker\":{\"colorbar\":{\"outlinewidth\":0,\"ticks\":\"\"}},\"type\":\"scattercarpet\"}],\"scattergeo\":[{\"marker\":{\"colorbar\":{\"outlinewidth\":0,\"ticks\":\"\"}},\"type\":\"scattergeo\"}],\"scattergl\":[{\"marker\":{\"colorbar\":{\"outlinewidth\":0,\"ticks\":\"\"}},\"type\":\"scattergl\"}],\"scattermapbox\":[{\"marker\":{\"colorbar\":{\"outlinewidth\":0,\"ticks\":\"\"}},\"type\":\"scattermapbox\"}],\"scatterpolar\":[{\"marker\":{\"colorbar\":{\"outlinewidth\":0,\"ticks\":\"\"}},\"type\":\"scatterpolar\"}],\"scatterpolargl\":[{\"marker\":{\"colorbar\":{\"outlinewidth\":0,\"ticks\":\"\"}},\"type\":\"scatterpolargl\"}],\"scatterternary\":[{\"marker\":{\"colorbar\":{\"outlinewidth\":0,\"ticks\":\"\"}},\"type\":\"scatterternary\"}],\"surface\":[{\"colorbar\":{\"outlinewidth\":0,\"ticks\":\"\"},\"colorscale\":[[0.0,\"#0d0887\"],[0.1111111111111111,\"#46039f\"],[0.2222222222222222,\"#7201a8\"],[0.3333333333333333,\"#9c179e\"],[0.4444444444444444,\"#bd3786\"],[0.5555555555555556,\"#d8576b\"],[0.6666666666666666,\"#ed7953\"],[0.7777777777777778,\"#fb9f3a\"],[0.8888888888888888,\"#fdca26\"],[1.0,\"#f0f921\"]],\"type\":\"surface\"}],\"table\":[{\"cells\":{\"fill\":{\"color\":\"#EBF0F8\"},\"line\":{\"color\":\"white\"}},\"header\":{\"fill\":{\"color\":\"#C8D4E3\"},\"line\":{\"color\":\"white\"}},\"type\":\"table\"}]},\"layout\":{\"annotationdefaults\":{\"arrowcolor\":\"#2a3f5f\",\"arrowhead\":0,\"arrowwidth\":1},\"autotypenumbers\":\"strict\",\"coloraxis\":{\"colorbar\":{\"outlinewidth\":0,\"ticks\":\"\"}},\"colorscale\":{\"diverging\":[[0,\"#8e0152\"],[0.1,\"#c51b7d\"],[0.2,\"#de77ae\"],[0.3,\"#f1b6da\"],[0.4,\"#fde0ef\"],[0.5,\"#f7f7f7\"],[0.6,\"#e6f5d0\"],[0.7,\"#b8e186\"],[0.8,\"#7fbc41\"],[0.9,\"#4d9221\"],[1,\"#276419\"]],\"sequential\":[[0.0,\"#0d0887\"],[0.1111111111111111,\"#46039f\"],[0.2222222222222222,\"#7201a8\"],[0.3333333333333333,\"#9c179e\"],[0.4444444444444444,\"#bd3786\"],[0.5555555555555556,\"#d8576b\"],[0.6666666666666666,\"#ed7953\"],[0.7777777777777778,\"#fb9f3a\"],[0.8888888888888888,\"#fdca26\"],[1.0,\"#f0f921\"]],\"sequentialminus\":[[0.0,\"#0d0887\"],[0.1111111111111111,\"#46039f\"],[0.2222222222222222,\"#7201a8\"],[0.3333333333333333,\"#9c179e\"],[0.4444444444444444,\"#bd3786\"],[0.5555555555555556,\"#d8576b\"],[0.6666666666666666,\"#ed7953\"],[0.7777777777777778,\"#fb9f3a\"],[0.8888888888888888,\"#fdca26\"],[1.0,\"#f0f921\"]]},\"colorway\":[\"#636efa\",\"#EF553B\",\"#00cc96\",\"#ab63fa\",\"#FFA15A\",\"#19d3f3\",\"#FF6692\",\"#B6E880\",\"#FF97FF\",\"#FECB52\"],\"font\":{\"color\":\"#2a3f5f\"},\"geo\":{\"bgcolor\":\"white\",\"lakecolor\":\"white\",\"landcolor\":\"#E5ECF6\",\"showlakes\":true,\"showland\":true,\"subunitcolor\":\"white\"},\"hoverlabel\":{\"align\":\"left\"},\"hovermode\":\"closest\",\"mapbox\":{\"style\":\"light\"},\"paper_bgcolor\":\"white\",\"plot_bgcolor\":\"#E5ECF6\",\"polar\":{\"angularaxis\":{\"gridcolor\":\"white\",\"linecolor\":\"white\",\"ticks\":\"\"},\"bgcolor\":\"#E5ECF6\",\"radialaxis\":{\"gridcolor\":\"white\",\"linecolor\":\"white\",\"ticks\":\"\"}},\"scene\":{\"xaxis\":{\"backgroundcolor\":\"#E5ECF6\",\"gridcolor\":\"white\",\"gridwidth\":2,\"linecolor\":\"white\",\"showbackground\":true,\"ticks\":\"\",\"zerolinecolor\":\"white\"},\"yaxis\":{\"backgroundcolor\":\"#E5ECF6\",\"gridcolor\":\"white\",\"gridwidth\":2,\"linecolor\":\"white\",\"showbackground\":true,\"ticks\":\"\",\"zerolinecolor\":\"white\"},\"zaxis\":{\"backgroundcolor\":\"#E5ECF6\",\"gridcolor\":\"white\",\"gridwidth\":2,\"linecolor\":\"white\",\"showbackground\":true,\"ticks\":\"\",\"zerolinecolor\":\"white\"}},\"shapedefaults\":{\"line\":{\"color\":\"#2a3f5f\"}},\"ternary\":{\"aaxis\":{\"gridcolor\":\"white\",\"linecolor\":\"white\",\"ticks\":\"\"},\"baxis\":{\"gridcolor\":\"white\",\"linecolor\":\"white\",\"ticks\":\"\"},\"bgcolor\":\"#E5ECF6\",\"caxis\":{\"gridcolor\":\"white\",\"linecolor\":\"white\",\"ticks\":\"\"}},\"title\":{\"x\":0.05},\"xaxis\":{\"automargin\":true,\"gridcolor\":\"white\",\"linecolor\":\"white\",\"ticks\":\"\",\"title\":{\"standoff\":15},\"zerolinecolor\":\"white\",\"zerolinewidth\":2},\"yaxis\":{\"automargin\":true,\"gridcolor\":\"white\",\"linecolor\":\"white\",\"ticks\":\"\",\"title\":{\"standoff\":15},\"zerolinecolor\":\"white\",\"zerolinewidth\":2}}},\"xaxis\":{\"rangeslider\":{\"visible\":true},\"title\":{\"text\":\"Date\"}},\"yaxis\":{\"title\":{\"text\":\"Total Revenue (\\u00a3)\"}},\"title\":{\"text\":\"Model 3 - Linear Regression Predicted Weekly Revenue\"}},                        {\"responsive\": true}                    ).then(function(){\n",
       "                            \n",
       "var gd = document.getElementById('9105039b-dd65-4141-b001-71583a5e77ad');\n",
       "var x = new MutationObserver(function (mutations, observer) {{\n",
       "        var display = window.getComputedStyle(gd).display;\n",
       "        if (!display || display === 'none') {{\n",
       "            console.log([gd, 'removed!']);\n",
       "            Plotly.purge(gd);\n",
       "            observer.disconnect();\n",
       "        }}\n",
       "}});\n",
       "\n",
       "// Listen for the removal of the full notebook cells\n",
       "var notebookContainer = gd.closest('#notebook-container');\n",
       "if (notebookContainer) {{\n",
       "    x.observe(notebookContainer, {childList: true});\n",
       "}}\n",
       "\n",
       "// Listen for the clearing of the current output cell\n",
       "var outputEl = gd.closest('.output');\n",
       "if (outputEl) {{\n",
       "    x.observe(outputEl, {childList: true});\n",
       "}}\n",
       "\n",
       "                        })                };                });            </script>        </div>"
      ]
     },
     "metadata": {},
     "output_type": "display_data"
    }
   ],
   "source": [
    "fig = go.Figure()\n",
    "fig.add_trace(go.Scatter(x=train.index, \n",
    "                         y=train['Total_Revenue'], mode='lines', name='Train'))\n",
    "fig.add_trace(go.Scatter(x=test.index, \n",
    "                         y=test['Total_Revenue'], mode='lines', name='Test'))\n",
    "fig.add_trace(go.Scatter(x=test.index, \n",
    "                         y=prediction_3, mode='lines', name='Prediction 3'))\n",
    "\n",
    "fig.update_xaxes(rangeslider_visible=True)\n",
    "fig.update_layout(\n",
    "    yaxis_title='Total Revenue (£)', \n",
    "    xaxis_title='Date',\n",
    "    title='Model 3 - Linear Regression Predicted Weekly Revenue'\n",
    ")\n",
    "fig.show()"
   ]
  },
  {
   "cell_type": "code",
   "execution_count": 95,
   "id": "4cad03d8",
   "metadata": {},
   "outputs": [
    {
     "name": "stdout",
     "output_type": "stream",
     "text": [
      "The RMSE for the weekly forecast is: 12861.2\n",
      "\n",
      "The MAE between the actual and weekly forecast revenue is 10752.25\n",
      "\n",
      "The MAPE between the actual and weekly forecast revenue is 10.6%\n"
     ]
    }
   ],
   "source": [
    "bakery.full_accuracy_report(test['Total_Revenue'],\n",
    "                            prediction_3, 'weekly forecast')"
   ]
  },
  {
   "cell_type": "markdown",
   "id": "da20740b",
   "metadata": {},
   "source": [
    "## Model 3 - Accuracy Evaluation\n",
    "Despite the MAPE improving, the R<sup>2</sup> value has decreased dramatically to 0.537. \n",
    "\n",
    "The `Bank_Holiday` column also now has a p-value greater than 0.05, therefore for the next iteration this will be dropped. "
   ]
  },
  {
   "cell_type": "code",
   "execution_count": 96,
   "id": "07f1ecce",
   "metadata": {},
   "outputs": [
    {
     "data": {
      "text/html": [
       "<div>\n",
       "<style scoped>\n",
       "    .dataframe tbody tr th:only-of-type {\n",
       "        vertical-align: middle;\n",
       "    }\n",
       "\n",
       "    .dataframe tbody tr th {\n",
       "        vertical-align: top;\n",
       "    }\n",
       "\n",
       "    .dataframe thead th {\n",
       "        text-align: right;\n",
       "    }\n",
       "</style>\n",
       "<table border=\"1\" class=\"dataframe\">\n",
       "  <thead>\n",
       "    <tr style=\"text-align: right;\">\n",
       "      <th></th>\n",
       "      <th>Model</th>\n",
       "      <th>R2</th>\n",
       "      <th>RMSE</th>\n",
       "      <th>AIC</th>\n",
       "      <th>MAPE (%)</th>\n",
       "      <th>Comments</th>\n",
       "    </tr>\n",
       "  </thead>\n",
       "  <tbody>\n",
       "    <tr>\n",
       "      <th>0</th>\n",
       "      <td>1</td>\n",
       "      <td>0.791</td>\n",
       "      <td>14111.89</td>\n",
       "      <td>1614</td>\n",
       "      <td>11.4%</td>\n",
       "      <td>All initial variables</td>\n",
       "    </tr>\n",
       "    <tr>\n",
       "      <th>1</th>\n",
       "      <td>2</td>\n",
       "      <td>0.779</td>\n",
       "      <td>15395.97</td>\n",
       "      <td>1614</td>\n",
       "      <td>13.2%</td>\n",
       "      <td>Dropped Closed Xmas, 3D_MA</td>\n",
       "    </tr>\n",
       "    <tr>\n",
       "      <th>2</th>\n",
       "      <td>3</td>\n",
       "      <td>0.537</td>\n",
       "      <td>12861.20</td>\n",
       "      <td>1668</td>\n",
       "      <td>10.6%</td>\n",
       "      <td>Dropped 20D MA</td>\n",
       "    </tr>\n",
       "  </tbody>\n",
       "</table>\n",
       "</div>"
      ],
      "text/plain": [
       "   Model     R2      RMSE   AIC MAPE (%)                    Comments\n",
       "0      1  0.791  14111.89  1614    11.4%       All initial variables\n",
       "1      2  0.779  15395.97  1614    13.2%  Dropped Closed Xmas, 3D_MA\n",
       "2      3  0.537  12861.20  1668    10.6%              Dropped 20D MA"
      ]
     },
     "metadata": {},
     "output_type": "display_data"
    }
   ],
   "source": [
    "# To add the scores to the results table \n",
    "model_scores = bakery.add_results(model_scores, 3, 0.537, 12861.2, 1668, '10.6%', 'Dropped 20D MA')"
   ]
  },
  {
   "cell_type": "markdown",
   "id": "682ad007",
   "metadata": {},
   "source": [
    "# Model 4 - Dropping `Bank_Holiday`"
   ]
  },
  {
   "cell_type": "code",
   "execution_count": 107,
   "id": "92a3410c",
   "metadata": {},
   "outputs": [
    {
     "data": {
      "text/html": [
       "<table class=\"simpletable\">\n",
       "<caption>OLS Regression Results</caption>\n",
       "<tr>\n",
       "  <th>Dep. Variable:</th>      <td>Total_Revenue</td>  <th>  R-squared:         </th> <td>   0.528</td>\n",
       "</tr>\n",
       "<tr>\n",
       "  <th>Model:</th>                   <td>OLS</td>       <th>  Adj. R-squared:    </th> <td>   0.508</td>\n",
       "</tr>\n",
       "<tr>\n",
       "  <th>Method:</th>             <td>Least Squares</td>  <th>  F-statistic:       </th> <td>   26.83</td>\n",
       "</tr>\n",
       "<tr>\n",
       "  <th>Date:</th>             <td>Tue, 25 Oct 2022</td> <th>  Prob (F-statistic):</th> <td>9.29e-12</td>\n",
       "</tr>\n",
       "<tr>\n",
       "  <th>Time:</th>                 <td>22:36:34</td>     <th>  Log-Likelihood:    </th> <td> -829.73</td>\n",
       "</tr>\n",
       "<tr>\n",
       "  <th>No. Observations:</th>      <td>    76</td>      <th>  AIC:               </th> <td>   1667.</td>\n",
       "</tr>\n",
       "<tr>\n",
       "  <th>Df Residuals:</th>          <td>    72</td>      <th>  BIC:               </th> <td>   1677.</td>\n",
       "</tr>\n",
       "<tr>\n",
       "  <th>Df Model:</th>              <td>     3</td>      <th>                     </th>     <td> </td>   \n",
       "</tr>\n",
       "<tr>\n",
       "  <th>Covariance Type:</th>      <td>nonrobust</td>    <th>                     </th>     <td> </td>   \n",
       "</tr>\n",
       "</table>\n",
       "<table class=\"simpletable\">\n",
       "<tr>\n",
       "      <td></td>         <th>coef</th>     <th>std err</th>      <th>t</th>      <th>P>|t|</th>  <th>[0.025</th>    <th>0.975]</th>  \n",
       "</tr>\n",
       "<tr>\n",
       "  <th>const</th>     <td> 6.458e+04</td> <td> 5811.562</td> <td>   11.112</td> <td> 0.000</td> <td>  5.3e+04</td> <td> 7.62e+04</td>\n",
       "</tr>\n",
       "<tr>\n",
       "  <th>Weekday</th>   <td>-3232.2177</td> <td> 1168.473</td> <td>   -2.766</td> <td> 0.007</td> <td>-5561.526</td> <td> -902.910</td>\n",
       "</tr>\n",
       "<tr>\n",
       "  <th>Weekend</th>   <td>-5042.8229</td> <td> 2620.906</td> <td>   -1.924</td> <td> 0.058</td> <td>-1.03e+04</td> <td>  181.859</td>\n",
       "</tr>\n",
       "<tr>\n",
       "  <th>7W_MA_lag</th> <td>    0.4192</td> <td>    0.075</td> <td>    5.553</td> <td> 0.000</td> <td>    0.269</td> <td>    0.570</td>\n",
       "</tr>\n",
       "</table>\n",
       "<table class=\"simpletable\">\n",
       "<tr>\n",
       "  <th>Omnibus:</th>       <td> 8.418</td> <th>  Durbin-Watson:     </th> <td>   0.391</td>\n",
       "</tr>\n",
       "<tr>\n",
       "  <th>Prob(Omnibus):</th> <td> 0.015</td> <th>  Jarque-Bera (JB):  </th> <td>   4.867</td>\n",
       "</tr>\n",
       "<tr>\n",
       "  <th>Skew:</th>          <td>-0.436</td> <th>  Prob(JB):          </th> <td>  0.0877</td>\n",
       "</tr>\n",
       "<tr>\n",
       "  <th>Kurtosis:</th>      <td> 2.120</td> <th>  Cond. No.          </th> <td>2.52e+05</td>\n",
       "</tr>\n",
       "</table><br/><br/>Notes:<br/>[1] Standard Errors assume that the covariance matrix of the errors is correctly specified.<br/>[2] The condition number is large, 2.52e+05. This might indicate that there are<br/>strong multicollinearity or other numerical problems."
      ],
      "text/plain": [
       "<class 'statsmodels.iolib.summary.Summary'>\n",
       "\"\"\"\n",
       "                            OLS Regression Results                            \n",
       "==============================================================================\n",
       "Dep. Variable:          Total_Revenue   R-squared:                       0.528\n",
       "Model:                            OLS   Adj. R-squared:                  0.508\n",
       "Method:                 Least Squares   F-statistic:                     26.83\n",
       "Date:                Tue, 25 Oct 2022   Prob (F-statistic):           9.29e-12\n",
       "Time:                        22:36:34   Log-Likelihood:                -829.73\n",
       "No. Observations:                  76   AIC:                             1667.\n",
       "Df Residuals:                      72   BIC:                             1677.\n",
       "Df Model:                           3                                         \n",
       "Covariance Type:            nonrobust                                         \n",
       "==============================================================================\n",
       "                 coef    std err          t      P>|t|      [0.025      0.975]\n",
       "------------------------------------------------------------------------------\n",
       "const       6.458e+04   5811.562     11.112      0.000     5.3e+04    7.62e+04\n",
       "Weekday    -3232.2177   1168.473     -2.766      0.007   -5561.526    -902.910\n",
       "Weekend    -5042.8229   2620.906     -1.924      0.058   -1.03e+04     181.859\n",
       "7W_MA_lag      0.4192      0.075      5.553      0.000       0.269       0.570\n",
       "==============================================================================\n",
       "Omnibus:                        8.418   Durbin-Watson:                   0.391\n",
       "Prob(Omnibus):                  0.015   Jarque-Bera (JB):                4.867\n",
       "Skew:                          -0.436   Prob(JB):                       0.0877\n",
       "Kurtosis:                       2.120   Cond. No.                     2.52e+05\n",
       "==============================================================================\n",
       "\n",
       "Notes:\n",
       "[1] Standard Errors assume that the covariance matrix of the errors is correctly specified.\n",
       "[2] The condition number is large, 2.52e+05. This might indicate that there are\n",
       "strong multicollinearity or other numerical problems.\n",
       "\"\"\""
      ]
     },
     "execution_count": 107,
     "metadata": {},
     "output_type": "execute_result"
    }
   ],
   "source": [
    "independent_variables_4 = independent_variables_3.drop(columns=['Bank_Holiday']).copy()\n",
    "\n",
    "y = train['Total_Revenue']\n",
    "\n",
    "# First the X and y values need to splitted: \n",
    "X = independent_variables_4\n",
    "\n",
    "# Then the X_ constant needs to be added to give the intercept value\n",
    "X_withconstant = sm.add_constant(X)\n",
    "\n",
    "# The model is then instantiated using the sm.OLS method\n",
    "lm_revenue = sm.OLS(y,X_withconstant)\n",
    "\n",
    "# The model is fitted using the .fit() method\n",
    "lm_revenue_results = lm_revenue.fit()\n",
    "\n",
    "# The results are displayed using the .summary() method\n",
    "lm_revenue_results.summary()"
   ]
  },
  {
   "cell_type": "code",
   "execution_count": 108,
   "id": "7dae848f",
   "metadata": {},
   "outputs": [],
   "source": [
    "X_test = test.drop(columns=['Total_Revenue', '3W_MA', '7W_MA', '20W_MA', 'Closed_Xmas',\n",
    "                            '3W_MA_lag','20W_MA_lag', 'Bank_Holiday']).copy()\n",
    "\n",
    "X_test_withconstant = sm.add_constant(X_test)"
   ]
  },
  {
   "cell_type": "code",
   "execution_count": 109,
   "id": "507c8916",
   "metadata": {},
   "outputs": [],
   "source": [
    "# Predictions\n",
    "prediction_4 = lm_revenue_results.predict(X_test_withconstant)"
   ]
  },
  {
   "cell_type": "code",
   "execution_count": 110,
   "id": "38dc6e2c",
   "metadata": {},
   "outputs": [
    {
     "data": {
      "application/vnd.plotly.v1+json": {
       "config": {
        "plotlyServerURL": "https://plot.ly"
       },
       "data": [
        {
         "mode": "lines",
         "name": "Train",
         "type": "scatter",
         "x": [
          "2021-03-07T00:00:00",
          "2021-03-14T00:00:00",
          "2021-03-21T00:00:00",
          "2021-03-28T00:00:00",
          "2021-04-04T00:00:00",
          "2021-04-11T00:00:00",
          "2021-04-18T00:00:00",
          "2021-04-25T00:00:00",
          "2021-05-02T00:00:00",
          "2021-05-09T00:00:00",
          "2021-05-16T00:00:00",
          "2021-05-23T00:00:00",
          "2021-05-30T00:00:00",
          "2021-06-06T00:00:00",
          "2021-06-13T00:00:00",
          "2021-06-20T00:00:00",
          "2021-06-27T00:00:00",
          "2021-07-04T00:00:00",
          "2021-07-11T00:00:00",
          "2021-07-18T00:00:00",
          "2021-07-25T00:00:00",
          "2021-08-01T00:00:00",
          "2021-08-08T00:00:00",
          "2021-08-15T00:00:00",
          "2021-08-22T00:00:00",
          "2021-08-29T00:00:00",
          "2021-09-05T00:00:00",
          "2021-09-12T00:00:00",
          "2021-09-19T00:00:00",
          "2021-09-26T00:00:00",
          "2021-10-03T00:00:00",
          "2021-10-10T00:00:00",
          "2021-10-17T00:00:00",
          "2021-10-24T00:00:00",
          "2021-10-31T00:00:00",
          "2021-11-07T00:00:00",
          "2021-11-14T00:00:00",
          "2021-11-21T00:00:00",
          "2021-11-28T00:00:00",
          "2021-12-05T00:00:00",
          "2021-12-12T00:00:00",
          "2021-12-19T00:00:00",
          "2021-12-26T00:00:00",
          "2022-01-02T00:00:00",
          "2022-01-09T00:00:00",
          "2022-01-16T00:00:00",
          "2022-01-23T00:00:00",
          "2022-01-30T00:00:00",
          "2022-02-06T00:00:00",
          "2022-02-13T00:00:00",
          "2022-02-20T00:00:00",
          "2022-02-27T00:00:00",
          "2022-03-06T00:00:00",
          "2022-03-13T00:00:00",
          "2022-03-20T00:00:00",
          "2022-03-27T00:00:00",
          "2022-04-03T00:00:00",
          "2022-04-10T00:00:00",
          "2022-04-17T00:00:00",
          "2022-04-24T00:00:00",
          "2022-05-01T00:00:00",
          "2022-05-08T00:00:00",
          "2022-05-15T00:00:00",
          "2022-05-22T00:00:00",
          "2022-05-29T00:00:00",
          "2022-06-05T00:00:00",
          "2022-06-12T00:00:00",
          "2022-06-19T00:00:00",
          "2022-06-26T00:00:00",
          "2022-07-03T00:00:00",
          "2022-07-10T00:00:00",
          "2022-07-17T00:00:00",
          "2022-07-24T00:00:00",
          "2022-07-31T00:00:00",
          "2022-08-07T00:00:00",
          "2022-08-14T00:00:00"
         ],
         "y": [
          27155.95,
          28698.05,
          29639.92,
          33834.22,
          49890.95,
          46976.75,
          72553.91,
          59804.86,
          62821.04,
          60201.77,
          58890.41,
          65883.27,
          72868.88,
          91050.3,
          70049.93,
          71821.2,
          74764.78,
          74499.56,
          82700.02,
          87403.88,
          93902.69,
          102590.59,
          104418.96,
          106765.67,
          105296.07,
          107555.55,
          92307.18,
          81485.62,
          80503.23,
          76278.72,
          74564.75,
          71568.15,
          70676.15,
          75993.28,
          90174.68,
          69867.09,
          65234.33,
          66232.44,
          63486.83,
          56164.75,
          54413.93,
          60703.51,
          62838.18,
          92832.18,
          66753.16,
          55705.39,
          53775.72,
          55267,
          48605.95,
          55404.22,
          73178.69,
          70478.72,
          61158.84,
          59521.83,
          57831.15,
          66849.78,
          66799.78,
          83854.31,
          103458.98,
          82578.42,
          73220.14,
          76245.74,
          71606.08,
          66308.36,
          74498.17,
          115555.67,
          68270.5,
          77556.5,
          81120.04,
          78429.52,
          80994.74,
          90259.78,
          98332,
          112021.47,
          109098.8,
          106518.19
         ]
        },
        {
         "mode": "lines",
         "name": "Test",
         "type": "scatter",
         "x": [
          "2022-08-21T00:00:00",
          "2022-08-28T00:00:00",
          "2022-09-04T00:00:00",
          "2022-09-11T00:00:00",
          "2022-09-18T00:00:00",
          "2022-09-25T00:00:00"
         ],
         "y": [
          113387.44,
          118277.59,
          103478.4,
          78442.65,
          86436.14,
          84465.6
         ]
        },
        {
         "mode": "lines",
         "name": "Prediction 4",
         "type": "scatter",
         "x": [
          "2022-08-21T00:00:00",
          "2022-08-28T00:00:00",
          "2022-09-04T00:00:00",
          "2022-09-11T00:00:00",
          "2022-09-18T00:00:00",
          "2022-09-25T00:00:00"
         ],
         "y": [
          98216.41893143117,
          99095.91348505337,
          100039.79626562638,
          72761.62230763421,
          75381.6446565548,
          77270.5504258864
         ]
        }
       ],
       "layout": {
        "template": {
         "data": {
          "bar": [
           {
            "error_x": {
             "color": "#2a3f5f"
            },
            "error_y": {
             "color": "#2a3f5f"
            },
            "marker": {
             "line": {
              "color": "#E5ECF6",
              "width": 0.5
             },
             "pattern": {
              "fillmode": "overlay",
              "size": 10,
              "solidity": 0.2
             }
            },
            "type": "bar"
           }
          ],
          "barpolar": [
           {
            "marker": {
             "line": {
              "color": "#E5ECF6",
              "width": 0.5
             },
             "pattern": {
              "fillmode": "overlay",
              "size": 10,
              "solidity": 0.2
             }
            },
            "type": "barpolar"
           }
          ],
          "carpet": [
           {
            "aaxis": {
             "endlinecolor": "#2a3f5f",
             "gridcolor": "white",
             "linecolor": "white",
             "minorgridcolor": "white",
             "startlinecolor": "#2a3f5f"
            },
            "baxis": {
             "endlinecolor": "#2a3f5f",
             "gridcolor": "white",
             "linecolor": "white",
             "minorgridcolor": "white",
             "startlinecolor": "#2a3f5f"
            },
            "type": "carpet"
           }
          ],
          "choropleth": [
           {
            "colorbar": {
             "outlinewidth": 0,
             "ticks": ""
            },
            "type": "choropleth"
           }
          ],
          "contour": [
           {
            "colorbar": {
             "outlinewidth": 0,
             "ticks": ""
            },
            "colorscale": [
             [
              0,
              "#0d0887"
             ],
             [
              0.1111111111111111,
              "#46039f"
             ],
             [
              0.2222222222222222,
              "#7201a8"
             ],
             [
              0.3333333333333333,
              "#9c179e"
             ],
             [
              0.4444444444444444,
              "#bd3786"
             ],
             [
              0.5555555555555556,
              "#d8576b"
             ],
             [
              0.6666666666666666,
              "#ed7953"
             ],
             [
              0.7777777777777778,
              "#fb9f3a"
             ],
             [
              0.8888888888888888,
              "#fdca26"
             ],
             [
              1,
              "#f0f921"
             ]
            ],
            "type": "contour"
           }
          ],
          "contourcarpet": [
           {
            "colorbar": {
             "outlinewidth": 0,
             "ticks": ""
            },
            "type": "contourcarpet"
           }
          ],
          "heatmap": [
           {
            "colorbar": {
             "outlinewidth": 0,
             "ticks": ""
            },
            "colorscale": [
             [
              0,
              "#0d0887"
             ],
             [
              0.1111111111111111,
              "#46039f"
             ],
             [
              0.2222222222222222,
              "#7201a8"
             ],
             [
              0.3333333333333333,
              "#9c179e"
             ],
             [
              0.4444444444444444,
              "#bd3786"
             ],
             [
              0.5555555555555556,
              "#d8576b"
             ],
             [
              0.6666666666666666,
              "#ed7953"
             ],
             [
              0.7777777777777778,
              "#fb9f3a"
             ],
             [
              0.8888888888888888,
              "#fdca26"
             ],
             [
              1,
              "#f0f921"
             ]
            ],
            "type": "heatmap"
           }
          ],
          "heatmapgl": [
           {
            "colorbar": {
             "outlinewidth": 0,
             "ticks": ""
            },
            "colorscale": [
             [
              0,
              "#0d0887"
             ],
             [
              0.1111111111111111,
              "#46039f"
             ],
             [
              0.2222222222222222,
              "#7201a8"
             ],
             [
              0.3333333333333333,
              "#9c179e"
             ],
             [
              0.4444444444444444,
              "#bd3786"
             ],
             [
              0.5555555555555556,
              "#d8576b"
             ],
             [
              0.6666666666666666,
              "#ed7953"
             ],
             [
              0.7777777777777778,
              "#fb9f3a"
             ],
             [
              0.8888888888888888,
              "#fdca26"
             ],
             [
              1,
              "#f0f921"
             ]
            ],
            "type": "heatmapgl"
           }
          ],
          "histogram": [
           {
            "marker": {
             "pattern": {
              "fillmode": "overlay",
              "size": 10,
              "solidity": 0.2
             }
            },
            "type": "histogram"
           }
          ],
          "histogram2d": [
           {
            "colorbar": {
             "outlinewidth": 0,
             "ticks": ""
            },
            "colorscale": [
             [
              0,
              "#0d0887"
             ],
             [
              0.1111111111111111,
              "#46039f"
             ],
             [
              0.2222222222222222,
              "#7201a8"
             ],
             [
              0.3333333333333333,
              "#9c179e"
             ],
             [
              0.4444444444444444,
              "#bd3786"
             ],
             [
              0.5555555555555556,
              "#d8576b"
             ],
             [
              0.6666666666666666,
              "#ed7953"
             ],
             [
              0.7777777777777778,
              "#fb9f3a"
             ],
             [
              0.8888888888888888,
              "#fdca26"
             ],
             [
              1,
              "#f0f921"
             ]
            ],
            "type": "histogram2d"
           }
          ],
          "histogram2dcontour": [
           {
            "colorbar": {
             "outlinewidth": 0,
             "ticks": ""
            },
            "colorscale": [
             [
              0,
              "#0d0887"
             ],
             [
              0.1111111111111111,
              "#46039f"
             ],
             [
              0.2222222222222222,
              "#7201a8"
             ],
             [
              0.3333333333333333,
              "#9c179e"
             ],
             [
              0.4444444444444444,
              "#bd3786"
             ],
             [
              0.5555555555555556,
              "#d8576b"
             ],
             [
              0.6666666666666666,
              "#ed7953"
             ],
             [
              0.7777777777777778,
              "#fb9f3a"
             ],
             [
              0.8888888888888888,
              "#fdca26"
             ],
             [
              1,
              "#f0f921"
             ]
            ],
            "type": "histogram2dcontour"
           }
          ],
          "mesh3d": [
           {
            "colorbar": {
             "outlinewidth": 0,
             "ticks": ""
            },
            "type": "mesh3d"
           }
          ],
          "parcoords": [
           {
            "line": {
             "colorbar": {
              "outlinewidth": 0,
              "ticks": ""
             }
            },
            "type": "parcoords"
           }
          ],
          "pie": [
           {
            "automargin": true,
            "type": "pie"
           }
          ],
          "scatter": [
           {
            "marker": {
             "colorbar": {
              "outlinewidth": 0,
              "ticks": ""
             }
            },
            "type": "scatter"
           }
          ],
          "scatter3d": [
           {
            "line": {
             "colorbar": {
              "outlinewidth": 0,
              "ticks": ""
             }
            },
            "marker": {
             "colorbar": {
              "outlinewidth": 0,
              "ticks": ""
             }
            },
            "type": "scatter3d"
           }
          ],
          "scattercarpet": [
           {
            "marker": {
             "colorbar": {
              "outlinewidth": 0,
              "ticks": ""
             }
            },
            "type": "scattercarpet"
           }
          ],
          "scattergeo": [
           {
            "marker": {
             "colorbar": {
              "outlinewidth": 0,
              "ticks": ""
             }
            },
            "type": "scattergeo"
           }
          ],
          "scattergl": [
           {
            "marker": {
             "colorbar": {
              "outlinewidth": 0,
              "ticks": ""
             }
            },
            "type": "scattergl"
           }
          ],
          "scattermapbox": [
           {
            "marker": {
             "colorbar": {
              "outlinewidth": 0,
              "ticks": ""
             }
            },
            "type": "scattermapbox"
           }
          ],
          "scatterpolar": [
           {
            "marker": {
             "colorbar": {
              "outlinewidth": 0,
              "ticks": ""
             }
            },
            "type": "scatterpolar"
           }
          ],
          "scatterpolargl": [
           {
            "marker": {
             "colorbar": {
              "outlinewidth": 0,
              "ticks": ""
             }
            },
            "type": "scatterpolargl"
           }
          ],
          "scatterternary": [
           {
            "marker": {
             "colorbar": {
              "outlinewidth": 0,
              "ticks": ""
             }
            },
            "type": "scatterternary"
           }
          ],
          "surface": [
           {
            "colorbar": {
             "outlinewidth": 0,
             "ticks": ""
            },
            "colorscale": [
             [
              0,
              "#0d0887"
             ],
             [
              0.1111111111111111,
              "#46039f"
             ],
             [
              0.2222222222222222,
              "#7201a8"
             ],
             [
              0.3333333333333333,
              "#9c179e"
             ],
             [
              0.4444444444444444,
              "#bd3786"
             ],
             [
              0.5555555555555556,
              "#d8576b"
             ],
             [
              0.6666666666666666,
              "#ed7953"
             ],
             [
              0.7777777777777778,
              "#fb9f3a"
             ],
             [
              0.8888888888888888,
              "#fdca26"
             ],
             [
              1,
              "#f0f921"
             ]
            ],
            "type": "surface"
           }
          ],
          "table": [
           {
            "cells": {
             "fill": {
              "color": "#EBF0F8"
             },
             "line": {
              "color": "white"
             }
            },
            "header": {
             "fill": {
              "color": "#C8D4E3"
             },
             "line": {
              "color": "white"
             }
            },
            "type": "table"
           }
          ]
         },
         "layout": {
          "annotationdefaults": {
           "arrowcolor": "#2a3f5f",
           "arrowhead": 0,
           "arrowwidth": 1
          },
          "autotypenumbers": "strict",
          "coloraxis": {
           "colorbar": {
            "outlinewidth": 0,
            "ticks": ""
           }
          },
          "colorscale": {
           "diverging": [
            [
             0,
             "#8e0152"
            ],
            [
             0.1,
             "#c51b7d"
            ],
            [
             0.2,
             "#de77ae"
            ],
            [
             0.3,
             "#f1b6da"
            ],
            [
             0.4,
             "#fde0ef"
            ],
            [
             0.5,
             "#f7f7f7"
            ],
            [
             0.6,
             "#e6f5d0"
            ],
            [
             0.7,
             "#b8e186"
            ],
            [
             0.8,
             "#7fbc41"
            ],
            [
             0.9,
             "#4d9221"
            ],
            [
             1,
             "#276419"
            ]
           ],
           "sequential": [
            [
             0,
             "#0d0887"
            ],
            [
             0.1111111111111111,
             "#46039f"
            ],
            [
             0.2222222222222222,
             "#7201a8"
            ],
            [
             0.3333333333333333,
             "#9c179e"
            ],
            [
             0.4444444444444444,
             "#bd3786"
            ],
            [
             0.5555555555555556,
             "#d8576b"
            ],
            [
             0.6666666666666666,
             "#ed7953"
            ],
            [
             0.7777777777777778,
             "#fb9f3a"
            ],
            [
             0.8888888888888888,
             "#fdca26"
            ],
            [
             1,
             "#f0f921"
            ]
           ],
           "sequentialminus": [
            [
             0,
             "#0d0887"
            ],
            [
             0.1111111111111111,
             "#46039f"
            ],
            [
             0.2222222222222222,
             "#7201a8"
            ],
            [
             0.3333333333333333,
             "#9c179e"
            ],
            [
             0.4444444444444444,
             "#bd3786"
            ],
            [
             0.5555555555555556,
             "#d8576b"
            ],
            [
             0.6666666666666666,
             "#ed7953"
            ],
            [
             0.7777777777777778,
             "#fb9f3a"
            ],
            [
             0.8888888888888888,
             "#fdca26"
            ],
            [
             1,
             "#f0f921"
            ]
           ]
          },
          "colorway": [
           "#636efa",
           "#EF553B",
           "#00cc96",
           "#ab63fa",
           "#FFA15A",
           "#19d3f3",
           "#FF6692",
           "#B6E880",
           "#FF97FF",
           "#FECB52"
          ],
          "font": {
           "color": "#2a3f5f"
          },
          "geo": {
           "bgcolor": "white",
           "lakecolor": "white",
           "landcolor": "#E5ECF6",
           "showlakes": true,
           "showland": true,
           "subunitcolor": "white"
          },
          "hoverlabel": {
           "align": "left"
          },
          "hovermode": "closest",
          "mapbox": {
           "style": "light"
          },
          "paper_bgcolor": "white",
          "plot_bgcolor": "#E5ECF6",
          "polar": {
           "angularaxis": {
            "gridcolor": "white",
            "linecolor": "white",
            "ticks": ""
           },
           "bgcolor": "#E5ECF6",
           "radialaxis": {
            "gridcolor": "white",
            "linecolor": "white",
            "ticks": ""
           }
          },
          "scene": {
           "xaxis": {
            "backgroundcolor": "#E5ECF6",
            "gridcolor": "white",
            "gridwidth": 2,
            "linecolor": "white",
            "showbackground": true,
            "ticks": "",
            "zerolinecolor": "white"
           },
           "yaxis": {
            "backgroundcolor": "#E5ECF6",
            "gridcolor": "white",
            "gridwidth": 2,
            "linecolor": "white",
            "showbackground": true,
            "ticks": "",
            "zerolinecolor": "white"
           },
           "zaxis": {
            "backgroundcolor": "#E5ECF6",
            "gridcolor": "white",
            "gridwidth": 2,
            "linecolor": "white",
            "showbackground": true,
            "ticks": "",
            "zerolinecolor": "white"
           }
          },
          "shapedefaults": {
           "line": {
            "color": "#2a3f5f"
           }
          },
          "ternary": {
           "aaxis": {
            "gridcolor": "white",
            "linecolor": "white",
            "ticks": ""
           },
           "baxis": {
            "gridcolor": "white",
            "linecolor": "white",
            "ticks": ""
           },
           "bgcolor": "#E5ECF6",
           "caxis": {
            "gridcolor": "white",
            "linecolor": "white",
            "ticks": ""
           }
          },
          "title": {
           "x": 0.05
          },
          "xaxis": {
           "automargin": true,
           "gridcolor": "white",
           "linecolor": "white",
           "ticks": "",
           "title": {
            "standoff": 15
           },
           "zerolinecolor": "white",
           "zerolinewidth": 2
          },
          "yaxis": {
           "automargin": true,
           "gridcolor": "white",
           "linecolor": "white",
           "ticks": "",
           "title": {
            "standoff": 15
           },
           "zerolinecolor": "white",
           "zerolinewidth": 2
          }
         }
        },
        "title": {
         "text": "Model 4 - Linear Regression Predicted Weekly Revenue"
        },
        "xaxis": {
         "rangeslider": {
          "visible": true
         },
         "title": {
          "text": "Date"
         }
        },
        "yaxis": {
         "title": {
          "text": "Total Revenue (£)"
         }
        }
       }
      },
      "text/html": [
       "<div>                            <div id=\"120f5302-e628-4f39-83b6-182540833229\" class=\"plotly-graph-div\" style=\"height:525px; width:100%;\"></div>            <script type=\"text/javascript\">                require([\"plotly\"], function(Plotly) {                    window.PLOTLYENV=window.PLOTLYENV || {};                                    if (document.getElementById(\"120f5302-e628-4f39-83b6-182540833229\")) {                    Plotly.newPlot(                        \"120f5302-e628-4f39-83b6-182540833229\",                        [{\"mode\":\"lines\",\"name\":\"Train\",\"x\":[\"2021-03-07T00:00:00\",\"2021-03-14T00:00:00\",\"2021-03-21T00:00:00\",\"2021-03-28T00:00:00\",\"2021-04-04T00:00:00\",\"2021-04-11T00:00:00\",\"2021-04-18T00:00:00\",\"2021-04-25T00:00:00\",\"2021-05-02T00:00:00\",\"2021-05-09T00:00:00\",\"2021-05-16T00:00:00\",\"2021-05-23T00:00:00\",\"2021-05-30T00:00:00\",\"2021-06-06T00:00:00\",\"2021-06-13T00:00:00\",\"2021-06-20T00:00:00\",\"2021-06-27T00:00:00\",\"2021-07-04T00:00:00\",\"2021-07-11T00:00:00\",\"2021-07-18T00:00:00\",\"2021-07-25T00:00:00\",\"2021-08-01T00:00:00\",\"2021-08-08T00:00:00\",\"2021-08-15T00:00:00\",\"2021-08-22T00:00:00\",\"2021-08-29T00:00:00\",\"2021-09-05T00:00:00\",\"2021-09-12T00:00:00\",\"2021-09-19T00:00:00\",\"2021-09-26T00:00:00\",\"2021-10-03T00:00:00\",\"2021-10-10T00:00:00\",\"2021-10-17T00:00:00\",\"2021-10-24T00:00:00\",\"2021-10-31T00:00:00\",\"2021-11-07T00:00:00\",\"2021-11-14T00:00:00\",\"2021-11-21T00:00:00\",\"2021-11-28T00:00:00\",\"2021-12-05T00:00:00\",\"2021-12-12T00:00:00\",\"2021-12-19T00:00:00\",\"2021-12-26T00:00:00\",\"2022-01-02T00:00:00\",\"2022-01-09T00:00:00\",\"2022-01-16T00:00:00\",\"2022-01-23T00:00:00\",\"2022-01-30T00:00:00\",\"2022-02-06T00:00:00\",\"2022-02-13T00:00:00\",\"2022-02-20T00:00:00\",\"2022-02-27T00:00:00\",\"2022-03-06T00:00:00\",\"2022-03-13T00:00:00\",\"2022-03-20T00:00:00\",\"2022-03-27T00:00:00\",\"2022-04-03T00:00:00\",\"2022-04-10T00:00:00\",\"2022-04-17T00:00:00\",\"2022-04-24T00:00:00\",\"2022-05-01T00:00:00\",\"2022-05-08T00:00:00\",\"2022-05-15T00:00:00\",\"2022-05-22T00:00:00\",\"2022-05-29T00:00:00\",\"2022-06-05T00:00:00\",\"2022-06-12T00:00:00\",\"2022-06-19T00:00:00\",\"2022-06-26T00:00:00\",\"2022-07-03T00:00:00\",\"2022-07-10T00:00:00\",\"2022-07-17T00:00:00\",\"2022-07-24T00:00:00\",\"2022-07-31T00:00:00\",\"2022-08-07T00:00:00\",\"2022-08-14T00:00:00\"],\"y\":[27155.95,28698.05,29639.92,33834.22,49890.95,46976.75,72553.91,59804.86,62821.04,60201.77,58890.41,65883.27,72868.88,91050.3,70049.93,71821.2,74764.78,74499.56,82700.02,87403.88,93902.69,102590.59,104418.96,106765.67,105296.07,107555.55,92307.18,81485.62,80503.23,76278.72,74564.75,71568.15,70676.15,75993.28,90174.68,69867.09,65234.33,66232.44,63486.83,56164.75,54413.93,60703.51,62838.18,92832.18,66753.16,55705.39,53775.72,55267.0,48605.95,55404.22,73178.69,70478.72,61158.84,59521.83,57831.15,66849.78,66799.78,83854.31,103458.98,82578.42,73220.14,76245.74,71606.08,66308.36,74498.17,115555.67,68270.5,77556.5,81120.04,78429.52,80994.74,90259.78,98332.0,112021.47,109098.8,106518.19],\"type\":\"scatter\"},{\"mode\":\"lines\",\"name\":\"Test\",\"x\":[\"2022-08-21T00:00:00\",\"2022-08-28T00:00:00\",\"2022-09-04T00:00:00\",\"2022-09-11T00:00:00\",\"2022-09-18T00:00:00\",\"2022-09-25T00:00:00\"],\"y\":[113387.44,118277.59,103478.4,78442.65,86436.14,84465.6],\"type\":\"scatter\"},{\"mode\":\"lines\",\"name\":\"Prediction 4\",\"x\":[\"2022-08-21T00:00:00\",\"2022-08-28T00:00:00\",\"2022-09-04T00:00:00\",\"2022-09-11T00:00:00\",\"2022-09-18T00:00:00\",\"2022-09-25T00:00:00\"],\"y\":[98216.41893143117,99095.91348505337,100039.79626562638,72761.62230763421,75381.6446565548,77270.5504258864],\"type\":\"scatter\"}],                        {\"template\":{\"data\":{\"bar\":[{\"error_x\":{\"color\":\"#2a3f5f\"},\"error_y\":{\"color\":\"#2a3f5f\"},\"marker\":{\"line\":{\"color\":\"#E5ECF6\",\"width\":0.5},\"pattern\":{\"fillmode\":\"overlay\",\"size\":10,\"solidity\":0.2}},\"type\":\"bar\"}],\"barpolar\":[{\"marker\":{\"line\":{\"color\":\"#E5ECF6\",\"width\":0.5},\"pattern\":{\"fillmode\":\"overlay\",\"size\":10,\"solidity\":0.2}},\"type\":\"barpolar\"}],\"carpet\":[{\"aaxis\":{\"endlinecolor\":\"#2a3f5f\",\"gridcolor\":\"white\",\"linecolor\":\"white\",\"minorgridcolor\":\"white\",\"startlinecolor\":\"#2a3f5f\"},\"baxis\":{\"endlinecolor\":\"#2a3f5f\",\"gridcolor\":\"white\",\"linecolor\":\"white\",\"minorgridcolor\":\"white\",\"startlinecolor\":\"#2a3f5f\"},\"type\":\"carpet\"}],\"choropleth\":[{\"colorbar\":{\"outlinewidth\":0,\"ticks\":\"\"},\"type\":\"choropleth\"}],\"contour\":[{\"colorbar\":{\"outlinewidth\":0,\"ticks\":\"\"},\"colorscale\":[[0.0,\"#0d0887\"],[0.1111111111111111,\"#46039f\"],[0.2222222222222222,\"#7201a8\"],[0.3333333333333333,\"#9c179e\"],[0.4444444444444444,\"#bd3786\"],[0.5555555555555556,\"#d8576b\"],[0.6666666666666666,\"#ed7953\"],[0.7777777777777778,\"#fb9f3a\"],[0.8888888888888888,\"#fdca26\"],[1.0,\"#f0f921\"]],\"type\":\"contour\"}],\"contourcarpet\":[{\"colorbar\":{\"outlinewidth\":0,\"ticks\":\"\"},\"type\":\"contourcarpet\"}],\"heatmap\":[{\"colorbar\":{\"outlinewidth\":0,\"ticks\":\"\"},\"colorscale\":[[0.0,\"#0d0887\"],[0.1111111111111111,\"#46039f\"],[0.2222222222222222,\"#7201a8\"],[0.3333333333333333,\"#9c179e\"],[0.4444444444444444,\"#bd3786\"],[0.5555555555555556,\"#d8576b\"],[0.6666666666666666,\"#ed7953\"],[0.7777777777777778,\"#fb9f3a\"],[0.8888888888888888,\"#fdca26\"],[1.0,\"#f0f921\"]],\"type\":\"heatmap\"}],\"heatmapgl\":[{\"colorbar\":{\"outlinewidth\":0,\"ticks\":\"\"},\"colorscale\":[[0.0,\"#0d0887\"],[0.1111111111111111,\"#46039f\"],[0.2222222222222222,\"#7201a8\"],[0.3333333333333333,\"#9c179e\"],[0.4444444444444444,\"#bd3786\"],[0.5555555555555556,\"#d8576b\"],[0.6666666666666666,\"#ed7953\"],[0.7777777777777778,\"#fb9f3a\"],[0.8888888888888888,\"#fdca26\"],[1.0,\"#f0f921\"]],\"type\":\"heatmapgl\"}],\"histogram\":[{\"marker\":{\"pattern\":{\"fillmode\":\"overlay\",\"size\":10,\"solidity\":0.2}},\"type\":\"histogram\"}],\"histogram2d\":[{\"colorbar\":{\"outlinewidth\":0,\"ticks\":\"\"},\"colorscale\":[[0.0,\"#0d0887\"],[0.1111111111111111,\"#46039f\"],[0.2222222222222222,\"#7201a8\"],[0.3333333333333333,\"#9c179e\"],[0.4444444444444444,\"#bd3786\"],[0.5555555555555556,\"#d8576b\"],[0.6666666666666666,\"#ed7953\"],[0.7777777777777778,\"#fb9f3a\"],[0.8888888888888888,\"#fdca26\"],[1.0,\"#f0f921\"]],\"type\":\"histogram2d\"}],\"histogram2dcontour\":[{\"colorbar\":{\"outlinewidth\":0,\"ticks\":\"\"},\"colorscale\":[[0.0,\"#0d0887\"],[0.1111111111111111,\"#46039f\"],[0.2222222222222222,\"#7201a8\"],[0.3333333333333333,\"#9c179e\"],[0.4444444444444444,\"#bd3786\"],[0.5555555555555556,\"#d8576b\"],[0.6666666666666666,\"#ed7953\"],[0.7777777777777778,\"#fb9f3a\"],[0.8888888888888888,\"#fdca26\"],[1.0,\"#f0f921\"]],\"type\":\"histogram2dcontour\"}],\"mesh3d\":[{\"colorbar\":{\"outlinewidth\":0,\"ticks\":\"\"},\"type\":\"mesh3d\"}],\"parcoords\":[{\"line\":{\"colorbar\":{\"outlinewidth\":0,\"ticks\":\"\"}},\"type\":\"parcoords\"}],\"pie\":[{\"automargin\":true,\"type\":\"pie\"}],\"scatter\":[{\"marker\":{\"colorbar\":{\"outlinewidth\":0,\"ticks\":\"\"}},\"type\":\"scatter\"}],\"scatter3d\":[{\"line\":{\"colorbar\":{\"outlinewidth\":0,\"ticks\":\"\"}},\"marker\":{\"colorbar\":{\"outlinewidth\":0,\"ticks\":\"\"}},\"type\":\"scatter3d\"}],\"scattercarpet\":[{\"marker\":{\"colorbar\":{\"outlinewidth\":0,\"ticks\":\"\"}},\"type\":\"scattercarpet\"}],\"scattergeo\":[{\"marker\":{\"colorbar\":{\"outlinewidth\":0,\"ticks\":\"\"}},\"type\":\"scattergeo\"}],\"scattergl\":[{\"marker\":{\"colorbar\":{\"outlinewidth\":0,\"ticks\":\"\"}},\"type\":\"scattergl\"}],\"scattermapbox\":[{\"marker\":{\"colorbar\":{\"outlinewidth\":0,\"ticks\":\"\"}},\"type\":\"scattermapbox\"}],\"scatterpolar\":[{\"marker\":{\"colorbar\":{\"outlinewidth\":0,\"ticks\":\"\"}},\"type\":\"scatterpolar\"}],\"scatterpolargl\":[{\"marker\":{\"colorbar\":{\"outlinewidth\":0,\"ticks\":\"\"}},\"type\":\"scatterpolargl\"}],\"scatterternary\":[{\"marker\":{\"colorbar\":{\"outlinewidth\":0,\"ticks\":\"\"}},\"type\":\"scatterternary\"}],\"surface\":[{\"colorbar\":{\"outlinewidth\":0,\"ticks\":\"\"},\"colorscale\":[[0.0,\"#0d0887\"],[0.1111111111111111,\"#46039f\"],[0.2222222222222222,\"#7201a8\"],[0.3333333333333333,\"#9c179e\"],[0.4444444444444444,\"#bd3786\"],[0.5555555555555556,\"#d8576b\"],[0.6666666666666666,\"#ed7953\"],[0.7777777777777778,\"#fb9f3a\"],[0.8888888888888888,\"#fdca26\"],[1.0,\"#f0f921\"]],\"type\":\"surface\"}],\"table\":[{\"cells\":{\"fill\":{\"color\":\"#EBF0F8\"},\"line\":{\"color\":\"white\"}},\"header\":{\"fill\":{\"color\":\"#C8D4E3\"},\"line\":{\"color\":\"white\"}},\"type\":\"table\"}]},\"layout\":{\"annotationdefaults\":{\"arrowcolor\":\"#2a3f5f\",\"arrowhead\":0,\"arrowwidth\":1},\"autotypenumbers\":\"strict\",\"coloraxis\":{\"colorbar\":{\"outlinewidth\":0,\"ticks\":\"\"}},\"colorscale\":{\"diverging\":[[0,\"#8e0152\"],[0.1,\"#c51b7d\"],[0.2,\"#de77ae\"],[0.3,\"#f1b6da\"],[0.4,\"#fde0ef\"],[0.5,\"#f7f7f7\"],[0.6,\"#e6f5d0\"],[0.7,\"#b8e186\"],[0.8,\"#7fbc41\"],[0.9,\"#4d9221\"],[1,\"#276419\"]],\"sequential\":[[0.0,\"#0d0887\"],[0.1111111111111111,\"#46039f\"],[0.2222222222222222,\"#7201a8\"],[0.3333333333333333,\"#9c179e\"],[0.4444444444444444,\"#bd3786\"],[0.5555555555555556,\"#d8576b\"],[0.6666666666666666,\"#ed7953\"],[0.7777777777777778,\"#fb9f3a\"],[0.8888888888888888,\"#fdca26\"],[1.0,\"#f0f921\"]],\"sequentialminus\":[[0.0,\"#0d0887\"],[0.1111111111111111,\"#46039f\"],[0.2222222222222222,\"#7201a8\"],[0.3333333333333333,\"#9c179e\"],[0.4444444444444444,\"#bd3786\"],[0.5555555555555556,\"#d8576b\"],[0.6666666666666666,\"#ed7953\"],[0.7777777777777778,\"#fb9f3a\"],[0.8888888888888888,\"#fdca26\"],[1.0,\"#f0f921\"]]},\"colorway\":[\"#636efa\",\"#EF553B\",\"#00cc96\",\"#ab63fa\",\"#FFA15A\",\"#19d3f3\",\"#FF6692\",\"#B6E880\",\"#FF97FF\",\"#FECB52\"],\"font\":{\"color\":\"#2a3f5f\"},\"geo\":{\"bgcolor\":\"white\",\"lakecolor\":\"white\",\"landcolor\":\"#E5ECF6\",\"showlakes\":true,\"showland\":true,\"subunitcolor\":\"white\"},\"hoverlabel\":{\"align\":\"left\"},\"hovermode\":\"closest\",\"mapbox\":{\"style\":\"light\"},\"paper_bgcolor\":\"white\",\"plot_bgcolor\":\"#E5ECF6\",\"polar\":{\"angularaxis\":{\"gridcolor\":\"white\",\"linecolor\":\"white\",\"ticks\":\"\"},\"bgcolor\":\"#E5ECF6\",\"radialaxis\":{\"gridcolor\":\"white\",\"linecolor\":\"white\",\"ticks\":\"\"}},\"scene\":{\"xaxis\":{\"backgroundcolor\":\"#E5ECF6\",\"gridcolor\":\"white\",\"gridwidth\":2,\"linecolor\":\"white\",\"showbackground\":true,\"ticks\":\"\",\"zerolinecolor\":\"white\"},\"yaxis\":{\"backgroundcolor\":\"#E5ECF6\",\"gridcolor\":\"white\",\"gridwidth\":2,\"linecolor\":\"white\",\"showbackground\":true,\"ticks\":\"\",\"zerolinecolor\":\"white\"},\"zaxis\":{\"backgroundcolor\":\"#E5ECF6\",\"gridcolor\":\"white\",\"gridwidth\":2,\"linecolor\":\"white\",\"showbackground\":true,\"ticks\":\"\",\"zerolinecolor\":\"white\"}},\"shapedefaults\":{\"line\":{\"color\":\"#2a3f5f\"}},\"ternary\":{\"aaxis\":{\"gridcolor\":\"white\",\"linecolor\":\"white\",\"ticks\":\"\"},\"baxis\":{\"gridcolor\":\"white\",\"linecolor\":\"white\",\"ticks\":\"\"},\"bgcolor\":\"#E5ECF6\",\"caxis\":{\"gridcolor\":\"white\",\"linecolor\":\"white\",\"ticks\":\"\"}},\"title\":{\"x\":0.05},\"xaxis\":{\"automargin\":true,\"gridcolor\":\"white\",\"linecolor\":\"white\",\"ticks\":\"\",\"title\":{\"standoff\":15},\"zerolinecolor\":\"white\",\"zerolinewidth\":2},\"yaxis\":{\"automargin\":true,\"gridcolor\":\"white\",\"linecolor\":\"white\",\"ticks\":\"\",\"title\":{\"standoff\":15},\"zerolinecolor\":\"white\",\"zerolinewidth\":2}}},\"xaxis\":{\"rangeslider\":{\"visible\":true},\"title\":{\"text\":\"Date\"}},\"yaxis\":{\"title\":{\"text\":\"Total Revenue (\\u00a3)\"}},\"title\":{\"text\":\"Model 4 - Linear Regression Predicted Weekly Revenue\"}},                        {\"responsive\": true}                    ).then(function(){\n",
       "                            \n",
       "var gd = document.getElementById('120f5302-e628-4f39-83b6-182540833229');\n",
       "var x = new MutationObserver(function (mutations, observer) {{\n",
       "        var display = window.getComputedStyle(gd).display;\n",
       "        if (!display || display === 'none') {{\n",
       "            console.log([gd, 'removed!']);\n",
       "            Plotly.purge(gd);\n",
       "            observer.disconnect();\n",
       "        }}\n",
       "}});\n",
       "\n",
       "// Listen for the removal of the full notebook cells\n",
       "var notebookContainer = gd.closest('#notebook-container');\n",
       "if (notebookContainer) {{\n",
       "    x.observe(notebookContainer, {childList: true});\n",
       "}}\n",
       "\n",
       "// Listen for the clearing of the current output cell\n",
       "var outputEl = gd.closest('.output');\n",
       "if (outputEl) {{\n",
       "    x.observe(outputEl, {childList: true});\n",
       "}}\n",
       "\n",
       "                        })                };                });            </script>        </div>"
      ]
     },
     "metadata": {},
     "output_type": "display_data"
    }
   ],
   "source": [
    "fig = go.Figure()\n",
    "fig.add_trace(go.Scatter(x=train.index, \n",
    "                         y=train['Total_Revenue'], mode='lines', name='Train'))\n",
    "fig.add_trace(go.Scatter(x=test.index, \n",
    "                         y=test['Total_Revenue'], mode='lines', name='Test'))\n",
    "fig.add_trace(go.Scatter(x=test.index, \n",
    "                         y=prediction_4, mode='lines', name='Prediction 4'))\n",
    "\n",
    "fig.update_xaxes(rangeslider_visible=True)\n",
    "fig.update_layout(\n",
    "    yaxis_title='Total Revenue (£)', \n",
    "    xaxis_title='Date',\n",
    "    title='Model 4 - Linear Regression Predicted Weekly Revenue'\n",
    ")\n",
    "fig.show()"
   ]
  },
  {
   "cell_type": "code",
   "execution_count": 111,
   "id": "4580700e",
   "metadata": {},
   "outputs": [
    {
     "name": "stdout",
     "output_type": "stream",
     "text": [
      "The RMSE for the weekly forecast is: 11663.08\n",
      "\n",
      "The MAE between the actual and weekly forecast revenue is 10286.98\n",
      "\n",
      "The MAPE between the actual and weekly forecast revenue is 10.2%\n"
     ]
    }
   ],
   "source": [
    "bakery.full_accuracy_report(test['Total_Revenue'],\n",
    "                            prediction_4, 'weekly forecast')"
   ]
  },
  {
   "cell_type": "markdown",
   "id": "b4082612",
   "metadata": {},
   "source": [
    "## Model 4 - Accuracy Evaluation\n",
    "Despite the MAPE improving again, the R<sup>2</sup> value has decreased again to 0.528. \n",
    "\n",
    "The `Weekend` column also has a p-value greater than 0.05 so will be removed from the next iteration. "
   ]
  },
  {
   "cell_type": "code",
   "execution_count": 136,
   "id": "1931d756",
   "metadata": {},
   "outputs": [
    {
     "data": {
      "text/html": [
       "<div>\n",
       "<style scoped>\n",
       "    .dataframe tbody tr th:only-of-type {\n",
       "        vertical-align: middle;\n",
       "    }\n",
       "\n",
       "    .dataframe tbody tr th {\n",
       "        vertical-align: top;\n",
       "    }\n",
       "\n",
       "    .dataframe thead th {\n",
       "        text-align: right;\n",
       "    }\n",
       "</style>\n",
       "<table border=\"1\" class=\"dataframe\">\n",
       "  <thead>\n",
       "    <tr style=\"text-align: right;\">\n",
       "      <th></th>\n",
       "      <th>Model</th>\n",
       "      <th>R2</th>\n",
       "      <th>RMSE</th>\n",
       "      <th>AIC</th>\n",
       "      <th>MAPE (%)</th>\n",
       "      <th>Comments</th>\n",
       "    </tr>\n",
       "  </thead>\n",
       "  <tbody>\n",
       "    <tr>\n",
       "      <th>0</th>\n",
       "      <td>1</td>\n",
       "      <td>0.791</td>\n",
       "      <td>14111.89</td>\n",
       "      <td>1614</td>\n",
       "      <td>11.4%</td>\n",
       "      <td>All initial variables</td>\n",
       "    </tr>\n",
       "    <tr>\n",
       "      <th>1</th>\n",
       "      <td>2</td>\n",
       "      <td>0.779</td>\n",
       "      <td>15395.97</td>\n",
       "      <td>1614</td>\n",
       "      <td>13.2%</td>\n",
       "      <td>Dropped Closed Xmas, 3D_MA</td>\n",
       "    </tr>\n",
       "    <tr>\n",
       "      <th>2</th>\n",
       "      <td>3</td>\n",
       "      <td>0.537</td>\n",
       "      <td>12861.20</td>\n",
       "      <td>1668</td>\n",
       "      <td>10.6%</td>\n",
       "      <td>Dropped 20D MA</td>\n",
       "    </tr>\n",
       "    <tr>\n",
       "      <th>3</th>\n",
       "      <td>4</td>\n",
       "      <td>0.528</td>\n",
       "      <td>11663.08</td>\n",
       "      <td>1667</td>\n",
       "      <td>10.2%</td>\n",
       "      <td>Dropped Bank Holiday</td>\n",
       "    </tr>\n",
       "  </tbody>\n",
       "</table>\n",
       "</div>"
      ],
      "text/plain": [
       "   Model     R2      RMSE   AIC MAPE (%)                    Comments\n",
       "0      1  0.791  14111.89  1614    11.4%       All initial variables\n",
       "1      2  0.779  15395.97  1614    13.2%  Dropped Closed Xmas, 3D_MA\n",
       "2      3  0.537  12861.20  1668    10.6%              Dropped 20D MA\n",
       "3      4  0.528  11663.08  1667    10.2%        Dropped Bank Holiday"
      ]
     },
     "metadata": {},
     "output_type": "display_data"
    }
   ],
   "source": [
    "# To add the scores to the results table \n",
    "model_scores = bakery.add_results(model_scores, 4, 0.528, 11663.08, 1667, '10.2%', 'Dropped Bank Holiday')"
   ]
  },
  {
   "cell_type": "markdown",
   "id": "b1e8f39b",
   "metadata": {},
   "source": [
    "# Model 5 - Dropping `Weekend`"
   ]
  },
  {
   "cell_type": "code",
   "execution_count": 112,
   "id": "a9ea3dd6",
   "metadata": {},
   "outputs": [
    {
     "data": {
      "text/html": [
       "<table class=\"simpletable\">\n",
       "<caption>OLS Regression Results</caption>\n",
       "<tr>\n",
       "  <th>Dep. Variable:</th>      <td>Total_Revenue</td>  <th>  R-squared:         </th> <td>   0.504</td>\n",
       "</tr>\n",
       "<tr>\n",
       "  <th>Model:</th>                   <td>OLS</td>       <th>  Adj. R-squared:    </th> <td>   0.490</td>\n",
       "</tr>\n",
       "<tr>\n",
       "  <th>Method:</th>             <td>Least Squares</td>  <th>  F-statistic:       </th> <td>   37.03</td>\n",
       "</tr>\n",
       "<tr>\n",
       "  <th>Date:</th>             <td>Tue, 25 Oct 2022</td> <th>  Prob (F-statistic):</th> <td>7.92e-12</td>\n",
       "</tr>\n",
       "<tr>\n",
       "  <th>Time:</th>                 <td>22:37:40</td>     <th>  Log-Likelihood:    </th> <td> -831.64</td>\n",
       "</tr>\n",
       "<tr>\n",
       "  <th>No. Observations:</th>      <td>    76</td>      <th>  AIC:               </th> <td>   1669.</td>\n",
       "</tr>\n",
       "<tr>\n",
       "  <th>Df Residuals:</th>          <td>    73</td>      <th>  BIC:               </th> <td>   1676.</td>\n",
       "</tr>\n",
       "<tr>\n",
       "  <th>Df Model:</th>              <td>     2</td>      <th>                     </th>     <td> </td>   \n",
       "</tr>\n",
       "<tr>\n",
       "  <th>Covariance Type:</th>      <td>nonrobust</td>    <th>                     </th>     <td> </td>   \n",
       "</tr>\n",
       "</table>\n",
       "<table class=\"simpletable\">\n",
       "<tr>\n",
       "      <td></td>         <th>coef</th>     <th>std err</th>      <th>t</th>      <th>P>|t|</th>  <th>[0.025</th>    <th>0.975]</th>  \n",
       "</tr>\n",
       "<tr>\n",
       "  <th>const</th>     <td> 6.515e+04</td> <td> 5910.362</td> <td>   11.023</td> <td> 0.000</td> <td> 5.34e+04</td> <td> 7.69e+04</td>\n",
       "</tr>\n",
       "<tr>\n",
       "  <th>Weekday</th>   <td>-4983.3767</td> <td>  746.236</td> <td>   -6.678</td> <td> 0.000</td> <td>-6470.624</td> <td>-3496.130</td>\n",
       "</tr>\n",
       "<tr>\n",
       "  <th>7W_MA_lag</th> <td>    0.4078</td> <td>    0.077</td> <td>    5.321</td> <td> 0.000</td> <td>    0.255</td> <td>    0.561</td>\n",
       "</tr>\n",
       "</table>\n",
       "<table class=\"simpletable\">\n",
       "<tr>\n",
       "  <th>Omnibus:</th>       <td> 4.937</td> <th>  Durbin-Watson:     </th> <td>   0.442</td>\n",
       "</tr>\n",
       "<tr>\n",
       "  <th>Prob(Omnibus):</th> <td> 0.085</td> <th>  Jarque-Bera (JB):  </th> <td>   2.902</td>\n",
       "</tr>\n",
       "<tr>\n",
       "  <th>Skew:</th>          <td>-0.269</td> <th>  Prob(JB):          </th> <td>   0.234</td>\n",
       "</tr>\n",
       "<tr>\n",
       "  <th>Kurtosis:</th>      <td> 2.208</td> <th>  Cond. No.          </th> <td>2.52e+05</td>\n",
       "</tr>\n",
       "</table><br/><br/>Notes:<br/>[1] Standard Errors assume that the covariance matrix of the errors is correctly specified.<br/>[2] The condition number is large, 2.52e+05. This might indicate that there are<br/>strong multicollinearity or other numerical problems."
      ],
      "text/plain": [
       "<class 'statsmodels.iolib.summary.Summary'>\n",
       "\"\"\"\n",
       "                            OLS Regression Results                            \n",
       "==============================================================================\n",
       "Dep. Variable:          Total_Revenue   R-squared:                       0.504\n",
       "Model:                            OLS   Adj. R-squared:                  0.490\n",
       "Method:                 Least Squares   F-statistic:                     37.03\n",
       "Date:                Tue, 25 Oct 2022   Prob (F-statistic):           7.92e-12\n",
       "Time:                        22:37:40   Log-Likelihood:                -831.64\n",
       "No. Observations:                  76   AIC:                             1669.\n",
       "Df Residuals:                      73   BIC:                             1676.\n",
       "Df Model:                           2                                         \n",
       "Covariance Type:            nonrobust                                         \n",
       "==============================================================================\n",
       "                 coef    std err          t      P>|t|      [0.025      0.975]\n",
       "------------------------------------------------------------------------------\n",
       "const       6.515e+04   5910.362     11.023      0.000    5.34e+04    7.69e+04\n",
       "Weekday    -4983.3767    746.236     -6.678      0.000   -6470.624   -3496.130\n",
       "7W_MA_lag      0.4078      0.077      5.321      0.000       0.255       0.561\n",
       "==============================================================================\n",
       "Omnibus:                        4.937   Durbin-Watson:                   0.442\n",
       "Prob(Omnibus):                  0.085   Jarque-Bera (JB):                2.902\n",
       "Skew:                          -0.269   Prob(JB):                        0.234\n",
       "Kurtosis:                       2.208   Cond. No.                     2.52e+05\n",
       "==============================================================================\n",
       "\n",
       "Notes:\n",
       "[1] Standard Errors assume that the covariance matrix of the errors is correctly specified.\n",
       "[2] The condition number is large, 2.52e+05. This might indicate that there are\n",
       "strong multicollinearity or other numerical problems.\n",
       "\"\"\""
      ]
     },
     "execution_count": 112,
     "metadata": {},
     "output_type": "execute_result"
    }
   ],
   "source": [
    "independent_variables_5 = independent_variables_4.drop(columns=['Weekend']).copy()\n",
    "\n",
    "y = train['Total_Revenue']\n",
    "\n",
    "# First the X and y values need to splitted: \n",
    "X = independent_variables_5\n",
    "\n",
    "# Then the X_ constant needs to be added to give the intercept value\n",
    "X_withconstant = sm.add_constant(X)\n",
    "\n",
    "# The model is then instantiated using the sm.OLS method\n",
    "lm_revenue = sm.OLS(y,X_withconstant)\n",
    "\n",
    "# The model is fitted using the .fit() method\n",
    "lm_revenue_results = lm_revenue.fit()\n",
    "\n",
    "# The results are displayed using the .summary() method\n",
    "lm_revenue_results.summary()"
   ]
  },
  {
   "cell_type": "code",
   "execution_count": 113,
   "id": "a5dfd789",
   "metadata": {},
   "outputs": [],
   "source": [
    "X_test = test.drop(columns=['Total_Revenue', '3W_MA', '7W_MA', '20W_MA', 'Closed_Xmas',\n",
    "                            '3W_MA_lag','20W_MA_lag', 'Bank_Holiday', 'Weekend']).copy()\n",
    "\n",
    "X_test_withconstant = sm.add_constant(X_test)"
   ]
  },
  {
   "cell_type": "code",
   "execution_count": 114,
   "id": "5f6e200c",
   "metadata": {},
   "outputs": [],
   "source": [
    "# Predictions\n",
    "prediction_5 = lm_revenue_results.predict(X_test_withconstant)"
   ]
  },
  {
   "cell_type": "code",
   "execution_count": 159,
   "id": "4931408b",
   "metadata": {},
   "outputs": [
    {
     "data": {
      "application/vnd.plotly.v1+json": {
       "config": {
        "plotlyServerURL": "https://plot.ly"
       },
       "data": [
        {
         "mode": "lines",
         "name": "Train",
         "type": "scatter",
         "x": [
          "2021-04-18T00:00:00",
          "2021-04-25T00:00:00",
          "2021-05-02T00:00:00",
          "2021-05-09T00:00:00",
          "2021-05-16T00:00:00",
          "2021-05-23T00:00:00",
          "2021-05-30T00:00:00",
          "2021-06-06T00:00:00",
          "2021-06-13T00:00:00",
          "2021-06-20T00:00:00",
          "2021-06-27T00:00:00",
          "2021-07-04T00:00:00",
          "2021-07-11T00:00:00",
          "2021-07-18T00:00:00",
          "2021-07-25T00:00:00",
          "2021-08-01T00:00:00",
          "2021-08-08T00:00:00",
          "2021-08-15T00:00:00",
          "2021-08-22T00:00:00",
          "2021-08-29T00:00:00",
          "2021-09-05T00:00:00",
          "2021-09-12T00:00:00",
          "2021-09-19T00:00:00",
          "2021-09-26T00:00:00",
          "2021-10-03T00:00:00",
          "2021-10-10T00:00:00",
          "2021-10-17T00:00:00",
          "2021-10-24T00:00:00",
          "2021-10-31T00:00:00",
          "2021-11-07T00:00:00",
          "2021-11-14T00:00:00",
          "2021-11-21T00:00:00",
          "2021-11-28T00:00:00",
          "2021-12-05T00:00:00",
          "2021-12-12T00:00:00",
          "2021-12-19T00:00:00",
          "2021-12-26T00:00:00",
          "2022-01-02T00:00:00",
          "2022-01-09T00:00:00",
          "2022-01-16T00:00:00",
          "2022-01-23T00:00:00",
          "2022-01-30T00:00:00",
          "2022-02-06T00:00:00",
          "2022-02-13T00:00:00",
          "2022-02-20T00:00:00",
          "2022-02-27T00:00:00",
          "2022-03-06T00:00:00",
          "2022-03-13T00:00:00",
          "2022-03-20T00:00:00",
          "2022-03-27T00:00:00",
          "2022-04-03T00:00:00",
          "2022-04-10T00:00:00",
          "2022-04-17T00:00:00",
          "2022-04-24T00:00:00",
          "2022-05-01T00:00:00",
          "2022-05-08T00:00:00",
          "2022-05-15T00:00:00",
          "2022-05-22T00:00:00",
          "2022-05-29T00:00:00",
          "2022-06-05T00:00:00",
          "2022-06-12T00:00:00",
          "2022-06-19T00:00:00",
          "2022-06-26T00:00:00",
          "2022-07-03T00:00:00",
          "2022-07-10T00:00:00",
          "2022-07-17T00:00:00",
          "2022-07-24T00:00:00",
          "2022-07-31T00:00:00",
          "2022-08-07T00:00:00",
          "2022-08-14T00:00:00"
         ],
         "y": [
          72553.91,
          59804.86,
          62821.04,
          60201.77,
          58890.41,
          65883.27,
          72868.88,
          91050.3,
          70049.93,
          71821.2,
          74764.78,
          74499.56,
          82700.02,
          87403.88,
          93902.69,
          102590.59,
          104418.96,
          106765.67,
          105296.07,
          107555.55,
          92307.18,
          81485.62,
          80503.23,
          76278.72,
          74564.75,
          71568.15,
          70676.15,
          75993.28,
          90174.68,
          69867.09,
          65234.33,
          66232.44,
          63486.83,
          56164.75,
          54413.93,
          60703.51,
          62838.18,
          92832.18,
          66753.16,
          55705.39,
          53775.72,
          55267,
          48605.95,
          55404.22,
          73178.69,
          70478.72,
          61158.84,
          59521.83,
          57831.15,
          66849.78,
          66799.78,
          83854.31,
          103458.98,
          82578.42,
          73220.14,
          76245.74,
          71606.08,
          66308.36,
          74498.17,
          115555.67,
          68270.5,
          77556.5,
          81120.04,
          78429.52,
          80994.74,
          90259.78,
          98332,
          112021.47,
          109098.8,
          106518.19
         ]
        },
        {
         "mode": "lines",
         "name": "Test",
         "type": "scatter",
         "x": [
          "2022-08-21T00:00:00",
          "2022-08-28T00:00:00",
          "2022-09-04T00:00:00",
          "2022-09-11T00:00:00",
          "2022-09-18T00:00:00",
          "2022-09-25T00:00:00"
         ],
         "y": [
          113387.44,
          118277.59,
          103478.4,
          78442.65,
          86436.14,
          84465.6
         ]
        },
        {
         "mode": "lines",
         "name": "Prediction 5",
         "type": "scatter",
         "x": [
          "2022-08-21T00:00:00",
          "2022-08-28T00:00:00",
          "2022-09-04T00:00:00",
          "2022-09-11T00:00:00",
          "2022-09-18T00:00:00",
          "2022-09-25T00:00:00"
         ],
         "y": [
          93634.46667034808,
          95768.3949436143,
          104582.97303573093,
          69206.48673305337,
          70991.01107387502,
          71902.13377427318
         ]
        }
       ],
       "layout": {
        "template": {
         "data": {
          "bar": [
           {
            "error_x": {
             "color": "#2a3f5f"
            },
            "error_y": {
             "color": "#2a3f5f"
            },
            "marker": {
             "line": {
              "color": "#E5ECF6",
              "width": 0.5
             },
             "pattern": {
              "fillmode": "overlay",
              "size": 10,
              "solidity": 0.2
             }
            },
            "type": "bar"
           }
          ],
          "barpolar": [
           {
            "marker": {
             "line": {
              "color": "#E5ECF6",
              "width": 0.5
             },
             "pattern": {
              "fillmode": "overlay",
              "size": 10,
              "solidity": 0.2
             }
            },
            "type": "barpolar"
           }
          ],
          "carpet": [
           {
            "aaxis": {
             "endlinecolor": "#2a3f5f",
             "gridcolor": "white",
             "linecolor": "white",
             "minorgridcolor": "white",
             "startlinecolor": "#2a3f5f"
            },
            "baxis": {
             "endlinecolor": "#2a3f5f",
             "gridcolor": "white",
             "linecolor": "white",
             "minorgridcolor": "white",
             "startlinecolor": "#2a3f5f"
            },
            "type": "carpet"
           }
          ],
          "choropleth": [
           {
            "colorbar": {
             "outlinewidth": 0,
             "ticks": ""
            },
            "type": "choropleth"
           }
          ],
          "contour": [
           {
            "colorbar": {
             "outlinewidth": 0,
             "ticks": ""
            },
            "colorscale": [
             [
              0,
              "#0d0887"
             ],
             [
              0.1111111111111111,
              "#46039f"
             ],
             [
              0.2222222222222222,
              "#7201a8"
             ],
             [
              0.3333333333333333,
              "#9c179e"
             ],
             [
              0.4444444444444444,
              "#bd3786"
             ],
             [
              0.5555555555555556,
              "#d8576b"
             ],
             [
              0.6666666666666666,
              "#ed7953"
             ],
             [
              0.7777777777777778,
              "#fb9f3a"
             ],
             [
              0.8888888888888888,
              "#fdca26"
             ],
             [
              1,
              "#f0f921"
             ]
            ],
            "type": "contour"
           }
          ],
          "contourcarpet": [
           {
            "colorbar": {
             "outlinewidth": 0,
             "ticks": ""
            },
            "type": "contourcarpet"
           }
          ],
          "heatmap": [
           {
            "colorbar": {
             "outlinewidth": 0,
             "ticks": ""
            },
            "colorscale": [
             [
              0,
              "#0d0887"
             ],
             [
              0.1111111111111111,
              "#46039f"
             ],
             [
              0.2222222222222222,
              "#7201a8"
             ],
             [
              0.3333333333333333,
              "#9c179e"
             ],
             [
              0.4444444444444444,
              "#bd3786"
             ],
             [
              0.5555555555555556,
              "#d8576b"
             ],
             [
              0.6666666666666666,
              "#ed7953"
             ],
             [
              0.7777777777777778,
              "#fb9f3a"
             ],
             [
              0.8888888888888888,
              "#fdca26"
             ],
             [
              1,
              "#f0f921"
             ]
            ],
            "type": "heatmap"
           }
          ],
          "heatmapgl": [
           {
            "colorbar": {
             "outlinewidth": 0,
             "ticks": ""
            },
            "colorscale": [
             [
              0,
              "#0d0887"
             ],
             [
              0.1111111111111111,
              "#46039f"
             ],
             [
              0.2222222222222222,
              "#7201a8"
             ],
             [
              0.3333333333333333,
              "#9c179e"
             ],
             [
              0.4444444444444444,
              "#bd3786"
             ],
             [
              0.5555555555555556,
              "#d8576b"
             ],
             [
              0.6666666666666666,
              "#ed7953"
             ],
             [
              0.7777777777777778,
              "#fb9f3a"
             ],
             [
              0.8888888888888888,
              "#fdca26"
             ],
             [
              1,
              "#f0f921"
             ]
            ],
            "type": "heatmapgl"
           }
          ],
          "histogram": [
           {
            "marker": {
             "pattern": {
              "fillmode": "overlay",
              "size": 10,
              "solidity": 0.2
             }
            },
            "type": "histogram"
           }
          ],
          "histogram2d": [
           {
            "colorbar": {
             "outlinewidth": 0,
             "ticks": ""
            },
            "colorscale": [
             [
              0,
              "#0d0887"
             ],
             [
              0.1111111111111111,
              "#46039f"
             ],
             [
              0.2222222222222222,
              "#7201a8"
             ],
             [
              0.3333333333333333,
              "#9c179e"
             ],
             [
              0.4444444444444444,
              "#bd3786"
             ],
             [
              0.5555555555555556,
              "#d8576b"
             ],
             [
              0.6666666666666666,
              "#ed7953"
             ],
             [
              0.7777777777777778,
              "#fb9f3a"
             ],
             [
              0.8888888888888888,
              "#fdca26"
             ],
             [
              1,
              "#f0f921"
             ]
            ],
            "type": "histogram2d"
           }
          ],
          "histogram2dcontour": [
           {
            "colorbar": {
             "outlinewidth": 0,
             "ticks": ""
            },
            "colorscale": [
             [
              0,
              "#0d0887"
             ],
             [
              0.1111111111111111,
              "#46039f"
             ],
             [
              0.2222222222222222,
              "#7201a8"
             ],
             [
              0.3333333333333333,
              "#9c179e"
             ],
             [
              0.4444444444444444,
              "#bd3786"
             ],
             [
              0.5555555555555556,
              "#d8576b"
             ],
             [
              0.6666666666666666,
              "#ed7953"
             ],
             [
              0.7777777777777778,
              "#fb9f3a"
             ],
             [
              0.8888888888888888,
              "#fdca26"
             ],
             [
              1,
              "#f0f921"
             ]
            ],
            "type": "histogram2dcontour"
           }
          ],
          "mesh3d": [
           {
            "colorbar": {
             "outlinewidth": 0,
             "ticks": ""
            },
            "type": "mesh3d"
           }
          ],
          "parcoords": [
           {
            "line": {
             "colorbar": {
              "outlinewidth": 0,
              "ticks": ""
             }
            },
            "type": "parcoords"
           }
          ],
          "pie": [
           {
            "automargin": true,
            "type": "pie"
           }
          ],
          "scatter": [
           {
            "marker": {
             "colorbar": {
              "outlinewidth": 0,
              "ticks": ""
             }
            },
            "type": "scatter"
           }
          ],
          "scatter3d": [
           {
            "line": {
             "colorbar": {
              "outlinewidth": 0,
              "ticks": ""
             }
            },
            "marker": {
             "colorbar": {
              "outlinewidth": 0,
              "ticks": ""
             }
            },
            "type": "scatter3d"
           }
          ],
          "scattercarpet": [
           {
            "marker": {
             "colorbar": {
              "outlinewidth": 0,
              "ticks": ""
             }
            },
            "type": "scattercarpet"
           }
          ],
          "scattergeo": [
           {
            "marker": {
             "colorbar": {
              "outlinewidth": 0,
              "ticks": ""
             }
            },
            "type": "scattergeo"
           }
          ],
          "scattergl": [
           {
            "marker": {
             "colorbar": {
              "outlinewidth": 0,
              "ticks": ""
             }
            },
            "type": "scattergl"
           }
          ],
          "scattermapbox": [
           {
            "marker": {
             "colorbar": {
              "outlinewidth": 0,
              "ticks": ""
             }
            },
            "type": "scattermapbox"
           }
          ],
          "scatterpolar": [
           {
            "marker": {
             "colorbar": {
              "outlinewidth": 0,
              "ticks": ""
             }
            },
            "type": "scatterpolar"
           }
          ],
          "scatterpolargl": [
           {
            "marker": {
             "colorbar": {
              "outlinewidth": 0,
              "ticks": ""
             }
            },
            "type": "scatterpolargl"
           }
          ],
          "scatterternary": [
           {
            "marker": {
             "colorbar": {
              "outlinewidth": 0,
              "ticks": ""
             }
            },
            "type": "scatterternary"
           }
          ],
          "surface": [
           {
            "colorbar": {
             "outlinewidth": 0,
             "ticks": ""
            },
            "colorscale": [
             [
              0,
              "#0d0887"
             ],
             [
              0.1111111111111111,
              "#46039f"
             ],
             [
              0.2222222222222222,
              "#7201a8"
             ],
             [
              0.3333333333333333,
              "#9c179e"
             ],
             [
              0.4444444444444444,
              "#bd3786"
             ],
             [
              0.5555555555555556,
              "#d8576b"
             ],
             [
              0.6666666666666666,
              "#ed7953"
             ],
             [
              0.7777777777777778,
              "#fb9f3a"
             ],
             [
              0.8888888888888888,
              "#fdca26"
             ],
             [
              1,
              "#f0f921"
             ]
            ],
            "type": "surface"
           }
          ],
          "table": [
           {
            "cells": {
             "fill": {
              "color": "#EBF0F8"
             },
             "line": {
              "color": "white"
             }
            },
            "header": {
             "fill": {
              "color": "#C8D4E3"
             },
             "line": {
              "color": "white"
             }
            },
            "type": "table"
           }
          ]
         },
         "layout": {
          "annotationdefaults": {
           "arrowcolor": "#2a3f5f",
           "arrowhead": 0,
           "arrowwidth": 1
          },
          "autotypenumbers": "strict",
          "coloraxis": {
           "colorbar": {
            "outlinewidth": 0,
            "ticks": ""
           }
          },
          "colorscale": {
           "diverging": [
            [
             0,
             "#8e0152"
            ],
            [
             0.1,
             "#c51b7d"
            ],
            [
             0.2,
             "#de77ae"
            ],
            [
             0.3,
             "#f1b6da"
            ],
            [
             0.4,
             "#fde0ef"
            ],
            [
             0.5,
             "#f7f7f7"
            ],
            [
             0.6,
             "#e6f5d0"
            ],
            [
             0.7,
             "#b8e186"
            ],
            [
             0.8,
             "#7fbc41"
            ],
            [
             0.9,
             "#4d9221"
            ],
            [
             1,
             "#276419"
            ]
           ],
           "sequential": [
            [
             0,
             "#0d0887"
            ],
            [
             0.1111111111111111,
             "#46039f"
            ],
            [
             0.2222222222222222,
             "#7201a8"
            ],
            [
             0.3333333333333333,
             "#9c179e"
            ],
            [
             0.4444444444444444,
             "#bd3786"
            ],
            [
             0.5555555555555556,
             "#d8576b"
            ],
            [
             0.6666666666666666,
             "#ed7953"
            ],
            [
             0.7777777777777778,
             "#fb9f3a"
            ],
            [
             0.8888888888888888,
             "#fdca26"
            ],
            [
             1,
             "#f0f921"
            ]
           ],
           "sequentialminus": [
            [
             0,
             "#0d0887"
            ],
            [
             0.1111111111111111,
             "#46039f"
            ],
            [
             0.2222222222222222,
             "#7201a8"
            ],
            [
             0.3333333333333333,
             "#9c179e"
            ],
            [
             0.4444444444444444,
             "#bd3786"
            ],
            [
             0.5555555555555556,
             "#d8576b"
            ],
            [
             0.6666666666666666,
             "#ed7953"
            ],
            [
             0.7777777777777778,
             "#fb9f3a"
            ],
            [
             0.8888888888888888,
             "#fdca26"
            ],
            [
             1,
             "#f0f921"
            ]
           ]
          },
          "colorway": [
           "#636efa",
           "#EF553B",
           "#00cc96",
           "#ab63fa",
           "#FFA15A",
           "#19d3f3",
           "#FF6692",
           "#B6E880",
           "#FF97FF",
           "#FECB52"
          ],
          "font": {
           "color": "#2a3f5f"
          },
          "geo": {
           "bgcolor": "white",
           "lakecolor": "white",
           "landcolor": "#E5ECF6",
           "showlakes": true,
           "showland": true,
           "subunitcolor": "white"
          },
          "hoverlabel": {
           "align": "left"
          },
          "hovermode": "closest",
          "mapbox": {
           "style": "light"
          },
          "paper_bgcolor": "white",
          "plot_bgcolor": "#E5ECF6",
          "polar": {
           "angularaxis": {
            "gridcolor": "white",
            "linecolor": "white",
            "ticks": ""
           },
           "bgcolor": "#E5ECF6",
           "radialaxis": {
            "gridcolor": "white",
            "linecolor": "white",
            "ticks": ""
           }
          },
          "scene": {
           "xaxis": {
            "backgroundcolor": "#E5ECF6",
            "gridcolor": "white",
            "gridwidth": 2,
            "linecolor": "white",
            "showbackground": true,
            "ticks": "",
            "zerolinecolor": "white"
           },
           "yaxis": {
            "backgroundcolor": "#E5ECF6",
            "gridcolor": "white",
            "gridwidth": 2,
            "linecolor": "white",
            "showbackground": true,
            "ticks": "",
            "zerolinecolor": "white"
           },
           "zaxis": {
            "backgroundcolor": "#E5ECF6",
            "gridcolor": "white",
            "gridwidth": 2,
            "linecolor": "white",
            "showbackground": true,
            "ticks": "",
            "zerolinecolor": "white"
           }
          },
          "shapedefaults": {
           "line": {
            "color": "#2a3f5f"
           }
          },
          "ternary": {
           "aaxis": {
            "gridcolor": "white",
            "linecolor": "white",
            "ticks": ""
           },
           "baxis": {
            "gridcolor": "white",
            "linecolor": "white",
            "ticks": ""
           },
           "bgcolor": "#E5ECF6",
           "caxis": {
            "gridcolor": "white",
            "linecolor": "white",
            "ticks": ""
           }
          },
          "title": {
           "x": 0.05
          },
          "xaxis": {
           "automargin": true,
           "gridcolor": "white",
           "linecolor": "white",
           "ticks": "",
           "title": {
            "standoff": 15
           },
           "zerolinecolor": "white",
           "zerolinewidth": 2
          },
          "yaxis": {
           "automargin": true,
           "gridcolor": "white",
           "linecolor": "white",
           "ticks": "",
           "title": {
            "standoff": 15
           },
           "zerolinecolor": "white",
           "zerolinewidth": 2
          }
         }
        },
        "title": {
         "text": "Model 5 - Linear Regression Predicted Weekly Revenue"
        },
        "xaxis": {
         "rangeslider": {
          "visible": true
         },
         "title": {
          "text": "Date"
         }
        },
        "yaxis": {
         "title": {
          "text": "Total Revenue (£)"
         }
        }
       }
      },
      "text/html": [
       "<div>                            <div id=\"514821a7-4924-4ed4-a159-e3c96e5dc1fc\" class=\"plotly-graph-div\" style=\"height:525px; width:100%;\"></div>            <script type=\"text/javascript\">                require([\"plotly\"], function(Plotly) {                    window.PLOTLYENV=window.PLOTLYENV || {};                                    if (document.getElementById(\"514821a7-4924-4ed4-a159-e3c96e5dc1fc\")) {                    Plotly.newPlot(                        \"514821a7-4924-4ed4-a159-e3c96e5dc1fc\",                        [{\"mode\":\"lines\",\"name\":\"Train\",\"x\":[\"2021-04-18T00:00:00\",\"2021-04-25T00:00:00\",\"2021-05-02T00:00:00\",\"2021-05-09T00:00:00\",\"2021-05-16T00:00:00\",\"2021-05-23T00:00:00\",\"2021-05-30T00:00:00\",\"2021-06-06T00:00:00\",\"2021-06-13T00:00:00\",\"2021-06-20T00:00:00\",\"2021-06-27T00:00:00\",\"2021-07-04T00:00:00\",\"2021-07-11T00:00:00\",\"2021-07-18T00:00:00\",\"2021-07-25T00:00:00\",\"2021-08-01T00:00:00\",\"2021-08-08T00:00:00\",\"2021-08-15T00:00:00\",\"2021-08-22T00:00:00\",\"2021-08-29T00:00:00\",\"2021-09-05T00:00:00\",\"2021-09-12T00:00:00\",\"2021-09-19T00:00:00\",\"2021-09-26T00:00:00\",\"2021-10-03T00:00:00\",\"2021-10-10T00:00:00\",\"2021-10-17T00:00:00\",\"2021-10-24T00:00:00\",\"2021-10-31T00:00:00\",\"2021-11-07T00:00:00\",\"2021-11-14T00:00:00\",\"2021-11-21T00:00:00\",\"2021-11-28T00:00:00\",\"2021-12-05T00:00:00\",\"2021-12-12T00:00:00\",\"2021-12-19T00:00:00\",\"2021-12-26T00:00:00\",\"2022-01-02T00:00:00\",\"2022-01-09T00:00:00\",\"2022-01-16T00:00:00\",\"2022-01-23T00:00:00\",\"2022-01-30T00:00:00\",\"2022-02-06T00:00:00\",\"2022-02-13T00:00:00\",\"2022-02-20T00:00:00\",\"2022-02-27T00:00:00\",\"2022-03-06T00:00:00\",\"2022-03-13T00:00:00\",\"2022-03-20T00:00:00\",\"2022-03-27T00:00:00\",\"2022-04-03T00:00:00\",\"2022-04-10T00:00:00\",\"2022-04-17T00:00:00\",\"2022-04-24T00:00:00\",\"2022-05-01T00:00:00\",\"2022-05-08T00:00:00\",\"2022-05-15T00:00:00\",\"2022-05-22T00:00:00\",\"2022-05-29T00:00:00\",\"2022-06-05T00:00:00\",\"2022-06-12T00:00:00\",\"2022-06-19T00:00:00\",\"2022-06-26T00:00:00\",\"2022-07-03T00:00:00\",\"2022-07-10T00:00:00\",\"2022-07-17T00:00:00\",\"2022-07-24T00:00:00\",\"2022-07-31T00:00:00\",\"2022-08-07T00:00:00\",\"2022-08-14T00:00:00\"],\"y\":[72553.91,59804.86,62821.04,60201.77,58890.41,65883.27,72868.88,91050.3,70049.93,71821.2,74764.78,74499.56,82700.02,87403.88,93902.69,102590.59,104418.96,106765.67,105296.07,107555.55,92307.18,81485.62,80503.23,76278.72,74564.75,71568.15,70676.15,75993.28,90174.68,69867.09,65234.33,66232.44,63486.83,56164.75,54413.93,60703.51,62838.18,92832.18,66753.16,55705.39,53775.72,55267.0,48605.95,55404.22,73178.69,70478.72,61158.84,59521.83,57831.15,66849.78,66799.78,83854.31,103458.98,82578.42,73220.14,76245.74,71606.08,66308.36,74498.17,115555.67,68270.5,77556.5,81120.04,78429.52,80994.74,90259.78,98332.0,112021.47,109098.8,106518.19],\"type\":\"scatter\"},{\"mode\":\"lines\",\"name\":\"Test\",\"x\":[\"2022-08-21T00:00:00\",\"2022-08-28T00:00:00\",\"2022-09-04T00:00:00\",\"2022-09-11T00:00:00\",\"2022-09-18T00:00:00\",\"2022-09-25T00:00:00\"],\"y\":[113387.44,118277.59,103478.4,78442.65,86436.14,84465.6],\"type\":\"scatter\"},{\"mode\":\"lines\",\"name\":\"Prediction 5\",\"x\":[\"2022-08-21T00:00:00\",\"2022-08-28T00:00:00\",\"2022-09-04T00:00:00\",\"2022-09-11T00:00:00\",\"2022-09-18T00:00:00\",\"2022-09-25T00:00:00\"],\"y\":[93634.46667034808,95768.3949436143,104582.97303573093,69206.48673305337,70991.01107387502,71902.13377427318],\"type\":\"scatter\"}],                        {\"template\":{\"data\":{\"bar\":[{\"error_x\":{\"color\":\"#2a3f5f\"},\"error_y\":{\"color\":\"#2a3f5f\"},\"marker\":{\"line\":{\"color\":\"#E5ECF6\",\"width\":0.5},\"pattern\":{\"fillmode\":\"overlay\",\"size\":10,\"solidity\":0.2}},\"type\":\"bar\"}],\"barpolar\":[{\"marker\":{\"line\":{\"color\":\"#E5ECF6\",\"width\":0.5},\"pattern\":{\"fillmode\":\"overlay\",\"size\":10,\"solidity\":0.2}},\"type\":\"barpolar\"}],\"carpet\":[{\"aaxis\":{\"endlinecolor\":\"#2a3f5f\",\"gridcolor\":\"white\",\"linecolor\":\"white\",\"minorgridcolor\":\"white\",\"startlinecolor\":\"#2a3f5f\"},\"baxis\":{\"endlinecolor\":\"#2a3f5f\",\"gridcolor\":\"white\",\"linecolor\":\"white\",\"minorgridcolor\":\"white\",\"startlinecolor\":\"#2a3f5f\"},\"type\":\"carpet\"}],\"choropleth\":[{\"colorbar\":{\"outlinewidth\":0,\"ticks\":\"\"},\"type\":\"choropleth\"}],\"contour\":[{\"colorbar\":{\"outlinewidth\":0,\"ticks\":\"\"},\"colorscale\":[[0.0,\"#0d0887\"],[0.1111111111111111,\"#46039f\"],[0.2222222222222222,\"#7201a8\"],[0.3333333333333333,\"#9c179e\"],[0.4444444444444444,\"#bd3786\"],[0.5555555555555556,\"#d8576b\"],[0.6666666666666666,\"#ed7953\"],[0.7777777777777778,\"#fb9f3a\"],[0.8888888888888888,\"#fdca26\"],[1.0,\"#f0f921\"]],\"type\":\"contour\"}],\"contourcarpet\":[{\"colorbar\":{\"outlinewidth\":0,\"ticks\":\"\"},\"type\":\"contourcarpet\"}],\"heatmap\":[{\"colorbar\":{\"outlinewidth\":0,\"ticks\":\"\"},\"colorscale\":[[0.0,\"#0d0887\"],[0.1111111111111111,\"#46039f\"],[0.2222222222222222,\"#7201a8\"],[0.3333333333333333,\"#9c179e\"],[0.4444444444444444,\"#bd3786\"],[0.5555555555555556,\"#d8576b\"],[0.6666666666666666,\"#ed7953\"],[0.7777777777777778,\"#fb9f3a\"],[0.8888888888888888,\"#fdca26\"],[1.0,\"#f0f921\"]],\"type\":\"heatmap\"}],\"heatmapgl\":[{\"colorbar\":{\"outlinewidth\":0,\"ticks\":\"\"},\"colorscale\":[[0.0,\"#0d0887\"],[0.1111111111111111,\"#46039f\"],[0.2222222222222222,\"#7201a8\"],[0.3333333333333333,\"#9c179e\"],[0.4444444444444444,\"#bd3786\"],[0.5555555555555556,\"#d8576b\"],[0.6666666666666666,\"#ed7953\"],[0.7777777777777778,\"#fb9f3a\"],[0.8888888888888888,\"#fdca26\"],[1.0,\"#f0f921\"]],\"type\":\"heatmapgl\"}],\"histogram\":[{\"marker\":{\"pattern\":{\"fillmode\":\"overlay\",\"size\":10,\"solidity\":0.2}},\"type\":\"histogram\"}],\"histogram2d\":[{\"colorbar\":{\"outlinewidth\":0,\"ticks\":\"\"},\"colorscale\":[[0.0,\"#0d0887\"],[0.1111111111111111,\"#46039f\"],[0.2222222222222222,\"#7201a8\"],[0.3333333333333333,\"#9c179e\"],[0.4444444444444444,\"#bd3786\"],[0.5555555555555556,\"#d8576b\"],[0.6666666666666666,\"#ed7953\"],[0.7777777777777778,\"#fb9f3a\"],[0.8888888888888888,\"#fdca26\"],[1.0,\"#f0f921\"]],\"type\":\"histogram2d\"}],\"histogram2dcontour\":[{\"colorbar\":{\"outlinewidth\":0,\"ticks\":\"\"},\"colorscale\":[[0.0,\"#0d0887\"],[0.1111111111111111,\"#46039f\"],[0.2222222222222222,\"#7201a8\"],[0.3333333333333333,\"#9c179e\"],[0.4444444444444444,\"#bd3786\"],[0.5555555555555556,\"#d8576b\"],[0.6666666666666666,\"#ed7953\"],[0.7777777777777778,\"#fb9f3a\"],[0.8888888888888888,\"#fdca26\"],[1.0,\"#f0f921\"]],\"type\":\"histogram2dcontour\"}],\"mesh3d\":[{\"colorbar\":{\"outlinewidth\":0,\"ticks\":\"\"},\"type\":\"mesh3d\"}],\"parcoords\":[{\"line\":{\"colorbar\":{\"outlinewidth\":0,\"ticks\":\"\"}},\"type\":\"parcoords\"}],\"pie\":[{\"automargin\":true,\"type\":\"pie\"}],\"scatter\":[{\"marker\":{\"colorbar\":{\"outlinewidth\":0,\"ticks\":\"\"}},\"type\":\"scatter\"}],\"scatter3d\":[{\"line\":{\"colorbar\":{\"outlinewidth\":0,\"ticks\":\"\"}},\"marker\":{\"colorbar\":{\"outlinewidth\":0,\"ticks\":\"\"}},\"type\":\"scatter3d\"}],\"scattercarpet\":[{\"marker\":{\"colorbar\":{\"outlinewidth\":0,\"ticks\":\"\"}},\"type\":\"scattercarpet\"}],\"scattergeo\":[{\"marker\":{\"colorbar\":{\"outlinewidth\":0,\"ticks\":\"\"}},\"type\":\"scattergeo\"}],\"scattergl\":[{\"marker\":{\"colorbar\":{\"outlinewidth\":0,\"ticks\":\"\"}},\"type\":\"scattergl\"}],\"scattermapbox\":[{\"marker\":{\"colorbar\":{\"outlinewidth\":0,\"ticks\":\"\"}},\"type\":\"scattermapbox\"}],\"scatterpolar\":[{\"marker\":{\"colorbar\":{\"outlinewidth\":0,\"ticks\":\"\"}},\"type\":\"scatterpolar\"}],\"scatterpolargl\":[{\"marker\":{\"colorbar\":{\"outlinewidth\":0,\"ticks\":\"\"}},\"type\":\"scatterpolargl\"}],\"scatterternary\":[{\"marker\":{\"colorbar\":{\"outlinewidth\":0,\"ticks\":\"\"}},\"type\":\"scatterternary\"}],\"surface\":[{\"colorbar\":{\"outlinewidth\":0,\"ticks\":\"\"},\"colorscale\":[[0.0,\"#0d0887\"],[0.1111111111111111,\"#46039f\"],[0.2222222222222222,\"#7201a8\"],[0.3333333333333333,\"#9c179e\"],[0.4444444444444444,\"#bd3786\"],[0.5555555555555556,\"#d8576b\"],[0.6666666666666666,\"#ed7953\"],[0.7777777777777778,\"#fb9f3a\"],[0.8888888888888888,\"#fdca26\"],[1.0,\"#f0f921\"]],\"type\":\"surface\"}],\"table\":[{\"cells\":{\"fill\":{\"color\":\"#EBF0F8\"},\"line\":{\"color\":\"white\"}},\"header\":{\"fill\":{\"color\":\"#C8D4E3\"},\"line\":{\"color\":\"white\"}},\"type\":\"table\"}]},\"layout\":{\"annotationdefaults\":{\"arrowcolor\":\"#2a3f5f\",\"arrowhead\":0,\"arrowwidth\":1},\"autotypenumbers\":\"strict\",\"coloraxis\":{\"colorbar\":{\"outlinewidth\":0,\"ticks\":\"\"}},\"colorscale\":{\"diverging\":[[0,\"#8e0152\"],[0.1,\"#c51b7d\"],[0.2,\"#de77ae\"],[0.3,\"#f1b6da\"],[0.4,\"#fde0ef\"],[0.5,\"#f7f7f7\"],[0.6,\"#e6f5d0\"],[0.7,\"#b8e186\"],[0.8,\"#7fbc41\"],[0.9,\"#4d9221\"],[1,\"#276419\"]],\"sequential\":[[0.0,\"#0d0887\"],[0.1111111111111111,\"#46039f\"],[0.2222222222222222,\"#7201a8\"],[0.3333333333333333,\"#9c179e\"],[0.4444444444444444,\"#bd3786\"],[0.5555555555555556,\"#d8576b\"],[0.6666666666666666,\"#ed7953\"],[0.7777777777777778,\"#fb9f3a\"],[0.8888888888888888,\"#fdca26\"],[1.0,\"#f0f921\"]],\"sequentialminus\":[[0.0,\"#0d0887\"],[0.1111111111111111,\"#46039f\"],[0.2222222222222222,\"#7201a8\"],[0.3333333333333333,\"#9c179e\"],[0.4444444444444444,\"#bd3786\"],[0.5555555555555556,\"#d8576b\"],[0.6666666666666666,\"#ed7953\"],[0.7777777777777778,\"#fb9f3a\"],[0.8888888888888888,\"#fdca26\"],[1.0,\"#f0f921\"]]},\"colorway\":[\"#636efa\",\"#EF553B\",\"#00cc96\",\"#ab63fa\",\"#FFA15A\",\"#19d3f3\",\"#FF6692\",\"#B6E880\",\"#FF97FF\",\"#FECB52\"],\"font\":{\"color\":\"#2a3f5f\"},\"geo\":{\"bgcolor\":\"white\",\"lakecolor\":\"white\",\"landcolor\":\"#E5ECF6\",\"showlakes\":true,\"showland\":true,\"subunitcolor\":\"white\"},\"hoverlabel\":{\"align\":\"left\"},\"hovermode\":\"closest\",\"mapbox\":{\"style\":\"light\"},\"paper_bgcolor\":\"white\",\"plot_bgcolor\":\"#E5ECF6\",\"polar\":{\"angularaxis\":{\"gridcolor\":\"white\",\"linecolor\":\"white\",\"ticks\":\"\"},\"bgcolor\":\"#E5ECF6\",\"radialaxis\":{\"gridcolor\":\"white\",\"linecolor\":\"white\",\"ticks\":\"\"}},\"scene\":{\"xaxis\":{\"backgroundcolor\":\"#E5ECF6\",\"gridcolor\":\"white\",\"gridwidth\":2,\"linecolor\":\"white\",\"showbackground\":true,\"ticks\":\"\",\"zerolinecolor\":\"white\"},\"yaxis\":{\"backgroundcolor\":\"#E5ECF6\",\"gridcolor\":\"white\",\"gridwidth\":2,\"linecolor\":\"white\",\"showbackground\":true,\"ticks\":\"\",\"zerolinecolor\":\"white\"},\"zaxis\":{\"backgroundcolor\":\"#E5ECF6\",\"gridcolor\":\"white\",\"gridwidth\":2,\"linecolor\":\"white\",\"showbackground\":true,\"ticks\":\"\",\"zerolinecolor\":\"white\"}},\"shapedefaults\":{\"line\":{\"color\":\"#2a3f5f\"}},\"ternary\":{\"aaxis\":{\"gridcolor\":\"white\",\"linecolor\":\"white\",\"ticks\":\"\"},\"baxis\":{\"gridcolor\":\"white\",\"linecolor\":\"white\",\"ticks\":\"\"},\"bgcolor\":\"#E5ECF6\",\"caxis\":{\"gridcolor\":\"white\",\"linecolor\":\"white\",\"ticks\":\"\"}},\"title\":{\"x\":0.05},\"xaxis\":{\"automargin\":true,\"gridcolor\":\"white\",\"linecolor\":\"white\",\"ticks\":\"\",\"title\":{\"standoff\":15},\"zerolinecolor\":\"white\",\"zerolinewidth\":2},\"yaxis\":{\"automargin\":true,\"gridcolor\":\"white\",\"linecolor\":\"white\",\"ticks\":\"\",\"title\":{\"standoff\":15},\"zerolinecolor\":\"white\",\"zerolinewidth\":2}}},\"xaxis\":{\"rangeslider\":{\"visible\":true},\"title\":{\"text\":\"Date\"}},\"yaxis\":{\"title\":{\"text\":\"Total Revenue (\\u00a3)\"}},\"title\":{\"text\":\"Model 5 - Linear Regression Predicted Weekly Revenue\"}},                        {\"responsive\": true}                    ).then(function(){\n",
       "                            \n",
       "var gd = document.getElementById('514821a7-4924-4ed4-a159-e3c96e5dc1fc');\n",
       "var x = new MutationObserver(function (mutations, observer) {{\n",
       "        var display = window.getComputedStyle(gd).display;\n",
       "        if (!display || display === 'none') {{\n",
       "            console.log([gd, 'removed!']);\n",
       "            Plotly.purge(gd);\n",
       "            observer.disconnect();\n",
       "        }}\n",
       "}});\n",
       "\n",
       "// Listen for the removal of the full notebook cells\n",
       "var notebookContainer = gd.closest('#notebook-container');\n",
       "if (notebookContainer) {{\n",
       "    x.observe(notebookContainer, {childList: true});\n",
       "}}\n",
       "\n",
       "// Listen for the clearing of the current output cell\n",
       "var outputEl = gd.closest('.output');\n",
       "if (outputEl) {{\n",
       "    x.observe(outputEl, {childList: true});\n",
       "}}\n",
       "\n",
       "                        })                };                });            </script>        </div>"
      ]
     },
     "metadata": {},
     "output_type": "display_data"
    }
   ],
   "source": [
    "fig = go.Figure()\n",
    "fig.add_trace(go.Scatter(x=train.index, \n",
    "                         y=train['Total_Revenue'], mode='lines', name='Train'))\n",
    "fig.add_trace(go.Scatter(x=test.index, \n",
    "                         y=test['Total_Revenue'], mode='lines', name='Test'))\n",
    "fig.add_trace(go.Scatter(x=test.index, \n",
    "                         y=prediction_5, mode='lines', name='Prediction 5'))\n",
    "\n",
    "fig.update_xaxes(rangeslider_visible=True)\n",
    "fig.update_layout(\n",
    "    yaxis_title='Total Revenue (£)', \n",
    "    xaxis_title='Date',\n",
    "    title='Model 5 - Linear Regression Predicted Weekly Revenue'\n",
    ")\n",
    "fig.show()"
   ]
  },
  {
   "cell_type": "code",
   "execution_count": 116,
   "id": "d59715b5",
   "metadata": {},
   "outputs": [
    {
     "name": "stdout",
     "output_type": "stream",
     "text": [
      "The RMSE for the weekly forecast is: 11570.81\n",
      "\n",
      "The MAE between the actual and weekly forecast revenue is 10020.12\n",
      "\n",
      "The MAPE between the actual and weekly forecast revenue is 9.9%\n"
     ]
    }
   ],
   "source": [
    "bakery.full_accuracy_report(test['Total_Revenue'],\n",
    "                            prediction_5, 'weekly forecast')"
   ]
  },
  {
   "cell_type": "markdown",
   "id": "0e324b81",
   "metadata": {},
   "source": [
    "## Model 5 - Accuracy Evaluation\n",
    "Again reducing the features has improved the MAPE score, but decreased the R<sup>2</sup> value. \n",
    "\n",
    "The determination of which model is better (better R<sup>2</sup> vs MAPE score) will be evaluated in the [Evaluation of the Models](#Evaluation-of-the-Models) section. "
   ]
  },
  {
   "cell_type": "code",
   "execution_count": 137,
   "id": "12573ddb",
   "metadata": {},
   "outputs": [
    {
     "data": {
      "text/html": [
       "<div>\n",
       "<style scoped>\n",
       "    .dataframe tbody tr th:only-of-type {\n",
       "        vertical-align: middle;\n",
       "    }\n",
       "\n",
       "    .dataframe tbody tr th {\n",
       "        vertical-align: top;\n",
       "    }\n",
       "\n",
       "    .dataframe thead th {\n",
       "        text-align: right;\n",
       "    }\n",
       "</style>\n",
       "<table border=\"1\" class=\"dataframe\">\n",
       "  <thead>\n",
       "    <tr style=\"text-align: right;\">\n",
       "      <th></th>\n",
       "      <th>Model</th>\n",
       "      <th>R2</th>\n",
       "      <th>RMSE</th>\n",
       "      <th>AIC</th>\n",
       "      <th>MAPE (%)</th>\n",
       "      <th>Comments</th>\n",
       "    </tr>\n",
       "  </thead>\n",
       "  <tbody>\n",
       "    <tr>\n",
       "      <th>0</th>\n",
       "      <td>1</td>\n",
       "      <td>0.791</td>\n",
       "      <td>14111.89</td>\n",
       "      <td>1614</td>\n",
       "      <td>11.4%</td>\n",
       "      <td>All initial variables</td>\n",
       "    </tr>\n",
       "    <tr>\n",
       "      <th>1</th>\n",
       "      <td>2</td>\n",
       "      <td>0.779</td>\n",
       "      <td>15395.97</td>\n",
       "      <td>1614</td>\n",
       "      <td>13.2%</td>\n",
       "      <td>Dropped Closed Xmas, 3D_MA</td>\n",
       "    </tr>\n",
       "    <tr>\n",
       "      <th>2</th>\n",
       "      <td>3</td>\n",
       "      <td>0.537</td>\n",
       "      <td>12861.20</td>\n",
       "      <td>1668</td>\n",
       "      <td>10.6%</td>\n",
       "      <td>Dropped 20D MA</td>\n",
       "    </tr>\n",
       "    <tr>\n",
       "      <th>3</th>\n",
       "      <td>4</td>\n",
       "      <td>0.528</td>\n",
       "      <td>11663.08</td>\n",
       "      <td>1667</td>\n",
       "      <td>10.2%</td>\n",
       "      <td>Dropped Bank Holiday</td>\n",
       "    </tr>\n",
       "    <tr>\n",
       "      <th>4</th>\n",
       "      <td>5</td>\n",
       "      <td>0.504</td>\n",
       "      <td>11570.81</td>\n",
       "      <td>1669</td>\n",
       "      <td>9.9%</td>\n",
       "      <td>Dropped Weekend</td>\n",
       "    </tr>\n",
       "  </tbody>\n",
       "</table>\n",
       "</div>"
      ],
      "text/plain": [
       "   Model     R2      RMSE   AIC MAPE (%)                    Comments\n",
       "0      1  0.791  14111.89  1614    11.4%       All initial variables\n",
       "1      2  0.779  15395.97  1614    13.2%  Dropped Closed Xmas, 3D_MA\n",
       "2      3  0.537  12861.20  1668    10.6%              Dropped 20D MA\n",
       "3      4  0.528  11663.08  1667    10.2%        Dropped Bank Holiday\n",
       "4      5  0.504  11570.81  1669     9.9%             Dropped Weekend"
      ]
     },
     "metadata": {},
     "output_type": "display_data"
    }
   ],
   "source": [
    "# To add the scores to the results table \n",
    "model_scores = bakery.add_results(model_scores, 5, 0.504, 11570.81, 1669, '9.9%', 'Dropped Weekend')"
   ]
  },
  {
   "cell_type": "markdown",
   "id": "87a943fa",
   "metadata": {},
   "source": [
    "# Model 6 - Adding New Features\n",
    "- Similar to the daily forecast, to try and improve the accuracy of the predictions, feature engineering will be applied to create 3 new columns. These columns willl show the variance between the calculated moving averages and the actual revenue, with a 6 week lag to ensure that no actual data is leaked into the test set. "
   ]
  },
  {
   "cell_type": "code",
   "execution_count": 117,
   "id": "a3f63c4d",
   "metadata": {},
   "outputs": [
    {
     "data": {
      "text/html": [
       "<div>\n",
       "<style scoped>\n",
       "    .dataframe tbody tr th:only-of-type {\n",
       "        vertical-align: middle;\n",
       "    }\n",
       "\n",
       "    .dataframe tbody tr th {\n",
       "        vertical-align: top;\n",
       "    }\n",
       "\n",
       "    .dataframe thead th {\n",
       "        text-align: right;\n",
       "    }\n",
       "</style>\n",
       "<table border=\"1\" class=\"dataframe\">\n",
       "  <thead>\n",
       "    <tr style=\"text-align: right;\">\n",
       "      <th></th>\n",
       "      <th>Total_Revenue</th>\n",
       "      <th>Bank_Holiday</th>\n",
       "      <th>Closed_Xmas</th>\n",
       "      <th>Weekday</th>\n",
       "      <th>Weekend</th>\n",
       "      <th>3W_MA</th>\n",
       "      <th>7W_MA</th>\n",
       "      <th>20W_MA</th>\n",
       "      <th>3W_MA_lag</th>\n",
       "      <th>7W_MA_lag</th>\n",
       "      <th>20W_MA_lag</th>\n",
       "      <th>3W_Var</th>\n",
       "      <th>7W_Var</th>\n",
       "      <th>20W_Var</th>\n",
       "    </tr>\n",
       "  </thead>\n",
       "  <tbody>\n",
       "    <tr>\n",
       "      <th>2021-03-07</th>\n",
       "      <td>27155.95</td>\n",
       "      <td>0</td>\n",
       "      <td>0</td>\n",
       "      <td>5</td>\n",
       "      <td>2</td>\n",
       "      <td>25011.21</td>\n",
       "      <td>22382.30</td>\n",
       "      <td>34408.72</td>\n",
       "      <td>23360.33</td>\n",
       "      <td>32634.45</td>\n",
       "      <td>45384.89</td>\n",
       "      <td>-2144.74</td>\n",
       "      <td>-4773.65</td>\n",
       "      <td>7252.77</td>\n",
       "    </tr>\n",
       "    <tr>\n",
       "      <th>2021-03-14</th>\n",
       "      <td>28698.05</td>\n",
       "      <td>0</td>\n",
       "      <td>0</td>\n",
       "      <td>5</td>\n",
       "      <td>2</td>\n",
       "      <td>27602.74</td>\n",
       "      <td>23735.49</td>\n",
       "      <td>33031.76</td>\n",
       "      <td>19595.52</td>\n",
       "      <td>30668.29</td>\n",
       "      <td>43246.19</td>\n",
       "      <td>-1095.31</td>\n",
       "      <td>-4962.56</td>\n",
       "      <td>4333.71</td>\n",
       "    </tr>\n",
       "    <tr>\n",
       "      <th>2021-03-21</th>\n",
       "      <td>29639.92</td>\n",
       "      <td>0</td>\n",
       "      <td>0</td>\n",
       "      <td>5</td>\n",
       "      <td>2</td>\n",
       "      <td>28286.07</td>\n",
       "      <td>24961.29</td>\n",
       "      <td>31409.26</td>\n",
       "      <td>20224.94</td>\n",
       "      <td>28081.83</td>\n",
       "      <td>41181.90</td>\n",
       "      <td>-1353.85</td>\n",
       "      <td>-4678.63</td>\n",
       "      <td>1769.34</td>\n",
       "    </tr>\n",
       "    <tr>\n",
       "      <th>2021-03-28</th>\n",
       "      <td>33834.22</td>\n",
       "      <td>0</td>\n",
       "      <td>0</td>\n",
       "      <td>5</td>\n",
       "      <td>2</td>\n",
       "      <td>28497.97</td>\n",
       "      <td>25927.89</td>\n",
       "      <td>29224.79</td>\n",
       "      <td>21319.61</td>\n",
       "      <td>24330.07</td>\n",
       "      <td>38953.67</td>\n",
       "      <td>-5336.25</td>\n",
       "      <td>-7906.33</td>\n",
       "      <td>-4609.43</td>\n",
       "    </tr>\n",
       "    <tr>\n",
       "      <th>2021-04-04</th>\n",
       "      <td>49890.95</td>\n",
       "      <td>1</td>\n",
       "      <td>0</td>\n",
       "      <td>3</td>\n",
       "      <td>0</td>\n",
       "      <td>30724.06</td>\n",
       "      <td>27765.97</td>\n",
       "      <td>28843.68</td>\n",
       "      <td>21074.25</td>\n",
       "      <td>21917.31</td>\n",
       "      <td>36992.12</td>\n",
       "      <td>-19166.89</td>\n",
       "      <td>-22124.98</td>\n",
       "      <td>-21047.27</td>\n",
       "    </tr>\n",
       "  </tbody>\n",
       "</table>\n",
       "</div>"
      ],
      "text/plain": [
       "            Total_Revenue  Bank_Holiday  Closed_Xmas  Weekday  Weekend  \\\n",
       "2021-03-07       27155.95             0            0        5        2   \n",
       "2021-03-14       28698.05             0            0        5        2   \n",
       "2021-03-21       29639.92             0            0        5        2   \n",
       "2021-03-28       33834.22             0            0        5        2   \n",
       "2021-04-04       49890.95             1            0        3        0   \n",
       "\n",
       "               3W_MA     7W_MA    20W_MA  3W_MA_lag  7W_MA_lag  20W_MA_lag  \\\n",
       "2021-03-07  25011.21  22382.30  34408.72   23360.33   32634.45    45384.89   \n",
       "2021-03-14  27602.74  23735.49  33031.76   19595.52   30668.29    43246.19   \n",
       "2021-03-21  28286.07  24961.29  31409.26   20224.94   28081.83    41181.90   \n",
       "2021-03-28  28497.97  25927.89  29224.79   21319.61   24330.07    38953.67   \n",
       "2021-04-04  30724.06  27765.97  28843.68   21074.25   21917.31    36992.12   \n",
       "\n",
       "              3W_Var    7W_Var   20W_Var  \n",
       "2021-03-07  -2144.74  -4773.65   7252.77  \n",
       "2021-03-14  -1095.31  -4962.56   4333.71  \n",
       "2021-03-21  -1353.85  -4678.63   1769.34  \n",
       "2021-03-28  -5336.25  -7906.33  -4609.43  \n",
       "2021-04-04 -19166.89 -22124.98 -21047.27  "
      ]
     },
     "execution_count": 117,
     "metadata": {},
     "output_type": "execute_result"
    }
   ],
   "source": [
    "for row in linear_processed.index:\n",
    "    linear_processed.loc[row,'3W_Var'] = linear_processed.loc[row,'3W_MA'] - linear_processed.loc[row,'Total_Revenue']\n",
    "    linear_processed.loc[row,'7W_Var'] = linear_processed.loc[row,'7W_MA'] - linear_processed.loc[row,'Total_Revenue']\n",
    "    linear_processed.loc[row,'20W_Var'] = linear_processed.loc[row,'20W_MA'] - linear_processed.loc[row,'Total_Revenue']\n",
    "\n",
    "linear_processed.head()"
   ]
  },
  {
   "cell_type": "code",
   "execution_count": 118,
   "id": "b4c95407",
   "metadata": {},
   "outputs": [],
   "source": [
    "# To move the MA data over\n",
    "for row in linear_rev.index:\n",
    "    try:\n",
    "        linear_processed.loc[row,'3W_Var_lag'] = linear_processed.loc[row-DateOffset(weeks=6),'3W_Var']\n",
    "        linear_processed.loc[row,'7W_Var_lag'] = linear_processed.loc[row-DateOffset(weeks=6),'7W_Var']\n",
    "        linear_processed.loc[row,'20W_Var_lag'] = linear_processed.loc[row-DateOffset(weeks=6),'20W_Var']\n",
    "    except:\n",
    "        continue"
   ]
  },
  {
   "cell_type": "code",
   "execution_count": 119,
   "id": "4f8f9e36",
   "metadata": {},
   "outputs": [
    {
     "data": {
      "text/html": [
       "<div>\n",
       "<style scoped>\n",
       "    .dataframe tbody tr th:only-of-type {\n",
       "        vertical-align: middle;\n",
       "    }\n",
       "\n",
       "    .dataframe tbody tr th {\n",
       "        vertical-align: top;\n",
       "    }\n",
       "\n",
       "    .dataframe thead th {\n",
       "        text-align: right;\n",
       "    }\n",
       "</style>\n",
       "<table border=\"1\" class=\"dataframe\">\n",
       "  <thead>\n",
       "    <tr style=\"text-align: right;\">\n",
       "      <th></th>\n",
       "      <th>Total_Revenue</th>\n",
       "      <th>Bank_Holiday</th>\n",
       "      <th>Closed_Xmas</th>\n",
       "      <th>Weekday</th>\n",
       "      <th>Weekend</th>\n",
       "      <th>3W_MA</th>\n",
       "      <th>7W_MA</th>\n",
       "      <th>20W_MA</th>\n",
       "      <th>3W_MA_lag</th>\n",
       "      <th>7W_MA_lag</th>\n",
       "      <th>20W_MA_lag</th>\n",
       "      <th>3W_Var</th>\n",
       "      <th>7W_Var</th>\n",
       "      <th>20W_Var</th>\n",
       "      <th>3W_Var_lag</th>\n",
       "      <th>7W_Var_lag</th>\n",
       "      <th>20W_Var_lag</th>\n",
       "    </tr>\n",
       "  </thead>\n",
       "  <tbody>\n",
       "    <tr>\n",
       "      <th>2021-03-07</th>\n",
       "      <td>27155.95</td>\n",
       "      <td>0</td>\n",
       "      <td>0</td>\n",
       "      <td>5</td>\n",
       "      <td>2</td>\n",
       "      <td>25011.21</td>\n",
       "      <td>22382.30</td>\n",
       "      <td>34408.72</td>\n",
       "      <td>23360.33</td>\n",
       "      <td>32634.45</td>\n",
       "      <td>45384.89</td>\n",
       "      <td>-2144.74</td>\n",
       "      <td>-4773.65</td>\n",
       "      <td>7252.77</td>\n",
       "      <td>NaN</td>\n",
       "      <td>NaN</td>\n",
       "      <td>NaN</td>\n",
       "    </tr>\n",
       "    <tr>\n",
       "      <th>2021-03-14</th>\n",
       "      <td>28698.05</td>\n",
       "      <td>0</td>\n",
       "      <td>0</td>\n",
       "      <td>5</td>\n",
       "      <td>2</td>\n",
       "      <td>27602.74</td>\n",
       "      <td>23735.49</td>\n",
       "      <td>33031.76</td>\n",
       "      <td>19595.52</td>\n",
       "      <td>30668.29</td>\n",
       "      <td>43246.19</td>\n",
       "      <td>-1095.31</td>\n",
       "      <td>-4962.56</td>\n",
       "      <td>4333.71</td>\n",
       "      <td>NaN</td>\n",
       "      <td>NaN</td>\n",
       "      <td>NaN</td>\n",
       "    </tr>\n",
       "    <tr>\n",
       "      <th>2021-03-21</th>\n",
       "      <td>29639.92</td>\n",
       "      <td>0</td>\n",
       "      <td>0</td>\n",
       "      <td>5</td>\n",
       "      <td>2</td>\n",
       "      <td>28286.07</td>\n",
       "      <td>24961.29</td>\n",
       "      <td>31409.26</td>\n",
       "      <td>20224.94</td>\n",
       "      <td>28081.83</td>\n",
       "      <td>41181.90</td>\n",
       "      <td>-1353.85</td>\n",
       "      <td>-4678.63</td>\n",
       "      <td>1769.34</td>\n",
       "      <td>NaN</td>\n",
       "      <td>NaN</td>\n",
       "      <td>NaN</td>\n",
       "    </tr>\n",
       "    <tr>\n",
       "      <th>2021-03-28</th>\n",
       "      <td>33834.22</td>\n",
       "      <td>0</td>\n",
       "      <td>0</td>\n",
       "      <td>5</td>\n",
       "      <td>2</td>\n",
       "      <td>28497.97</td>\n",
       "      <td>25927.89</td>\n",
       "      <td>29224.79</td>\n",
       "      <td>21319.61</td>\n",
       "      <td>24330.07</td>\n",
       "      <td>38953.67</td>\n",
       "      <td>-5336.25</td>\n",
       "      <td>-7906.33</td>\n",
       "      <td>-4609.43</td>\n",
       "      <td>NaN</td>\n",
       "      <td>NaN</td>\n",
       "      <td>NaN</td>\n",
       "    </tr>\n",
       "    <tr>\n",
       "      <th>2021-04-04</th>\n",
       "      <td>49890.95</td>\n",
       "      <td>1</td>\n",
       "      <td>0</td>\n",
       "      <td>3</td>\n",
       "      <td>0</td>\n",
       "      <td>30724.06</td>\n",
       "      <td>27765.97</td>\n",
       "      <td>28843.68</td>\n",
       "      <td>21074.25</td>\n",
       "      <td>21917.31</td>\n",
       "      <td>36992.12</td>\n",
       "      <td>-19166.89</td>\n",
       "      <td>-22124.98</td>\n",
       "      <td>-21047.27</td>\n",
       "      <td>NaN</td>\n",
       "      <td>NaN</td>\n",
       "      <td>NaN</td>\n",
       "    </tr>\n",
       "  </tbody>\n",
       "</table>\n",
       "</div>"
      ],
      "text/plain": [
       "            Total_Revenue  Bank_Holiday  Closed_Xmas  Weekday  Weekend  \\\n",
       "2021-03-07       27155.95             0            0        5        2   \n",
       "2021-03-14       28698.05             0            0        5        2   \n",
       "2021-03-21       29639.92             0            0        5        2   \n",
       "2021-03-28       33834.22             0            0        5        2   \n",
       "2021-04-04       49890.95             1            0        3        0   \n",
       "\n",
       "               3W_MA     7W_MA    20W_MA  3W_MA_lag  7W_MA_lag  20W_MA_lag  \\\n",
       "2021-03-07  25011.21  22382.30  34408.72   23360.33   32634.45    45384.89   \n",
       "2021-03-14  27602.74  23735.49  33031.76   19595.52   30668.29    43246.19   \n",
       "2021-03-21  28286.07  24961.29  31409.26   20224.94   28081.83    41181.90   \n",
       "2021-03-28  28497.97  25927.89  29224.79   21319.61   24330.07    38953.67   \n",
       "2021-04-04  30724.06  27765.97  28843.68   21074.25   21917.31    36992.12   \n",
       "\n",
       "              3W_Var    7W_Var   20W_Var  3W_Var_lag  7W_Var_lag  20W_Var_lag  \n",
       "2021-03-07  -2144.74  -4773.65   7252.77         NaN         NaN          NaN  \n",
       "2021-03-14  -1095.31  -4962.56   4333.71         NaN         NaN          NaN  \n",
       "2021-03-21  -1353.85  -4678.63   1769.34         NaN         NaN          NaN  \n",
       "2021-03-28  -5336.25  -7906.33  -4609.43         NaN         NaN          NaN  \n",
       "2021-04-04 -19166.89 -22124.98 -21047.27         NaN         NaN          NaN  "
      ]
     },
     "execution_count": 119,
     "metadata": {},
     "output_type": "execute_result"
    }
   ],
   "source": [
    "# To validate it worked\n",
    "linear_processed.head()"
   ]
  },
  {
   "cell_type": "code",
   "execution_count": 120,
   "id": "51116621",
   "metadata": {},
   "outputs": [],
   "source": [
    "# To drop the columns not required for the model \n",
    "lin_variables = linear_processed.drop(columns= ['3W_MA', '7W_MA', '20W_MA', '3W_Var', '7W_Var',\n",
    "                                               '20W_Var']).copy()"
   ]
  },
  {
   "cell_type": "code",
   "execution_count": 121,
   "id": "be9746fe",
   "metadata": {},
   "outputs": [],
   "source": [
    "# Splitting the train and test data\n",
    "train = lin_variables.loc[lin_variables.index <= '2022-08-14'].dropna().copy()\n",
    "test = lin_variables.loc[lin_variables.index > '2022-08-14'].copy()"
   ]
  },
  {
   "cell_type": "code",
   "execution_count": 130,
   "id": "6f265617",
   "metadata": {},
   "outputs": [],
   "source": [
    "independent_variables_6 = train.drop(columns='Total_Revenue').copy()"
   ]
  },
  {
   "cell_type": "code",
   "execution_count": 131,
   "id": "e868003e",
   "metadata": {},
   "outputs": [
    {
     "data": {
      "text/html": [
       "<table class=\"simpletable\">\n",
       "<caption>OLS Regression Results</caption>\n",
       "<tr>\n",
       "  <th>Dep. Variable:</th>      <td>Total_Revenue</td>  <th>  R-squared:         </th> <td>   0.822</td>\n",
       "</tr>\n",
       "<tr>\n",
       "  <th>Model:</th>                   <td>OLS</td>       <th>  Adj. R-squared:    </th> <td>   0.799</td>\n",
       "</tr>\n",
       "<tr>\n",
       "  <th>Method:</th>             <td>Least Squares</td>  <th>  F-statistic:       </th> <td>   35.27</td>\n",
       "</tr>\n",
       "<tr>\n",
       "  <th>Date:</th>             <td>Tue, 25 Oct 2022</td> <th>  Prob (F-statistic):</th> <td>4.28e-20</td>\n",
       "</tr>\n",
       "<tr>\n",
       "  <th>Time:</th>                 <td>22:42:22</td>     <th>  Log-Likelihood:    </th> <td> -718.54</td>\n",
       "</tr>\n",
       "<tr>\n",
       "  <th>No. Observations:</th>      <td>    70</td>      <th>  AIC:               </th> <td>   1455.</td>\n",
       "</tr>\n",
       "<tr>\n",
       "  <th>Df Residuals:</th>          <td>    61</td>      <th>  BIC:               </th> <td>   1475.</td>\n",
       "</tr>\n",
       "<tr>\n",
       "  <th>Df Model:</th>              <td>     8</td>      <th>                     </th>     <td> </td>   \n",
       "</tr>\n",
       "<tr>\n",
       "  <th>Covariance Type:</th>      <td>nonrobust</td>    <th>                     </th>     <td> </td>   \n",
       "</tr>\n",
       "</table>\n",
       "<table class=\"simpletable\">\n",
       "<tr>\n",
       "        <td></td>          <th>coef</th>     <th>std err</th>      <th>t</th>      <th>P>|t|</th>  <th>[0.025</th>    <th>0.975]</th>  \n",
       "</tr>\n",
       "<tr>\n",
       "  <th>const</th>        <td> 8.546e+04</td> <td> 4770.679</td> <td>   17.914</td> <td> 0.000</td> <td> 7.59e+04</td> <td>  9.5e+04</td>\n",
       "</tr>\n",
       "<tr>\n",
       "  <th>Bank_Holiday</th> <td> 7387.8801</td> <td> 2407.667</td> <td>    3.068</td> <td> 0.003</td> <td> 2573.452</td> <td> 1.22e+04</td>\n",
       "</tr>\n",
       "<tr>\n",
       "  <th>Closed_Xmas</th>  <td>-1.714e+04</td> <td> 7994.754</td> <td>   -2.144</td> <td> 0.036</td> <td>-3.31e+04</td> <td>-1150.912</td>\n",
       "</tr>\n",
       "<tr>\n",
       "  <th>Weekday</th>      <td>-2527.7165</td> <td>  773.865</td> <td>   -3.266</td> <td> 0.002</td> <td>-4075.155</td> <td> -980.278</td>\n",
       "</tr>\n",
       "<tr>\n",
       "  <th>Weekend</th>      <td>-5880.4642</td> <td> 1582.849</td> <td>   -3.715</td> <td> 0.000</td> <td>-9045.567</td> <td>-2715.362</td>\n",
       "</tr>\n",
       "<tr>\n",
       "  <th>3W_MA_lag</th>    <td>   -0.0546</td> <td>    0.080</td> <td>   -0.681</td> <td> 0.498</td> <td>   -0.215</td> <td>    0.106</td>\n",
       "</tr>\n",
       "<tr>\n",
       "  <th>7W_MA_lag</th>    <td>    0.4712</td> <td>    0.094</td> <td>    4.998</td> <td> 0.000</td> <td>    0.283</td> <td>    0.660</td>\n",
       "</tr>\n",
       "<tr>\n",
       "  <th>20W_MA_lag</th>   <td>   -0.3643</td> <td>    0.061</td> <td>   -5.927</td> <td> 0.000</td> <td>   -0.487</td> <td>   -0.241</td>\n",
       "</tr>\n",
       "<tr>\n",
       "  <th>3W_Var_lag</th>   <td>   -0.0981</td> <td>    0.080</td> <td>   -1.220</td> <td> 0.227</td> <td>   -0.259</td> <td>    0.063</td>\n",
       "</tr>\n",
       "<tr>\n",
       "  <th>7W_Var_lag</th>   <td>    0.4277</td> <td>    0.108</td> <td>    3.978</td> <td> 0.000</td> <td>    0.213</td> <td>    0.643</td>\n",
       "</tr>\n",
       "<tr>\n",
       "  <th>20W_Var_lag</th>  <td>   -0.4078</td> <td>    0.044</td> <td>   -9.349</td> <td> 0.000</td> <td>   -0.495</td> <td>   -0.321</td>\n",
       "</tr>\n",
       "</table>\n",
       "<table class=\"simpletable\">\n",
       "<tr>\n",
       "  <th>Omnibus:</th>       <td> 3.259</td> <th>  Durbin-Watson:     </th> <td>   0.980</td>\n",
       "</tr>\n",
       "<tr>\n",
       "  <th>Prob(Omnibus):</th> <td> 0.196</td> <th>  Jarque-Bera (JB):  </th> <td>   3.038</td>\n",
       "</tr>\n",
       "<tr>\n",
       "  <th>Skew:</th>          <td> 0.507</td> <th>  Prob(JB):          </th> <td>   0.219</td>\n",
       "</tr>\n",
       "<tr>\n",
       "  <th>Kurtosis:</th>      <td> 2.877</td> <th>  Cond. No.          </th> <td>3.43e+16</td>\n",
       "</tr>\n",
       "</table><br/><br/>Notes:<br/>[1] Standard Errors assume that the covariance matrix of the errors is correctly specified.<br/>[2] The smallest eigenvalue is 8.59e-22. This might indicate that there are<br/>strong multicollinearity problems or that the design matrix is singular."
      ],
      "text/plain": [
       "<class 'statsmodels.iolib.summary.Summary'>\n",
       "\"\"\"\n",
       "                            OLS Regression Results                            \n",
       "==============================================================================\n",
       "Dep. Variable:          Total_Revenue   R-squared:                       0.822\n",
       "Model:                            OLS   Adj. R-squared:                  0.799\n",
       "Method:                 Least Squares   F-statistic:                     35.27\n",
       "Date:                Tue, 25 Oct 2022   Prob (F-statistic):           4.28e-20\n",
       "Time:                        22:42:22   Log-Likelihood:                -718.54\n",
       "No. Observations:                  70   AIC:                             1455.\n",
       "Df Residuals:                      61   BIC:                             1475.\n",
       "Df Model:                           8                                         \n",
       "Covariance Type:            nonrobust                                         \n",
       "================================================================================\n",
       "                   coef    std err          t      P>|t|      [0.025      0.975]\n",
       "--------------------------------------------------------------------------------\n",
       "const         8.546e+04   4770.679     17.914      0.000    7.59e+04     9.5e+04\n",
       "Bank_Holiday  7387.8801   2407.667      3.068      0.003    2573.452    1.22e+04\n",
       "Closed_Xmas  -1.714e+04   7994.754     -2.144      0.036   -3.31e+04   -1150.912\n",
       "Weekday      -2527.7165    773.865     -3.266      0.002   -4075.155    -980.278\n",
       "Weekend      -5880.4642   1582.849     -3.715      0.000   -9045.567   -2715.362\n",
       "3W_MA_lag       -0.0546      0.080     -0.681      0.498      -0.215       0.106\n",
       "7W_MA_lag        0.4712      0.094      4.998      0.000       0.283       0.660\n",
       "20W_MA_lag      -0.3643      0.061     -5.927      0.000      -0.487      -0.241\n",
       "3W_Var_lag      -0.0981      0.080     -1.220      0.227      -0.259       0.063\n",
       "7W_Var_lag       0.4277      0.108      3.978      0.000       0.213       0.643\n",
       "20W_Var_lag     -0.4078      0.044     -9.349      0.000      -0.495      -0.321\n",
       "==============================================================================\n",
       "Omnibus:                        3.259   Durbin-Watson:                   0.980\n",
       "Prob(Omnibus):                  0.196   Jarque-Bera (JB):                3.038\n",
       "Skew:                           0.507   Prob(JB):                        0.219\n",
       "Kurtosis:                       2.877   Cond. No.                     3.43e+16\n",
       "==============================================================================\n",
       "\n",
       "Notes:\n",
       "[1] Standard Errors assume that the covariance matrix of the errors is correctly specified.\n",
       "[2] The smallest eigenvalue is 8.59e-22. This might indicate that there are\n",
       "strong multicollinearity problems or that the design matrix is singular.\n",
       "\"\"\""
      ]
     },
     "execution_count": 131,
     "metadata": {},
     "output_type": "execute_result"
    }
   ],
   "source": [
    "y = train['Total_Revenue']\n",
    "\n",
    "# First the X and y values need to splitted: \n",
    "X = independent_variables_6\n",
    "\n",
    "# Then the X_ constant needs to be added to give the intercept value\n",
    "X_withconstant = sm.add_constant(X)\n",
    "\n",
    "# The model is then instantiated using the sm.OLS method\n",
    "lm_revenue = sm.OLS(y,X_withconstant)\n",
    "\n",
    "# The model is fitted using the .fit() method\n",
    "lm_revenue_results = lm_revenue.fit()\n",
    "\n",
    "# The results are displayed using the .summary() method\n",
    "lm_revenue_results.summary()"
   ]
  },
  {
   "cell_type": "code",
   "execution_count": 132,
   "id": "628fffc8",
   "metadata": {},
   "outputs": [],
   "source": [
    "X_test = test.drop(columns=['Total_Revenue']).copy()"
   ]
  },
  {
   "cell_type": "code",
   "execution_count": 133,
   "id": "cf3bcbde",
   "metadata": {},
   "outputs": [],
   "source": [
    "X_test_withconstant = sm.add_constant(X_test)"
   ]
  },
  {
   "cell_type": "code",
   "execution_count": 134,
   "id": "08ba5700",
   "metadata": {},
   "outputs": [
    {
     "data": {
      "text/plain": [
       "2022-08-21     93634.466670\n",
       "2022-08-28     95768.394944\n",
       "2022-09-04    104582.973036\n",
       "2022-09-11     69206.486733\n",
       "2022-09-18     70991.011074\n",
       "2022-09-25     71902.133774\n",
       "Freq: W-SUN, dtype: float64"
      ]
     },
     "execution_count": 134,
     "metadata": {},
     "output_type": "execute_result"
    }
   ],
   "source": [
    "# Predictions\n",
    "prediction_6 = lm_revenue_results.predict(X_test_withconstant)\n",
    "prediction_6"
   ]
  },
  {
   "cell_type": "code",
   "execution_count": 138,
   "id": "fd7c7e72",
   "metadata": {},
   "outputs": [
    {
     "data": {
      "application/vnd.plotly.v1+json": {
       "config": {
        "plotlyServerURL": "https://plot.ly"
       },
       "data": [
        {
         "mode": "lines",
         "name": "Train",
         "type": "scatter",
         "x": [
          "2021-04-18T00:00:00",
          "2021-04-25T00:00:00",
          "2021-05-02T00:00:00",
          "2021-05-09T00:00:00",
          "2021-05-16T00:00:00",
          "2021-05-23T00:00:00",
          "2021-05-30T00:00:00",
          "2021-06-06T00:00:00",
          "2021-06-13T00:00:00",
          "2021-06-20T00:00:00",
          "2021-06-27T00:00:00",
          "2021-07-04T00:00:00",
          "2021-07-11T00:00:00",
          "2021-07-18T00:00:00",
          "2021-07-25T00:00:00",
          "2021-08-01T00:00:00",
          "2021-08-08T00:00:00",
          "2021-08-15T00:00:00",
          "2021-08-22T00:00:00",
          "2021-08-29T00:00:00",
          "2021-09-05T00:00:00",
          "2021-09-12T00:00:00",
          "2021-09-19T00:00:00",
          "2021-09-26T00:00:00",
          "2021-10-03T00:00:00",
          "2021-10-10T00:00:00",
          "2021-10-17T00:00:00",
          "2021-10-24T00:00:00",
          "2021-10-31T00:00:00",
          "2021-11-07T00:00:00",
          "2021-11-14T00:00:00",
          "2021-11-21T00:00:00",
          "2021-11-28T00:00:00",
          "2021-12-05T00:00:00",
          "2021-12-12T00:00:00",
          "2021-12-19T00:00:00",
          "2021-12-26T00:00:00",
          "2022-01-02T00:00:00",
          "2022-01-09T00:00:00",
          "2022-01-16T00:00:00",
          "2022-01-23T00:00:00",
          "2022-01-30T00:00:00",
          "2022-02-06T00:00:00",
          "2022-02-13T00:00:00",
          "2022-02-20T00:00:00",
          "2022-02-27T00:00:00",
          "2022-03-06T00:00:00",
          "2022-03-13T00:00:00",
          "2022-03-20T00:00:00",
          "2022-03-27T00:00:00",
          "2022-04-03T00:00:00",
          "2022-04-10T00:00:00",
          "2022-04-17T00:00:00",
          "2022-04-24T00:00:00",
          "2022-05-01T00:00:00",
          "2022-05-08T00:00:00",
          "2022-05-15T00:00:00",
          "2022-05-22T00:00:00",
          "2022-05-29T00:00:00",
          "2022-06-05T00:00:00",
          "2022-06-12T00:00:00",
          "2022-06-19T00:00:00",
          "2022-06-26T00:00:00",
          "2022-07-03T00:00:00",
          "2022-07-10T00:00:00",
          "2022-07-17T00:00:00",
          "2022-07-24T00:00:00",
          "2022-07-31T00:00:00",
          "2022-08-07T00:00:00",
          "2022-08-14T00:00:00"
         ],
         "y": [
          72553.91,
          59804.86,
          62821.04,
          60201.77,
          58890.41,
          65883.27,
          72868.88,
          91050.3,
          70049.93,
          71821.2,
          74764.78,
          74499.56,
          82700.02,
          87403.88,
          93902.69,
          102590.59,
          104418.96,
          106765.67,
          105296.07,
          107555.55,
          92307.18,
          81485.62,
          80503.23,
          76278.72,
          74564.75,
          71568.15,
          70676.15,
          75993.28,
          90174.68,
          69867.09,
          65234.33,
          66232.44,
          63486.83,
          56164.75,
          54413.93,
          60703.51,
          62838.18,
          92832.18,
          66753.16,
          55705.39,
          53775.72,
          55267,
          48605.95,
          55404.22,
          73178.69,
          70478.72,
          61158.84,
          59521.83,
          57831.15,
          66849.78,
          66799.78,
          83854.31,
          103458.98,
          82578.42,
          73220.14,
          76245.74,
          71606.08,
          66308.36,
          74498.17,
          115555.67,
          68270.5,
          77556.5,
          81120.04,
          78429.52,
          80994.74,
          90259.78,
          98332,
          112021.47,
          109098.8,
          106518.19
         ]
        },
        {
         "mode": "lines",
         "name": "Test",
         "type": "scatter",
         "x": [
          "2022-08-21T00:00:00",
          "2022-08-28T00:00:00",
          "2022-09-04T00:00:00",
          "2022-09-11T00:00:00",
          "2022-09-18T00:00:00",
          "2022-09-25T00:00:00"
         ],
         "y": [
          113387.44,
          118277.59,
          103478.4,
          78442.65,
          86436.14,
          84465.6
         ]
        },
        {
         "mode": "lines",
         "name": "Prediction 6",
         "type": "scatter",
         "x": [
          "2022-08-21T00:00:00",
          "2022-08-28T00:00:00",
          "2022-09-04T00:00:00",
          "2022-09-11T00:00:00",
          "2022-09-18T00:00:00",
          "2022-09-25T00:00:00"
         ],
         "y": [
          93634.46667034808,
          95768.3949436143,
          104582.97303573093,
          69206.48673305337,
          70991.01107387502,
          71902.13377427318
         ]
        }
       ],
       "layout": {
        "template": {
         "data": {
          "bar": [
           {
            "error_x": {
             "color": "#2a3f5f"
            },
            "error_y": {
             "color": "#2a3f5f"
            },
            "marker": {
             "line": {
              "color": "#E5ECF6",
              "width": 0.5
             },
             "pattern": {
              "fillmode": "overlay",
              "size": 10,
              "solidity": 0.2
             }
            },
            "type": "bar"
           }
          ],
          "barpolar": [
           {
            "marker": {
             "line": {
              "color": "#E5ECF6",
              "width": 0.5
             },
             "pattern": {
              "fillmode": "overlay",
              "size": 10,
              "solidity": 0.2
             }
            },
            "type": "barpolar"
           }
          ],
          "carpet": [
           {
            "aaxis": {
             "endlinecolor": "#2a3f5f",
             "gridcolor": "white",
             "linecolor": "white",
             "minorgridcolor": "white",
             "startlinecolor": "#2a3f5f"
            },
            "baxis": {
             "endlinecolor": "#2a3f5f",
             "gridcolor": "white",
             "linecolor": "white",
             "minorgridcolor": "white",
             "startlinecolor": "#2a3f5f"
            },
            "type": "carpet"
           }
          ],
          "choropleth": [
           {
            "colorbar": {
             "outlinewidth": 0,
             "ticks": ""
            },
            "type": "choropleth"
           }
          ],
          "contour": [
           {
            "colorbar": {
             "outlinewidth": 0,
             "ticks": ""
            },
            "colorscale": [
             [
              0,
              "#0d0887"
             ],
             [
              0.1111111111111111,
              "#46039f"
             ],
             [
              0.2222222222222222,
              "#7201a8"
             ],
             [
              0.3333333333333333,
              "#9c179e"
             ],
             [
              0.4444444444444444,
              "#bd3786"
             ],
             [
              0.5555555555555556,
              "#d8576b"
             ],
             [
              0.6666666666666666,
              "#ed7953"
             ],
             [
              0.7777777777777778,
              "#fb9f3a"
             ],
             [
              0.8888888888888888,
              "#fdca26"
             ],
             [
              1,
              "#f0f921"
             ]
            ],
            "type": "contour"
           }
          ],
          "contourcarpet": [
           {
            "colorbar": {
             "outlinewidth": 0,
             "ticks": ""
            },
            "type": "contourcarpet"
           }
          ],
          "heatmap": [
           {
            "colorbar": {
             "outlinewidth": 0,
             "ticks": ""
            },
            "colorscale": [
             [
              0,
              "#0d0887"
             ],
             [
              0.1111111111111111,
              "#46039f"
             ],
             [
              0.2222222222222222,
              "#7201a8"
             ],
             [
              0.3333333333333333,
              "#9c179e"
             ],
             [
              0.4444444444444444,
              "#bd3786"
             ],
             [
              0.5555555555555556,
              "#d8576b"
             ],
             [
              0.6666666666666666,
              "#ed7953"
             ],
             [
              0.7777777777777778,
              "#fb9f3a"
             ],
             [
              0.8888888888888888,
              "#fdca26"
             ],
             [
              1,
              "#f0f921"
             ]
            ],
            "type": "heatmap"
           }
          ],
          "heatmapgl": [
           {
            "colorbar": {
             "outlinewidth": 0,
             "ticks": ""
            },
            "colorscale": [
             [
              0,
              "#0d0887"
             ],
             [
              0.1111111111111111,
              "#46039f"
             ],
             [
              0.2222222222222222,
              "#7201a8"
             ],
             [
              0.3333333333333333,
              "#9c179e"
             ],
             [
              0.4444444444444444,
              "#bd3786"
             ],
             [
              0.5555555555555556,
              "#d8576b"
             ],
             [
              0.6666666666666666,
              "#ed7953"
             ],
             [
              0.7777777777777778,
              "#fb9f3a"
             ],
             [
              0.8888888888888888,
              "#fdca26"
             ],
             [
              1,
              "#f0f921"
             ]
            ],
            "type": "heatmapgl"
           }
          ],
          "histogram": [
           {
            "marker": {
             "pattern": {
              "fillmode": "overlay",
              "size": 10,
              "solidity": 0.2
             }
            },
            "type": "histogram"
           }
          ],
          "histogram2d": [
           {
            "colorbar": {
             "outlinewidth": 0,
             "ticks": ""
            },
            "colorscale": [
             [
              0,
              "#0d0887"
             ],
             [
              0.1111111111111111,
              "#46039f"
             ],
             [
              0.2222222222222222,
              "#7201a8"
             ],
             [
              0.3333333333333333,
              "#9c179e"
             ],
             [
              0.4444444444444444,
              "#bd3786"
             ],
             [
              0.5555555555555556,
              "#d8576b"
             ],
             [
              0.6666666666666666,
              "#ed7953"
             ],
             [
              0.7777777777777778,
              "#fb9f3a"
             ],
             [
              0.8888888888888888,
              "#fdca26"
             ],
             [
              1,
              "#f0f921"
             ]
            ],
            "type": "histogram2d"
           }
          ],
          "histogram2dcontour": [
           {
            "colorbar": {
             "outlinewidth": 0,
             "ticks": ""
            },
            "colorscale": [
             [
              0,
              "#0d0887"
             ],
             [
              0.1111111111111111,
              "#46039f"
             ],
             [
              0.2222222222222222,
              "#7201a8"
             ],
             [
              0.3333333333333333,
              "#9c179e"
             ],
             [
              0.4444444444444444,
              "#bd3786"
             ],
             [
              0.5555555555555556,
              "#d8576b"
             ],
             [
              0.6666666666666666,
              "#ed7953"
             ],
             [
              0.7777777777777778,
              "#fb9f3a"
             ],
             [
              0.8888888888888888,
              "#fdca26"
             ],
             [
              1,
              "#f0f921"
             ]
            ],
            "type": "histogram2dcontour"
           }
          ],
          "mesh3d": [
           {
            "colorbar": {
             "outlinewidth": 0,
             "ticks": ""
            },
            "type": "mesh3d"
           }
          ],
          "parcoords": [
           {
            "line": {
             "colorbar": {
              "outlinewidth": 0,
              "ticks": ""
             }
            },
            "type": "parcoords"
           }
          ],
          "pie": [
           {
            "automargin": true,
            "type": "pie"
           }
          ],
          "scatter": [
           {
            "marker": {
             "colorbar": {
              "outlinewidth": 0,
              "ticks": ""
             }
            },
            "type": "scatter"
           }
          ],
          "scatter3d": [
           {
            "line": {
             "colorbar": {
              "outlinewidth": 0,
              "ticks": ""
             }
            },
            "marker": {
             "colorbar": {
              "outlinewidth": 0,
              "ticks": ""
             }
            },
            "type": "scatter3d"
           }
          ],
          "scattercarpet": [
           {
            "marker": {
             "colorbar": {
              "outlinewidth": 0,
              "ticks": ""
             }
            },
            "type": "scattercarpet"
           }
          ],
          "scattergeo": [
           {
            "marker": {
             "colorbar": {
              "outlinewidth": 0,
              "ticks": ""
             }
            },
            "type": "scattergeo"
           }
          ],
          "scattergl": [
           {
            "marker": {
             "colorbar": {
              "outlinewidth": 0,
              "ticks": ""
             }
            },
            "type": "scattergl"
           }
          ],
          "scattermapbox": [
           {
            "marker": {
             "colorbar": {
              "outlinewidth": 0,
              "ticks": ""
             }
            },
            "type": "scattermapbox"
           }
          ],
          "scatterpolar": [
           {
            "marker": {
             "colorbar": {
              "outlinewidth": 0,
              "ticks": ""
             }
            },
            "type": "scatterpolar"
           }
          ],
          "scatterpolargl": [
           {
            "marker": {
             "colorbar": {
              "outlinewidth": 0,
              "ticks": ""
             }
            },
            "type": "scatterpolargl"
           }
          ],
          "scatterternary": [
           {
            "marker": {
             "colorbar": {
              "outlinewidth": 0,
              "ticks": ""
             }
            },
            "type": "scatterternary"
           }
          ],
          "surface": [
           {
            "colorbar": {
             "outlinewidth": 0,
             "ticks": ""
            },
            "colorscale": [
             [
              0,
              "#0d0887"
             ],
             [
              0.1111111111111111,
              "#46039f"
             ],
             [
              0.2222222222222222,
              "#7201a8"
             ],
             [
              0.3333333333333333,
              "#9c179e"
             ],
             [
              0.4444444444444444,
              "#bd3786"
             ],
             [
              0.5555555555555556,
              "#d8576b"
             ],
             [
              0.6666666666666666,
              "#ed7953"
             ],
             [
              0.7777777777777778,
              "#fb9f3a"
             ],
             [
              0.8888888888888888,
              "#fdca26"
             ],
             [
              1,
              "#f0f921"
             ]
            ],
            "type": "surface"
           }
          ],
          "table": [
           {
            "cells": {
             "fill": {
              "color": "#EBF0F8"
             },
             "line": {
              "color": "white"
             }
            },
            "header": {
             "fill": {
              "color": "#C8D4E3"
             },
             "line": {
              "color": "white"
             }
            },
            "type": "table"
           }
          ]
         },
         "layout": {
          "annotationdefaults": {
           "arrowcolor": "#2a3f5f",
           "arrowhead": 0,
           "arrowwidth": 1
          },
          "autotypenumbers": "strict",
          "coloraxis": {
           "colorbar": {
            "outlinewidth": 0,
            "ticks": ""
           }
          },
          "colorscale": {
           "diverging": [
            [
             0,
             "#8e0152"
            ],
            [
             0.1,
             "#c51b7d"
            ],
            [
             0.2,
             "#de77ae"
            ],
            [
             0.3,
             "#f1b6da"
            ],
            [
             0.4,
             "#fde0ef"
            ],
            [
             0.5,
             "#f7f7f7"
            ],
            [
             0.6,
             "#e6f5d0"
            ],
            [
             0.7,
             "#b8e186"
            ],
            [
             0.8,
             "#7fbc41"
            ],
            [
             0.9,
             "#4d9221"
            ],
            [
             1,
             "#276419"
            ]
           ],
           "sequential": [
            [
             0,
             "#0d0887"
            ],
            [
             0.1111111111111111,
             "#46039f"
            ],
            [
             0.2222222222222222,
             "#7201a8"
            ],
            [
             0.3333333333333333,
             "#9c179e"
            ],
            [
             0.4444444444444444,
             "#bd3786"
            ],
            [
             0.5555555555555556,
             "#d8576b"
            ],
            [
             0.6666666666666666,
             "#ed7953"
            ],
            [
             0.7777777777777778,
             "#fb9f3a"
            ],
            [
             0.8888888888888888,
             "#fdca26"
            ],
            [
             1,
             "#f0f921"
            ]
           ],
           "sequentialminus": [
            [
             0,
             "#0d0887"
            ],
            [
             0.1111111111111111,
             "#46039f"
            ],
            [
             0.2222222222222222,
             "#7201a8"
            ],
            [
             0.3333333333333333,
             "#9c179e"
            ],
            [
             0.4444444444444444,
             "#bd3786"
            ],
            [
             0.5555555555555556,
             "#d8576b"
            ],
            [
             0.6666666666666666,
             "#ed7953"
            ],
            [
             0.7777777777777778,
             "#fb9f3a"
            ],
            [
             0.8888888888888888,
             "#fdca26"
            ],
            [
             1,
             "#f0f921"
            ]
           ]
          },
          "colorway": [
           "#636efa",
           "#EF553B",
           "#00cc96",
           "#ab63fa",
           "#FFA15A",
           "#19d3f3",
           "#FF6692",
           "#B6E880",
           "#FF97FF",
           "#FECB52"
          ],
          "font": {
           "color": "#2a3f5f"
          },
          "geo": {
           "bgcolor": "white",
           "lakecolor": "white",
           "landcolor": "#E5ECF6",
           "showlakes": true,
           "showland": true,
           "subunitcolor": "white"
          },
          "hoverlabel": {
           "align": "left"
          },
          "hovermode": "closest",
          "mapbox": {
           "style": "light"
          },
          "paper_bgcolor": "white",
          "plot_bgcolor": "#E5ECF6",
          "polar": {
           "angularaxis": {
            "gridcolor": "white",
            "linecolor": "white",
            "ticks": ""
           },
           "bgcolor": "#E5ECF6",
           "radialaxis": {
            "gridcolor": "white",
            "linecolor": "white",
            "ticks": ""
           }
          },
          "scene": {
           "xaxis": {
            "backgroundcolor": "#E5ECF6",
            "gridcolor": "white",
            "gridwidth": 2,
            "linecolor": "white",
            "showbackground": true,
            "ticks": "",
            "zerolinecolor": "white"
           },
           "yaxis": {
            "backgroundcolor": "#E5ECF6",
            "gridcolor": "white",
            "gridwidth": 2,
            "linecolor": "white",
            "showbackground": true,
            "ticks": "",
            "zerolinecolor": "white"
           },
           "zaxis": {
            "backgroundcolor": "#E5ECF6",
            "gridcolor": "white",
            "gridwidth": 2,
            "linecolor": "white",
            "showbackground": true,
            "ticks": "",
            "zerolinecolor": "white"
           }
          },
          "shapedefaults": {
           "line": {
            "color": "#2a3f5f"
           }
          },
          "ternary": {
           "aaxis": {
            "gridcolor": "white",
            "linecolor": "white",
            "ticks": ""
           },
           "baxis": {
            "gridcolor": "white",
            "linecolor": "white",
            "ticks": ""
           },
           "bgcolor": "#E5ECF6",
           "caxis": {
            "gridcolor": "white",
            "linecolor": "white",
            "ticks": ""
           }
          },
          "title": {
           "x": 0.05
          },
          "xaxis": {
           "automargin": true,
           "gridcolor": "white",
           "linecolor": "white",
           "ticks": "",
           "title": {
            "standoff": 15
           },
           "zerolinecolor": "white",
           "zerolinewidth": 2
          },
          "yaxis": {
           "automargin": true,
           "gridcolor": "white",
           "linecolor": "white",
           "ticks": "",
           "title": {
            "standoff": 15
           },
           "zerolinecolor": "white",
           "zerolinewidth": 2
          }
         }
        },
        "title": {
         "text": "Model 6 - Linear Regression Predicted Weekly Revenue"
        },
        "xaxis": {
         "rangeslider": {
          "visible": true
         },
         "title": {
          "text": "Date"
         }
        },
        "yaxis": {
         "title": {
          "text": "Total Revenue (£)"
         }
        }
       }
      },
      "text/html": [
       "<div>                            <div id=\"8218c01b-aeee-4738-9ae6-a2dbc84897ee\" class=\"plotly-graph-div\" style=\"height:525px; width:100%;\"></div>            <script type=\"text/javascript\">                require([\"plotly\"], function(Plotly) {                    window.PLOTLYENV=window.PLOTLYENV || {};                                    if (document.getElementById(\"8218c01b-aeee-4738-9ae6-a2dbc84897ee\")) {                    Plotly.newPlot(                        \"8218c01b-aeee-4738-9ae6-a2dbc84897ee\",                        [{\"mode\":\"lines\",\"name\":\"Train\",\"x\":[\"2021-04-18T00:00:00\",\"2021-04-25T00:00:00\",\"2021-05-02T00:00:00\",\"2021-05-09T00:00:00\",\"2021-05-16T00:00:00\",\"2021-05-23T00:00:00\",\"2021-05-30T00:00:00\",\"2021-06-06T00:00:00\",\"2021-06-13T00:00:00\",\"2021-06-20T00:00:00\",\"2021-06-27T00:00:00\",\"2021-07-04T00:00:00\",\"2021-07-11T00:00:00\",\"2021-07-18T00:00:00\",\"2021-07-25T00:00:00\",\"2021-08-01T00:00:00\",\"2021-08-08T00:00:00\",\"2021-08-15T00:00:00\",\"2021-08-22T00:00:00\",\"2021-08-29T00:00:00\",\"2021-09-05T00:00:00\",\"2021-09-12T00:00:00\",\"2021-09-19T00:00:00\",\"2021-09-26T00:00:00\",\"2021-10-03T00:00:00\",\"2021-10-10T00:00:00\",\"2021-10-17T00:00:00\",\"2021-10-24T00:00:00\",\"2021-10-31T00:00:00\",\"2021-11-07T00:00:00\",\"2021-11-14T00:00:00\",\"2021-11-21T00:00:00\",\"2021-11-28T00:00:00\",\"2021-12-05T00:00:00\",\"2021-12-12T00:00:00\",\"2021-12-19T00:00:00\",\"2021-12-26T00:00:00\",\"2022-01-02T00:00:00\",\"2022-01-09T00:00:00\",\"2022-01-16T00:00:00\",\"2022-01-23T00:00:00\",\"2022-01-30T00:00:00\",\"2022-02-06T00:00:00\",\"2022-02-13T00:00:00\",\"2022-02-20T00:00:00\",\"2022-02-27T00:00:00\",\"2022-03-06T00:00:00\",\"2022-03-13T00:00:00\",\"2022-03-20T00:00:00\",\"2022-03-27T00:00:00\",\"2022-04-03T00:00:00\",\"2022-04-10T00:00:00\",\"2022-04-17T00:00:00\",\"2022-04-24T00:00:00\",\"2022-05-01T00:00:00\",\"2022-05-08T00:00:00\",\"2022-05-15T00:00:00\",\"2022-05-22T00:00:00\",\"2022-05-29T00:00:00\",\"2022-06-05T00:00:00\",\"2022-06-12T00:00:00\",\"2022-06-19T00:00:00\",\"2022-06-26T00:00:00\",\"2022-07-03T00:00:00\",\"2022-07-10T00:00:00\",\"2022-07-17T00:00:00\",\"2022-07-24T00:00:00\",\"2022-07-31T00:00:00\",\"2022-08-07T00:00:00\",\"2022-08-14T00:00:00\"],\"y\":[72553.91,59804.86,62821.04,60201.77,58890.41,65883.27,72868.88,91050.3,70049.93,71821.2,74764.78,74499.56,82700.02,87403.88,93902.69,102590.59,104418.96,106765.67,105296.07,107555.55,92307.18,81485.62,80503.23,76278.72,74564.75,71568.15,70676.15,75993.28,90174.68,69867.09,65234.33,66232.44,63486.83,56164.75,54413.93,60703.51,62838.18,92832.18,66753.16,55705.39,53775.72,55267.0,48605.95,55404.22,73178.69,70478.72,61158.84,59521.83,57831.15,66849.78,66799.78,83854.31,103458.98,82578.42,73220.14,76245.74,71606.08,66308.36,74498.17,115555.67,68270.5,77556.5,81120.04,78429.52,80994.74,90259.78,98332.0,112021.47,109098.8,106518.19],\"type\":\"scatter\"},{\"mode\":\"lines\",\"name\":\"Test\",\"x\":[\"2022-08-21T00:00:00\",\"2022-08-28T00:00:00\",\"2022-09-04T00:00:00\",\"2022-09-11T00:00:00\",\"2022-09-18T00:00:00\",\"2022-09-25T00:00:00\"],\"y\":[113387.44,118277.59,103478.4,78442.65,86436.14,84465.6],\"type\":\"scatter\"},{\"mode\":\"lines\",\"name\":\"Prediction 6\",\"x\":[\"2022-08-21T00:00:00\",\"2022-08-28T00:00:00\",\"2022-09-04T00:00:00\",\"2022-09-11T00:00:00\",\"2022-09-18T00:00:00\",\"2022-09-25T00:00:00\"],\"y\":[93634.46667034808,95768.3949436143,104582.97303573093,69206.48673305337,70991.01107387502,71902.13377427318],\"type\":\"scatter\"}],                        {\"template\":{\"data\":{\"bar\":[{\"error_x\":{\"color\":\"#2a3f5f\"},\"error_y\":{\"color\":\"#2a3f5f\"},\"marker\":{\"line\":{\"color\":\"#E5ECF6\",\"width\":0.5},\"pattern\":{\"fillmode\":\"overlay\",\"size\":10,\"solidity\":0.2}},\"type\":\"bar\"}],\"barpolar\":[{\"marker\":{\"line\":{\"color\":\"#E5ECF6\",\"width\":0.5},\"pattern\":{\"fillmode\":\"overlay\",\"size\":10,\"solidity\":0.2}},\"type\":\"barpolar\"}],\"carpet\":[{\"aaxis\":{\"endlinecolor\":\"#2a3f5f\",\"gridcolor\":\"white\",\"linecolor\":\"white\",\"minorgridcolor\":\"white\",\"startlinecolor\":\"#2a3f5f\"},\"baxis\":{\"endlinecolor\":\"#2a3f5f\",\"gridcolor\":\"white\",\"linecolor\":\"white\",\"minorgridcolor\":\"white\",\"startlinecolor\":\"#2a3f5f\"},\"type\":\"carpet\"}],\"choropleth\":[{\"colorbar\":{\"outlinewidth\":0,\"ticks\":\"\"},\"type\":\"choropleth\"}],\"contour\":[{\"colorbar\":{\"outlinewidth\":0,\"ticks\":\"\"},\"colorscale\":[[0.0,\"#0d0887\"],[0.1111111111111111,\"#46039f\"],[0.2222222222222222,\"#7201a8\"],[0.3333333333333333,\"#9c179e\"],[0.4444444444444444,\"#bd3786\"],[0.5555555555555556,\"#d8576b\"],[0.6666666666666666,\"#ed7953\"],[0.7777777777777778,\"#fb9f3a\"],[0.8888888888888888,\"#fdca26\"],[1.0,\"#f0f921\"]],\"type\":\"contour\"}],\"contourcarpet\":[{\"colorbar\":{\"outlinewidth\":0,\"ticks\":\"\"},\"type\":\"contourcarpet\"}],\"heatmap\":[{\"colorbar\":{\"outlinewidth\":0,\"ticks\":\"\"},\"colorscale\":[[0.0,\"#0d0887\"],[0.1111111111111111,\"#46039f\"],[0.2222222222222222,\"#7201a8\"],[0.3333333333333333,\"#9c179e\"],[0.4444444444444444,\"#bd3786\"],[0.5555555555555556,\"#d8576b\"],[0.6666666666666666,\"#ed7953\"],[0.7777777777777778,\"#fb9f3a\"],[0.8888888888888888,\"#fdca26\"],[1.0,\"#f0f921\"]],\"type\":\"heatmap\"}],\"heatmapgl\":[{\"colorbar\":{\"outlinewidth\":0,\"ticks\":\"\"},\"colorscale\":[[0.0,\"#0d0887\"],[0.1111111111111111,\"#46039f\"],[0.2222222222222222,\"#7201a8\"],[0.3333333333333333,\"#9c179e\"],[0.4444444444444444,\"#bd3786\"],[0.5555555555555556,\"#d8576b\"],[0.6666666666666666,\"#ed7953\"],[0.7777777777777778,\"#fb9f3a\"],[0.8888888888888888,\"#fdca26\"],[1.0,\"#f0f921\"]],\"type\":\"heatmapgl\"}],\"histogram\":[{\"marker\":{\"pattern\":{\"fillmode\":\"overlay\",\"size\":10,\"solidity\":0.2}},\"type\":\"histogram\"}],\"histogram2d\":[{\"colorbar\":{\"outlinewidth\":0,\"ticks\":\"\"},\"colorscale\":[[0.0,\"#0d0887\"],[0.1111111111111111,\"#46039f\"],[0.2222222222222222,\"#7201a8\"],[0.3333333333333333,\"#9c179e\"],[0.4444444444444444,\"#bd3786\"],[0.5555555555555556,\"#d8576b\"],[0.6666666666666666,\"#ed7953\"],[0.7777777777777778,\"#fb9f3a\"],[0.8888888888888888,\"#fdca26\"],[1.0,\"#f0f921\"]],\"type\":\"histogram2d\"}],\"histogram2dcontour\":[{\"colorbar\":{\"outlinewidth\":0,\"ticks\":\"\"},\"colorscale\":[[0.0,\"#0d0887\"],[0.1111111111111111,\"#46039f\"],[0.2222222222222222,\"#7201a8\"],[0.3333333333333333,\"#9c179e\"],[0.4444444444444444,\"#bd3786\"],[0.5555555555555556,\"#d8576b\"],[0.6666666666666666,\"#ed7953\"],[0.7777777777777778,\"#fb9f3a\"],[0.8888888888888888,\"#fdca26\"],[1.0,\"#f0f921\"]],\"type\":\"histogram2dcontour\"}],\"mesh3d\":[{\"colorbar\":{\"outlinewidth\":0,\"ticks\":\"\"},\"type\":\"mesh3d\"}],\"parcoords\":[{\"line\":{\"colorbar\":{\"outlinewidth\":0,\"ticks\":\"\"}},\"type\":\"parcoords\"}],\"pie\":[{\"automargin\":true,\"type\":\"pie\"}],\"scatter\":[{\"marker\":{\"colorbar\":{\"outlinewidth\":0,\"ticks\":\"\"}},\"type\":\"scatter\"}],\"scatter3d\":[{\"line\":{\"colorbar\":{\"outlinewidth\":0,\"ticks\":\"\"}},\"marker\":{\"colorbar\":{\"outlinewidth\":0,\"ticks\":\"\"}},\"type\":\"scatter3d\"}],\"scattercarpet\":[{\"marker\":{\"colorbar\":{\"outlinewidth\":0,\"ticks\":\"\"}},\"type\":\"scattercarpet\"}],\"scattergeo\":[{\"marker\":{\"colorbar\":{\"outlinewidth\":0,\"ticks\":\"\"}},\"type\":\"scattergeo\"}],\"scattergl\":[{\"marker\":{\"colorbar\":{\"outlinewidth\":0,\"ticks\":\"\"}},\"type\":\"scattergl\"}],\"scattermapbox\":[{\"marker\":{\"colorbar\":{\"outlinewidth\":0,\"ticks\":\"\"}},\"type\":\"scattermapbox\"}],\"scatterpolar\":[{\"marker\":{\"colorbar\":{\"outlinewidth\":0,\"ticks\":\"\"}},\"type\":\"scatterpolar\"}],\"scatterpolargl\":[{\"marker\":{\"colorbar\":{\"outlinewidth\":0,\"ticks\":\"\"}},\"type\":\"scatterpolargl\"}],\"scatterternary\":[{\"marker\":{\"colorbar\":{\"outlinewidth\":0,\"ticks\":\"\"}},\"type\":\"scatterternary\"}],\"surface\":[{\"colorbar\":{\"outlinewidth\":0,\"ticks\":\"\"},\"colorscale\":[[0.0,\"#0d0887\"],[0.1111111111111111,\"#46039f\"],[0.2222222222222222,\"#7201a8\"],[0.3333333333333333,\"#9c179e\"],[0.4444444444444444,\"#bd3786\"],[0.5555555555555556,\"#d8576b\"],[0.6666666666666666,\"#ed7953\"],[0.7777777777777778,\"#fb9f3a\"],[0.8888888888888888,\"#fdca26\"],[1.0,\"#f0f921\"]],\"type\":\"surface\"}],\"table\":[{\"cells\":{\"fill\":{\"color\":\"#EBF0F8\"},\"line\":{\"color\":\"white\"}},\"header\":{\"fill\":{\"color\":\"#C8D4E3\"},\"line\":{\"color\":\"white\"}},\"type\":\"table\"}]},\"layout\":{\"annotationdefaults\":{\"arrowcolor\":\"#2a3f5f\",\"arrowhead\":0,\"arrowwidth\":1},\"autotypenumbers\":\"strict\",\"coloraxis\":{\"colorbar\":{\"outlinewidth\":0,\"ticks\":\"\"}},\"colorscale\":{\"diverging\":[[0,\"#8e0152\"],[0.1,\"#c51b7d\"],[0.2,\"#de77ae\"],[0.3,\"#f1b6da\"],[0.4,\"#fde0ef\"],[0.5,\"#f7f7f7\"],[0.6,\"#e6f5d0\"],[0.7,\"#b8e186\"],[0.8,\"#7fbc41\"],[0.9,\"#4d9221\"],[1,\"#276419\"]],\"sequential\":[[0.0,\"#0d0887\"],[0.1111111111111111,\"#46039f\"],[0.2222222222222222,\"#7201a8\"],[0.3333333333333333,\"#9c179e\"],[0.4444444444444444,\"#bd3786\"],[0.5555555555555556,\"#d8576b\"],[0.6666666666666666,\"#ed7953\"],[0.7777777777777778,\"#fb9f3a\"],[0.8888888888888888,\"#fdca26\"],[1.0,\"#f0f921\"]],\"sequentialminus\":[[0.0,\"#0d0887\"],[0.1111111111111111,\"#46039f\"],[0.2222222222222222,\"#7201a8\"],[0.3333333333333333,\"#9c179e\"],[0.4444444444444444,\"#bd3786\"],[0.5555555555555556,\"#d8576b\"],[0.6666666666666666,\"#ed7953\"],[0.7777777777777778,\"#fb9f3a\"],[0.8888888888888888,\"#fdca26\"],[1.0,\"#f0f921\"]]},\"colorway\":[\"#636efa\",\"#EF553B\",\"#00cc96\",\"#ab63fa\",\"#FFA15A\",\"#19d3f3\",\"#FF6692\",\"#B6E880\",\"#FF97FF\",\"#FECB52\"],\"font\":{\"color\":\"#2a3f5f\"},\"geo\":{\"bgcolor\":\"white\",\"lakecolor\":\"white\",\"landcolor\":\"#E5ECF6\",\"showlakes\":true,\"showland\":true,\"subunitcolor\":\"white\"},\"hoverlabel\":{\"align\":\"left\"},\"hovermode\":\"closest\",\"mapbox\":{\"style\":\"light\"},\"paper_bgcolor\":\"white\",\"plot_bgcolor\":\"#E5ECF6\",\"polar\":{\"angularaxis\":{\"gridcolor\":\"white\",\"linecolor\":\"white\",\"ticks\":\"\"},\"bgcolor\":\"#E5ECF6\",\"radialaxis\":{\"gridcolor\":\"white\",\"linecolor\":\"white\",\"ticks\":\"\"}},\"scene\":{\"xaxis\":{\"backgroundcolor\":\"#E5ECF6\",\"gridcolor\":\"white\",\"gridwidth\":2,\"linecolor\":\"white\",\"showbackground\":true,\"ticks\":\"\",\"zerolinecolor\":\"white\"},\"yaxis\":{\"backgroundcolor\":\"#E5ECF6\",\"gridcolor\":\"white\",\"gridwidth\":2,\"linecolor\":\"white\",\"showbackground\":true,\"ticks\":\"\",\"zerolinecolor\":\"white\"},\"zaxis\":{\"backgroundcolor\":\"#E5ECF6\",\"gridcolor\":\"white\",\"gridwidth\":2,\"linecolor\":\"white\",\"showbackground\":true,\"ticks\":\"\",\"zerolinecolor\":\"white\"}},\"shapedefaults\":{\"line\":{\"color\":\"#2a3f5f\"}},\"ternary\":{\"aaxis\":{\"gridcolor\":\"white\",\"linecolor\":\"white\",\"ticks\":\"\"},\"baxis\":{\"gridcolor\":\"white\",\"linecolor\":\"white\",\"ticks\":\"\"},\"bgcolor\":\"#E5ECF6\",\"caxis\":{\"gridcolor\":\"white\",\"linecolor\":\"white\",\"ticks\":\"\"}},\"title\":{\"x\":0.05},\"xaxis\":{\"automargin\":true,\"gridcolor\":\"white\",\"linecolor\":\"white\",\"ticks\":\"\",\"title\":{\"standoff\":15},\"zerolinecolor\":\"white\",\"zerolinewidth\":2},\"yaxis\":{\"automargin\":true,\"gridcolor\":\"white\",\"linecolor\":\"white\",\"ticks\":\"\",\"title\":{\"standoff\":15},\"zerolinecolor\":\"white\",\"zerolinewidth\":2}}},\"xaxis\":{\"rangeslider\":{\"visible\":true},\"title\":{\"text\":\"Date\"}},\"yaxis\":{\"title\":{\"text\":\"Total Revenue (\\u00a3)\"}},\"title\":{\"text\":\"Model 6 - Linear Regression Predicted Weekly Revenue\"}},                        {\"responsive\": true}                    ).then(function(){\n",
       "                            \n",
       "var gd = document.getElementById('8218c01b-aeee-4738-9ae6-a2dbc84897ee');\n",
       "var x = new MutationObserver(function (mutations, observer) {{\n",
       "        var display = window.getComputedStyle(gd).display;\n",
       "        if (!display || display === 'none') {{\n",
       "            console.log([gd, 'removed!']);\n",
       "            Plotly.purge(gd);\n",
       "            observer.disconnect();\n",
       "        }}\n",
       "}});\n",
       "\n",
       "// Listen for the removal of the full notebook cells\n",
       "var notebookContainer = gd.closest('#notebook-container');\n",
       "if (notebookContainer) {{\n",
       "    x.observe(notebookContainer, {childList: true});\n",
       "}}\n",
       "\n",
       "// Listen for the clearing of the current output cell\n",
       "var outputEl = gd.closest('.output');\n",
       "if (outputEl) {{\n",
       "    x.observe(outputEl, {childList: true});\n",
       "}}\n",
       "\n",
       "                        })                };                });            </script>        </div>"
      ]
     },
     "metadata": {},
     "output_type": "display_data"
    }
   ],
   "source": [
    "fig = go.Figure()\n",
    "fig.add_trace(go.Scatter(x=train.index, \n",
    "                         y=train['Total_Revenue'], mode='lines', name='Train'))\n",
    "fig.add_trace(go.Scatter(x=test.index, \n",
    "                         y=test['Total_Revenue'], mode='lines', name='Test'))\n",
    "fig.add_trace(go.Scatter(x=test.index, \n",
    "                         y=prediction_6, mode='lines', name='Prediction 6'))\n",
    "\n",
    "fig.update_xaxes(rangeslider_visible=True)\n",
    "fig.update_layout(\n",
    "    yaxis_title='Total Revenue (£)', \n",
    "    xaxis_title='Date',\n",
    "    title='Model 6 - Linear Regression Predicted Weekly Revenue'\n",
    ")\n",
    "fig.show()"
   ]
  },
  {
   "cell_type": "code",
   "execution_count": 139,
   "id": "b032cfab",
   "metadata": {},
   "outputs": [
    {
     "name": "stdout",
     "output_type": "stream",
     "text": [
      "The RMSE for the weekly forecast is: 15164.45\n",
      "\n",
      "The MAE between the actual and weekly forecast revenue is 13435.25\n",
      "\n",
      "The MAPE between the actual and weekly forecast revenue is 13.7%\n"
     ]
    }
   ],
   "source": [
    "bakery.full_accuracy_report(test['Total_Revenue'],\n",
    "                            prediction_6, 'weekly forecast')"
   ]
  },
  {
   "cell_type": "markdown",
   "id": "186aeb0e",
   "metadata": {},
   "source": [
    "## Model 6 - Accuracy Evaluation **UPDATE**\n",
    "- This has increased the R<sup>2</sup>  value and decreased the AIC score which suggests an improvement \n",
    "- However, it has increased the MAPE score slightly \n",
    "- It is deemed that the increased in R<sup>2</sup> and decreased AIC outweight the worse MAPE score as **UPDATE**\n",
    "\n",
    "The columns `3W_MA_lag` and `3W_Var_lag` have p-values greater than 0.05, therefore will be removed from the next iteration of the model. "
   ]
  },
  {
   "cell_type": "code",
   "execution_count": 140,
   "id": "9e48555e",
   "metadata": {},
   "outputs": [
    {
     "data": {
      "text/html": [
       "<div>\n",
       "<style scoped>\n",
       "    .dataframe tbody tr th:only-of-type {\n",
       "        vertical-align: middle;\n",
       "    }\n",
       "\n",
       "    .dataframe tbody tr th {\n",
       "        vertical-align: top;\n",
       "    }\n",
       "\n",
       "    .dataframe thead th {\n",
       "        text-align: right;\n",
       "    }\n",
       "</style>\n",
       "<table border=\"1\" class=\"dataframe\">\n",
       "  <thead>\n",
       "    <tr style=\"text-align: right;\">\n",
       "      <th></th>\n",
       "      <th>Model</th>\n",
       "      <th>R2</th>\n",
       "      <th>RMSE</th>\n",
       "      <th>AIC</th>\n",
       "      <th>MAPE (%)</th>\n",
       "      <th>Comments</th>\n",
       "    </tr>\n",
       "  </thead>\n",
       "  <tbody>\n",
       "    <tr>\n",
       "      <th>0</th>\n",
       "      <td>1</td>\n",
       "      <td>0.791</td>\n",
       "      <td>14111.89</td>\n",
       "      <td>1614</td>\n",
       "      <td>11.4%</td>\n",
       "      <td>All initial variables</td>\n",
       "    </tr>\n",
       "    <tr>\n",
       "      <th>1</th>\n",
       "      <td>2</td>\n",
       "      <td>0.779</td>\n",
       "      <td>15395.97</td>\n",
       "      <td>1614</td>\n",
       "      <td>13.2%</td>\n",
       "      <td>Dropped Closed Xmas, 3D_MA</td>\n",
       "    </tr>\n",
       "    <tr>\n",
       "      <th>2</th>\n",
       "      <td>3</td>\n",
       "      <td>0.537</td>\n",
       "      <td>12861.20</td>\n",
       "      <td>1668</td>\n",
       "      <td>10.6%</td>\n",
       "      <td>Dropped 20D MA</td>\n",
       "    </tr>\n",
       "    <tr>\n",
       "      <th>3</th>\n",
       "      <td>4</td>\n",
       "      <td>0.528</td>\n",
       "      <td>11663.08</td>\n",
       "      <td>1667</td>\n",
       "      <td>10.2%</td>\n",
       "      <td>Dropped Bank Holiday</td>\n",
       "    </tr>\n",
       "    <tr>\n",
       "      <th>4</th>\n",
       "      <td>5</td>\n",
       "      <td>0.504</td>\n",
       "      <td>11570.81</td>\n",
       "      <td>1669</td>\n",
       "      <td>9.9%</td>\n",
       "      <td>Dropped Weekend</td>\n",
       "    </tr>\n",
       "    <tr>\n",
       "      <th>5</th>\n",
       "      <td>6</td>\n",
       "      <td>0.822</td>\n",
       "      <td>15164.45</td>\n",
       "      <td>1455</td>\n",
       "      <td>13.7%</td>\n",
       "      <td>Added variance columns</td>\n",
       "    </tr>\n",
       "  </tbody>\n",
       "</table>\n",
       "</div>"
      ],
      "text/plain": [
       "   Model     R2      RMSE   AIC MAPE (%)                    Comments\n",
       "0      1  0.791  14111.89  1614    11.4%       All initial variables\n",
       "1      2  0.779  15395.97  1614    13.2%  Dropped Closed Xmas, 3D_MA\n",
       "2      3  0.537  12861.20  1668    10.6%              Dropped 20D MA\n",
       "3      4  0.528  11663.08  1667    10.2%        Dropped Bank Holiday\n",
       "4      5  0.504  11570.81  1669     9.9%             Dropped Weekend\n",
       "5      6  0.822  15164.45  1455    13.7%      Added variance columns"
      ]
     },
     "metadata": {},
     "output_type": "display_data"
    }
   ],
   "source": [
    "# To add the scores to the results table \n",
    "model_scores = bakery.add_results(model_scores, 6, 0.822, 15164.45, 1455, '13.7%', 'Added variance columns')"
   ]
  },
  {
   "cell_type": "markdown",
   "id": "7cba26b1",
   "metadata": {},
   "source": [
    "# Model 7 - Removing    `3W_MA_lag` and `3W_Var_lag` "
   ]
  },
  {
   "cell_type": "code",
   "execution_count": 141,
   "id": "ed2c7891",
   "metadata": {},
   "outputs": [],
   "source": [
    "independent_variables_7 = independent_variables_6.drop(columns=['3W_MA_lag', '3W_Var_lag']).copy()"
   ]
  },
  {
   "cell_type": "code",
   "execution_count": 142,
   "id": "d944a2d8",
   "metadata": {},
   "outputs": [
    {
     "data": {
      "text/html": [
       "<table class=\"simpletable\">\n",
       "<caption>OLS Regression Results</caption>\n",
       "<tr>\n",
       "  <th>Dep. Variable:</th>      <td>Total_Revenue</td>  <th>  R-squared:         </th> <td>   0.819</td>\n",
       "</tr>\n",
       "<tr>\n",
       "  <th>Model:</th>                   <td>OLS</td>       <th>  Adj. R-squared:    </th> <td>   0.799</td>\n",
       "</tr>\n",
       "<tr>\n",
       "  <th>Method:</th>             <td>Least Squares</td>  <th>  F-statistic:       </th> <td>   40.19</td>\n",
       "</tr>\n",
       "<tr>\n",
       "  <th>Date:</th>             <td>Tue, 25 Oct 2022</td> <th>  Prob (F-statistic):</th> <td>1.03e-20</td>\n",
       "</tr>\n",
       "<tr>\n",
       "  <th>Time:</th>                 <td>22:47:40</td>     <th>  Log-Likelihood:    </th> <td> -719.09</td>\n",
       "</tr>\n",
       "<tr>\n",
       "  <th>No. Observations:</th>      <td>    70</td>      <th>  AIC:               </th> <td>   1454.</td>\n",
       "</tr>\n",
       "<tr>\n",
       "  <th>Df Residuals:</th>          <td>    62</td>      <th>  BIC:               </th> <td>   1472.</td>\n",
       "</tr>\n",
       "<tr>\n",
       "  <th>Df Model:</th>              <td>     7</td>      <th>                     </th>     <td> </td>   \n",
       "</tr>\n",
       "<tr>\n",
       "  <th>Covariance Type:</th>      <td>nonrobust</td>    <th>                     </th>     <td> </td>   \n",
       "</tr>\n",
       "</table>\n",
       "<table class=\"simpletable\">\n",
       "<tr>\n",
       "        <td></td>          <th>coef</th>     <th>std err</th>      <th>t</th>      <th>P>|t|</th>  <th>[0.025</th>    <th>0.975]</th>  \n",
       "</tr>\n",
       "<tr>\n",
       "  <th>const</th>        <td> 8.406e+04</td> <td> 4552.025</td> <td>   18.467</td> <td> 0.000</td> <td>  7.5e+04</td> <td> 9.32e+04</td>\n",
       "</tr>\n",
       "<tr>\n",
       "  <th>Bank_Holiday</th> <td> 6927.5351</td> <td> 2360.931</td> <td>    2.934</td> <td> 0.005</td> <td> 2208.102</td> <td> 1.16e+04</td>\n",
       "</tr>\n",
       "<tr>\n",
       "  <th>Closed_Xmas</th>  <td>-1.805e+04</td> <td> 7938.086</td> <td>   -2.274</td> <td> 0.026</td> <td>-3.39e+04</td> <td>-2183.875</td>\n",
       "</tr>\n",
       "<tr>\n",
       "  <th>Weekday</th>      <td>-2546.1173</td> <td>  773.417</td> <td>   -3.292</td> <td> 0.002</td> <td>-4092.157</td> <td>-1000.078</td>\n",
       "</tr>\n",
       "<tr>\n",
       "  <th>Weekend</th>      <td>-5581.8909</td> <td> 1552.940</td> <td>   -3.594</td> <td> 0.001</td> <td>-8686.173</td> <td>-2477.609</td>\n",
       "</tr>\n",
       "<tr>\n",
       "  <th>7W_MA_lag</th>    <td>    0.4036</td> <td>    0.048</td> <td>    8.347</td> <td> 0.000</td> <td>    0.307</td> <td>    0.500</td>\n",
       "</tr>\n",
       "<tr>\n",
       "  <th>20W_MA_lag</th>   <td>   -0.3346</td> <td>    0.066</td> <td>   -5.055</td> <td> 0.000</td> <td>   -0.467</td> <td>   -0.202</td>\n",
       "</tr>\n",
       "<tr>\n",
       "  <th>7W_Var_lag</th>   <td>    0.3388</td> <td>    0.080</td> <td>    4.230</td> <td> 0.000</td> <td>    0.179</td> <td>    0.499</td>\n",
       "</tr>\n",
       "<tr>\n",
       "  <th>20W_Var_lag</th>  <td>   -0.3994</td> <td>    0.039</td> <td>  -10.139</td> <td> 0.000</td> <td>   -0.478</td> <td>   -0.321</td>\n",
       "</tr>\n",
       "</table>\n",
       "<table class=\"simpletable\">\n",
       "<tr>\n",
       "  <th>Omnibus:</th>       <td> 2.736</td> <th>  Durbin-Watson:     </th> <td>   0.936</td>\n",
       "</tr>\n",
       "<tr>\n",
       "  <th>Prob(Omnibus):</th> <td> 0.255</td> <th>  Jarque-Bera (JB):  </th> <td>   2.650</td>\n",
       "</tr>\n",
       "<tr>\n",
       "  <th>Skew:</th>          <td> 0.460</td> <th>  Prob(JB):          </th> <td>   0.266</td>\n",
       "</tr>\n",
       "<tr>\n",
       "  <th>Kurtosis:</th>      <td> 2.749</td> <th>  Cond. No.          </th> <td>4.08e+16</td>\n",
       "</tr>\n",
       "</table><br/><br/>Notes:<br/>[1] Standard Errors assume that the covariance matrix of the errors is correctly specified.<br/>[2] The smallest eigenvalue is 3.92e-22. This might indicate that there are<br/>strong multicollinearity problems or that the design matrix is singular."
      ],
      "text/plain": [
       "<class 'statsmodels.iolib.summary.Summary'>\n",
       "\"\"\"\n",
       "                            OLS Regression Results                            \n",
       "==============================================================================\n",
       "Dep. Variable:          Total_Revenue   R-squared:                       0.819\n",
       "Model:                            OLS   Adj. R-squared:                  0.799\n",
       "Method:                 Least Squares   F-statistic:                     40.19\n",
       "Date:                Tue, 25 Oct 2022   Prob (F-statistic):           1.03e-20\n",
       "Time:                        22:47:40   Log-Likelihood:                -719.09\n",
       "No. Observations:                  70   AIC:                             1454.\n",
       "Df Residuals:                      62   BIC:                             1472.\n",
       "Df Model:                           7                                         \n",
       "Covariance Type:            nonrobust                                         \n",
       "================================================================================\n",
       "                   coef    std err          t      P>|t|      [0.025      0.975]\n",
       "--------------------------------------------------------------------------------\n",
       "const         8.406e+04   4552.025     18.467      0.000     7.5e+04    9.32e+04\n",
       "Bank_Holiday  6927.5351   2360.931      2.934      0.005    2208.102    1.16e+04\n",
       "Closed_Xmas  -1.805e+04   7938.086     -2.274      0.026   -3.39e+04   -2183.875\n",
       "Weekday      -2546.1173    773.417     -3.292      0.002   -4092.157   -1000.078\n",
       "Weekend      -5581.8909   1552.940     -3.594      0.001   -8686.173   -2477.609\n",
       "7W_MA_lag        0.4036      0.048      8.347      0.000       0.307       0.500\n",
       "20W_MA_lag      -0.3346      0.066     -5.055      0.000      -0.467      -0.202\n",
       "7W_Var_lag       0.3388      0.080      4.230      0.000       0.179       0.499\n",
       "20W_Var_lag     -0.3994      0.039    -10.139      0.000      -0.478      -0.321\n",
       "==============================================================================\n",
       "Omnibus:                        2.736   Durbin-Watson:                   0.936\n",
       "Prob(Omnibus):                  0.255   Jarque-Bera (JB):                2.650\n",
       "Skew:                           0.460   Prob(JB):                        0.266\n",
       "Kurtosis:                       2.749   Cond. No.                     4.08e+16\n",
       "==============================================================================\n",
       "\n",
       "Notes:\n",
       "[1] Standard Errors assume that the covariance matrix of the errors is correctly specified.\n",
       "[2] The smallest eigenvalue is 3.92e-22. This might indicate that there are\n",
       "strong multicollinearity problems or that the design matrix is singular.\n",
       "\"\"\""
      ]
     },
     "execution_count": 142,
     "metadata": {},
     "output_type": "execute_result"
    }
   ],
   "source": [
    "y = train['Total_Revenue']\n",
    "\n",
    "# First the X and y values need to splitted: \n",
    "X = independent_variables_7\n",
    "\n",
    "# Then the X_ constant needs to be added to give the intercept value\n",
    "X_withconstant = sm.add_constant(X)\n",
    "\n",
    "# The model is then instantiated using the sm.OLS method\n",
    "lm_revenue = sm.OLS(y,X_withconstant)\n",
    "\n",
    "# The model is fitted using the .fit() method\n",
    "lm_revenue_results = lm_revenue.fit()\n",
    "\n",
    "# The results are displayed using the .summary() method\n",
    "lm_revenue_results.summary()"
   ]
  },
  {
   "cell_type": "code",
   "execution_count": 143,
   "id": "cc709a8b",
   "metadata": {},
   "outputs": [],
   "source": [
    "X_test= X_test.drop(columns=['3W_MA_lag', '3W_Var_lag']).copy()\n",
    "X_test_withconstant = sm.add_constant(X_test)"
   ]
  },
  {
   "cell_type": "code",
   "execution_count": 144,
   "id": "a5c617cb",
   "metadata": {},
   "outputs": [
    {
     "data": {
      "text/plain": [
       "2022-08-21     93188.481807\n",
       "2022-08-28     95021.035823\n",
       "2022-09-04    103383.693265\n",
       "2022-09-11     70200.610777\n",
       "2022-09-18     72736.930159\n",
       "2022-09-25     74044.313534\n",
       "Freq: W-SUN, dtype: float64"
      ]
     },
     "execution_count": 144,
     "metadata": {},
     "output_type": "execute_result"
    }
   ],
   "source": [
    "# Predictions\n",
    "prediction_7 = lm_revenue_results.predict(X_test_withconstant)\n",
    "prediction_7"
   ]
  },
  {
   "cell_type": "code",
   "execution_count": 145,
   "id": "c97b3bbd",
   "metadata": {},
   "outputs": [
    {
     "data": {
      "application/vnd.plotly.v1+json": {
       "config": {
        "plotlyServerURL": "https://plot.ly"
       },
       "data": [
        {
         "mode": "lines",
         "name": "Train",
         "type": "scatter",
         "x": [
          "2021-04-18T00:00:00",
          "2021-04-25T00:00:00",
          "2021-05-02T00:00:00",
          "2021-05-09T00:00:00",
          "2021-05-16T00:00:00",
          "2021-05-23T00:00:00",
          "2021-05-30T00:00:00",
          "2021-06-06T00:00:00",
          "2021-06-13T00:00:00",
          "2021-06-20T00:00:00",
          "2021-06-27T00:00:00",
          "2021-07-04T00:00:00",
          "2021-07-11T00:00:00",
          "2021-07-18T00:00:00",
          "2021-07-25T00:00:00",
          "2021-08-01T00:00:00",
          "2021-08-08T00:00:00",
          "2021-08-15T00:00:00",
          "2021-08-22T00:00:00",
          "2021-08-29T00:00:00",
          "2021-09-05T00:00:00",
          "2021-09-12T00:00:00",
          "2021-09-19T00:00:00",
          "2021-09-26T00:00:00",
          "2021-10-03T00:00:00",
          "2021-10-10T00:00:00",
          "2021-10-17T00:00:00",
          "2021-10-24T00:00:00",
          "2021-10-31T00:00:00",
          "2021-11-07T00:00:00",
          "2021-11-14T00:00:00",
          "2021-11-21T00:00:00",
          "2021-11-28T00:00:00",
          "2021-12-05T00:00:00",
          "2021-12-12T00:00:00",
          "2021-12-19T00:00:00",
          "2021-12-26T00:00:00",
          "2022-01-02T00:00:00",
          "2022-01-09T00:00:00",
          "2022-01-16T00:00:00",
          "2022-01-23T00:00:00",
          "2022-01-30T00:00:00",
          "2022-02-06T00:00:00",
          "2022-02-13T00:00:00",
          "2022-02-20T00:00:00",
          "2022-02-27T00:00:00",
          "2022-03-06T00:00:00",
          "2022-03-13T00:00:00",
          "2022-03-20T00:00:00",
          "2022-03-27T00:00:00",
          "2022-04-03T00:00:00",
          "2022-04-10T00:00:00",
          "2022-04-17T00:00:00",
          "2022-04-24T00:00:00",
          "2022-05-01T00:00:00",
          "2022-05-08T00:00:00",
          "2022-05-15T00:00:00",
          "2022-05-22T00:00:00",
          "2022-05-29T00:00:00",
          "2022-06-05T00:00:00",
          "2022-06-12T00:00:00",
          "2022-06-19T00:00:00",
          "2022-06-26T00:00:00",
          "2022-07-03T00:00:00",
          "2022-07-10T00:00:00",
          "2022-07-17T00:00:00",
          "2022-07-24T00:00:00",
          "2022-07-31T00:00:00",
          "2022-08-07T00:00:00",
          "2022-08-14T00:00:00"
         ],
         "y": [
          72553.91,
          59804.86,
          62821.04,
          60201.77,
          58890.41,
          65883.27,
          72868.88,
          91050.3,
          70049.93,
          71821.2,
          74764.78,
          74499.56,
          82700.02,
          87403.88,
          93902.69,
          102590.59,
          104418.96,
          106765.67,
          105296.07,
          107555.55,
          92307.18,
          81485.62,
          80503.23,
          76278.72,
          74564.75,
          71568.15,
          70676.15,
          75993.28,
          90174.68,
          69867.09,
          65234.33,
          66232.44,
          63486.83,
          56164.75,
          54413.93,
          60703.51,
          62838.18,
          92832.18,
          66753.16,
          55705.39,
          53775.72,
          55267,
          48605.95,
          55404.22,
          73178.69,
          70478.72,
          61158.84,
          59521.83,
          57831.15,
          66849.78,
          66799.78,
          83854.31,
          103458.98,
          82578.42,
          73220.14,
          76245.74,
          71606.08,
          66308.36,
          74498.17,
          115555.67,
          68270.5,
          77556.5,
          81120.04,
          78429.52,
          80994.74,
          90259.78,
          98332,
          112021.47,
          109098.8,
          106518.19
         ]
        },
        {
         "mode": "lines",
         "name": "Test",
         "type": "scatter",
         "x": [
          "2022-08-21T00:00:00",
          "2022-08-28T00:00:00",
          "2022-09-04T00:00:00",
          "2022-09-11T00:00:00",
          "2022-09-18T00:00:00",
          "2022-09-25T00:00:00"
         ],
         "y": [
          113387.44,
          118277.59,
          103478.4,
          78442.65,
          86436.14,
          84465.6
         ]
        },
        {
         "mode": "lines",
         "name": "Prediction 7",
         "type": "scatter",
         "x": [
          "2022-08-21T00:00:00",
          "2022-08-28T00:00:00",
          "2022-09-04T00:00:00",
          "2022-09-11T00:00:00",
          "2022-09-18T00:00:00",
          "2022-09-25T00:00:00"
         ],
         "y": [
          93188.48180658418,
          95021.03582291226,
          103383.6932653421,
          70200.61077694736,
          72736.93015878287,
          74044.31353370228
         ]
        }
       ],
       "layout": {
        "template": {
         "data": {
          "bar": [
           {
            "error_x": {
             "color": "#2a3f5f"
            },
            "error_y": {
             "color": "#2a3f5f"
            },
            "marker": {
             "line": {
              "color": "#E5ECF6",
              "width": 0.5
             },
             "pattern": {
              "fillmode": "overlay",
              "size": 10,
              "solidity": 0.2
             }
            },
            "type": "bar"
           }
          ],
          "barpolar": [
           {
            "marker": {
             "line": {
              "color": "#E5ECF6",
              "width": 0.5
             },
             "pattern": {
              "fillmode": "overlay",
              "size": 10,
              "solidity": 0.2
             }
            },
            "type": "barpolar"
           }
          ],
          "carpet": [
           {
            "aaxis": {
             "endlinecolor": "#2a3f5f",
             "gridcolor": "white",
             "linecolor": "white",
             "minorgridcolor": "white",
             "startlinecolor": "#2a3f5f"
            },
            "baxis": {
             "endlinecolor": "#2a3f5f",
             "gridcolor": "white",
             "linecolor": "white",
             "minorgridcolor": "white",
             "startlinecolor": "#2a3f5f"
            },
            "type": "carpet"
           }
          ],
          "choropleth": [
           {
            "colorbar": {
             "outlinewidth": 0,
             "ticks": ""
            },
            "type": "choropleth"
           }
          ],
          "contour": [
           {
            "colorbar": {
             "outlinewidth": 0,
             "ticks": ""
            },
            "colorscale": [
             [
              0,
              "#0d0887"
             ],
             [
              0.1111111111111111,
              "#46039f"
             ],
             [
              0.2222222222222222,
              "#7201a8"
             ],
             [
              0.3333333333333333,
              "#9c179e"
             ],
             [
              0.4444444444444444,
              "#bd3786"
             ],
             [
              0.5555555555555556,
              "#d8576b"
             ],
             [
              0.6666666666666666,
              "#ed7953"
             ],
             [
              0.7777777777777778,
              "#fb9f3a"
             ],
             [
              0.8888888888888888,
              "#fdca26"
             ],
             [
              1,
              "#f0f921"
             ]
            ],
            "type": "contour"
           }
          ],
          "contourcarpet": [
           {
            "colorbar": {
             "outlinewidth": 0,
             "ticks": ""
            },
            "type": "contourcarpet"
           }
          ],
          "heatmap": [
           {
            "colorbar": {
             "outlinewidth": 0,
             "ticks": ""
            },
            "colorscale": [
             [
              0,
              "#0d0887"
             ],
             [
              0.1111111111111111,
              "#46039f"
             ],
             [
              0.2222222222222222,
              "#7201a8"
             ],
             [
              0.3333333333333333,
              "#9c179e"
             ],
             [
              0.4444444444444444,
              "#bd3786"
             ],
             [
              0.5555555555555556,
              "#d8576b"
             ],
             [
              0.6666666666666666,
              "#ed7953"
             ],
             [
              0.7777777777777778,
              "#fb9f3a"
             ],
             [
              0.8888888888888888,
              "#fdca26"
             ],
             [
              1,
              "#f0f921"
             ]
            ],
            "type": "heatmap"
           }
          ],
          "heatmapgl": [
           {
            "colorbar": {
             "outlinewidth": 0,
             "ticks": ""
            },
            "colorscale": [
             [
              0,
              "#0d0887"
             ],
             [
              0.1111111111111111,
              "#46039f"
             ],
             [
              0.2222222222222222,
              "#7201a8"
             ],
             [
              0.3333333333333333,
              "#9c179e"
             ],
             [
              0.4444444444444444,
              "#bd3786"
             ],
             [
              0.5555555555555556,
              "#d8576b"
             ],
             [
              0.6666666666666666,
              "#ed7953"
             ],
             [
              0.7777777777777778,
              "#fb9f3a"
             ],
             [
              0.8888888888888888,
              "#fdca26"
             ],
             [
              1,
              "#f0f921"
             ]
            ],
            "type": "heatmapgl"
           }
          ],
          "histogram": [
           {
            "marker": {
             "pattern": {
              "fillmode": "overlay",
              "size": 10,
              "solidity": 0.2
             }
            },
            "type": "histogram"
           }
          ],
          "histogram2d": [
           {
            "colorbar": {
             "outlinewidth": 0,
             "ticks": ""
            },
            "colorscale": [
             [
              0,
              "#0d0887"
             ],
             [
              0.1111111111111111,
              "#46039f"
             ],
             [
              0.2222222222222222,
              "#7201a8"
             ],
             [
              0.3333333333333333,
              "#9c179e"
             ],
             [
              0.4444444444444444,
              "#bd3786"
             ],
             [
              0.5555555555555556,
              "#d8576b"
             ],
             [
              0.6666666666666666,
              "#ed7953"
             ],
             [
              0.7777777777777778,
              "#fb9f3a"
             ],
             [
              0.8888888888888888,
              "#fdca26"
             ],
             [
              1,
              "#f0f921"
             ]
            ],
            "type": "histogram2d"
           }
          ],
          "histogram2dcontour": [
           {
            "colorbar": {
             "outlinewidth": 0,
             "ticks": ""
            },
            "colorscale": [
             [
              0,
              "#0d0887"
             ],
             [
              0.1111111111111111,
              "#46039f"
             ],
             [
              0.2222222222222222,
              "#7201a8"
             ],
             [
              0.3333333333333333,
              "#9c179e"
             ],
             [
              0.4444444444444444,
              "#bd3786"
             ],
             [
              0.5555555555555556,
              "#d8576b"
             ],
             [
              0.6666666666666666,
              "#ed7953"
             ],
             [
              0.7777777777777778,
              "#fb9f3a"
             ],
             [
              0.8888888888888888,
              "#fdca26"
             ],
             [
              1,
              "#f0f921"
             ]
            ],
            "type": "histogram2dcontour"
           }
          ],
          "mesh3d": [
           {
            "colorbar": {
             "outlinewidth": 0,
             "ticks": ""
            },
            "type": "mesh3d"
           }
          ],
          "parcoords": [
           {
            "line": {
             "colorbar": {
              "outlinewidth": 0,
              "ticks": ""
             }
            },
            "type": "parcoords"
           }
          ],
          "pie": [
           {
            "automargin": true,
            "type": "pie"
           }
          ],
          "scatter": [
           {
            "marker": {
             "colorbar": {
              "outlinewidth": 0,
              "ticks": ""
             }
            },
            "type": "scatter"
           }
          ],
          "scatter3d": [
           {
            "line": {
             "colorbar": {
              "outlinewidth": 0,
              "ticks": ""
             }
            },
            "marker": {
             "colorbar": {
              "outlinewidth": 0,
              "ticks": ""
             }
            },
            "type": "scatter3d"
           }
          ],
          "scattercarpet": [
           {
            "marker": {
             "colorbar": {
              "outlinewidth": 0,
              "ticks": ""
             }
            },
            "type": "scattercarpet"
           }
          ],
          "scattergeo": [
           {
            "marker": {
             "colorbar": {
              "outlinewidth": 0,
              "ticks": ""
             }
            },
            "type": "scattergeo"
           }
          ],
          "scattergl": [
           {
            "marker": {
             "colorbar": {
              "outlinewidth": 0,
              "ticks": ""
             }
            },
            "type": "scattergl"
           }
          ],
          "scattermapbox": [
           {
            "marker": {
             "colorbar": {
              "outlinewidth": 0,
              "ticks": ""
             }
            },
            "type": "scattermapbox"
           }
          ],
          "scatterpolar": [
           {
            "marker": {
             "colorbar": {
              "outlinewidth": 0,
              "ticks": ""
             }
            },
            "type": "scatterpolar"
           }
          ],
          "scatterpolargl": [
           {
            "marker": {
             "colorbar": {
              "outlinewidth": 0,
              "ticks": ""
             }
            },
            "type": "scatterpolargl"
           }
          ],
          "scatterternary": [
           {
            "marker": {
             "colorbar": {
              "outlinewidth": 0,
              "ticks": ""
             }
            },
            "type": "scatterternary"
           }
          ],
          "surface": [
           {
            "colorbar": {
             "outlinewidth": 0,
             "ticks": ""
            },
            "colorscale": [
             [
              0,
              "#0d0887"
             ],
             [
              0.1111111111111111,
              "#46039f"
             ],
             [
              0.2222222222222222,
              "#7201a8"
             ],
             [
              0.3333333333333333,
              "#9c179e"
             ],
             [
              0.4444444444444444,
              "#bd3786"
             ],
             [
              0.5555555555555556,
              "#d8576b"
             ],
             [
              0.6666666666666666,
              "#ed7953"
             ],
             [
              0.7777777777777778,
              "#fb9f3a"
             ],
             [
              0.8888888888888888,
              "#fdca26"
             ],
             [
              1,
              "#f0f921"
             ]
            ],
            "type": "surface"
           }
          ],
          "table": [
           {
            "cells": {
             "fill": {
              "color": "#EBF0F8"
             },
             "line": {
              "color": "white"
             }
            },
            "header": {
             "fill": {
              "color": "#C8D4E3"
             },
             "line": {
              "color": "white"
             }
            },
            "type": "table"
           }
          ]
         },
         "layout": {
          "annotationdefaults": {
           "arrowcolor": "#2a3f5f",
           "arrowhead": 0,
           "arrowwidth": 1
          },
          "autotypenumbers": "strict",
          "coloraxis": {
           "colorbar": {
            "outlinewidth": 0,
            "ticks": ""
           }
          },
          "colorscale": {
           "diverging": [
            [
             0,
             "#8e0152"
            ],
            [
             0.1,
             "#c51b7d"
            ],
            [
             0.2,
             "#de77ae"
            ],
            [
             0.3,
             "#f1b6da"
            ],
            [
             0.4,
             "#fde0ef"
            ],
            [
             0.5,
             "#f7f7f7"
            ],
            [
             0.6,
             "#e6f5d0"
            ],
            [
             0.7,
             "#b8e186"
            ],
            [
             0.8,
             "#7fbc41"
            ],
            [
             0.9,
             "#4d9221"
            ],
            [
             1,
             "#276419"
            ]
           ],
           "sequential": [
            [
             0,
             "#0d0887"
            ],
            [
             0.1111111111111111,
             "#46039f"
            ],
            [
             0.2222222222222222,
             "#7201a8"
            ],
            [
             0.3333333333333333,
             "#9c179e"
            ],
            [
             0.4444444444444444,
             "#bd3786"
            ],
            [
             0.5555555555555556,
             "#d8576b"
            ],
            [
             0.6666666666666666,
             "#ed7953"
            ],
            [
             0.7777777777777778,
             "#fb9f3a"
            ],
            [
             0.8888888888888888,
             "#fdca26"
            ],
            [
             1,
             "#f0f921"
            ]
           ],
           "sequentialminus": [
            [
             0,
             "#0d0887"
            ],
            [
             0.1111111111111111,
             "#46039f"
            ],
            [
             0.2222222222222222,
             "#7201a8"
            ],
            [
             0.3333333333333333,
             "#9c179e"
            ],
            [
             0.4444444444444444,
             "#bd3786"
            ],
            [
             0.5555555555555556,
             "#d8576b"
            ],
            [
             0.6666666666666666,
             "#ed7953"
            ],
            [
             0.7777777777777778,
             "#fb9f3a"
            ],
            [
             0.8888888888888888,
             "#fdca26"
            ],
            [
             1,
             "#f0f921"
            ]
           ]
          },
          "colorway": [
           "#636efa",
           "#EF553B",
           "#00cc96",
           "#ab63fa",
           "#FFA15A",
           "#19d3f3",
           "#FF6692",
           "#B6E880",
           "#FF97FF",
           "#FECB52"
          ],
          "font": {
           "color": "#2a3f5f"
          },
          "geo": {
           "bgcolor": "white",
           "lakecolor": "white",
           "landcolor": "#E5ECF6",
           "showlakes": true,
           "showland": true,
           "subunitcolor": "white"
          },
          "hoverlabel": {
           "align": "left"
          },
          "hovermode": "closest",
          "mapbox": {
           "style": "light"
          },
          "paper_bgcolor": "white",
          "plot_bgcolor": "#E5ECF6",
          "polar": {
           "angularaxis": {
            "gridcolor": "white",
            "linecolor": "white",
            "ticks": ""
           },
           "bgcolor": "#E5ECF6",
           "radialaxis": {
            "gridcolor": "white",
            "linecolor": "white",
            "ticks": ""
           }
          },
          "scene": {
           "xaxis": {
            "backgroundcolor": "#E5ECF6",
            "gridcolor": "white",
            "gridwidth": 2,
            "linecolor": "white",
            "showbackground": true,
            "ticks": "",
            "zerolinecolor": "white"
           },
           "yaxis": {
            "backgroundcolor": "#E5ECF6",
            "gridcolor": "white",
            "gridwidth": 2,
            "linecolor": "white",
            "showbackground": true,
            "ticks": "",
            "zerolinecolor": "white"
           },
           "zaxis": {
            "backgroundcolor": "#E5ECF6",
            "gridcolor": "white",
            "gridwidth": 2,
            "linecolor": "white",
            "showbackground": true,
            "ticks": "",
            "zerolinecolor": "white"
           }
          },
          "shapedefaults": {
           "line": {
            "color": "#2a3f5f"
           }
          },
          "ternary": {
           "aaxis": {
            "gridcolor": "white",
            "linecolor": "white",
            "ticks": ""
           },
           "baxis": {
            "gridcolor": "white",
            "linecolor": "white",
            "ticks": ""
           },
           "bgcolor": "#E5ECF6",
           "caxis": {
            "gridcolor": "white",
            "linecolor": "white",
            "ticks": ""
           }
          },
          "title": {
           "x": 0.05
          },
          "xaxis": {
           "automargin": true,
           "gridcolor": "white",
           "linecolor": "white",
           "ticks": "",
           "title": {
            "standoff": 15
           },
           "zerolinecolor": "white",
           "zerolinewidth": 2
          },
          "yaxis": {
           "automargin": true,
           "gridcolor": "white",
           "linecolor": "white",
           "ticks": "",
           "title": {
            "standoff": 15
           },
           "zerolinecolor": "white",
           "zerolinewidth": 2
          }
         }
        },
        "title": {
         "text": "Model 7 - Linear Regression Predicted Weekly Revenue"
        },
        "xaxis": {
         "rangeslider": {
          "visible": true
         },
         "title": {
          "text": "Date"
         }
        },
        "yaxis": {
         "title": {
          "text": "Total Revenue (£)"
         }
        }
       }
      },
      "text/html": [
       "<div>                            <div id=\"347c1e99-4a80-49da-8b82-89a74706c9e4\" class=\"plotly-graph-div\" style=\"height:525px; width:100%;\"></div>            <script type=\"text/javascript\">                require([\"plotly\"], function(Plotly) {                    window.PLOTLYENV=window.PLOTLYENV || {};                                    if (document.getElementById(\"347c1e99-4a80-49da-8b82-89a74706c9e4\")) {                    Plotly.newPlot(                        \"347c1e99-4a80-49da-8b82-89a74706c9e4\",                        [{\"mode\":\"lines\",\"name\":\"Train\",\"x\":[\"2021-04-18T00:00:00\",\"2021-04-25T00:00:00\",\"2021-05-02T00:00:00\",\"2021-05-09T00:00:00\",\"2021-05-16T00:00:00\",\"2021-05-23T00:00:00\",\"2021-05-30T00:00:00\",\"2021-06-06T00:00:00\",\"2021-06-13T00:00:00\",\"2021-06-20T00:00:00\",\"2021-06-27T00:00:00\",\"2021-07-04T00:00:00\",\"2021-07-11T00:00:00\",\"2021-07-18T00:00:00\",\"2021-07-25T00:00:00\",\"2021-08-01T00:00:00\",\"2021-08-08T00:00:00\",\"2021-08-15T00:00:00\",\"2021-08-22T00:00:00\",\"2021-08-29T00:00:00\",\"2021-09-05T00:00:00\",\"2021-09-12T00:00:00\",\"2021-09-19T00:00:00\",\"2021-09-26T00:00:00\",\"2021-10-03T00:00:00\",\"2021-10-10T00:00:00\",\"2021-10-17T00:00:00\",\"2021-10-24T00:00:00\",\"2021-10-31T00:00:00\",\"2021-11-07T00:00:00\",\"2021-11-14T00:00:00\",\"2021-11-21T00:00:00\",\"2021-11-28T00:00:00\",\"2021-12-05T00:00:00\",\"2021-12-12T00:00:00\",\"2021-12-19T00:00:00\",\"2021-12-26T00:00:00\",\"2022-01-02T00:00:00\",\"2022-01-09T00:00:00\",\"2022-01-16T00:00:00\",\"2022-01-23T00:00:00\",\"2022-01-30T00:00:00\",\"2022-02-06T00:00:00\",\"2022-02-13T00:00:00\",\"2022-02-20T00:00:00\",\"2022-02-27T00:00:00\",\"2022-03-06T00:00:00\",\"2022-03-13T00:00:00\",\"2022-03-20T00:00:00\",\"2022-03-27T00:00:00\",\"2022-04-03T00:00:00\",\"2022-04-10T00:00:00\",\"2022-04-17T00:00:00\",\"2022-04-24T00:00:00\",\"2022-05-01T00:00:00\",\"2022-05-08T00:00:00\",\"2022-05-15T00:00:00\",\"2022-05-22T00:00:00\",\"2022-05-29T00:00:00\",\"2022-06-05T00:00:00\",\"2022-06-12T00:00:00\",\"2022-06-19T00:00:00\",\"2022-06-26T00:00:00\",\"2022-07-03T00:00:00\",\"2022-07-10T00:00:00\",\"2022-07-17T00:00:00\",\"2022-07-24T00:00:00\",\"2022-07-31T00:00:00\",\"2022-08-07T00:00:00\",\"2022-08-14T00:00:00\"],\"y\":[72553.91,59804.86,62821.04,60201.77,58890.41,65883.27,72868.88,91050.3,70049.93,71821.2,74764.78,74499.56,82700.02,87403.88,93902.69,102590.59,104418.96,106765.67,105296.07,107555.55,92307.18,81485.62,80503.23,76278.72,74564.75,71568.15,70676.15,75993.28,90174.68,69867.09,65234.33,66232.44,63486.83,56164.75,54413.93,60703.51,62838.18,92832.18,66753.16,55705.39,53775.72,55267.0,48605.95,55404.22,73178.69,70478.72,61158.84,59521.83,57831.15,66849.78,66799.78,83854.31,103458.98,82578.42,73220.14,76245.74,71606.08,66308.36,74498.17,115555.67,68270.5,77556.5,81120.04,78429.52,80994.74,90259.78,98332.0,112021.47,109098.8,106518.19],\"type\":\"scatter\"},{\"mode\":\"lines\",\"name\":\"Test\",\"x\":[\"2022-08-21T00:00:00\",\"2022-08-28T00:00:00\",\"2022-09-04T00:00:00\",\"2022-09-11T00:00:00\",\"2022-09-18T00:00:00\",\"2022-09-25T00:00:00\"],\"y\":[113387.44,118277.59,103478.4,78442.65,86436.14,84465.6],\"type\":\"scatter\"},{\"mode\":\"lines\",\"name\":\"Prediction 7\",\"x\":[\"2022-08-21T00:00:00\",\"2022-08-28T00:00:00\",\"2022-09-04T00:00:00\",\"2022-09-11T00:00:00\",\"2022-09-18T00:00:00\",\"2022-09-25T00:00:00\"],\"y\":[93188.48180658418,95021.03582291226,103383.6932653421,70200.61077694736,72736.93015878287,74044.31353370228],\"type\":\"scatter\"}],                        {\"template\":{\"data\":{\"bar\":[{\"error_x\":{\"color\":\"#2a3f5f\"},\"error_y\":{\"color\":\"#2a3f5f\"},\"marker\":{\"line\":{\"color\":\"#E5ECF6\",\"width\":0.5},\"pattern\":{\"fillmode\":\"overlay\",\"size\":10,\"solidity\":0.2}},\"type\":\"bar\"}],\"barpolar\":[{\"marker\":{\"line\":{\"color\":\"#E5ECF6\",\"width\":0.5},\"pattern\":{\"fillmode\":\"overlay\",\"size\":10,\"solidity\":0.2}},\"type\":\"barpolar\"}],\"carpet\":[{\"aaxis\":{\"endlinecolor\":\"#2a3f5f\",\"gridcolor\":\"white\",\"linecolor\":\"white\",\"minorgridcolor\":\"white\",\"startlinecolor\":\"#2a3f5f\"},\"baxis\":{\"endlinecolor\":\"#2a3f5f\",\"gridcolor\":\"white\",\"linecolor\":\"white\",\"minorgridcolor\":\"white\",\"startlinecolor\":\"#2a3f5f\"},\"type\":\"carpet\"}],\"choropleth\":[{\"colorbar\":{\"outlinewidth\":0,\"ticks\":\"\"},\"type\":\"choropleth\"}],\"contour\":[{\"colorbar\":{\"outlinewidth\":0,\"ticks\":\"\"},\"colorscale\":[[0.0,\"#0d0887\"],[0.1111111111111111,\"#46039f\"],[0.2222222222222222,\"#7201a8\"],[0.3333333333333333,\"#9c179e\"],[0.4444444444444444,\"#bd3786\"],[0.5555555555555556,\"#d8576b\"],[0.6666666666666666,\"#ed7953\"],[0.7777777777777778,\"#fb9f3a\"],[0.8888888888888888,\"#fdca26\"],[1.0,\"#f0f921\"]],\"type\":\"contour\"}],\"contourcarpet\":[{\"colorbar\":{\"outlinewidth\":0,\"ticks\":\"\"},\"type\":\"contourcarpet\"}],\"heatmap\":[{\"colorbar\":{\"outlinewidth\":0,\"ticks\":\"\"},\"colorscale\":[[0.0,\"#0d0887\"],[0.1111111111111111,\"#46039f\"],[0.2222222222222222,\"#7201a8\"],[0.3333333333333333,\"#9c179e\"],[0.4444444444444444,\"#bd3786\"],[0.5555555555555556,\"#d8576b\"],[0.6666666666666666,\"#ed7953\"],[0.7777777777777778,\"#fb9f3a\"],[0.8888888888888888,\"#fdca26\"],[1.0,\"#f0f921\"]],\"type\":\"heatmap\"}],\"heatmapgl\":[{\"colorbar\":{\"outlinewidth\":0,\"ticks\":\"\"},\"colorscale\":[[0.0,\"#0d0887\"],[0.1111111111111111,\"#46039f\"],[0.2222222222222222,\"#7201a8\"],[0.3333333333333333,\"#9c179e\"],[0.4444444444444444,\"#bd3786\"],[0.5555555555555556,\"#d8576b\"],[0.6666666666666666,\"#ed7953\"],[0.7777777777777778,\"#fb9f3a\"],[0.8888888888888888,\"#fdca26\"],[1.0,\"#f0f921\"]],\"type\":\"heatmapgl\"}],\"histogram\":[{\"marker\":{\"pattern\":{\"fillmode\":\"overlay\",\"size\":10,\"solidity\":0.2}},\"type\":\"histogram\"}],\"histogram2d\":[{\"colorbar\":{\"outlinewidth\":0,\"ticks\":\"\"},\"colorscale\":[[0.0,\"#0d0887\"],[0.1111111111111111,\"#46039f\"],[0.2222222222222222,\"#7201a8\"],[0.3333333333333333,\"#9c179e\"],[0.4444444444444444,\"#bd3786\"],[0.5555555555555556,\"#d8576b\"],[0.6666666666666666,\"#ed7953\"],[0.7777777777777778,\"#fb9f3a\"],[0.8888888888888888,\"#fdca26\"],[1.0,\"#f0f921\"]],\"type\":\"histogram2d\"}],\"histogram2dcontour\":[{\"colorbar\":{\"outlinewidth\":0,\"ticks\":\"\"},\"colorscale\":[[0.0,\"#0d0887\"],[0.1111111111111111,\"#46039f\"],[0.2222222222222222,\"#7201a8\"],[0.3333333333333333,\"#9c179e\"],[0.4444444444444444,\"#bd3786\"],[0.5555555555555556,\"#d8576b\"],[0.6666666666666666,\"#ed7953\"],[0.7777777777777778,\"#fb9f3a\"],[0.8888888888888888,\"#fdca26\"],[1.0,\"#f0f921\"]],\"type\":\"histogram2dcontour\"}],\"mesh3d\":[{\"colorbar\":{\"outlinewidth\":0,\"ticks\":\"\"},\"type\":\"mesh3d\"}],\"parcoords\":[{\"line\":{\"colorbar\":{\"outlinewidth\":0,\"ticks\":\"\"}},\"type\":\"parcoords\"}],\"pie\":[{\"automargin\":true,\"type\":\"pie\"}],\"scatter\":[{\"marker\":{\"colorbar\":{\"outlinewidth\":0,\"ticks\":\"\"}},\"type\":\"scatter\"}],\"scatter3d\":[{\"line\":{\"colorbar\":{\"outlinewidth\":0,\"ticks\":\"\"}},\"marker\":{\"colorbar\":{\"outlinewidth\":0,\"ticks\":\"\"}},\"type\":\"scatter3d\"}],\"scattercarpet\":[{\"marker\":{\"colorbar\":{\"outlinewidth\":0,\"ticks\":\"\"}},\"type\":\"scattercarpet\"}],\"scattergeo\":[{\"marker\":{\"colorbar\":{\"outlinewidth\":0,\"ticks\":\"\"}},\"type\":\"scattergeo\"}],\"scattergl\":[{\"marker\":{\"colorbar\":{\"outlinewidth\":0,\"ticks\":\"\"}},\"type\":\"scattergl\"}],\"scattermapbox\":[{\"marker\":{\"colorbar\":{\"outlinewidth\":0,\"ticks\":\"\"}},\"type\":\"scattermapbox\"}],\"scatterpolar\":[{\"marker\":{\"colorbar\":{\"outlinewidth\":0,\"ticks\":\"\"}},\"type\":\"scatterpolar\"}],\"scatterpolargl\":[{\"marker\":{\"colorbar\":{\"outlinewidth\":0,\"ticks\":\"\"}},\"type\":\"scatterpolargl\"}],\"scatterternary\":[{\"marker\":{\"colorbar\":{\"outlinewidth\":0,\"ticks\":\"\"}},\"type\":\"scatterternary\"}],\"surface\":[{\"colorbar\":{\"outlinewidth\":0,\"ticks\":\"\"},\"colorscale\":[[0.0,\"#0d0887\"],[0.1111111111111111,\"#46039f\"],[0.2222222222222222,\"#7201a8\"],[0.3333333333333333,\"#9c179e\"],[0.4444444444444444,\"#bd3786\"],[0.5555555555555556,\"#d8576b\"],[0.6666666666666666,\"#ed7953\"],[0.7777777777777778,\"#fb9f3a\"],[0.8888888888888888,\"#fdca26\"],[1.0,\"#f0f921\"]],\"type\":\"surface\"}],\"table\":[{\"cells\":{\"fill\":{\"color\":\"#EBF0F8\"},\"line\":{\"color\":\"white\"}},\"header\":{\"fill\":{\"color\":\"#C8D4E3\"},\"line\":{\"color\":\"white\"}},\"type\":\"table\"}]},\"layout\":{\"annotationdefaults\":{\"arrowcolor\":\"#2a3f5f\",\"arrowhead\":0,\"arrowwidth\":1},\"autotypenumbers\":\"strict\",\"coloraxis\":{\"colorbar\":{\"outlinewidth\":0,\"ticks\":\"\"}},\"colorscale\":{\"diverging\":[[0,\"#8e0152\"],[0.1,\"#c51b7d\"],[0.2,\"#de77ae\"],[0.3,\"#f1b6da\"],[0.4,\"#fde0ef\"],[0.5,\"#f7f7f7\"],[0.6,\"#e6f5d0\"],[0.7,\"#b8e186\"],[0.8,\"#7fbc41\"],[0.9,\"#4d9221\"],[1,\"#276419\"]],\"sequential\":[[0.0,\"#0d0887\"],[0.1111111111111111,\"#46039f\"],[0.2222222222222222,\"#7201a8\"],[0.3333333333333333,\"#9c179e\"],[0.4444444444444444,\"#bd3786\"],[0.5555555555555556,\"#d8576b\"],[0.6666666666666666,\"#ed7953\"],[0.7777777777777778,\"#fb9f3a\"],[0.8888888888888888,\"#fdca26\"],[1.0,\"#f0f921\"]],\"sequentialminus\":[[0.0,\"#0d0887\"],[0.1111111111111111,\"#46039f\"],[0.2222222222222222,\"#7201a8\"],[0.3333333333333333,\"#9c179e\"],[0.4444444444444444,\"#bd3786\"],[0.5555555555555556,\"#d8576b\"],[0.6666666666666666,\"#ed7953\"],[0.7777777777777778,\"#fb9f3a\"],[0.8888888888888888,\"#fdca26\"],[1.0,\"#f0f921\"]]},\"colorway\":[\"#636efa\",\"#EF553B\",\"#00cc96\",\"#ab63fa\",\"#FFA15A\",\"#19d3f3\",\"#FF6692\",\"#B6E880\",\"#FF97FF\",\"#FECB52\"],\"font\":{\"color\":\"#2a3f5f\"},\"geo\":{\"bgcolor\":\"white\",\"lakecolor\":\"white\",\"landcolor\":\"#E5ECF6\",\"showlakes\":true,\"showland\":true,\"subunitcolor\":\"white\"},\"hoverlabel\":{\"align\":\"left\"},\"hovermode\":\"closest\",\"mapbox\":{\"style\":\"light\"},\"paper_bgcolor\":\"white\",\"plot_bgcolor\":\"#E5ECF6\",\"polar\":{\"angularaxis\":{\"gridcolor\":\"white\",\"linecolor\":\"white\",\"ticks\":\"\"},\"bgcolor\":\"#E5ECF6\",\"radialaxis\":{\"gridcolor\":\"white\",\"linecolor\":\"white\",\"ticks\":\"\"}},\"scene\":{\"xaxis\":{\"backgroundcolor\":\"#E5ECF6\",\"gridcolor\":\"white\",\"gridwidth\":2,\"linecolor\":\"white\",\"showbackground\":true,\"ticks\":\"\",\"zerolinecolor\":\"white\"},\"yaxis\":{\"backgroundcolor\":\"#E5ECF6\",\"gridcolor\":\"white\",\"gridwidth\":2,\"linecolor\":\"white\",\"showbackground\":true,\"ticks\":\"\",\"zerolinecolor\":\"white\"},\"zaxis\":{\"backgroundcolor\":\"#E5ECF6\",\"gridcolor\":\"white\",\"gridwidth\":2,\"linecolor\":\"white\",\"showbackground\":true,\"ticks\":\"\",\"zerolinecolor\":\"white\"}},\"shapedefaults\":{\"line\":{\"color\":\"#2a3f5f\"}},\"ternary\":{\"aaxis\":{\"gridcolor\":\"white\",\"linecolor\":\"white\",\"ticks\":\"\"},\"baxis\":{\"gridcolor\":\"white\",\"linecolor\":\"white\",\"ticks\":\"\"},\"bgcolor\":\"#E5ECF6\",\"caxis\":{\"gridcolor\":\"white\",\"linecolor\":\"white\",\"ticks\":\"\"}},\"title\":{\"x\":0.05},\"xaxis\":{\"automargin\":true,\"gridcolor\":\"white\",\"linecolor\":\"white\",\"ticks\":\"\",\"title\":{\"standoff\":15},\"zerolinecolor\":\"white\",\"zerolinewidth\":2},\"yaxis\":{\"automargin\":true,\"gridcolor\":\"white\",\"linecolor\":\"white\",\"ticks\":\"\",\"title\":{\"standoff\":15},\"zerolinecolor\":\"white\",\"zerolinewidth\":2}}},\"xaxis\":{\"rangeslider\":{\"visible\":true},\"title\":{\"text\":\"Date\"}},\"yaxis\":{\"title\":{\"text\":\"Total Revenue (\\u00a3)\"}},\"title\":{\"text\":\"Model 7 - Linear Regression Predicted Weekly Revenue\"}},                        {\"responsive\": true}                    ).then(function(){\n",
       "                            \n",
       "var gd = document.getElementById('347c1e99-4a80-49da-8b82-89a74706c9e4');\n",
       "var x = new MutationObserver(function (mutations, observer) {{\n",
       "        var display = window.getComputedStyle(gd).display;\n",
       "        if (!display || display === 'none') {{\n",
       "            console.log([gd, 'removed!']);\n",
       "            Plotly.purge(gd);\n",
       "            observer.disconnect();\n",
       "        }}\n",
       "}});\n",
       "\n",
       "// Listen for the removal of the full notebook cells\n",
       "var notebookContainer = gd.closest('#notebook-container');\n",
       "if (notebookContainer) {{\n",
       "    x.observe(notebookContainer, {childList: true});\n",
       "}}\n",
       "\n",
       "// Listen for the clearing of the current output cell\n",
       "var outputEl = gd.closest('.output');\n",
       "if (outputEl) {{\n",
       "    x.observe(outputEl, {childList: true});\n",
       "}}\n",
       "\n",
       "                        })                };                });            </script>        </div>"
      ]
     },
     "metadata": {},
     "output_type": "display_data"
    }
   ],
   "source": [
    "fig = go.Figure()\n",
    "fig.add_trace(go.Scatter(x=train.index, \n",
    "                         y=train['Total_Revenue'], mode='lines', name='Train'))\n",
    "fig.add_trace(go.Scatter(x=test.index, \n",
    "                         y=test['Total_Revenue'], mode='lines', name='Test'))\n",
    "fig.add_trace(go.Scatter(x=test.index, \n",
    "                         y=prediction_7, mode='lines', name='Prediction 7'))\n",
    "\n",
    "fig.update_xaxes(rangeslider_visible=True)\n",
    "fig.update_layout(\n",
    "    yaxis_title='Total Revenue (£)', \n",
    "    xaxis_title='Date',\n",
    "    title='Model 7 - Linear Regression Predicted Weekly Revenue'\n",
    ")\n",
    "fig.show()"
   ]
  },
  {
   "cell_type": "code",
   "execution_count": 146,
   "id": "c33709b9",
   "metadata": {},
   "outputs": [
    {
     "name": "stdout",
     "output_type": "stream",
     "text": [
      "The RMSE for the weekly forecast is: 14793.45\n",
      "\n",
      "The MAE between the actual and weekly forecast revenue is 12652.13\n",
      "\n",
      "The MAPE between the actual and weekly forecast revenue is 12.7%\n"
     ]
    }
   ],
   "source": [
    "bakery.full_accuracy_report(test['Total_Revenue'],\n",
    "                            prediction_7, 'weekly forecast')"
   ]
  },
  {
   "cell_type": "markdown",
   "id": "da050a62",
   "metadata": {},
   "source": [
    "## Model 7 - Accuracy Evaluation **UPDATE**\n",
    "- This has slgihtly decreased the the R<sup>2</sup> value but has also decreased the MAPE score. "
   ]
  },
  {
   "cell_type": "code",
   "execution_count": 147,
   "id": "bd9a547e",
   "metadata": {},
   "outputs": [
    {
     "data": {
      "text/html": [
       "<div>\n",
       "<style scoped>\n",
       "    .dataframe tbody tr th:only-of-type {\n",
       "        vertical-align: middle;\n",
       "    }\n",
       "\n",
       "    .dataframe tbody tr th {\n",
       "        vertical-align: top;\n",
       "    }\n",
       "\n",
       "    .dataframe thead th {\n",
       "        text-align: right;\n",
       "    }\n",
       "</style>\n",
       "<table border=\"1\" class=\"dataframe\">\n",
       "  <thead>\n",
       "    <tr style=\"text-align: right;\">\n",
       "      <th></th>\n",
       "      <th>Model</th>\n",
       "      <th>R2</th>\n",
       "      <th>RMSE</th>\n",
       "      <th>AIC</th>\n",
       "      <th>MAPE (%)</th>\n",
       "      <th>Comments</th>\n",
       "    </tr>\n",
       "  </thead>\n",
       "  <tbody>\n",
       "    <tr>\n",
       "      <th>0</th>\n",
       "      <td>1</td>\n",
       "      <td>0.791</td>\n",
       "      <td>14111.89</td>\n",
       "      <td>1614</td>\n",
       "      <td>11.4%</td>\n",
       "      <td>All initial variables</td>\n",
       "    </tr>\n",
       "    <tr>\n",
       "      <th>1</th>\n",
       "      <td>2</td>\n",
       "      <td>0.779</td>\n",
       "      <td>15395.97</td>\n",
       "      <td>1614</td>\n",
       "      <td>13.2%</td>\n",
       "      <td>Dropped Closed Xmas, 3D_MA</td>\n",
       "    </tr>\n",
       "    <tr>\n",
       "      <th>2</th>\n",
       "      <td>3</td>\n",
       "      <td>0.537</td>\n",
       "      <td>12861.20</td>\n",
       "      <td>1668</td>\n",
       "      <td>10.6%</td>\n",
       "      <td>Dropped 20D MA</td>\n",
       "    </tr>\n",
       "    <tr>\n",
       "      <th>3</th>\n",
       "      <td>4</td>\n",
       "      <td>0.528</td>\n",
       "      <td>11663.08</td>\n",
       "      <td>1667</td>\n",
       "      <td>10.2%</td>\n",
       "      <td>Dropped Bank Holiday</td>\n",
       "    </tr>\n",
       "    <tr>\n",
       "      <th>4</th>\n",
       "      <td>5</td>\n",
       "      <td>0.504</td>\n",
       "      <td>11570.81</td>\n",
       "      <td>1669</td>\n",
       "      <td>9.9%</td>\n",
       "      <td>Dropped Weekend</td>\n",
       "    </tr>\n",
       "    <tr>\n",
       "      <th>5</th>\n",
       "      <td>6</td>\n",
       "      <td>0.822</td>\n",
       "      <td>15164.45</td>\n",
       "      <td>1455</td>\n",
       "      <td>13.7%</td>\n",
       "      <td>Added variance columns</td>\n",
       "    </tr>\n",
       "    <tr>\n",
       "      <th>6</th>\n",
       "      <td>7</td>\n",
       "      <td>0.819</td>\n",
       "      <td>14793.45</td>\n",
       "      <td>1454</td>\n",
       "      <td>12.7%</td>\n",
       "      <td>Removed 3W MA and variance</td>\n",
       "    </tr>\n",
       "  </tbody>\n",
       "</table>\n",
       "</div>"
      ],
      "text/plain": [
       "   Model     R2      RMSE   AIC MAPE (%)                    Comments\n",
       "0      1  0.791  14111.89  1614    11.4%       All initial variables\n",
       "1      2  0.779  15395.97  1614    13.2%  Dropped Closed Xmas, 3D_MA\n",
       "2      3  0.537  12861.20  1668    10.6%              Dropped 20D MA\n",
       "3      4  0.528  11663.08  1667    10.2%        Dropped Bank Holiday\n",
       "4      5  0.504  11570.81  1669     9.9%             Dropped Weekend\n",
       "5      6  0.822  15164.45  1455    13.7%      Added variance columns\n",
       "6      7  0.819  14793.45  1454    12.7%  Removed 3W MA and variance"
      ]
     },
     "metadata": {},
     "output_type": "display_data"
    }
   ],
   "source": [
    "# To add the scores to the results table \n",
    "model_scores = bakery.add_results(model_scores, 7, 0.819, 14793.45, 1454, '12.7%', 'Removed 3W MA and variance')"
   ]
  },
  {
   "cell_type": "code",
   "execution_count": 158,
   "id": "b41d914b",
   "metadata": {},
   "outputs": [
    {
     "name": "stdout",
     "output_type": "stream",
     "text": [
      "17683.65\n",
      "118277.59\n",
      "66849.99962962963\n"
     ]
    }
   ],
   "source": [
    "print(min(total_rev_weekly['Total_Revenue']))\n",
    "print(max(total_rev_weekly['Total_Revenue']))\n",
    "print(total_rev_weekly['Total_Revenue'].mean())"
   ]
  },
  {
   "cell_type": "markdown",
   "id": "35961513",
   "metadata": {},
   "source": [
    "# Evaluation of the Models \n",
    "To determine which model is the best and will be selected for weekly forecasting a comparison of R<sup>2</sup>, AIC, RMSE and MAPE scores needs to explored to determine which components are the most important in developing a linear regression model for timeseries forecasting. \n",
    "\n",
    "- **R<sup>2</sup>** - As mentioned the R<sup>2</sup> is a measure that compares the stationary part of the model to a simple mean, and denotes how much of the revenue variance is explained by the independent variables. A high R<sup>2</sup> shows the model's variance is similar to that of the true revenue values. However, is does not indicate whether or not the model is capable at making accurate future predictions, it only shows whether the model is a good fit for the observerved values. Therefore, models that have higher R<sup>2</sup> values are better at fitting the actual total revenue, but not necessarily better at predicting future values. \n",
    "\n",
    "- **MAPE** - this is the proportion of the average absolute difference between predicted and actual revenue values, divided by the true value. Therefore, models with a lower MAPE score are more accurate. MAPE tends to understate the impact of big but rare errors caused by extreme values. Therefore, is best utilised in conjuction with other metrics such as RMSE. However, in the dataset the the revenue varies from c. £17,700 to c.£118,000, with a mean value of £67,000 wich means **UPADTE**! \n",
    "\n",
    "- **RMSE** - shows the square root of the mean square eroror, and penalises greater errors more. The lower the RMSE the better the model, and it can easily be explained in real terms as it is the same unit as the total revenue. However, this statistic can mask issues with low data volumes. In addition to this, having few large errors in the sum may produce a significant increase in RMSE. \n",
    "\n",
    "- **AIC** - The AIC score evaluates how well the model fits the data it was generated from. It is used to compare different possible models and determine which one is the best fit, depending on the number of independent variables used to build the model and how well the model reproduces the actual revenue data. The loewer the AIC score the better and AIC penalises models that use more parameters, therefore reduces overfitting. \n",
    "\n",
    "Models 6 and 7 had the best R<sup>2</sup> and AIC scores, whereas model 5 had the best RMSE and MAPE scores. Model 7 has lower RMSE and MAPE scores than model 6 and only slightly lower R<sup>2</sup> value, so is deemed better than model 6. \n",
    "\n",
    "Model 7 or model 5:  **UPDATE** "
   ]
  },
  {
   "cell_type": "code",
   "execution_count": null,
   "id": "11b72cf7",
   "metadata": {},
   "outputs": [],
   "source": []
  },
  {
   "cell_type": "markdown",
   "id": "6821cf92",
   "metadata": {},
   "source": [
    "## Exploring Reisudals of Best Model\n",
    "As stated in the introduction, for an accurate linear model, the assumptions are that:\n",
    "\n",
    "- Residuals are normally distributed\n",
    "- Homoscedasticity: Variance of error terms are similar across the values of the independent variables"
   ]
  },
  {
   "cell_type": "code",
   "execution_count": 148,
   "id": "a4e59d0d",
   "metadata": {},
   "outputs": [],
   "source": [
    "# The model residuals and fitted values are stored as new variables\n",
    "model_resids = lm_revenue_results.resid \n",
    "model_fittedvals = lm_revenue_results.fittedvalues "
   ]
  },
  {
   "cell_type": "code",
   "execution_count": 150,
   "id": "facb9e22",
   "metadata": {},
   "outputs": [
    {
     "data": {
      "text/plain": [
       "<Figure size 432x288 with 0 Axes>"
      ]
     },
     "metadata": {},
     "output_type": "display_data"
    },
    {
     "data": {
      "image/png": "[encoded data removed]",
      "text/plain": [
       "<Figure size 1440x360 with 2 Axes>"
      ]
     },
     "metadata": {
      "needs_background": "light"
     },
     "output_type": "display_data"
    }
   ],
   "source": [
    "# To plot the residuals distribution \n",
    "plt.figure()\n",
    "plt.subplots(1,2, figsize = (20,5))\n",
    "\n",
    "# A histogram of the model residuals is plotted\n",
    "plt.subplot(1,2,1)\n",
    "plt.hist(model_resids, bins = 12, color = bakery.light_magpie)\n",
    "plt.ylabel('Frequency', fontsize=15)\n",
    "plt.xlabel('Model Residuals', fontsize=15)\n",
    "plt.title('Model X Residuals are Normally Distributed', fontsize=20)\n",
    "plt.xticks(fontsize=15)\n",
    "plt.yticks(fontsize=15)\n",
    "\n",
    "# A scatter plot of the model residuals vs fitted values is plotted\n",
    "plt.subplot(1,2,2)\n",
    "plt.scatter(model_fittedvals, model_resids,color = bakery.light_magpie)\n",
    "plt.xlabel('Fitted Values', fontsize=15)\n",
    "plt.ylabel('Model Residuals', fontsize=15)\n",
    "plt.title('Model X Residuals are Homoscedastic', fontsize=20)\n",
    "plt.xticks(fontsize=15)\n",
    "plt.yticks(fontsize=15)\n",
    "\n",
    "plt.show()"
   ]
  },
  {
   "cell_type": "code",
   "execution_count": null,
   "id": "3c853167",
   "metadata": {},
   "outputs": [],
   "source": []
  },
  {
   "cell_type": "code",
   "execution_count": null,
   "id": "685f4a13",
   "metadata": {},
   "outputs": [],
   "source": []
  },
  {
   "cell_type": "code",
   "execution_count": null,
   "id": "01d391bd",
   "metadata": {},
   "outputs": [],
   "source": []
  },
  {
   "cell_type": "code",
   "execution_count": null,
   "id": "65be89db",
   "metadata": {},
   "outputs": [],
   "source": []
  },
  {
   "cell_type": "markdown",
   "id": "28498410",
   "metadata": {},
   "source": [
    "# Summary"
   ]
  },
  {
   "cell_type": "markdown",
   "id": "a70b1bb0",
   "metadata": {},
   "source": [
    "# Next Steps\n",
    "- The above process will be repeated for the monthly forecast \n",
    "- An ARIMA model will be developed for the weekly forecast to see if this improves the accuracy from the linear regression and baseline models "
   ]
  },
  {
   "cell_type": "markdown",
   "id": "35d88e04",
   "metadata": {},
   "source": [
    ">[Return to Contents](#Contents)"
   ]
  }
 ],
 "metadata": {
  "kernelspec": {
   "display_name": "Python 3 (ipykernel)",
   "language": "python",
   "name": "python3"
  },
  "language_info": {
   "codemirror_mode": {
    "name": "ipython",
    "version": 3
   },
   "file_extension": ".py",
   "mimetype": "text/x-python",
   "name": "python",
   "nbconvert_exporter": "python",
   "pygments_lexer": "ipython3",
   "version": "3.9.12"
  }
 },
 "nbformat": 4,
 "nbformat_minor": 5
}
